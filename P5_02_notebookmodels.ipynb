{
 "cells": [
  {
   "cell_type": "code",
   "execution_count": 1,
   "metadata": {},
   "outputs": [],
   "source": [
    "%load_ext pycodestyle_magic"
   ]
  },
  {
   "cell_type": "code",
   "execution_count": 2,
   "metadata": {},
   "outputs": [],
   "source": [
    "%flake8_on"
   ]
  },
  {
   "cell_type": "markdown",
   "metadata": {},
   "source": [
    "# PROJET 5 : Catégorisation automatiquement des questions"
   ]
  },
  {
   "cell_type": "markdown",
   "metadata": {},
   "source": [
    "## SOMMAIRE  <a class=\"anchor\" id=\"sommaire\"></a>\n",
    "## [CONTEXTE DU PROJET](#1)<a class=\"anchor\" id=\"sommaire\"></a>\n",
    "## [IMPORT DES LIBRAIRIES](#3)<a class=\"anchor\" id=\"sommaire\"></a>\n",
    "\n",
    "## [MISSION 3: PREPROCESSING](#11)<a class=\"anchor\" id=\"sommaire\"></a>\n",
    "### [M3-1 : Préparation des input et output : ](#12)<a class=\"anchor\" id=\"sommaire\"></a>\n",
    "### [M3-2 : Séparation de jeu de données de test et d'entrainement : ](#13)<a class=\"anchor\" id=\"sommaire\"></a>\n",
    "\n",
    "## [MISSION 4: APPROCHE NON-SUPERVISEE](#15)<a class=\"anchor\" id=\"sommaire\"></a>\n",
    "### [M4-1 : Modélisation avec algorithme LDA : ](#16)<a class=\"anchor\" id=\"sommaire\"></a>\n",
    "### [M5-1 : Modélisation avec algorithme NMF : ](#17)<a class=\"anchor\" id=\"sommaire\"></a>\n",
    "\n",
    "## [MISSION 5: APPROCHE SUPERVISEE](#20)<a class=\"anchor\" id=\"sommaire\"></a>\n"
   ]
  },
  {
   "cell_type": "markdown",
   "metadata": {},
   "source": [
    "--------------------------------------------------------"
   ]
  },
  {
   "cell_type": "markdown",
   "metadata": {},
   "source": [
    "## [CONTEXTE DU PROJET](#sommaire)<a class=\"anchor\" id=\"1\"></a>"
   ]
  },
  {
   "cell_type": "markdown",
   "metadata": {},
   "source": [
    "Stack Overflow est un site de questions-réponses liées au développement informatique.\n",
    "Les tags nous permettent de retrouver facilement la réponse à une question posée, pourtant ce n'est pas évident de trouver des tags associés à notre question.\n",
    "Donc il était intéressant de développer un application qui suggererait automatiquement plusieurs tags pertinents à partir d'une question posée. "
   ]
  },
  {
   "cell_type": "markdown",
   "metadata": {},
   "source": [
    "## [IMPORT DES LIBRAIRIES](#sommaire)<a class=\"anchor\" id=\"3\"></a>"
   ]
  },
  {
   "cell_type": "code",
   "execution_count": 6,
   "metadata": {},
   "outputs": [],
   "source": [
    "import numpy as np\n",
    "import pandas as pd\n",
    "import matplotlib.pyplot as plt\n",
    "import seaborn as sns\n",
    "from bs4 import BeautifulSoup\n",
    "import nltk\n",
    "import os\n",
    "import re\n",
    "import warnings\n",
    "import pyLDAvis.gensim\n",
    "import pickle\n",
    "import requests\n",
    "import json\n",
    "from time import time\n",
    "from utils.functions import custom_tokenize, print_top_words\n",
    "from utils.functions import predictTag, vectorizeInputTest\n",
    "from utils.functions import remove_stopword, cleanText, pattern_searcher\n",
    "from utils.functions import compute_coherence_values, print_topics\n",
    "from nltk.stem import WordNetLemmatizer\n",
    "from PIL import Image\n",
    "from wordcloud import WordCloud, STOPWORDS, ImageColorGenerator\n",
    "from sklearn.model_selection import train_test_split\n",
    "from sklearn.preprocessing import MultiLabelBinarizer\n",
    "from sklearn.feature_extraction.text import TfidfVectorizer, CountVectorizer\n",
    "from sklearn.decomposition import LatentDirichletAllocation as LDA\n",
    "from gensim.models.ldamulticore import LdaMulticore\n",
    "from gensim.corpora import Dictionary\n",
    "from sklearn.decomposition import NMF\n",
    "from sklearn.multioutput import MultiOutputClassifier\n",
    "from sklearn.linear_model import SGDClassifier, LogisticRegression\n",
    "from sklearn.linear_model import Perceptron, PassiveAggressiveClassifier\n",
    "from sklearn.neighbors import KNeighborsClassifier\n",
    "from sklearn.ensemble import RandomForestClassifier\n",
    "from sklearn.naive_bayes import MultinomialNB\n",
    "from sklearn.svm import LinearSVC\n",
    "from sklearn.pipeline import make_pipeline\n",
    "from sklearn.preprocessing import StandardScaler\n",
    "from sklearn.metrics import accuracy_score, jaccard_score\n",
    "from gensim.models.coherencemodel import CoherenceModel\n",
    "from sklearn.metrics.pairwise import cosine_similarity\n",
    "from sklearn.dummy import DummyClassifier"
   ]
  },
  {
   "cell_type": "code",
   "execution_count": 7,
   "metadata": {},
   "outputs": [],
   "source": [
    "# Configuration affichage\n",
    "pd.set_option('display.max_rows', 500)\n",
    "pd.set_option('display.max_columns', 500)"
   ]
  },
  {
   "cell_type": "markdown",
   "metadata": {},
   "source": [
    "## [MISSION 3: PREPROCESSING](#sommaire)<a class=\"anchor\" id=\"11\"></a>"
   ]
  },
  {
   "cell_type": "markdown",
   "metadata": {},
   "source": [
    "#### Récuperation des données texte :"
   ]
  },
  {
   "cell_type": "markdown",
   "metadata": {},
   "source": [
    "Exportons les données stockées dans des fichiers texte :\n",
    "\n",
    "- data/tags_words_tokens.csv : contient les données de base\n",
    "- data/Backup/top1000_words.csv : contient les données de top 1000 des mots \n",
    "- data/Backup/top100_tags.csv : contient les données de top 100 des tags\n",
    "- data/Backup/X_data.csv\n",
    "- data/Backup/y_data.csv"
   ]
  },
  {
   "cell_type": "code",
   "execution_count": 8,
   "metadata": {},
   "outputs": [],
   "source": [
    "data_preprocess = pd.read_csv('data/Backup/tags_words_tokens.csv',\n",
    "                              sep='\\t', engine='python')\n",
    "data_preprocess.drop(['Unnamed: 0'], axis=1, inplace=True)\n",
    "\n",
    "top1000words_exp = pd.read_csv('data/Backup/top1000_words.csv',\n",
    "                               header=None, index_col=0,\n",
    "                               squeeze=True).to_dict()\n",
    "top100tags_exp = pd.read_csv('data/Backup/top100_tags.csv',\n",
    "                             header=None, index_col=0,\n",
    "                             squeeze=True).to_dict()"
   ]
  },
  {
   "cell_type": "markdown",
   "metadata": {},
   "source": [
    "### [M3-1 : Préparation des input et output : ](#sommaire)<a class=\"anchor\" id=\"12\"></a>"
   ]
  },
  {
   "cell_type": "markdown",
   "metadata": {},
   "source": [
    "#### vectorisation de corpus par Bag Of Words:"
   ]
  },
  {
   "cell_type": "code",
   "execution_count": 10,
   "metadata": {},
   "outputs": [],
   "source": [
    "# Corpus (=X) en entrée on aura un ensmble de mots -> Body + Title\n",
    "X_data = pd.read_csv('data/Backup/X_data.csv', sep='\\t', engine='python')\n",
    "X_data.drop(['Unnamed: 0'], axis=1, inplace=True)"
   ]
  },
  {
   "cell_type": "code",
   "execution_count": 11,
   "metadata": {},
   "outputs": [],
   "source": [
    "# X_data"
   ]
  },
  {
   "cell_type": "raw",
   "metadata": {},
   "source": [
    "Le resultat est un vecteur de (8292, 1000) car nous avons 8292 lignes et 1000 (top 1000 des mots dans corpus) nouvelles colonnes."
   ]
  },
  {
   "cell_type": "markdown",
   "metadata": {},
   "source": [
    "#### vectorisation des tags par MultiLabelBinarizer :"
   ]
  },
  {
   "cell_type": "code",
   "execution_count": 12,
   "metadata": {},
   "outputs": [],
   "source": [
    "# 4.1 Tags (=y)\n",
    "y_data = pd.read_csv('data/Backup/y_data.csv', sep='\\t', engine='python')\n",
    "y_data.drop(['Unnamed: 0'], axis=1, inplace=True)"
   ]
  },
  {
   "cell_type": "code",
   "execution_count": 13,
   "metadata": {},
   "outputs": [],
   "source": [
    "# y_data"
   ]
  },
  {
   "cell_type": "markdown",
   "metadata": {},
   "source": [
    "Le resultat est une matrice de (8292, 100) car nous avons 8292 lignes et 100 (tags) nouvelles colonnes."
   ]
  },
  {
   "cell_type": "markdown",
   "metadata": {},
   "source": [
    "### [M3-2 : Séparation de jeu de données de test et d'entrainement : ](#sommaire)<a class=\"anchor\" id=\"13\"></a>"
   ]
  },
  {
   "cell_type": "markdown",
   "metadata": {},
   "source": [
    "Nous allons utiliser 80% des données pour l'entrainement et 20% pour le test"
   ]
  },
  {
   "cell_type": "code",
   "execution_count": 14,
   "metadata": {},
   "outputs": [],
   "source": [
    "# Split train and test :\n",
    "X_train, X_test, y_train, y_test = train_test_split(X_data, y_data, test_size=0.2, random_state=1)"
   ]
  },
  {
   "cell_type": "markdown",
   "metadata": {},
   "source": [
    "## [MISSION 4: APPROCHE NON-SUPERVISEE](#sommaire)<a class=\"anchor\" id=\"15\"></a>"
   ]
  },
  {
   "cell_type": "raw",
   "metadata": {},
   "source": [
    "Dans cette partie, nous allons à partir des questions à notre disposition, extraire les sujets(topics) qui les composent.\n",
    "Nous supposons donc que :\n",
    "- Une question peut etre composé de un ou plusieurs topics\n",
    "- Un topic est composé par plusieurs mots"
   ]
  },
  {
   "cell_type": "code",
   "execution_count": 15,
   "metadata": {},
   "outputs": [],
   "source": [
    "n_samples = 0.8\n",
    "n_features = 1000\n",
    "n_components = 20\n",
    "n_top_words = 10\n",
    "data_preprocess_copy = cleanText(data_preprocess)\n",
    "data_preprocess_copy.drop(['tokens', 'tokensStopWord'], axis=1, inplace=True)\n",
    "corpus = data_preprocess_copy['words_tokens']\n",
    "tags = data_preprocess_copy['tags_tokens']\n",
    "datasetX = corpus.tolist()\n",
    "datasety = tags.tolist()\n",
    "\n",
    "X_trainBis = datasetX[:int(len(datasetX)*n_samples)]\n",
    "y_trainBis = datasety[:int(len(datasety)*n_samples)]\n",
    "X_testBis = datasetX[int(len(datasetX)*n_samples):]\n",
    "y_testBis = datasety[int(len(datasety)*n_samples):]\n",
    "\n",
    "\n",
    "def dummy(doc):\n",
    "    return doc"
   ]
  },
  {
   "cell_type": "markdown",
   "metadata": {},
   "source": [
    "### [M4-1 : Modélisation avec algorithme LDA : ](#sommaire)<a class=\"anchor\" id=\"16\"></a>"
   ]
  },
  {
   "cell_type": "markdown",
   "metadata": {},
   "source": [
    "LDA (Latent Dirichlet Allocation) est un modèle probabiliste génératif avec les hypothèses suivantes : \n",
    "\n",
    "•\tChaque question du corpus est un ensemble de mots sans ordre (bag-of-words) ;\n",
    "\n",
    "•\tChaque question m aborde un certain nombre de topic dans différentes proportions qui lui sont propres p(θm) ;\n",
    "\n",
    "•\tChaque mot possède une distribution associée à chaque topic p(ϕk) . On peut ainsi représenter chaque topic par une \n",
    "probabilité sur chaque mot.\n",
    "\n",
    "•\t zn représente le topic du mot wn\n"
   ]
  },
  {
   "cell_type": "code",
   "execution_count": 16,
   "metadata": {},
   "outputs": [
    {
     "name": "stdout",
     "output_type": "stream",
     "text": [
      "Vectorisation et entrainement du modèle pour LDA...\n"
     ]
    }
   ],
   "source": [
    "print(\"Vectorisation et entrainement du modèle pour LDA...\")\n",
    "\n",
    "tfidf_vectorizer_lda = CountVectorizer(max_df=0.95, min_df=2,\n",
    "                                       max_features=n_features,\n",
    "                                       tokenizer=dummy, preprocessor=dummy,\n",
    "                                       analyzer='word')\n",
    "tfidf_lda = tfidf_vectorizer_lda.fit_transform(X_trainBis)\n"
   ]
  },
  {
   "cell_type": "markdown",
   "metadata": {},
   "source": [
    "#### La recherche de nombre de topics optimal avec HDP models:"
   ]
  },
  {
   "cell_type": "code",
   "execution_count": 17,
   "metadata": {},
   "outputs": [
    {
     "name": "stdout",
     "output_type": "stream",
     "text": [
      "Le nombre de topics optimal : 20\n"
     ]
    }
   ],
   "source": [
    "from gensim.models import HdpModel\n",
    "dictionary = Dictionary(datasetX)\n",
    "train_id2word = Dictionary(corpus)\n",
    "corpus_copy = corpus.copy()\n",
    "train_corpus = [dictionary.doc2bow(doc) for doc in corpus_copy]\n",
    "hdp = HdpModel(train_corpus, train_id2word, chunksize=10000)\n",
    "nbrOPticOptim = len(hdp.print_topics())\n",
    "print('Le nombre de topics optimal :', nbrOPticOptim)"
   ]
  },
  {
   "cell_type": "code",
   "execution_count": 18,
   "metadata": {},
   "outputs": [
    {
     "name": "stdout",
     "output_type": "stream",
     "text": [
      "\n",
      "Les topics du modele LDA :\n",
      "Topic #0: exception thread code ball way lock method would style throw\n",
      "Topic #1: c++ book programming good language question code feature linux java\n",
      "Topic #2: error sql procedure join currency stored view query index object\n",
      "Topic #3: application user web java using best server service request would\n",
      "Topic #4: string java code use new object question like linq using\n",
      "Topic #5: content foo loop header internet want explorer using input line\n",
      "Topic #6: javascript function text jquery using html like way page element\n",
      "Topic #7: git branch merge commit repository svn change master remote like\n",
      "Topic #8: div number std container range element parent sequence map code\n",
      "Topic #9: file script command window code directory line way source like\n",
      "Topic #10: string int value javascript url jquery character option http way\n",
      "Topic #11: database date server using sql memory time mysql get set\n",
      "Topic #12: class pattern image use static method one view design java\n",
      "Topic #13: use variable studio visual c++ used pointer function python one\n",
      "Topic #14: difference use one type return value function two whats php\n",
      "Topic #15: list python module array would like print get want work\n",
      "Topic #16: test class method name public unit private testing function myclass\n",
      "Topic #17: table use column key row database update one dont people\n",
      "Topic #18: way result set output version php utf one get use\n",
      "Topic #19: object method class static property way interface iphone python using\n",
      "\n"
     ]
    }
   ],
   "source": [
    "# entrainer le modèle :\n",
    "n_topics = 20\n",
    "n_top_words = 10\n",
    "\n",
    "lda = LDA(n_components=nbrOPticOptim, n_jobs=-1)\n",
    "lda.fit(tfidf_lda)\n",
    "\n",
    "print(\"\\nLes topics du modele LDA :\")\n",
    "tf_feature_names = tfidf_vectorizer_lda.get_feature_names()\n",
    "print_top_words(lda, tf_feature_names, n_top_words)\n",
    "\n",
    "# hdp.print_topics(num_topics=20)"
   ]
  },
  {
   "cell_type": "code",
   "execution_count": 19,
   "metadata": {},
   "outputs": [
    {
     "data": {
      "text/html": [
       "\n",
       "<link rel=\"stylesheet\" type=\"text/css\" href=\"https://cdn.rawgit.com/bmabey/pyLDAvis/files/ldavis.v1.0.0.css\">\n",
       "\n",
       "\n",
       "<div id=\"ldavis_el558813961573061846361949799\"></div>\n",
       "<script type=\"text/javascript\">\n",
       "\n",
       "var ldavis_el558813961573061846361949799_data = {\"mdsDat\": {\"x\": [0.06509675336308457, -0.03971871930359786, -0.085826527335616, 0.027072283905174462, 0.10455227334257518, 0.004783370648483891, -0.03919896667055343, -0.017545599419100326, -0.015472279985818032, -0.10958149279392693, -0.068367602634028, 0.06746192682730992, -0.11284479429501273, -0.10774778396251662, -0.044815425199666366, -0.10249630657600367, -0.021410328035476697, 0.08944345239684148, 0.10766725100072665, 0.29894851472712125], \"y\": [-0.1293069628875476, -0.06617076300422044, 0.05357122688792601, -0.046896746549606225, -0.045971588231422195, -0.0004415091488543542, -0.08348735077050248, -0.030811753019180016, -0.07754443071052981, 0.06581038255704855, -0.012618752991329817, -0.03311384392302659, 0.06716892757640065, 0.15347990710847, 0.02429861883716551, 0.11665618151519812, -0.02475423677573399, -0.06672459722361414, -0.11356251059129661, 0.2504198013446554], \"topics\": [1, 2, 3, 4, 5, 6, 7, 8, 9, 10, 11, 12, 13, 14, 15, 16, 17, 18, 19, 20], \"cluster\": [1, 1, 1, 1, 1, 1, 1, 1, 1, 1, 1, 1, 1, 1, 1, 1, 1, 1, 1, 1], \"Freq\": [8.007465143307005, 7.399052276106323, 7.392173380318409, 6.7608277269113515, 6.264079963230337, 5.977863859972386, 5.660624146053285, 5.306526704969488, 5.267704401763537, 5.123213268134224, 4.950530574079769, 4.355798436886674, 4.155101848795943, 4.068791305357125, 4.003270869108209, 3.708557591870433, 3.047885625108324, 3.046101640748978, 2.95597582541217, 2.548455411866021]}, \"tinfo\": {\"Term\": [\"file\", \"git\", \"class\", \"table\", \"test\", \"div\", \"method\", \"string\", \"difference\", \"list\", \"directory\", \"shell\", \"file\", \"grep\", \"ssh\", \"folder\", \"batch\", \"sudo\", \"path\", \"bin\", \"command\", \"bash\", \"script\", \"window\", \"source\", \"line\", \"code\", \"open\", \"way\", \"like\", \"iframe\", \"alert\", \"dom\", \"html\", \"operator\", \"event\", \"ajax\", \"document\", \"enter\", \"handler\", \"javascript\", \"text\", \"jquery\", \"page\", \"function\", \"var\", \"element\", \"form\", \"using\", \"like\", \"way\", \"singleton\", \"jpa\", \"layer\", \"linq\", \"hashmap\", \"constructor\", \"architecture\", \"business\", \"entity\", \"warning\", \"string\", \"java\", \"code\", \"new\", \"question\", \"use\", \"object\", \"time\", \"like\", \"using\", \"authentication\", \"domain\", \"request\", \"build\", \"json\", \"login\", \"security\", \"web\", \"sqlite\", \"rest\", \"service\", \"application\", \"user\", \"post\", \"copy\", \"server\", \"http\", \"java\", \"best\", \"using\", \"would\", \"date\", \"backup\", \"datetime\", \"heap\", \"day\", \"direction\", \"connection\", \"mysql\", \"month\", \"size\", \"database\", \"memory\", \"sql\", \"server\", \"time\", \"using\", \"get\", \"set\", \"car\", \"foreign\", \"table\", \"node\", \"column\", \"graph\", \"oracle\", \"row\", \"key\", \"world\", \"update\", \"people\", \"database\", \"use\", \"dont\", \"one\", \"lisp\", \"ascii\", \"unicode\", \"url\", \"parse\", \"character\", \"example.com\", \"special\", \"char\", \"directly\", \"int\", \"option\", \"main\", \"string\", \"jquery\", \"http\", \"browser\", \"value\", \"javascript\", \"get\", \"way\", \"podcast\", \"module\", \"str\", \"linked\", \"full\", \"list\", \"color\", \"strategy\", \"relative\", \"screen\", \"array\", \"print\", \"python\", \"import\", \"would\", \"first\", \"like\", \"work\", \"get\", \"want\", \"book\", \"col\", \"beginner\", \"injection\", \"programming\", \"programmer\", \"online\", \"coverage\", \"computer\", \"android\", \"tutorial\", \"c++\", \"language\", \"good\", \"linux\", \"feature\", \"process\", \"question\", \"code\", \"java\", \"iphone\", \"property\", \"interface\", \"obj\", \"reflection\", \"inheritance\", \"null\", \"objective\", \"sdk\", \"object\", \"static\", \"method\", \"class\", \"tag\", \"way\", \"python\", \"value\", \"using\", \"editor\", \"shortcut\", \"salt\", \"studio\", \"pointer\", \"visual\", \"const\", \"across\", \"scope\", \"tip\", \"password\", \"variable\", \"use\", \"used\", \"c++\", \"function\", \"python\", \"one\", \"git\", \"branch\", \"svn\", \"commit\", \"repository\", \"merge\", \"rebase\", \"commits\", \"master\", \"checkout\", \"remote\", \"conflict\", \"change\", \"development\", \"like\", \"double\", \"struct\", \"person\", \"initialize\", \"ienumerable\", \"hash\", \"difference\", \"structure\", \"member\", \"dictionary\", \"state\", \"type\", \"return\", \"php\", \"whats\", \"one\", \"value\", \"use\", \"two\", \"function\", \"pattern\", \"img\", \"abstract\", \"passing\", \"oop\", \"controller\", \"extend\", \"image\", \"functional\", \"proxy\", \"template\", \"design\", \"class\", \"static\", \"view\", \"import\", \"use\", \"method\", \"one\", \"library\", \"java\", \"ball\", \"exception\", \"thread\", \"synchronized\", \"lock\", \"collision\", \"style\", \"catch\", \"throw\", \"vector\", \"recursive\", \"block\", \"code\", \"method\", \"way\", \"would\", \"unit\", \"myclass\", \"test\", \"testing\", \"eclipse\", \"private\", \"arg\", \"naming\", \"certificate\", \"shouldnt\", \"name\", \"public\", \"class\", \"method\", \"function\", \"grid\", \"encoding\", \"flag\", \"utf\", \"enum\", \"constant\", \"save\", \"mvc\", \"specify\", \"logging\", \"output\", \"result\", \"version\", \"set\", \"php\", \"way\", \"one\", \"get\", \"use\", \"explorer\", \"submit\", \"internet\", \"header\", \"button\", \"width\", \"send\", \"loop\", \"email\", \"foreach\", \"content\", \"foo\", \"input\", \"space\", \"item\", \"want\", \"line\", \"using\", \"div\", \"style=\", \"center\", \"vertically\", \":string\", \"bottom\", \"sequence\", \"signed\", \"std\", \"container\", \"parent\", \"range\", \"number\", \"map\", \"element\", \"left\", \"code\", \"procedure\", \"currency\", \"inner\", \"outer\", \"dbo\", \"house\", \"join\", \"seek\", \"soap\", \"stored\", \"error\", \"sql\", \"index\", \"query\", \"view\", \"object\"], \"Freq\": [600.0, 271.0, 435.0, 236.0, 186.0, 153.0, 406.0, 414.0, 274.0, 264.0, 108.68762928446674, 48.010310584900694, 576.5981724288082, 20.603813206303474, 20.603813204683842, 43.98519387448019, 20.598129064664665, 16.656167685996373, 62.21923390910237, 16.623637547706196, 146.98255732911332, 49.08967366104548, 153.01077118469152, 122.2921078645235, 68.40734274031195, 86.5392436070018, 109.95549830980374, 52.954277590432156, 73.56652735608098, 62.79878988477963, 21.562718113348474, 17.65111392005509, 22.391176747232958, 91.18493653495132, 42.11670874346519, 58.23295494764717, 24.284977740849694, 21.595640661456684, 10.805806580961349, 12.513896024322808, 172.6953627623434, 111.8539490844276, 107.90644424578869, 77.29264706192906, 149.91967662732492, 58.203395862677986, 71.1670932520304, 59.898324811909475, 95.346732339666, 86.8156938411695, 80.03392285943058, 32.317773930514406, 16.67225553798056, 24.242888878022132, 54.024932950734126, 15.377182660442559, 31.54281207173098, 16.156774781295027, 14.529395054855286, 23.17277467566678, 15.048201315808633, 199.76874218249753, 116.69152290509663, 103.19468274913503, 63.55585099928417, 56.942464811140376, 79.93266121511346, 59.16123039663095, 47.50652579138034, 56.30389699641934, 49.65657823955537, 16.436720790757086, 20.594516759815896, 60.94390206295818, 36.332265546710566, 30.672870971566958, 17.941051102473416, 18.327057096499374, 93.54029809622521, 13.820656741799393, 23.337435501766556, 61.25820610062717, 106.94395219391227, 104.24263428647515, 44.304537829054176, 33.5969792375696, 64.00802097463247, 56.485982549265366, 77.09406311394675, 70.92009012675129, 72.69352305102771, 57.16364337211079, 93.54749001934687, 19.733058122012487, 43.35367633053177, 26.575650816104623, 35.25380688295422, 19.686949952978743, 18.399851581806956, 66.3121254464265, 11.993138369590595, 41.18310601264474, 118.14493622541576, 69.33342881446598, 78.73735228157273, 84.13850993370018, 67.9011710431784, 79.38521769746357, 58.590982802355654, 46.422382212358215, 39.21206577022452, 15.714198641641207, 207.26571678465226, 27.659696124669654, 79.42829280433713, 15.560354605424513, 10.319980540430029, 54.81115491833407, 73.46804713897744, 20.25767316945545, 46.82010027712841, 44.43768950526203, 48.80692613827785, 88.47155932768878, 46.28192801012075, 46.5604505793072, 20.337491327240066, 17.439036507414976, 17.148154246757844, 58.068011731179304, 15.346058880917195, 55.08520329688024, 12.60827847263116, 11.602187019190355, 19.816568970774895, 16.646261123712165, 80.24705875204617, 52.331199609725374, 40.59082974829273, 111.88959389633247, 57.68553353280156, 49.3831386423826, 35.72812801077108, 61.209287576147425, 59.46119851075555, 46.84813556543111, 48.91217451497876, 19.680189397658438, 63.50920162729947, 13.394482318083211, 18.577668028618373, 16.022341207336787, 188.16888451438564, 22.288414817079847, 10.058284592451573, 8.263421199239046, 9.650211646490472, 56.809516750749026, 33.45824069108743, 82.64500464573699, 24.510664780727463, 45.918452557189255, 26.637138810724647, 36.21242548173152, 30.822088178410247, 31.282276380512748, 31.07323044895298, 83.94902925075631, 15.060921586826813, 21.77437001238319, 16.863904368155712, 82.76879298419385, 29.530938215635345, 25.83644891757967, 12.142756703504299, 17.82498173276046, 16.443856608659914, 37.17466779528547, 113.78438881877453, 76.69869268528502, 81.39488685111024, 43.984640511871795, 46.86812021584799, 38.20738093899731, 57.74083875618602, 47.238549103745356, 42.347191920407035, 45.21262948348253, 69.35142869847522, 53.968113876093994, 18.409821598391463, 13.423689681353297, 10.446367290404078, 22.454720624281375, 14.993624708171684, 8.838423881747048, 170.71959758537824, 70.84366776210945, 131.33581077008674, 108.04850362606504, 27.354763455586472, 66.8559178759142, 39.2758355321511, 36.83322616868399, 37.69456322101288, 37.23943309800282, 15.779963584577699, 14.796788284954129, 56.38028658313084, 44.156829071299704, 55.990538493417674, 22.098143372255482, 22.71987020384513, 12.014798907219905, 18.19895846194026, 29.237312260535795, 65.26598772297895, 86.16059029251961, 48.90021533479626, 51.08367698038485, 41.25675244444125, 38.414017613515256, 38.224961250423156, 270.82325306536205, 125.14631716209662, 53.812741263540694, 79.21034872949141, 76.25733726211527, 84.18304736585947, 22.53194724121857, 16.66679828365393, 39.10087820177436, 17.63838615841047, 36.71481866451857, 22.258041178733524, 53.41395284023439, 30.226714758952536, 33.0137473510485, 23.18384550096983, 27.86271779602297, 19.544047046809137, 13.161636949352438, 13.660965598576242, 34.28775700638645, 165.3185965811957, 34.09900643194859, 18.345380355760874, 16.38691885148092, 18.786958094607392, 56.496166141087976, 56.00627706052004, 35.518623182713036, 39.37302932528541, 68.58432686503414, 52.170283111275644, 68.9672761096328, 39.874169767478755, 43.23244354569063, 89.82686213590574, 22.593004268899023, 26.60577961260038, 14.597757424066174, 11.985778417096393, 18.45821616048024, 14.345758810139356, 85.50058641034386, 12.791267100505584, 9.60752658349348, 27.53381747717265, 36.95340212513748, 126.22803264007352, 53.29461103887576, 40.144886713874435, 28.292543305575673, 65.71577262808604, 47.93652028671326, 42.217650914405596, 32.410455426045345, 35.78990926276275, 41.77617768509462, 108.01057000739274, 89.18418798032741, 16.545501262781986, 32.07207137454158, 18.486322529955718, 27.688448660378693, 25.93457535671716, 27.09535662061737, 11.693448107532783, 15.477195497174442, 25.209202864578593, 51.94568173387562, 31.490065068023153, 33.155805640091515, 28.997508565433723, 64.30657044899029, 32.12793204832315, 164.61059375718608, 43.99033000968667, 25.11091101175615, 61.701769542824216, 13.081732086080468, 15.055134600585593, 10.525403917198098, 9.400428241629863, 98.6999197856944, 77.55234697342591, 143.07154539906531, 104.53018803718209, 41.171982890447566, 20.940468892294305, 21.61619592776169, 13.868188651484278, 30.439430138053694, 18.853895450449304, 14.352275968911368, 16.259012470876378, 21.50650459249446, 9.067865445520615, 9.837651641168174, 39.06318904073283, 49.40474491985403, 37.56668581746788, 40.51110839209129, 30.884998119700985, 54.62885700836762, 26.077253727859816, 24.1969427413679, 22.892378247992383, 34.268975331163766, 14.20435422191102, 35.04811069124798, 40.173677992176806, 30.213562197290074, 19.715909445563067, 22.577760828243512, 44.47651424429409, 23.256293479518128, 17.474688062268168, 49.84461514724884, 45.84799009514337, 32.28271561539856, 25.63417267531294, 28.30794124052739, 34.94882854716957, 30.369675171647778, 33.09699797199446, 152.2699766353672, 21.594689663592405, 21.594689660544717, 16.69793463675156, 16.697934636035885, 15.717580791524076, 25.951131489209487, 14.651075619389204, 42.20689261366559, 39.12515607282228, 28.880022080937408, 35.10151815453387, 45.7929670292509, 25.4906253748565, 30.977073192454736, 23.921785137507623, 24.743496357915937, 46.88990001606254, 39.913719355983915, 22.96807376605882, 19.981774608413293, 18.985177371656313, 17.98858013326257, 44.71845410986623, 19.981774613028232, 16.584664169066823, 37.83014819165641, 97.86068468096848, 61.39241268970002, 30.404907066510944, 35.073242332091816, 36.49577713049388, 27.89340910691661], \"Total\": [600.0, 271.0, 435.0, 236.0, 186.0, 153.0, 406.0, 414.0, 274.0, 264.0, 110.60541732074373, 48.945198416382446, 600.1503996847981, 21.5387010372811, 21.538701037289712, 47.01379618746998, 22.522924757473138, 18.60680728312586, 69.54432152624587, 18.601879220155734, 167.47108902310185, 56.76986767449256, 213.33470278637122, 181.7687888613489, 94.05206644503863, 188.11050567300148, 517.7086040501877, 76.49698184512582, 652.818086770121, 608.6425964149907, 22.497651066256243, 18.586046872935334, 24.439908177301724, 106.59633423130023, 58.74616066702412, 81.85697736784101, 34.20314795821412, 31.2779019257598, 15.658143555303738, 18.606078674185873, 269.3965821944708, 176.69205286752583, 172.49567558431153, 129.07230711678687, 370.45780188319264, 100.65536194639265, 142.89399876971373, 120.2463604832841, 651.7944557936333, 608.6425964149907, 652.818086770121, 33.25270969054256, 17.607191296567443, 27.418954595771563, 62.5690208407782, 18.59044935198703, 39.260309743236306, 20.654990867711692, 19.593475744761992, 31.31846976858042, 21.524299521028446, 414.6865545690131, 329.1688376892311, 517.7086040501877, 282.82516036214037, 279.15161979773825, 682.6679169658881, 334.03251641780963, 244.26516780302433, 608.6425964149907, 651.7944557936333, 20.09177032204903, 26.077859547219628, 78.22205834280618, 48.186052635899124, 41.03959851403518, 24.078831076115478, 25.06328921282638, 134.12516794300083, 20.00825408123013, 34.01496750472497, 95.49071059265265, 194.7864942618971, 193.3211103357839, 75.00411631935364, 60.95641359633675, 177.9377455503161, 152.84793327700615, 329.1688376892311, 289.3881084073573, 651.7944557936333, 487.92706001499664, 94.48210840335491, 20.667676508314862, 47.23782061892547, 29.54997498832769, 42.2846945748226, 24.597616456145765, 23.68699567849856, 92.60628217005976, 17.666780765213133, 62.93060824119996, 186.85799310721873, 109.23809823885054, 154.2265822063357, 177.9377455503161, 244.26516780302433, 651.7944557936333, 384.82855181443307, 205.85543561913633, 40.14693988455227, 16.64907275559569, 236.39611404813178, 34.274245938670916, 99.97960559381879, 19.61184661072965, 15.713850240097404, 83.62728062631697, 125.59102061153811, 38.46137242124517, 94.3585873107609, 94.07333381434924, 186.85799310721873, 682.6679169658881, 209.2533936442451, 507.53767210912105, 21.273011753714535, 18.374556932141278, 20.333896469508122, 76.53920926653699, 20.39034185473625, 77.79303377676747, 18.43973429769466, 17.45939962884601, 31.059926326393846, 28.20531933841741, 163.45719329100223, 103.4302002624531, 80.73936524115015, 414.6865545690131, 172.49567558431153, 152.84793327700615, 86.91030349852241, 281.4202146006165, 269.3965821944708, 384.82855181443307, 652.818086770121, 20.614939624603668, 68.73858877129445, 16.651688891159495, 23.548710413289058, 20.63779498350037, 264.94409029130014, 38.57233519506279, 18.72858197093913, 15.674981172412442, 18.644251384939036, 128.42233692229019, 88.64898914392728, 323.6262043118637, 67.75250291802027, 487.92706001499664, 97.13914228079304, 608.6425964149907, 262.2081790090693, 384.82855181443307, 391.6827620747081, 88.95895186230796, 15.994713310751504, 23.979622912697153, 20.92534114116646, 109.51391201124807, 40.82584163440547, 35.81996177252884, 17.002119346604665, 26.881486231950344, 24.94422786700487, 61.318090432064906, 251.1178061179056, 159.24004832274971, 200.9220949364345, 102.91013803540422, 125.41741668172617, 81.50271618718368, 279.15161979773825, 517.7086040501877, 329.1688376892311, 58.019304674800615, 89.57282473677347, 76.8902133134522, 29.694717750539684, 23.54281317660088, 19.59628475030736, 42.182324875707394, 28.410498303624752, 16.75824643842091, 334.03251641780963, 167.87239434743717, 406.0871246610585, 435.71447096268247, 76.5325282417577, 652.818086770121, 323.6262043118637, 281.4202146006165, 651.7944557936333, 39.32147646549667, 16.7146328254693, 15.731457524059985, 63.05070177203097, 54.02608783381316, 75.91760630764942, 30.442838768173207, 31.414758424703358, 16.7301711327674, 26.52711362890303, 49.59038478491487, 155.9925405813053, 682.6679169658881, 212.24173248574962, 251.1178061179056, 370.45780188319264, 323.6262043118637, 507.53767210912105, 271.758204828111, 126.1076615003895, 54.74769345130503, 81.14118993802703, 78.22624097537609, 87.03937183587524, 23.466899002880844, 17.601750046390066, 43.03081563502341, 19.560854934164954, 44.0741641018597, 26.402484898765483, 146.38942573255628, 63.887504247706, 608.6425964149907, 26.359999043044777, 32.156824438231666, 26.44354230844402, 18.613833923008993, 19.52100528256142, 54.86638231115761, 274.5182793975887, 57.73754789898796, 31.39607838087709, 32.29782532458531, 39.16333303086294, 222.06631715187592, 238.5865134123771, 121.83002448331693, 151.92951984169073, 507.53767210912105, 281.4202146006165, 682.6679169658881, 165.6689764238589, 370.45780188319264, 93.15453898908277, 23.52782365864328, 33.33195915492919, 18.622735589017584, 15.675184404868824, 24.458199752948012, 22.635678676805426, 147.0042970745256, 22.48361645529705, 17.677315447187862, 51.88501593011576, 74.76483837868079, 435.71447096268247, 167.87239434743717, 107.27115850036928, 67.75250291802027, 682.6679169658881, 406.0871246610585, 507.53767210912105, 124.03331114810823, 329.1688376892311, 42.71148515726667, 110.65892599788842, 92.24092007823833, 17.480808738420446, 34.97576369286502, 20.418227238658524, 34.01375878796944, 32.066491265689805, 36.014209163857934, 15.583899651368391, 21.4410078318986, 52.63684836347322, 517.7086040501877, 406.0871246610585, 652.818086770121, 487.92706001499664, 66.12310430509635, 33.06163847471403, 186.01660122023694, 58.84138269278848, 33.967528542270756, 86.62413266960066, 18.89684456615643, 23.85219109536539, 17.06607439225412, 16.86546598783852, 185.44938397347448, 173.28479106727758, 435.71447096268247, 406.0871246610585, 370.45780188319264, 21.874557065806297, 26.737518073584443, 17.88833234816585, 40.55364407060338, 29.56990668121932, 22.75153785285241, 28.642341731680805, 39.564063983106, 18.742084431613304, 20.662594387494355, 92.66210656272001, 120.32356571736608, 107.53569217580821, 205.85543561913633, 121.83002448331693, 652.818086770121, 507.53767210912105, 384.82855181443307, 682.6679169658881, 35.20391749438547, 17.60942724370339, 44.01843442632318, 50.82910814988599, 39.177591462965886, 27.30255905668599, 33.518735222260894, 68.66924959373877, 36.266069327448214, 27.35212155580205, 86.07653247851573, 89.98630236916614, 80.22454621367594, 49.95747121012217, 106.73210994994139, 391.6827620747081, 188.11050567300148, 651.7944557936333, 153.76165414089394, 22.529550116587586, 22.52955011660027, 17.632795090764475, 17.63279509076671, 17.630967238361503, 29.351326178203266, 16.63905653428035, 48.95621951567779, 48.03398516677044, 37.21679469188917, 47.98373323074158, 191.6267642265286, 50.00702687957334, 142.89399876971373, 46.245405712100215, 517.7086040501877, 47.8238981590518, 40.84771749752439, 23.90558490860872, 20.915772750237256, 19.919175512880994, 18.92257827550865, 47.78961098808521, 21.89367379867131, 23.717453169832723, 58.503052027510215, 163.33059994962645, 154.2265822063357, 54.37040845328154, 88.74863980323386, 107.27115850036928, 334.03251641780963], \"Category\": [\"Default\", \"Default\", \"Default\", \"Default\", \"Default\", \"Default\", \"Default\", \"Default\", \"Default\", \"Default\", \"Topic1\", \"Topic1\", \"Topic1\", \"Topic1\", \"Topic1\", \"Topic1\", \"Topic1\", \"Topic1\", \"Topic1\", \"Topic1\", \"Topic1\", \"Topic1\", \"Topic1\", \"Topic1\", \"Topic1\", \"Topic1\", \"Topic1\", \"Topic1\", \"Topic1\", \"Topic1\", \"Topic2\", \"Topic2\", \"Topic2\", \"Topic2\", \"Topic2\", \"Topic2\", \"Topic2\", \"Topic2\", \"Topic2\", \"Topic2\", \"Topic2\", \"Topic2\", \"Topic2\", \"Topic2\", \"Topic2\", \"Topic2\", \"Topic2\", \"Topic2\", \"Topic2\", \"Topic2\", \"Topic2\", \"Topic3\", \"Topic3\", \"Topic3\", \"Topic3\", \"Topic3\", \"Topic3\", \"Topic3\", \"Topic3\", \"Topic3\", \"Topic3\", \"Topic3\", \"Topic3\", \"Topic3\", \"Topic3\", \"Topic3\", \"Topic3\", \"Topic3\", \"Topic3\", \"Topic3\", \"Topic3\", \"Topic4\", \"Topic4\", \"Topic4\", \"Topic4\", \"Topic4\", \"Topic4\", \"Topic4\", \"Topic4\", \"Topic4\", \"Topic4\", \"Topic4\", \"Topic4\", \"Topic4\", \"Topic4\", \"Topic4\", \"Topic4\", \"Topic4\", \"Topic4\", \"Topic4\", \"Topic4\", \"Topic4\", \"Topic5\", \"Topic5\", \"Topic5\", \"Topic5\", \"Topic5\", \"Topic5\", \"Topic5\", \"Topic5\", \"Topic5\", \"Topic5\", \"Topic5\", \"Topic5\", \"Topic5\", \"Topic5\", \"Topic5\", \"Topic5\", \"Topic5\", \"Topic5\", \"Topic6\", \"Topic6\", \"Topic6\", \"Topic6\", \"Topic6\", \"Topic6\", \"Topic6\", \"Topic6\", \"Topic6\", \"Topic6\", \"Topic6\", \"Topic6\", \"Topic6\", \"Topic6\", \"Topic6\", \"Topic6\", \"Topic7\", \"Topic7\", \"Topic7\", \"Topic7\", \"Topic7\", \"Topic7\", \"Topic7\", \"Topic7\", \"Topic7\", \"Topic7\", \"Topic7\", \"Topic7\", \"Topic7\", \"Topic7\", \"Topic7\", \"Topic7\", \"Topic7\", \"Topic7\", \"Topic7\", \"Topic7\", \"Topic7\", \"Topic8\", \"Topic8\", \"Topic8\", \"Topic8\", \"Topic8\", \"Topic8\", \"Topic8\", \"Topic8\", \"Topic8\", \"Topic8\", \"Topic8\", \"Topic8\", \"Topic8\", \"Topic8\", \"Topic8\", \"Topic8\", \"Topic8\", \"Topic8\", \"Topic8\", \"Topic8\", \"Topic9\", \"Topic9\", \"Topic9\", \"Topic9\", \"Topic9\", \"Topic9\", \"Topic9\", \"Topic9\", \"Topic9\", \"Topic9\", \"Topic9\", \"Topic9\", \"Topic9\", \"Topic9\", \"Topic9\", \"Topic9\", \"Topic9\", \"Topic9\", \"Topic9\", \"Topic9\", \"Topic10\", \"Topic10\", \"Topic10\", \"Topic10\", \"Topic10\", \"Topic10\", \"Topic10\", \"Topic10\", \"Topic10\", \"Topic10\", \"Topic10\", \"Topic10\", \"Topic10\", \"Topic10\", \"Topic10\", \"Topic10\", \"Topic10\", \"Topic10\", \"Topic11\", \"Topic11\", \"Topic11\", \"Topic11\", \"Topic11\", \"Topic11\", \"Topic11\", \"Topic11\", \"Topic11\", \"Topic11\", \"Topic11\", \"Topic11\", \"Topic11\", \"Topic11\", \"Topic11\", \"Topic11\", \"Topic11\", \"Topic11\", \"Topic12\", \"Topic12\", \"Topic12\", \"Topic12\", \"Topic12\", \"Topic12\", \"Topic12\", \"Topic12\", \"Topic12\", \"Topic12\", \"Topic12\", \"Topic12\", \"Topic12\", \"Topic12\", \"Topic12\", \"Topic13\", \"Topic13\", \"Topic13\", \"Topic13\", \"Topic13\", \"Topic13\", \"Topic13\", \"Topic13\", \"Topic13\", \"Topic13\", \"Topic13\", \"Topic13\", \"Topic13\", \"Topic13\", \"Topic13\", \"Topic13\", \"Topic13\", \"Topic13\", \"Topic13\", \"Topic13\", \"Topic14\", \"Topic14\", \"Topic14\", \"Topic14\", \"Topic14\", \"Topic14\", \"Topic14\", \"Topic14\", \"Topic14\", \"Topic14\", \"Topic14\", \"Topic14\", \"Topic14\", \"Topic14\", \"Topic14\", \"Topic14\", \"Topic14\", \"Topic14\", \"Topic14\", \"Topic14\", \"Topic14\", \"Topic15\", \"Topic15\", \"Topic15\", \"Topic15\", \"Topic15\", \"Topic15\", \"Topic15\", \"Topic15\", \"Topic15\", \"Topic15\", \"Topic15\", \"Topic15\", \"Topic15\", \"Topic15\", \"Topic15\", \"Topic15\", \"Topic16\", \"Topic16\", \"Topic16\", \"Topic16\", \"Topic16\", \"Topic16\", \"Topic16\", \"Topic16\", \"Topic16\", \"Topic16\", \"Topic16\", \"Topic16\", \"Topic16\", \"Topic16\", \"Topic16\", \"Topic17\", \"Topic17\", \"Topic17\", \"Topic17\", \"Topic17\", \"Topic17\", \"Topic17\", \"Topic17\", \"Topic17\", \"Topic17\", \"Topic17\", \"Topic17\", \"Topic17\", \"Topic17\", \"Topic17\", \"Topic17\", \"Topic17\", \"Topic17\", \"Topic17\", \"Topic18\", \"Topic18\", \"Topic18\", \"Topic18\", \"Topic18\", \"Topic18\", \"Topic18\", \"Topic18\", \"Topic18\", \"Topic18\", \"Topic18\", \"Topic18\", \"Topic18\", \"Topic18\", \"Topic18\", \"Topic18\", \"Topic18\", \"Topic18\", \"Topic19\", \"Topic19\", \"Topic19\", \"Topic19\", \"Topic19\", \"Topic19\", \"Topic19\", \"Topic19\", \"Topic19\", \"Topic19\", \"Topic19\", \"Topic19\", \"Topic19\", \"Topic19\", \"Topic19\", \"Topic19\", \"Topic19\", \"Topic20\", \"Topic20\", \"Topic20\", \"Topic20\", \"Topic20\", \"Topic20\", \"Topic20\", \"Topic20\", \"Topic20\", \"Topic20\", \"Topic20\", \"Topic20\", \"Topic20\", \"Topic20\", \"Topic20\", \"Topic20\"], \"logprob\": [10.0, 9.0, 8.0, 7.0, 6.0, 5.0, 4.0, 3.0, 2.0, 1.0, -3.7726, -4.5896, -2.1039, -5.4356, -5.4356, -4.6772, -5.4359, -5.6483, -4.3304, -5.6502, -3.4707, -4.5674, -3.4305, -3.6546, -4.2356, -4.0005, -3.761, -4.4916, -4.1629, -4.3211, -5.3111, -5.5112, -5.2734, -3.8691, -4.6416, -4.3176, -5.1922, -5.3095, -6.0019, -5.8552, -3.2305, -3.6648, -3.7008, -4.0344, -3.3719, -4.3181, -4.117, -4.2894, -3.8245, -3.9182, -3.9996, -4.9055, -5.5674, -5.193, -4.3917, -5.6482, -4.9298, -5.5988, -5.7049, -5.2381, -5.6698, -3.0839, -3.6216, -3.7445, -4.2292, -4.3391, -3.9999, -4.3008, -4.5202, -4.3503, -4.476, -5.4923, -5.2668, -4.1819, -4.6991, -4.8684, -5.4047, -5.3834, -3.7534, -5.6657, -5.1418, -4.1767, -3.6195, -3.6451, -4.5007, -4.7774, -4.1328, -4.2578, -3.9468, -4.0303, -4.0056, -4.2459, -3.677, -5.2332, -4.4461, -4.9355, -4.6529, -5.2356, -5.3032, -4.0211, -5.7312, -4.4975, -3.4436, -3.9766, -3.8494, -3.783, -3.9975, -3.8412, -4.1449, -4.3777, -4.4998, -5.4142, -2.8347, -4.8488, -3.7939, -5.424, -5.8347, -4.1649, -3.8719, -5.1602, -4.3224, -4.3747, -4.2809, -3.6861, -4.334, -4.328, -5.1017, -5.2555, -5.2723, -4.0526, -5.3834, -4.1053, -5.5799, -5.663, -5.1277, -5.302, -3.7291, -4.1566, -4.4107, -3.3967, -4.0592, -4.2146, -4.5383, -3.9999, -4.0289, -4.2673, -4.2242, -5.07, -3.8984, -5.4548, -5.1277, -5.2756, -2.8123, -4.9456, -5.7412, -5.9378, -5.7826, -4.0099, -4.5393, -3.6351, -4.8505, -4.2228, -4.7673, -4.4602, -4.6214, -4.6066, -4.6133, -3.6121, -5.3302, -4.9615, -5.2171, -3.6262, -4.6568, -4.7905, -5.5455, -5.1617, -5.2423, -4.4266, -3.308, -3.7024, -3.643, -4.2584, -4.1949, -4.3992, -3.9863, -4.1871, -4.2964, -4.2031, -3.7753, -4.0261, -5.1016, -5.4174, -5.6682, -4.903, -5.3068, -5.8354, -2.8744, -3.754, -3.1367, -3.3319, -4.7056, -3.8119, -4.3439, -4.4081, -4.3849, -4.3628, -5.2214, -5.2858, -3.9481, -4.1924, -3.955, -4.8847, -4.8569, -5.494, -5.0788, -4.6047, -3.8017, -3.524, -4.0904, -4.0467, -4.2604, -4.3318, -4.3367, -2.2507, -3.0227, -3.8667, -3.4801, -3.5181, -3.4192, -4.7373, -5.0388, -4.186, -4.9821, -4.249, -4.7495, -3.8741, -4.4435, -4.3553, -4.6616, -4.4777, -4.8323, -5.2277, -5.1905, -4.2702, -2.6971, -4.2758, -4.8956, -5.0085, -4.8719, -3.7708, -3.7796, -4.235, -4.1319, -3.577, -3.8505, -3.5714, -4.1193, -4.0384, -3.2861, -4.6664, -4.5029, -5.1032, -5.3003, -4.8685, -5.1206, -3.3355, -5.2353, -5.5215, -4.4686, -4.1744, -2.9459, -3.8082, -4.0915, -4.4414, -3.5987, -3.9142, -4.0412, -4.3055, -4.2064, -4.0355, -3.0856, -3.2771, -4.9617, -4.2998, -4.8508, -4.4468, -4.5122, -4.4684, -5.3088, -5.0284, -4.5406, -3.8176, -4.3181, -4.2666, -4.4006, -3.5277, -4.2216, -2.5877, -3.9074, -4.468, -3.569, -5.1201, -4.9796, -5.3375, -5.4506, -3.0992, -3.3404, -2.728, -3.0418, -3.9736, -4.4534, -4.4217, -4.8655, -4.0794, -4.5584, -4.8312, -4.7065, -4.4268, -5.2904, -5.2089, -3.8299, -3.5951, -3.869, -3.7936, -4.0649, -3.4946, -4.2341, -4.3089, -4.3643, -3.9603, -4.841, -3.9378, -3.8013, -4.0863, -4.5131, -4.3776, -3.6996, -4.348, -4.6338, -3.5856, -3.6692, -4.02, -4.2506, -4.1514, -3.9407, -4.0811, -3.9951, -2.4389, -4.3921, -4.3921, -4.6492, -4.6492, -4.7097, -4.2083, -4.78, -3.7219, -3.7977, -4.1014, -3.9063, -3.6404, -4.2262, -4.0313, -4.2897, -4.2559, -3.4684, -3.6294, -4.1821, -4.3213, -4.3725, -4.4264, -3.5158, -4.3213, -4.5077, -3.6831, -2.7326, -3.1989, -3.9016, -3.7587, -3.719, -3.9878], \"loglift\": [10.0, 9.0, 8.0, 7.0, 6.0, 5.0, 4.0, 3.0, 2.0, 1.0, 2.5073, 2.5055, 2.4848, 2.4804, 2.4804, 2.4582, 2.4355, 2.414, 2.4135, 2.4124, 2.3943, 2.3794, 2.1924, 2.1285, 2.2064, 1.7484, 0.9755, 2.157, 0.3417, 0.2535, 2.5614, 2.5522, 2.5163, 2.4477, 2.271, 2.2633, 2.2614, 2.2334, 2.2329, 2.2072, 2.1592, 2.1466, 2.1347, 2.091, 1.6992, 2.0561, 1.9067, 1.9069, 0.6816, 0.6564, 0.505, 2.5762, 2.5502, 2.4816, 2.4579, 2.415, 2.3859, 2.3591, 2.3057, 2.3035, 2.2468, 1.8744, 1.5677, 0.992, 1.1118, 1.015, 0.4599, 0.8738, 0.9674, 0.2243, 0.0302, 2.4932, 2.458, 2.4444, 2.4117, 2.4029, 2.3998, 2.381, 2.3336, 2.324, 2.3173, 2.2501, 2.0944, 2.0764, 2.1676, 2.0983, 1.6716, 1.6986, 1.2425, 1.2878, 0.5005, 0.5498, 2.7604, 2.7241, 2.6845, 2.6643, 2.5885, 2.5476, 2.5178, 2.4364, 2.383, 2.3463, 2.3119, 2.3157, 2.098, 2.0214, 1.4901, 0.6649, 0.8881, 1.2809, 2.7935, 2.7593, 2.6856, 2.6027, 2.587, 2.5857, 2.3966, 2.3946, 2.2809, 2.176, 2.1163, 2.0671, 1.4746, 0.7738, 1.3083, 0.4283, 2.8267, 2.8194, 2.7012, 2.5954, 2.5874, 2.5265, 2.4915, 2.463, 2.4222, 2.3443, 2.1602, 2.1903, 2.184, 1.5616, 1.7763, 1.7418, 1.9827, 1.3461, 1.3608, 0.7657, 0.2804, 2.8898, 2.8571, 2.7186, 2.6991, 2.6831, 2.5941, 2.3878, 2.3146, 2.296, 2.2777, 2.1206, 1.9618, 1.5712, 1.9195, 0.5729, 1.6424, 0.1144, 0.7953, 0.4265, 0.4021, 2.8856, 2.8834, 2.8471, 2.7278, 2.6636, 2.6197, 2.6169, 2.607, 2.5327, 2.5269, 2.4431, 2.152, 2.213, 2.04, 2.0936, 1.9593, 2.186, 1.3678, 0.5494, 0.8929, 2.722, 2.7155, 2.6174, 2.4933, 2.4096, 2.3423, 2.3409, 2.3323, 2.3316, 2.3002, 2.1087, 1.8426, 1.577, 1.9426, 0.6926, 0.8624, 0.9379, 0.1212, 2.9513, 2.9481, 2.9444, 2.8939, 2.804, 2.7012, 2.6853, 2.6816, 2.6746, 2.6289, 2.4773, 2.1343, 0.9359, 1.5377, 1.4132, 0.8108, 0.8745, 0.4196, 3.1302, 3.126, 3.1164, 3.1096, 3.1082, 3.1003, 3.093, 3.0791, 3.0379, 3.0302, 2.951, 2.9629, 2.1255, 2.3853, 0.2194, 3.0524, 3.0375, 2.8785, 2.8342, 2.8239, 2.7107, 2.6737, 2.6542, 2.6435, 2.5023, 2.4463, 1.812, 1.7316, 1.9483, 1.8305, 1.1793, 1.4955, 0.8885, 1.7566, 1.0327, 3.1654, 3.1613, 2.9764, 2.9583, 2.9335, 2.9204, 2.7458, 2.6599, 2.6378, 2.5921, 2.5682, 2.4971, 1.9629, 2.0545, 2.219, 2.3286, 0.8612, 1.0651, 0.7151, 1.8598, 0.9829, 3.1959, 3.1938, 3.1844, 3.1631, 3.1314, 3.1187, 3.0123, 3.0058, 2.9335, 2.9308, 2.8921, 2.4819, 0.9188, 0.6612, 0.238, 0.3951, 3.2667, 3.2659, 3.1723, 3.0037, 2.9924, 2.9553, 2.9267, 2.8344, 2.8112, 2.71, 2.6638, 2.4905, 2.1809, 1.9374, 1.0975, 3.4471, 3.2781, 3.2362, 3.2038, 3.0407, 3.03, 2.9245, 2.8812, 2.7647, 2.7486, 2.6269, 2.6006, 2.439, 1.8651, 2.1184, 1.01, 0.5222, 0.7242, 0.0955, 3.4644, 3.2764, 3.2634, 3.2561, 3.2315, 3.1658, 3.0962, 3.057, 3.047, 3.0433, 2.945, 2.817, 2.581, 2.8241, 2.1641, 1.0747, 1.6677, 0.511, 3.5116, 3.479, 3.479, 3.4669, 3.4669, 3.4065, 3.3982, 3.3941, 3.373, 3.3162, 3.2677, 3.2087, 2.0899, 2.8475, 1.9925, 2.8622, 0.4805, 3.65, 3.6466, 3.6297, 3.624, 3.6217, 3.6191, 3.6033, 3.5783, 3.3119, 3.2337, 3.1575, 2.7485, 3.0885, 2.7413, 2.5915, 1.1868]}, \"token.table\": {\"Topic\": [19, 10, 13, 14, 3, 7, 8, 11, 13, 17, 2, 7, 10, 17, 2, 8, 9, 16, 17, 1, 4, 5, 6, 8, 9, 10, 15, 17, 18, 3, 4, 3, 15, 16, 18, 2, 3, 6, 7, 8, 10, 11, 13, 15, 7, 4, 6, 5, 15, 1, 18, 1, 5, 8, 9, 1, 2, 3, 4, 5, 6, 7, 8, 9, 10, 11, 13, 14, 15, 16, 17, 18, 19, 1, 18, 2, 3, 5, 15, 18, 9, 12, 14, 12, 19, 12, 2, 4, 7, 10, 16, 17, 19, 4, 8, 11, 12, 15, 20, 3, 8, 20, 12, 14, 18, 20, 1, 3, 7, 9, 11, 13, 14, 16, 19, 6, 8, 13, 15, 19, 4, 16, 1, 2, 4, 5, 7, 8, 12, 15, 16, 19, 20, 3, 6, 7, 8, 13, 2, 4, 7, 11, 17, 18, 8, 12, 2, 3, 4, 8, 10, 13, 14, 15, 16, 1, 2, 3, 4, 5, 6, 7, 8, 9, 10, 11, 12, 13, 14, 15, 16, 17, 18, 19, 20, 9, 15, 20, 4, 6, 8, 11, 20, 5, 6, 11, 17, 19, 20, 1, 2, 4, 5, 12, 3, 12, 12, 1, 4, 5, 9, 11, 12, 1, 2, 12, 4, 5, 7, 1, 10, 11, 15, 19, 6, 14, 17, 2, 3, 16, 3, 4, 14, 19, 1, 2, 6, 18, 19, 14, 15, 4, 6, 12, 16, 17, 18, 19, 9, 16, 20, 3, 4, 5, 6, 8, 5, 5, 11, 1, 5, 12, 14, 20, 3, 5, 6, 8, 9, 10, 14, 19, 1, 7, 8, 9, 11, 12, 14, 16, 2, 5, 10, 13, 3, 4, 6, 7, 10, 11, 12, 13, 14, 15, 16, 19, 20, 1, 4, 5, 15, 5, 7, 11, 12, 15, 19, 20, 1, 13, 18, 19, 2, 3, 6, 7, 2, 7, 3, 4, 7, 19, 1, 2, 3, 4, 5, 6, 7, 8, 9, 10, 11, 12, 14, 15, 16, 17, 18, 5, 13, 16, 3, 9, 16, 2, 11, 2, 7, 8, 10, 14, 15, 18, 19, 2, 4, 14, 18, 2, 7, 17, 2, 19, 2, 3, 6, 12, 20, 2, 7, 17, 2, 3, 5, 6, 8, 17, 18, 20, 2, 4, 14, 6, 7, 19, 3, 15, 18, 4, 10, 14, 2, 5, 9, 11, 12, 15, 16, 19, 1, 2, 5, 14, 16, 18, 1, 2, 3, 4, 6, 7, 8, 9, 11, 12, 14, 15, 16, 17, 18, 20, 4, 5, 8, 17, 1, 6, 16, 1, 6, 8, 11, 13, 15, 17, 18, 13, 18, 6, 2, 3, 6, 7, 8, 9, 12, 14, 15, 17, 18, 19, 1, 2, 4, 8, 2, 5, 7, 8, 10, 11, 13, 14, 15, 16, 17, 18, 7, 10, 14, 1, 2, 3, 4, 5, 6, 7, 8, 9, 10, 12, 14, 15, 16, 17, 18, 19, 20, 12, 3, 4, 6, 7, 8, 9, 10, 11, 12, 13, 14, 15, 16, 17, 20, 6, 9, 14, 1, 17, 2, 14, 15, 20, 11, 13, 20, 3, 14, 1, 7, 14, 18, 5, 20, 20, 2, 3, 6, 18, 1, 4, 6, 7, 10, 12, 14, 18, 19, 3, 10, 13, 2, 1, 2, 7, 14, 15, 17, 19, 20, 14, 5, 8, 9, 12, 14, 15, 17, 2, 8, 10, 12, 15, 18, 20, 10, 11, 15, 7, 13, 16, 2, 9, 20, 2, 3, 8, 10, 11, 18, 3, 6, 7, 8, 10, 11, 13, 15, 19, 4, 6, 10, 14, 8, 11, 15, 18, 8, 10, 17, 2, 5, 6, 8, 10, 13, 17, 18, 1, 2, 3, 4, 5, 6, 7, 9, 10, 11, 14, 15, 2, 7, 10, 19, 3, 5, 20, 3, 2, 7, 17, 4, 15, 16, 4, 6, 9, 10, 11, 18, 19, 2, 3, 4, 6, 7, 9, 11, 13, 14, 15, 3, 4, 15, 7, 10, 15, 17, 19, 20, 1, 3, 4, 5, 7, 9, 10, 11, 13, 14, 15, 16, 17, 1, 2, 3, 4, 5, 6, 7, 8, 9, 10, 11, 12, 13, 14, 15, 16, 17, 18, 19, 20, 1, 2, 3, 5, 7, 10, 11, 14, 15, 16, 17, 18, 8, 18, 19, 3, 8, 13, 1, 5, 9, 17, 18, 20, 7, 1, 2, 3, 5, 7, 8, 9, 10, 13, 17, 19, 20, 5, 15, 3, 5, 7, 13, 15, 17, 4, 5, 14, 17, 2, 13, 15, 18, 19, 20, 3, 4, 7, 8, 10, 13, 14, 15, 20, 3, 5, 6, 10, 14, 19, 7, 10, 12, 20, 3, 11, 13, 16, 1, 5, 9, 11, 13, 20, 12, 17, 2, 3, 6, 7, 8, 10, 11, 13, 14, 15, 16, 17, 18, 4, 5, 6, 8, 3, 5, 7, 12, 4, 14, 17, 18, 16, 5, 6, 17, 20, 1, 2, 4, 5, 6, 7, 8, 12, 14, 16, 18, 19, 6, 16, 2, 3, 4, 5, 6, 7, 8, 10, 11, 12, 13, 14, 15, 16, 17, 18, 20, 2, 6, 10, 14, 3, 6, 10, 14, 15, 17, 2, 4, 5, 6, 8, 11, 14, 15, 16, 17, 18, 19, 10, 16, 2, 3, 5, 8, 10, 13, 14, 15, 16, 20, 1, 3, 7, 10, 15, 1, 2, 3, 4, 5, 6, 7, 8, 9, 10, 11, 12, 13, 14, 15, 16, 17, 18, 20, 4, 5, 7, 9, 11, 20, 12, 13, 14, 1, 3, 4, 5, 6, 7, 11, 2, 3, 4, 10, 16, 1, 2, 3, 4, 5, 7, 8, 9, 12, 17, 5, 6, 14, 20, 20, 1, 5, 8, 14, 15, 17, 18, 1, 2, 3, 7, 8, 14, 17, 18, 19, 20, 6, 9, 12, 15, 19, 7, 14, 17, 19, 2, 14, 4, 6, 11, 17, 1, 6, 11, 16, 4, 13, 14, 2, 3, 4, 5, 6, 7, 8, 11, 12, 13, 14, 18, 20, 9, 11, 13, 16, 2, 4, 7, 8, 9, 13, 15, 17, 8, 1, 3, 5, 7, 11, 2, 4, 6, 8, 9, 12, 14, 17, 3, 8, 9, 16, 18, 19, 3, 10, 16, 20, 1, 4, 5, 7, 9, 11, 12, 15, 16, 20, 4, 6, 9, 13, 3, 6, 9, 10, 12, 14, 2, 4, 10, 13, 16, 17, 18, 19, 3, 4, 6, 14, 3, 4, 8, 10, 14, 15, 16, 17, 1, 2, 5, 7, 8, 9, 10, 11, 16, 17, 18, 3, 5, 6, 19, 20, 1, 2, 3, 4, 6, 7, 8, 9, 10, 11, 12, 13, 15, 18, 20, 5, 12, 13, 15, 19, 12, 2, 8, 15, 17, 6, 10, 14, 15, 1, 7, 8, 12, 4, 5, 12, 12, 17, 4, 12, 15, 19, 20, 2, 4, 6, 8, 1, 2, 3, 4, 7, 8, 10, 13, 15, 17, 20, 1, 3, 5, 6, 7, 8, 10, 13, 14, 15, 16, 17, 5, 6, 9, 20, 11, 2, 5, 6, 7, 17, 11, 14, 16, 18, 8, 18, 19, 20, 1, 2, 7, 8, 10, 15, 17, 18, 1, 10, 17, 4, 5, 8, 2, 20, 4, 7, 18, 7, 19, 4, 5, 7, 8, 12, 20, 3, 4, 5, 9, 13, 20, 1, 2, 3, 5, 6, 7, 8, 9, 10, 11, 12, 14, 15, 16, 17, 18, 19, 20, 1, 11, 3, 6, 16, 7, 19, 3, 1, 2, 5, 8, 10, 11, 18, 19, 20, 7, 13, 20, 1, 2, 3, 4, 7, 8, 9, 15, 1, 2, 5, 6, 8, 10, 13, 18, 2, 7, 13, 2, 11, 13, 17, 3, 5, 6, 20, 4, 8, 12, 1, 3, 5, 7, 13, 17, 18, 1, 3, 8, 10, 11, 14, 16, 7, 11, 19, 5, 6, 11, 14, 17, 20, 7, 8, 8, 13, 17, 2, 3, 6, 7, 11, 14, 15, 17, 18, 7, 10, 13, 1, 5, 6, 8, 9, 12, 13, 14, 17, 4, 9, 11, 3, 5, 7, 15, 18, 19, 8, 12, 18, 1, 11, 12, 15, 5, 6, 8, 11, 20, 2, 5, 7, 10, 14, 17, 19, 20, 2, 12, 14, 15, 16, 18, 3, 8, 10, 16, 17, 1, 3, 8, 9, 11, 15, 16, 1, 2, 6, 7, 15, 18, 19, 13, 15, 16, 3, 11, 12, 13, 15, 16, 1, 2, 3, 4, 5, 7, 8, 9, 10, 11, 12, 13, 14, 15, 16, 17, 19, 2, 8, 10, 11, 2, 3, 7, 9, 11, 14, 2, 3, 4, 5, 6, 8, 12, 13, 14, 15, 16, 17, 18, 19, 1, 2, 3, 4, 5, 6, 7, 8, 10, 11, 13, 14, 15, 19, 2, 7, 8, 16, 1, 2, 4, 5, 6, 9, 12, 15, 16, 2, 6, 7, 8, 15, 18, 1, 2, 3, 4, 5, 6, 7, 8, 9, 10, 11, 12, 13, 14, 15, 16, 17, 18, 1, 2, 3, 4, 5, 6, 7, 8, 9, 10, 11, 12, 13, 14, 15, 17, 1, 2, 4, 5, 6, 7, 8, 9, 14, 1, 2, 3, 4, 5, 6, 7, 8, 9, 10, 11, 12, 13, 14, 15, 16, 17, 18, 19, 20, 7, 16, 17, 2, 3, 5, 7, 8, 9, 10, 11, 13, 15, 16, 17, 18, 19, 2, 3, 7, 10, 13, 14, 1, 2, 3, 4, 7, 10, 11, 13, 15, 16, 18, 20, 14, 15, 17, 1, 3, 4, 7, 8, 9, 11, 13, 16, 17, 19, 20, 19, 6, 8, 12, 14, 15, 20, 1, 4, 9, 11, 1, 2, 3, 4, 5, 6, 7, 8, 9, 10, 11, 12, 13, 14, 15, 16, 18, 19, 20, 2, 3, 14, 1, 2, 3, 4, 5, 6, 7, 8, 9, 10, 11, 12, 13, 14, 15, 16, 17, 18, 19, 1, 2, 3, 4, 5, 7, 8, 9, 18, 20, 1, 2, 3, 4, 5, 6, 7, 8, 10, 13, 14, 15, 16, 17, 18, 7, 18, 1, 2, 4, 5, 9, 15, 20, 1, 2, 3, 4, 5, 6, 7, 8, 9, 10, 11, 12, 13, 15, 16, 18, 19, 20, 2, 4, 6, 7, 9, 1, 2, 3, 4, 5, 6, 7, 8, 9, 10, 11, 12, 13, 14, 15, 16, 17, 18, 19, 20], \"Freq\": [0.9641126045241648, 0.12000494724620689, 0.060002473623103444, 0.8100333939118965, 0.031832172206476, 0.063664344412952, 0.063664344412952, 0.732139960748948, 0.031832172206476, 0.031832172206476, 0.7016897985331856, 0.1754224496332964, 0.02923707493888273, 0.05847414987776546, 0.9684684496417189, 0.08017886986373758, 0.6414309589099007, 0.08017886986373758, 0.12026830479560638, 0.025669130803685644, 0.5493193991988727, 0.12834565401842823, 0.010267652321474257, 0.09754269705400545, 0.08727504473253118, 0.005133826160737129, 0.010267652321474257, 0.020535304642948515, 0.06673974008958268, 0.7746311824814955, 0.19365779562037388, 0.052918887939151706, 0.052918887939151706, 0.6879455432089722, 0.15875666381745512, 0.077868073729659, 0.17909656957821568, 0.023360422118897696, 0.023360422118897696, 0.44384802025905623, 0.21024379907007926, 0.007786807372965899, 0.015573614745931798, 0.015573614745931798, 0.925192376762192, 0.7963459537680134, 0.1493148663315025, 0.9676946507244659, 0.9833420646777574, 0.8631339477653273, 0.10568987115493803, 0.9323833483496485, 0.044399207064268975, 0.041702073616449675, 0.9174456195618929, 0.08638917520691188, 0.0414668040993177, 0.03455567008276475, 0.24534525758762973, 0.031100103074488277, 0.03455567008276475, 0.10366701024829425, 0.02073340204965885, 0.031100103074488277, 0.12785597930622958, 0.003455567008276475, 0.017277835041382375, 0.010366701024829426, 0.0552890721324236, 0.031100103074488277, 0.06565577315725303, 0.0414668040993177, 0.02073340204965885, 0.9138861616508054, 0.053758009508870906, 0.22797717517463056, 0.17098288138097292, 0.05699429379365764, 0.47495244828048033, 0.05699429379365764, 0.944255729654015, 0.011241139638738275, 0.033723418916214824, 0.05671838569492645, 0.9074941711188232, 0.9912165407937085, 0.2071100810309105, 0.08054280928979853, 0.414220162061821, 0.02301223122565672, 0.01150611561282836, 0.01150611561282836, 0.2531345434822239, 0.7471041521500272, 0.020752893115278535, 0.08301157246111414, 0.020752893115278535, 0.020752893115278535, 0.0622586793458356, 0.7655609548504948, 0.15311219097009895, 0.051037396990032985, 0.07657438571321733, 0.05104959047547822, 0.7657438571321733, 0.07657438571321733, 0.03583975242191425, 0.0716795048438285, 0.09159047841155864, 0.45397019734424715, 0.2030919303908474, 0.05176853127609836, 0.05575072598964439, 0.02389316828127617, 0.011946584140638084, 0.9714314493744619, 0.03118520176449646, 0.12474080705798583, 0.8108152458769079, 0.9764953088783568, 0.3515747009003579, 0.6445536183173229, 0.14345298435944137, 0.04781766145314712, 0.03415547246653366, 0.03415547246653366, 0.013662188986613465, 0.02732437797322693, 0.3620480081452568, 0.12979079537282792, 0.16394626783936156, 0.020493283479920195, 0.013662188986613465, 0.19317495917243596, 0.03219582652873933, 0.6439165305747865, 0.06439165305747865, 0.06439165305747865, 0.051418485766711174, 0.012854621441677793, 0.7070041792922787, 0.025709242883355587, 0.14140083585845573, 0.06427310720838897, 0.05112250989875712, 0.9202051781776283, 0.0022950809914358957, 0.08721307767456403, 0.009180323965743583, 0.009180323965743583, 0.24786874707507672, 0.013770485948615373, 0.28918020492092283, 0.01606556694005127, 0.32819658177533306, 0.21247473798858554, 0.0907846607769411, 0.19895361829840283, 0.005794765581506879, 0.019315885271689596, 0.011589531163013757, 0.04056335907054815, 0.007726354108675838, 0.0907846607769411, 0.03863177054337919, 0.019315885271689596, 0.011589531163013757, 0.028973827907534392, 0.0019315885271689595, 0.1004426034127859, 0.019315885271689596, 0.025110650853196474, 0.023179062326027514, 0.04828971317922399, 0.005794765581506879, 0.9378098693345841, 0.8815652695803086, 0.04897584831001714, 0.2592531654987792, 0.07777594964963376, 0.5703569640973143, 0.05185063309975584, 0.02592531654987792, 0.09001835870971292, 0.7901611486741468, 0.050010199283173844, 0.010002039856634769, 0.040008159426539076, 0.010002039856634769, 0.8777634447682013, 0.02388471958552929, 0.011942359792764645, 0.059711798963823226, 0.029855899481911613, 0.0123241968815563, 0.9736115536429476, 0.9658130558152381, 0.11160097228680424, 0.037200324095601416, 0.11160097228680424, 0.6696058337208254, 0.037200324095601416, 0.037200324095601416, 0.07575044575041175, 0.03787522287520587, 0.8332549032545292, 0.12665177301160213, 0.7599106380696128, 0.042217257670534046, 0.032848447794739194, 0.032848447794739194, 0.7226658514842622, 0.032848447794739194, 0.13139379117895678, 0.21976536409705327, 0.0879061456388213, 0.6153430194717492, 0.025471016569661123, 0.8150725302291559, 0.15282609941796674, 0.10409296631625234, 0.04163718652650093, 0.04163718652650093, 0.8119251372667682, 0.03485270507090635, 0.1974986620684693, 0.04647027342787513, 0.5808784178484391, 0.1394108202836254, 0.7359495049438548, 0.20443041803995965, 0.5577755972513985, 0.016405164625041133, 0.06562065850016453, 0.13124131700032907, 0.016405164625041133, 0.18045681087545246, 0.016405164625041133, 0.7057943633595543, 0.23526478778651808, 0.9792468820913734, 0.005351657605710247, 0.03210994563426148, 0.6314955974738091, 0.2622312226798021, 0.06421989126852296, 0.9948973576955255, 0.9102875500308831, 0.06350843372308487, 0.07094765683340841, 0.8277226630564314, 0.023649218944469468, 0.023649218944469468, 0.953854741011414, 0.08025162803951036, 0.05350108535967357, 0.10700217071934714, 0.05350108535967357, 0.1738785274189391, 0.026750542679836786, 0.49488503957698055, 0.013375271339918393, 0.0782625657219899, 0.046957539433193946, 0.09391507886638789, 0.12522010515518386, 0.06261005257759193, 0.46957539433193946, 0.031305026288795966, 0.0782625657219899, 0.06192367380467524, 0.3096183690233762, 0.09288551070701286, 0.49538939043740193, 0.0036427446733034705, 0.07649763813937288, 0.007285489346606941, 0.007285489346606941, 0.0036427446733034705, 0.07285489346606941, 0.0036427446733034705, 0.6010528710950727, 0.12385331889231799, 0.014570978693213882, 0.025499212713124293, 0.0036427446733034705, 0.05464117009955206, 0.04065434558599876, 0.04065434558599876, 0.8130869117199752, 0.08130869117199752, 0.0709086103937804, 0.6027231883471333, 0.1418172207875608, 0.0709086103937804, 0.0354543051968902, 0.0709086103937804, 0.0354543051968902, 0.985485183640796, 0.00904114847376877, 0.006503572074502308, 0.9885429553243509, 0.7033719861459531, 0.06394290783145028, 0.12788581566290055, 0.09591436174717542, 0.9001670481083165, 0.04091668400492348, 0.07669341099021434, 0.8052808153972507, 0.03834670549510717, 0.03834670549510717, 0.052567845177704825, 0.052567845177704825, 0.07168342524232477, 0.06690453022616978, 0.05734674019385981, 0.21982917074312927, 0.062125635210014796, 0.05734674019385981, 0.038231160129239876, 0.06690453022616978, 0.05734674019385981, 0.038231160129239876, 0.014336685048464953, 0.07168342524232477, 0.038231160129239876, 0.019115580064619938, 0.014336685048464953, 0.037936268448532255, 0.8725341743162419, 0.037936268448532255, 0.11775952421802534, 0.11775952421802534, 0.7359970263626584, 0.02543139500057857, 0.9409616150214071, 0.4968718113517332, 0.027992778104322998, 0.06298375073472674, 0.14696208504769573, 0.006998194526080749, 0.034990972630403745, 0.006998194526080749, 0.21694403030850323, 0.1654439014558123, 0.05514796715193744, 0.11029593430387488, 0.6342016222472805, 0.03740062922997922, 0.11220188768993766, 0.8228138430595429, 0.7025098448707269, 0.25545812540753704, 0.09579012072325721, 0.734390925544972, 0.03193004024108574, 0.06386008048217148, 0.03193004024108574, 0.06763633113763785, 0.2705453245505514, 0.6425451458075596, 0.012245102881008392, 0.07347061728605035, 0.07347061728605035, 0.024490205762016784, 0.03061275720252098, 0.012245102881008392, 0.1591863374531091, 0.6000100411694113, 0.7085529158909103, 0.25654502127084683, 0.01221642958432604, 0.16269214900645618, 0.7049993123613101, 0.10846143267097078, 0.01807355332581272, 0.975971879593887, 0.9658016044783232, 0.08835608724422218, 0.22089021811055545, 0.6184926107095553, 0.22325447885006322, 0.023920122733935345, 0.3747485894983204, 0.19136098187148276, 0.15149411064825719, 0.01594674848929023, 0.007973374244645115, 0.007973374244645115, 0.9614256698038411, 0.008331244972303649, 0.021661236927989488, 0.0016662489944607299, 0.00499874698338219, 0.0016662489944607299, 0.020589022643608956, 0.1441231585052627, 0.0926506018962403, 0.030883533965413434, 0.08235609057443583, 0.04117804528721791, 0.2779518056887209, 0.010294511321804478, 0.04117804528721791, 0.06176706793082687, 0.020589022643608956, 0.06176706793082687, 0.010294511321804478, 0.06176706793082687, 0.020589022643608956, 0.020589022643608956, 0.05590236029478362, 0.05590236029478362, 0.05590236029478362, 0.7826330441269707, 0.9358954938364835, 0.02127035213264735, 0.02127035213264735, 0.1889176413789957, 0.01111280243405857, 0.01111280243405857, 0.10001522190652713, 0.08890241947246856, 0.05556401217029285, 0.01111280243405857, 0.5111889119666942, 0.3290421176887056, 0.6215240000786662, 0.9610144801981516, 0.4989756010814217, 0.024948780054071085, 0.03326504007209478, 0.09979512021628434, 0.09979512021628434, 0.008316260018023694, 0.12474390027035542, 0.008316260018023694, 0.01663252003604739, 0.01663252003604739, 0.04989756010814217, 0.01663252003604739, 0.09690957786909755, 0.04845478893454878, 0.04845478893454878, 0.7752766229527804, 0.40490441620472556, 0.010797451098792682, 0.11607259931202132, 0.024294264972283534, 0.04318980439517073, 0.11067387376262498, 0.11607259931202132, 0.021594902197585364, 0.005398725549396341, 0.11067387376262498, 0.016196176648189023, 0.018895539422887193, 0.22238415292047112, 0.1779073223363769, 0.5781987975932249, 0.16370926664084692, 0.036379837031299316, 0.057168315334898925, 0.018189918515649658, 0.15331502748904713, 0.07016111427464868, 0.1221323100336477, 0.08055535342644848, 0.0051971195758999025, 0.03378127724334937, 0.007795679363849854, 0.028584157667449463, 0.015591358727699707, 0.07016111427464868, 0.06236543491079883, 0.012992798939749755, 0.05456975554694898, 0.010394239151799805, 0.9972100020730172, 0.05972464105451632, 0.03483937394846785, 0.1443345492150811, 0.01990821368483877, 0.03981642736967754, 0.4031413271179851, 0.05474758763330662, 0.11944928210903263, 0.01990821368483877, 0.02986232052725816, 0.01493116026362908, 0.009954106842419385, 0.01493116026362908, 0.01990821368483877, 0.009954106842419385, 0.8158334254585895, 0.050989589091161844, 0.10197917818232369, 0.9749891585222029, 0.9600194388770787, 0.698696389908113, 0.05374587614677793, 0.10749175229355586, 0.10749175229355586, 0.20048706578860848, 0.6196872942556989, 0.1640348720088615, 0.8068659189454576, 0.107582122526061, 0.0590212991963883, 0.0590212991963883, 0.0786950655951844, 0.786950655951844, 0.9137063571344837, 0.06768195238033212, 0.9512445787209276, 0.8536878932679035, 0.00938118564030663, 0.00938118564030663, 0.11257422768367958, 0.07196695280180669, 0.36637721426374315, 0.07196695280180669, 0.32058006248077525, 0.026169801018838798, 0.013084900509419399, 0.013084900509419399, 0.04579715178296789, 0.05888205229238729, 0.20490748002477596, 0.05122687000619399, 0.7171761800867159, 0.9778798655561576, 0.04761765566928473, 0.06122270014622322, 0.034012611192346234, 0.5850169125083552, 0.11564287805397719, 0.006802522238469247, 0.054420177907753976, 0.09523531133856945, 0.9775659803345486, 0.014759602331001532, 0.3689900582750383, 0.014759602331001532, 0.08855761398600918, 0.41326886526804285, 0.014759602331001532, 0.08855761398600918, 0.055177073068667266, 0.055177073068667266, 0.03678471537911151, 0.07356943075822302, 0.018392357689555754, 0.20231593458511332, 0.5517707306866727, 0.5103008109658722, 0.15309024328976167, 0.2551504054829361, 0.053723483519635185, 0.6984052857552574, 0.21489393407854074, 0.14336683831156735, 0.8124120837655483, 0.9621182701836922, 0.4612054757087873, 0.012465012856994251, 0.0747900771419655, 0.024930025713988502, 0.012465012856994251, 0.39888041142381603, 0.055060287154064455, 0.036706858102709634, 0.4894247747027951, 0.024471238735139757, 0.1712986711459783, 0.06117809683784939, 0.06117809683784939, 0.048942477470279515, 0.048942477470279515, 0.11705000691453955, 0.013005556323837727, 0.7023000414872372, 0.15606667588605272, 0.11358877400260246, 0.022717754800520493, 0.022717754800520493, 0.7951214180182172, 0.1895920687373836, 0.7756039175620238, 0.01723564261248942, 0.09369251675704825, 0.09369251675704825, 0.05621551005422895, 0.1124310201084579, 0.1499080268112772, 0.21549278854121098, 0.009369251675704826, 0.2623390469197351, 0.02430363717343382, 0.0030379546466792274, 0.3554406936614696, 0.2339225077943005, 0.04556931970018841, 0.0030379546466792274, 0.009113863940037681, 0.12759409516052755, 0.027341591820113045, 0.01215181858671691, 0.10936636728045218, 0.04860727434686764, 0.6421759273661295, 0.2190079752289112, 0.1299199853052863, 0.003711999580151037, 0.020925050012424617, 0.020925050012424617, 0.9416272505591078, 0.9655145851294399, 0.6261026523369992, 0.33624031329209214, 0.03478348068538884, 0.755368013393169, 0.1949336808756565, 0.02436671010945706, 0.015924705367162683, 0.5812517459014379, 0.007962352683581342, 0.22294587514027756, 0.09554823220297609, 0.047774116101488046, 0.007962352683581342, 0.03139913641489192, 0.05023861826382708, 0.02511930913191354, 0.2009544730553083, 0.04395879098084869, 0.4835467007893356, 0.05023861826382708, 0.01255965456595677, 0.03139913641489192, 0.06907810011276223, 0.8753068945852946, 0.03647112060772061, 0.03647112060772061, 0.043247539278841174, 0.021623769639420587, 0.06487130891826176, 0.021623769639420587, 0.5189704713460941, 0.3027327749518882, 0.1048105535494146, 0.032249401092127566, 0.14512230491457406, 0.08868585300335081, 0.14512230491457406, 0.05643645191122325, 0.008062350273031892, 0.016124700546063783, 0.04031175136515946, 0.25799520873702053, 0.032249401092127566, 0.02418705081909568, 0.04837410163819136, 0.10350902216026417, 0.14294103060226956, 0.0920080196980126, 0.04929001055250675, 0.060791013014758324, 0.07064901512525967, 0.0525760112560072, 0.0591480126630081, 0.060791013014758324, 0.02957400633150405, 0.00328600070350045, 0.054219011607757425, 0.031217006683254275, 0.0262880056280036, 0.03450300738675472, 0.016430003517502248, 0.024645005276253375, 0.047647010200756526, 0.03778900809025517, 0.001643000351750225, 0.4624941052002427, 0.05847626617474333, 0.04252819358163151, 0.13290060494259848, 0.026580120988519695, 0.005316024197703939, 0.05316024197703939, 0.005316024197703939, 0.015948072593111817, 0.021264096790815756, 0.010632048395407878, 0.15948072593111817, 0.8068382372768014, 0.042465170382989546, 0.12739551114896863, 0.8630469084279884, 0.015982350156073858, 0.11187645109251701, 0.36925419327420245, 0.15547544979966418, 0.4275574869490765, 0.029151646837437036, 0.009717215612479011, 0.009717215612479011, 0.940158367397496, 0.03396943102261575, 0.0037743812247350837, 0.026420668573145584, 0.007548762449470167, 0.0037743812247350837, 0.7095836702501958, 0.015097524898940335, 0.045292574696821006, 0.12078019919152268, 0.0037743812247350837, 0.007548762449470167, 0.022646287348410503, 0.05718245404339793, 0.9149192646943669, 0.048396633125859116, 0.048396633125859116, 0.09679326625171823, 0.19358653250343646, 0.09679326625171823, 0.4839663312585912, 0.7475445939672191, 0.041530255220401054, 0.12459076566120317, 0.041530255220401054, 0.07281279509505369, 0.029125118038021477, 0.029125118038021477, 0.6407525968364725, 0.029125118038021477, 0.1893132672471396, 0.03715659630267938, 0.024771064201786253, 0.5078068161366183, 0.049542128403572507, 0.11146978890803814, 0.11146978890803814, 0.049542128403572507, 0.0866987247062519, 0.012385532100893127, 0.05999156892939435, 0.09998594821565725, 0.0399943792862629, 0.1599775171450516, 0.09998594821565725, 0.49992974107828625, 0.023239159779859842, 0.023239159779859842, 0.9063272314145338, 0.023239159779859842, 0.06370222343495524, 0.12740444686991048, 0.5733200109145972, 0.1592555585873881, 0.027462946063382215, 0.631647759457791, 0.04577157677230369, 0.16477767638029328, 0.09154315354460738, 0.027462946063382215, 0.9650804943582727, 0.022978107008530303, 0.032012834710902195, 0.10835113286766897, 0.014775154481954858, 0.009850102987969905, 0.029550308963909717, 0.3225908728560144, 0.009850102987969905, 0.012312628734962382, 0.11820123585563887, 0.07633829815676677, 0.25856520343421, 0.0024625257469924763, 0.0049250514939849525, 0.014547869222732787, 0.014547869222732787, 0.029095738445465574, 0.9310636302548984, 0.05660340801698605, 0.6792408962038327, 0.05660340801698605, 0.1132068160339721, 0.025275462106900938, 0.3791319316035141, 0.5560601663518207, 0.025275462106900938, 0.9678891148868504, 0.7126946299258545, 0.12958084180470084, 0.11878243832097575, 0.03239521045117521, 0.032353841632918025, 0.04853076244937704, 0.005392306938819672, 0.06470768326583605, 0.19951535673632784, 0.010784613877639343, 0.021569227755278687, 0.010784613877639343, 0.010784613877639343, 0.5338383869431474, 0.0377461485717377, 0.021569227755278687, 0.3353989563480582, 0.6288730431526092, 0.09546533966577848, 0.22628821254110457, 0.024750273246683312, 0.0601078064562309, 0.04242903985145711, 0.031821779888592826, 0.024750273246683312, 0.1202156129124618, 0.017678766604773792, 0.0777865730610047, 0.03889328653050235, 0.06364355977718565, 0.03889328653050235, 0.08839383302386897, 0.014143013283819035, 0.014143013283819035, 0.024750273246683312, 0.08752927797063983, 0.8169399277259718, 0.02917642599021328, 0.02917642599021328, 0.09482644713837433, 0.09482644713837433, 0.5215454592610589, 0.07111983535378075, 0.1422396707075615, 0.04741322356918717, 0.03131086633027521, 0.03131086633027521, 0.1513358539296635, 0.1513358539296635, 0.12524346532110084, 0.09393259899082562, 0.05740325493883788, 0.005218477721712535, 0.01043695544342507, 0.06262173266055042, 0.03131086633027521, 0.2400499751987766, 0.6061684152452623, 0.3367602306918124, 0.026943484713753893, 0.17662951090127552, 0.04191208733250606, 0.008981161571251298, 0.511926209561324, 0.07783673361751124, 0.029937205237504327, 0.029937205237504327, 0.01197488209500173, 0.08382417466501212, 0.10559476880478527, 0.1759912813413088, 0.03519825626826176, 0.5279738440239263, 0.14079302507304703, 0.04531683314151108, 0.04728713023462026, 0.07290099244503956, 0.08472277500369463, 0.03743564476907437, 0.09260396337613133, 0.02364356511731013, 0.03940594186218355, 0.04531683314151108, 0.019702970931091773, 0.07487128953814874, 0.04531683314151108, 0.13595049942453324, 0.08275247791058545, 0.035465347675965195, 0.035465347675965195, 0.05122772442083861, 0.02364356511731013, 0.007881188372436709, 0.02791739439451114, 0.02791739439451114, 0.11166957757804456, 0.7258522542572896, 0.05583478878902228, 0.02791739439451114, 0.12759020553396397, 0.06379510276698198, 0.7655412332037839, 0.6928377920491384, 0.05228964468295384, 0.05228964468295384, 0.09150687819516923, 0.01307241117073846, 0.039217233512215385, 0.039217233512215385, 0.7149403386215806, 0.20426866817759443, 0.017022389014799535, 0.03404477802959907, 0.017022389014799535, 0.1740304084718504, 0.02900506807864173, 0.01933671205242782, 0.05801013615728346, 0.03867342410485564, 0.5027545133631234, 0.05801013615728346, 0.01933671205242782, 0.02900506807864173, 0.06767849218349738, 0.12727625435149895, 0.6363812717574947, 0.06363812717574947, 0.12727625435149895, 0.9562161646536885, 0.269797449328203, 0.01079189797312812, 0.2158379594625624, 0.02158379594625624, 0.04316759189251248, 0.4208840209519967, 0.01079189797312812, 0.01549519060033819, 0.5965648381130203, 0.07747595300169095, 0.06198076240135276, 0.04648557180101457, 0.023242785900507285, 0.007747595300169095, 0.08522354830186005, 0.06198076240135276, 0.007747595300169095, 0.10747835844315036, 0.02686958961078759, 0.05373917922157518, 0.02686958961078759, 0.7792180987128401, 0.7356423990761005, 0.04904282660507337, 0.09808565321014674, 0.04904282660507337, 0.1610934110974112, 0.8054670554870561, 0.282312792302808, 0.02016519945020057, 0.5847907840558165, 0.10082599725100284, 0.8915177923851244, 0.05751727692807254, 0.014379319232018135, 0.02875863846403627, 0.010734849969223666, 0.010734849969223666, 0.96613649723013, 0.0425200196252625, 0.15945007359473437, 0.031890014718946876, 0.02126000981263125, 0.4677202158778875, 0.031890014718946876, 0.07441003434420937, 0.031890014718946876, 0.031890014718946876, 0.053150024531578126, 0.02126000981263125, 0.010630004906315625, 0.010630004906315625, 0.11344924840277668, 0.07563283226851777, 0.7563283226851778, 0.07563283226851777, 0.2134120887709447, 0.0328326290416838, 0.08208157260420951, 0.00820815726042095, 0.07387341534378855, 0.2954936613751542, 0.0492489435625257, 0.2544528750730495, 0.9701701952175622, 0.01850957639346473, 0.07403830557385892, 0.03701915278692946, 0.01850957639346473, 0.814421361312448, 0.1333260158338757, 0.5866344696690532, 0.093328211083713, 0.013332601583387572, 0.11999341425048815, 0.013332601583387572, 0.013332601583387572, 0.013332601583387572, 0.022560888954445635, 0.372254667748353, 0.03384133343166845, 0.1917675561127879, 0.12408488924945099, 0.23688933402167917, 0.20779428832673102, 0.06926476277557701, 0.7157358820142958, 0.9827722500513928, 0.06134764869083285, 0.049078118952666276, 0.1963124758106651, 0.012269529738166569, 0.46624213005032966, 0.036808589214499705, 0.012269529738166569, 0.024539059476333138, 0.06134764869083285, 0.06134764869083285, 0.04898857978017837, 0.1469657393405351, 0.7348286967026755, 0.04898857978017837, 0.10957511954067983, 0.01826251992344664, 0.7578945768230355, 0.08218133965550987, 0.00913125996172332, 0.00913125996172332, 0.022328200610814437, 0.03349230091622166, 0.7703229210730981, 0.04465640122162887, 0.011164100305407218, 0.04465640122162887, 0.022328200610814437, 0.03349230091622166, 0.16970902674462626, 0.05656967558154209, 0.16970902674462626, 0.5656967558154209, 0.19620879472797786, 0.01154169380752811, 0.005770846903764055, 0.04039592832634838, 0.1269586318828092, 0.08656270355646083, 0.45012605849359627, 0.06925016284516866, 0.12668937018613666, 0.04943975421898016, 0.06797966205109772, 0.07106964668978398, 0.2564687250109596, 0.10505947771533285, 0.12050940090876415, 0.11741941627007789, 0.04325978494160764, 0.02471987710949008, 0.01235993855474504, 0.24789112316286288, 0.07887444827909273, 0.22535556651169353, 0.045071113302338706, 0.3943722413954637, 0.025075978441650854, 0.017911413172607752, 0.20419011016772837, 0.09672163113208186, 0.08597478322851722, 0.021493695807129305, 0.10388619640112497, 0.20777239280224993, 0.05015195688330171, 0.09313934849756031, 0.014329130538086203, 0.03940510897973706, 0.017911413172607752, 0.014329130538086203, 0.0071645652690431015, 0.10420197978252903, 0.020840395956505806, 0.10420197978252903, 0.020840395956505806, 0.7294138584777031, 0.9801039326575051, 0.04663959865320613, 0.09327919730641226, 0.699593979798092, 0.09327919730641226, 0.16990322991542856, 0.5521854972251428, 0.1274274224365714, 0.1274274224365714, 0.3189796494811662, 0.06379592989623323, 0.5103674391698658, 0.06379592989623323, 0.022689029284569125, 0.11344514642284562, 0.8394940835290576, 0.9715409950980918, 0.012783434146027523, 0.7798311792393529, 0.12784117692448407, 0.05113647076979363, 0.012784117692448407, 0.012784117692448407, 0.08819646820427726, 0.676172922899459, 0.11759529093903634, 0.08819646820427726, 0.00831092391617573, 0.00831092391617573, 0.07479831524558157, 0.07479831524558157, 0.03324369566470292, 0.13297478265881169, 0.00831092391617573, 0.12466385874263596, 0.11635293482646022, 0.40723527189261083, 0.01662184783235146, 0.012574055243494621, 0.09640109020012544, 0.09640109020012544, 0.041913517478315405, 0.12574055243494622, 0.050296220973978484, 0.11735784893928314, 0.23471569787856628, 0.10897514544362005, 0.07125297971313618, 0.03772216573048386, 0.004191351747831541, 0.10762038335571272, 0.6576801205071333, 0.05978910186428484, 0.16740948521999757, 0.9535035121226828, 0.20948007869634144, 0.10474003934817072, 0.034913346449390245, 0.034913346449390245, 0.5586135431902439, 0.7172670204488838, 0.05977225170407365, 0.05977225170407365, 0.05977225170407365, 0.5363583548373562, 0.21454334193494246, 0.16090750645120683, 0.053635835483735614, 0.717182896179863, 0.03281228936770615, 0.07499951855475691, 0.004687469909672307, 0.1265616875611523, 0.004687469909672307, 0.014062409729016921, 0.023437349548361536, 0.1790163434476073, 0.5370490303428219, 0.2983605724126789, 0.7181818733826973, 0.03989899296570541, 0.19949496482852705, 0.04567529457119656, 0.9135058914239312, 0.2685065513457323, 0.02983406126063692, 0.6861834089946491, 0.10221003241168179, 0.8858202809012422, 0.35967635648110696, 0.4720752178814529, 0.028099715350086485, 0.028099715350086485, 0.005619943070017296, 0.10677891833032864, 0.010472222835013055, 0.6388055929357963, 0.010472222835013055, 0.08377778268010444, 0.010472222835013055, 0.24086112520530026, 0.06800889156943184, 0.06315111360018671, 0.009715555938490264, 0.22345778658527604, 0.11658667126188316, 0.02914666781547079, 0.019431111876980527, 0.004857777969245132, 0.06800889156943184, 0.019431111876980527, 0.014573333907735395, 0.009715555938490264, 0.014573333907735395, 0.043720001723206184, 0.1991688967390504, 0.03400444578471592, 0.019431111876980527, 0.04857777969245131, 0.9806886385802028, 0.9572450778350116, 0.059292758392865505, 0.2964637919643275, 0.5336348255357896, 0.06009956141081473, 0.901493421162221, 0.9623275906775548, 0.031781037175652505, 0.031781037175652505, 0.6515112621008764, 0.04767155576347876, 0.015890518587826252, 0.015890518587826252, 0.031781037175652505, 0.12712414870261002, 0.031781037175652505, 0.2108152154532225, 0.042163043090644496, 0.7167717325409565, 0.7230037847146854, 0.06379445159247224, 0.021264817197490748, 0.021264817197490748, 0.042529634394981496, 0.021264817197490748, 0.06379445159247224, 0.042529634394981496, 0.120102155987117, 0.020017025997852832, 0.14011918198496984, 0.040034051995705665, 0.0600510779935585, 0.10008512998926417, 0.020017025997852832, 0.5204426759441737, 0.17182721420978705, 0.6873088568391482, 0.11455147613985803, 0.160067574711153, 0.160067574711153, 0.160067574711153, 0.480202724133459, 0.012967933098097528, 0.5122333573748523, 0.0713236320395364, 0.3955219594919746, 0.6997112263350098, 0.04997937330964356, 0.19991749323857425, 0.9749891585218131, 0.07660226461409271, 0.22980679384227812, 0.051068176409395136, 0.4851476758892538, 0.10213635281879027, 0.025534088204697568, 0.07148286677298589, 0.13105192241714078, 0.017870716693246472, 0.42294029507349984, 0.01191381112883098, 0.315715994914021, 0.02382762225766196, 0.040852827685346864, 0.08170565537069373, 0.8579093813922841, 0.03418625064312079, 0.06837250128624157, 0.15383812789404355, 0.051279375964681184, 0.017093125321560394, 0.649538762219295, 0.12010793698300566, 0.7807015903895368, 0.533943253980299, 0.0533943253980299, 0.3203659523881794, 0.08198963681216156, 0.4822919812480092, 0.02411459906240046, 0.27008350949888515, 0.009645839624960184, 0.0626979575622412, 0.007234379718720138, 0.05305211793728101, 0.009645839624960184, 0.062195196041253814, 0.031097598020626907, 0.8707327445775533, 0.0519592554441091, 0.034639503629406064, 0.0519592554441091, 0.06927900725881213, 0.08659875907351516, 0.0519592554441091, 0.5888715616999031, 0.0519592554441091, 0.017319751814703032, 0.0475807551016155, 0.0475807551016155, 0.888174095230156, 0.0587997349092566, 0.0293998674546283, 0.0293998674546283, 0.8231962887295924, 0.0293998674546283, 0.9764953088789066, 0.05678776408571553, 0.05678776408571553, 0.7950286972000175, 0.9136441164421023, 0.05374377155541778, 0.9863429232508204, 0.9724950518242503, 0.012690563937904582, 0.8756489117154161, 0.004230187979301528, 0.004230187979301528, 0.09729432352393513, 0.30052580946163926, 0.130663395418104, 0.05226535816724161, 0.35279116762888085, 0.05226535816724161, 0.03919901862543121, 0.05226535816724161, 0.013066339541810402, 0.11564032298036558, 0.019273387163394263, 0.5396548405750393, 0.1541870973071541, 0.038546774326788526, 0.11564032298036558, 0.01612759280795647, 0.08063796403978235, 0.0053758642693188235, 0.8870176044376059, 0.010751728538637647, 0.016994841967276863, 0.050984525901830585, 0.0849742098363843, 0.033989683934553726, 0.033989683934553726, 0.016994841967276863, 0.7477730465601818, 0.03961694873310585, 0.6338711797296936, 0.08489346157094112, 0.12451041030404697, 0.05093607694256467, 0.045276512837835264, 0.016978692314188224, 0.010841175469106385, 0.9648646167504682, 0.010841175469106385, 0.02776681824249386, 0.05553363648498772, 0.02776681824249386, 0.08330045472748157, 0.7497040925473342, 0.05553363648498772, 0.012281734751551653, 0.06140867375775827, 0.19650775602482645, 0.09825387801241323, 0.2783859877018375, 0.020469557919252757, 0.07778432009316047, 0.04093911583850551, 0.004093911583850552, 0.024563469503103307, 0.02865738108695386, 0.020469557919252757, 0.03684520425465496, 0.02865738108695386, 0.024563469503103307, 0.04503302742235606, 0.008187823167701103, 0.1507891154671927, 0.037697278866798176, 0.07539455773359635, 0.6785510196023671, 0.016308400880616344, 0.016308400880616344, 0.24462601320924518, 0.6034108325828048, 0.03261680176123269, 0.06523360352246538, 0.10865039664365138, 0.10261426349678186, 0.024144532587478087, 0.07243359776243426, 0.04225293202808665, 0.06639746461556473, 0.0845058640561733, 0.24144532587478085, 0.048289065174956174, 0.06639746461556473, 0.04225293202808665, 0.06639746461556473, 0.030180665734347606, 0.006036133146869522, 0.01801263717659763, 0.13509477882448223, 0.17562321247182688, 0.022515796470747036, 0.013509477882448223, 0.08105686729468933, 0.04052843364734467, 0.01801263717659763, 0.004503159294149408, 0.0585410708239423, 0.2521769204723668, 0.14410109741278104, 0.004503159294149408, 0.01801263717659763, 0.09835793169297966, 0.8360424193903271, 0.015123306906250715, 0.9678916420000457, 0.02119573911607211, 0.1377723042544687, 0.09538082602232449, 0.1377723042544687, 0.49809986922769456, 0.010597869558036054, 0.07418508690625238, 0.010597869558036054, 0.02119573911607211, 0.05226079598066613, 0.09145639296616573, 0.757781541719659, 0.013065198995166533, 0.05226079598066613, 0.026130397990333065, 0.04980459628323053, 0.03515618561169214, 0.11718728537230713, 0.05273427841753821, 0.026367139208769104, 0.12890601390953785, 0.04101554988030749, 0.024902298141615264, 0.0336913445445383, 0.04980459628323053, 0.12597633177523015, 0.007324205335769196, 0.1010740336336149, 0.09667951043215338, 0.011718728537230712, 0.030761662410230622, 0.0336913445445383, 0.03222650347738446, 0.032981261121537424, 0.04240447858483383, 0.1366366532177979, 0.028269652389889217, 0.07538573970637125, 0.01884643492659281, 0.04240447858483383, 0.032981261121537424, 0.051827696048130235, 0.01884643492659281, 0.23086882785076196, 0.023558043658241015, 0.10365539209626047, 0.04711608731648203, 0.009423217463296406, 0.09423217463296406, 0.01034548165239768, 0.2069096330479536, 0.5379650459246794, 0.03620918578339188, 0.0258637041309942, 0.02069096330479536, 0.10862755735017564, 0.04138192660959072, 0.01034548165239768, 0.08284820393915272, 0.14575146989295387, 0.07671129994365992, 0.1119984979177435, 0.12120385391098269, 0.01994493798535158, 0.07364284794591353, 0.027616067979717576, 0.016876485987605185, 0.05830058795718154, 0.024547615981971176, 0.03528719797408357, 0.03375297197521037, 0.03221874597633717, 0.01994493798535158, 0.01841071198647838, 0.027616067979717576, 0.05062945796281555, 0.01841071198647838, 0.003068451997746397, 0.19726957178181326, 0.024658696472726657, 0.7397608941817998, 0.1634566303820139, 0.01776702504152325, 0.13858279532388135, 0.21675770550658366, 0.02487383505813255, 0.014213620033218601, 0.13147598530727206, 0.04619426510796045, 0.1847770604318418, 0.01776702504152325, 0.0035534050083046503, 0.01776702504152325, 0.007106810016609301, 0.01776702504152325, 0.5762236494752244, 0.029804671524580575, 0.01986978101638705, 0.06954423355735467, 0.25830715321303166, 0.029804671524580575, 0.07692675531331222, 0.2628330806538168, 0.012821125885552037, 0.006410562942776019, 0.006410562942776019, 0.07692675531331222, 0.4166865912804412, 0.025642251771104074, 0.05128450354220815, 0.025642251771104074, 0.025642251771104074, 0.012821125885552037, 0.12833758203931864, 0.7700254922359119, 0.06416879101965932, 0.17668552287678807, 0.01859847609229348, 0.0464961902307337, 0.08369314241532066, 0.08369314241532066, 0.01859847609229348, 0.1394885706922011, 0.02789771413844022, 0.00929923804614674, 0.35337104575357614, 0.00929923804614674, 0.02789771413844022, 0.964112604524287, 0.03728868090844968, 0.01864434045422484, 0.09322170227112421, 0.37288680908449684, 0.1305103831795739, 0.3355981281760472, 0.10537740043568686, 0.06586087527230429, 0.07903305032676515, 0.7376418030498081, 0.1327605016992852, 0.056167904565082194, 0.0025530865711401, 0.0714864239919228, 0.1174419822724446, 0.0485086448516619, 0.07403951056306289, 0.0791456837053431, 0.0229777791402609, 0.056167904565082194, 0.0331901254248213, 0.0357432119959614, 0.028083952282541097, 0.030637038853681197, 0.061274077707362394, 0.0204246925691208, 0.0893580299899035, 0.030637038853681197, 0.007659259713420299, 0.13937735799806683, 0.6968867899903342, 0.09291823866537788, 0.11335470248093459, 0.12254562430371306, 0.07046373397463501, 0.06127281215185653, 0.06127281215185653, 0.06433645275944935, 0.07505919488602425, 0.04289096850629957, 0.016850023341760546, 0.10263196035435969, 0.0015318203037964133, 0.012254562430371306, 0.05361371063287446, 0.0030636406075928266, 0.05055007002528163, 0.00919092182277848, 0.08425011670880272, 0.03370004668352109, 0.021445484253149787, 0.007455722258069939, 0.007455722258069939, 0.007455722258069939, 0.7008378922585743, 0.014911444516139878, 0.052190055806489576, 0.08201294483876934, 0.0372786112903497, 0.0745572225806994, 0.007455722258069939, 0.1711319829555953, 0.013163998688891948, 0.04607399541112182, 0.07240199278890572, 0.019745998033337923, 0.1250579875444735, 0.03949199606667585, 0.03290999672222987, 0.019745998033337923, 0.256697974433393, 0.13822198623336546, 0.006581999344445974, 0.013163998688891948, 0.013163998688891948, 0.03290999672222987, 0.25638622319125814, 0.7325320662607375, 0.6711823342403418, 0.005501494542953621, 0.016504483628860867, 0.17054633083156226, 0.055014945429536215, 0.011002989085907243, 0.07151942905839709, 0.07246150776762317, 0.14110925196852933, 0.003813763566717009, 0.04957892636732111, 0.0877165620344912, 0.0877165620344912, 0.04576516280060411, 0.11822667056822728, 0.04576516280060411, 0.03432387210045308, 0.07627527133434017, 0.06102021706747214, 0.019068817833585043, 0.038137635667170086, 0.022882581400302054, 0.038137635667170086, 0.053392689934038125, 0.007627527133434018, 0.07800033673116848, 0.026000112243722825, 0.5200022448744565, 0.05200022448744565, 0.3120013469246739, 0.0758310063780082, 0.08607843967233363, 0.05943511310708751, 0.11682073955530993, 0.04098973317730173, 0.06558357308368276, 0.04713819315389699, 0.09427638630779397, 0.038940246518436646, 0.04918767981276208, 0.06763305974254785, 0.02459383990638104, 0.020494866588650865, 0.061484599765952594, 0.05943511310708751, 0.014346406612055605, 0.018445379929785777, 0.01229691995319052, 0.04098973317730173, 0.00614845997659526], \"Term\": [\":string\", \"abstract\", \"abstract\", \"abstract\", \"across\", \"across\", \"across\", \"across\", \"across\", \"across\", \"ajax\", \"ajax\", \"ajax\", \"ajax\", \"alert\", \"android\", \"android\", \"android\", \"android\", \"application\", \"application\", \"application\", \"application\", \"application\", \"application\", \"application\", \"application\", \"application\", \"application\", \"architecture\", \"architecture\", \"arg\", \"arg\", \"arg\", \"arg\", \"array\", \"array\", \"array\", \"array\", \"array\", \"array\", \"array\", \"array\", \"array\", \"ascii\", \"authentication\", \"authentication\", \"backup\", \"ball\", \"bash\", \"bash\", \"batch\", \"batch\", \"beginner\", \"beginner\", \"best\", \"best\", \"best\", \"best\", \"best\", \"best\", \"best\", \"best\", \"best\", \"best\", \"best\", \"best\", \"best\", \"best\", \"best\", \"best\", \"best\", \"best\", \"bin\", \"bin\", \"block\", \"block\", \"block\", \"block\", \"block\", \"book\", \"book\", \"book\", \"bottom\", \"bottom\", \"branch\", \"browser\", \"browser\", \"browser\", \"browser\", \"browser\", \"browser\", \"browser\", \"build\", \"build\", \"build\", \"build\", \"build\", \"build\", \"business\", \"business\", \"business\", \"button\", \"button\", \"button\", \"button\", \"c++\", \"c++\", \"c++\", \"c++\", \"c++\", \"c++\", \"c++\", \"c++\", \"c++\", \"car\", \"catch\", \"catch\", \"catch\", \"center\", \"certificate\", \"certificate\", \"change\", \"change\", \"change\", \"change\", \"change\", \"change\", \"change\", \"change\", \"change\", \"change\", \"change\", \"char\", \"char\", \"char\", \"char\", \"char\", \"character\", \"character\", \"character\", \"character\", \"character\", \"character\", \"checkout\", \"checkout\", \"class\", \"class\", \"class\", \"class\", \"class\", \"class\", \"class\", \"class\", \"class\", \"code\", \"code\", \"code\", \"code\", \"code\", \"code\", \"code\", \"code\", \"code\", \"code\", \"code\", \"code\", \"code\", \"code\", \"code\", \"code\", \"code\", \"code\", \"code\", \"code\", \"col\", \"collision\", \"collision\", \"color\", \"color\", \"color\", \"color\", \"color\", \"column\", \"column\", \"column\", \"column\", \"column\", \"column\", \"command\", \"command\", \"command\", \"command\", \"command\", \"commit\", \"commit\", \"commits\", \"computer\", \"computer\", \"computer\", \"computer\", \"computer\", \"computer\", \"conflict\", \"conflict\", \"conflict\", \"connection\", \"connection\", \"connection\", \"const\", \"const\", \"const\", \"const\", \"const\", \"constant\", \"constant\", \"constant\", \"constructor\", \"constructor\", \"constructor\", \"container\", \"container\", \"container\", \"container\", \"content\", \"content\", \"content\", \"content\", \"content\", \"controller\", \"controller\", \"copy\", \"copy\", \"copy\", \"copy\", \"copy\", \"copy\", \"copy\", \"coverage\", \"coverage\", \"currency\", \"database\", \"database\", \"database\", \"database\", \"database\", \"date\", \"datetime\", \"datetime\", \"day\", \"day\", \"day\", \"day\", \"dbo\", \"design\", \"design\", \"design\", \"design\", \"design\", \"design\", \"design\", \"design\", \"development\", \"development\", \"development\", \"development\", \"development\", \"development\", \"development\", \"development\", \"dictionary\", \"dictionary\", \"dictionary\", \"dictionary\", \"difference\", \"difference\", \"difference\", \"difference\", \"difference\", \"difference\", \"difference\", \"difference\", \"difference\", \"difference\", \"difference\", \"difference\", \"difference\", \"direction\", \"direction\", \"direction\", \"direction\", \"directly\", \"directly\", \"directly\", \"directly\", \"directly\", \"directly\", \"directly\", \"directory\", \"directory\", \"div\", \"div\", \"document\", \"document\", \"document\", \"document\", \"dom\", \"dom\", \"domain\", \"domain\", \"domain\", \"domain\", \"dont\", \"dont\", \"dont\", \"dont\", \"dont\", \"dont\", \"dont\", \"dont\", \"dont\", \"dont\", \"dont\", \"dont\", \"dont\", \"dont\", \"dont\", \"dont\", \"dont\", \"double\", \"double\", \"double\", \"eclipse\", \"eclipse\", \"eclipse\", \"editor\", \"editor\", \"element\", \"element\", \"element\", \"element\", \"element\", \"element\", \"element\", \"element\", \"email\", \"email\", \"email\", \"email\", \"encoding\", \"encoding\", \"encoding\", \"enter\", \"enter\", \"entity\", \"entity\", \"entity\", \"entity\", \"entity\", \"enum\", \"enum\", \"enum\", \"error\", \"error\", \"error\", \"error\", \"error\", \"error\", \"error\", \"error\", \"event\", \"event\", \"event\", \"example.com\", \"example.com\", \"example.com\", \"exception\", \"exception\", \"explorer\", \"extend\", \"extend\", \"extend\", \"feature\", \"feature\", \"feature\", \"feature\", \"feature\", \"feature\", \"feature\", \"feature\", \"file\", \"file\", \"file\", \"file\", \"file\", \"file\", \"first\", \"first\", \"first\", \"first\", \"first\", \"first\", \"first\", \"first\", \"first\", \"first\", \"first\", \"first\", \"first\", \"first\", \"first\", \"first\", \"flag\", \"flag\", \"flag\", \"flag\", \"folder\", \"folder\", \"folder\", \"foo\", \"foo\", \"foo\", \"foo\", \"foo\", \"foo\", \"foo\", \"foo\", \"foreach\", \"foreach\", \"foreign\", \"form\", \"form\", \"form\", \"form\", \"form\", \"form\", \"form\", \"form\", \"form\", \"form\", \"form\", \"form\", \"full\", \"full\", \"full\", \"full\", \"function\", \"function\", \"function\", \"function\", \"function\", \"function\", \"function\", \"function\", \"function\", \"function\", \"function\", \"function\", \"functional\", \"functional\", \"functional\", \"get\", \"get\", \"get\", \"get\", \"get\", \"get\", \"get\", \"get\", \"get\", \"get\", \"get\", \"get\", \"get\", \"get\", \"get\", \"get\", \"get\", \"get\", \"git\", \"good\", \"good\", \"good\", \"good\", \"good\", \"good\", \"good\", \"good\", \"good\", \"good\", \"good\", \"good\", \"good\", \"good\", \"good\", \"graph\", \"graph\", \"graph\", \"grep\", \"grid\", \"handler\", \"handler\", \"handler\", \"handler\", \"hash\", \"hash\", \"hash\", \"hashmap\", \"hashmap\", \"header\", \"header\", \"header\", \"header\", \"heap\", \"heap\", \"house\", \"html\", \"html\", \"html\", \"html\", \"http\", \"http\", \"http\", \"http\", \"http\", \"http\", \"http\", \"http\", \"http\", \"ienumerable\", \"ienumerable\", \"ienumerable\", \"iframe\", \"image\", \"image\", \"image\", \"image\", \"image\", \"image\", \"image\", \"image\", \"img\", \"import\", \"import\", \"import\", \"import\", \"import\", \"import\", \"import\", \"index\", \"index\", \"index\", \"index\", \"index\", \"index\", \"index\", \"inheritance\", \"inheritance\", \"inheritance\", \"initialize\", \"initialize\", \"initialize\", \"injection\", \"injection\", \"inner\", \"input\", \"input\", \"input\", \"input\", \"input\", \"input\", \"int\", \"int\", \"int\", \"int\", \"int\", \"int\", \"int\", \"int\", \"int\", \"interface\", \"interface\", \"interface\", \"interface\", \"internet\", \"internet\", \"internet\", \"internet\", \"iphone\", \"iphone\", \"iphone\", \"item\", \"item\", \"item\", \"item\", \"item\", \"item\", \"item\", \"item\", \"java\", \"java\", \"java\", \"java\", \"java\", \"java\", \"java\", \"java\", \"java\", \"java\", \"java\", \"java\", \"javascript\", \"javascript\", \"javascript\", \"javascript\", \"join\", \"join\", \"join\", \"jpa\", \"jquery\", \"jquery\", \"jquery\", \"json\", \"json\", \"json\", \"key\", \"key\", \"key\", \"key\", \"key\", \"key\", \"key\", \"language\", \"language\", \"language\", \"language\", \"language\", \"language\", \"language\", \"language\", \"language\", \"language\", \"layer\", \"layer\", \"layer\", \"left\", \"left\", \"left\", \"left\", \"left\", \"left\", \"library\", \"library\", \"library\", \"library\", \"library\", \"library\", \"library\", \"library\", \"library\", \"library\", \"library\", \"library\", \"library\", \"like\", \"like\", \"like\", \"like\", \"like\", \"like\", \"like\", \"like\", \"like\", \"like\", \"like\", \"like\", \"like\", \"like\", \"like\", \"like\", \"like\", \"like\", \"like\", \"like\", \"line\", \"line\", \"line\", \"line\", \"line\", \"line\", \"line\", \"line\", \"line\", \"line\", \"line\", \"line\", \"linked\", \"linked\", \"linked\", \"linq\", \"linq\", \"linq\", \"linux\", \"linux\", \"linux\", \"linux\", \"linux\", \"linux\", \"lisp\", \"list\", \"list\", \"list\", \"list\", \"list\", \"list\", \"list\", \"list\", \"list\", \"list\", \"list\", \"list\", \"lock\", \"lock\", \"logging\", \"logging\", \"logging\", \"logging\", \"logging\", \"logging\", \"login\", \"login\", \"login\", \"login\", \"loop\", \"loop\", \"loop\", \"loop\", \"loop\", \"loop\", \"main\", \"main\", \"main\", \"main\", \"main\", \"main\", \"main\", \"main\", \"main\", \"map\", \"map\", \"map\", \"map\", \"map\", \"map\", \"master\", \"master\", \"master\", \"master\", \"member\", \"member\", \"member\", \"member\", \"memory\", \"memory\", \"memory\", \"memory\", \"memory\", \"memory\", \"merge\", \"merge\", \"method\", \"method\", \"method\", \"method\", \"method\", \"method\", \"method\", \"method\", \"method\", \"method\", \"method\", \"method\", \"method\", \"module\", \"module\", \"module\", \"module\", \"month\", \"month\", \"month\", \"month\", \"mvc\", \"mvc\", \"mvc\", \"mvc\", \"myclass\", \"mysql\", \"mysql\", \"mysql\", \"mysql\", \"name\", \"name\", \"name\", \"name\", \"name\", \"name\", \"name\", \"name\", \"name\", \"name\", \"name\", \"name\", \"naming\", \"naming\", \"new\", \"new\", \"new\", \"new\", \"new\", \"new\", \"new\", \"new\", \"new\", \"new\", \"new\", \"new\", \"new\", \"new\", \"new\", \"new\", \"new\", \"node\", \"node\", \"node\", \"node\", \"null\", \"null\", \"null\", \"null\", \"null\", \"null\", \"number\", \"number\", \"number\", \"number\", \"number\", \"number\", \"number\", \"number\", \"number\", \"number\", \"number\", \"number\", \"obj\", \"obj\", \"object\", \"object\", \"object\", \"object\", \"object\", \"object\", \"object\", \"object\", \"object\", \"object\", \"objective\", \"objective\", \"objective\", \"objective\", \"objective\", \"one\", \"one\", \"one\", \"one\", \"one\", \"one\", \"one\", \"one\", \"one\", \"one\", \"one\", \"one\", \"one\", \"one\", \"one\", \"one\", \"one\", \"one\", \"one\", \"online\", \"online\", \"online\", \"online\", \"online\", \"online\", \"oop\", \"oop\", \"oop\", \"open\", \"open\", \"open\", \"open\", \"open\", \"open\", \"open\", \"operator\", \"operator\", \"operator\", \"operator\", \"operator\", \"option\", \"option\", \"option\", \"option\", \"option\", \"option\", \"option\", \"option\", \"option\", \"option\", \"oracle\", \"oracle\", \"oracle\", \"oracle\", \"outer\", \"output\", \"output\", \"output\", \"output\", \"output\", \"output\", \"output\", \"page\", \"page\", \"page\", \"page\", \"page\", \"page\", \"page\", \"page\", \"page\", \"page\", \"parent\", \"parent\", \"parent\", \"parent\", \"parent\", \"parse\", \"parse\", \"parse\", \"parse\", \"passing\", \"passing\", \"password\", \"password\", \"password\", \"password\", \"path\", \"path\", \"path\", \"path\", \"pattern\", \"pattern\", \"pattern\", \"people\", \"people\", \"people\", \"people\", \"people\", \"people\", \"people\", \"people\", \"people\", \"people\", \"people\", \"people\", \"people\", \"person\", \"person\", \"person\", \"person\", \"php\", \"php\", \"php\", \"php\", \"php\", \"php\", \"php\", \"php\", \"podcast\", \"pointer\", \"pointer\", \"pointer\", \"pointer\", \"pointer\", \"post\", \"post\", \"post\", \"post\", \"post\", \"post\", \"post\", \"post\", \"print\", \"print\", \"print\", \"print\", \"print\", \"print\", \"private\", \"private\", \"private\", \"procedure\", \"process\", \"process\", \"process\", \"process\", \"process\", \"process\", \"process\", \"process\", \"process\", \"process\", \"programmer\", \"programmer\", \"programmer\", \"programmer\", \"programming\", \"programming\", \"programming\", \"programming\", \"programming\", \"programming\", \"property\", \"property\", \"property\", \"property\", \"property\", \"property\", \"property\", \"property\", \"proxy\", \"proxy\", \"proxy\", \"proxy\", \"public\", \"public\", \"public\", \"public\", \"public\", \"public\", \"public\", \"public\", \"python\", \"python\", \"python\", \"python\", \"python\", \"python\", \"python\", \"python\", \"python\", \"python\", \"python\", \"query\", \"query\", \"query\", \"query\", \"query\", \"question\", \"question\", \"question\", \"question\", \"question\", \"question\", \"question\", \"question\", \"question\", \"question\", \"question\", \"question\", \"question\", \"question\", \"question\", \"range\", \"range\", \"range\", \"range\", \"range\", \"rebase\", \"recursive\", \"recursive\", \"recursive\", \"recursive\", \"reflection\", \"reflection\", \"reflection\", \"reflection\", \"relative\", \"relative\", \"relative\", \"relative\", \"remote\", \"remote\", \"remote\", \"repository\", \"repository\", \"request\", \"request\", \"request\", \"request\", \"request\", \"rest\", \"rest\", \"rest\", \"rest\", \"result\", \"result\", \"result\", \"result\", \"result\", \"result\", \"result\", \"result\", \"result\", \"result\", \"result\", \"return\", \"return\", \"return\", \"return\", \"return\", \"return\", \"return\", \"return\", \"return\", \"return\", \"return\", \"return\", \"row\", \"row\", \"row\", \"row\", \"salt\", \"save\", \"save\", \"save\", \"save\", \"save\", \"scope\", \"scope\", \"scope\", \"scope\", \"screen\", \"screen\", \"screen\", \"screen\", \"script\", \"script\", \"script\", \"script\", \"script\", \"script\", \"script\", \"script\", \"sdk\", \"sdk\", \"sdk\", \"security\", \"security\", \"security\", \"seek\", \"seek\", \"send\", \"send\", \"send\", \"sequence\", \"sequence\", \"server\", \"server\", \"server\", \"server\", \"server\", \"server\", \"service\", \"service\", \"service\", \"service\", \"service\", \"service\", \"set\", \"set\", \"set\", \"set\", \"set\", \"set\", \"set\", \"set\", \"set\", \"set\", \"set\", \"set\", \"set\", \"set\", \"set\", \"set\", \"set\", \"set\", \"shell\", \"shortcut\", \"shouldnt\", \"shouldnt\", \"shouldnt\", \"signed\", \"signed\", \"singleton\", \"size\", \"size\", \"size\", \"size\", \"size\", \"size\", \"size\", \"size\", \"size\", \"soap\", \"soap\", \"soap\", \"source\", \"source\", \"source\", \"source\", \"source\", \"source\", \"source\", \"source\", \"space\", \"space\", \"space\", \"space\", \"space\", \"space\", \"space\", \"space\", \"special\", \"special\", \"special\", \"specify\", \"specify\", \"specify\", \"specify\", \"sql\", \"sql\", \"sql\", \"sql\", \"sqlite\", \"sqlite\", \"sqlite\", \"ssh\", \"state\", \"state\", \"state\", \"state\", \"state\", \"state\", \"static\", \"static\", \"static\", \"static\", \"static\", \"static\", \"static\", \"std\", \"std\", \"std\", \"stored\", \"stored\", \"stored\", \"stored\", \"stored\", \"stored\", \"str\", \"str\", \"strategy\", \"strategy\", \"strategy\", \"string\", \"string\", \"string\", \"string\", \"string\", \"string\", \"string\", \"string\", \"string\", \"struct\", \"struct\", \"struct\", \"structure\", \"structure\", \"structure\", \"structure\", \"structure\", \"structure\", \"structure\", \"structure\", \"structure\", \"studio\", \"studio\", \"studio\", \"style\", \"style\", \"style\", \"style\", \"style\", \"style=\", \"submit\", \"submit\", \"submit\", \"sudo\", \"sudo\", \"svn\", \"synchronized\", \"table\", \"table\", \"table\", \"table\", \"table\", \"tag\", \"tag\", \"tag\", \"tag\", \"tag\", \"tag\", \"tag\", \"tag\", \"template\", \"template\", \"template\", \"template\", \"template\", \"template\", \"test\", \"test\", \"test\", \"test\", \"test\", \"testing\", \"testing\", \"testing\", \"testing\", \"testing\", \"testing\", \"testing\", \"text\", \"text\", \"text\", \"text\", \"text\", \"text\", \"text\", \"thread\", \"thread\", \"thread\", \"throw\", \"throw\", \"throw\", \"throw\", \"throw\", \"throw\", \"time\", \"time\", \"time\", \"time\", \"time\", \"time\", \"time\", \"time\", \"time\", \"time\", \"time\", \"time\", \"time\", \"time\", \"time\", \"time\", \"time\", \"tip\", \"tip\", \"tip\", \"tip\", \"tutorial\", \"tutorial\", \"tutorial\", \"tutorial\", \"tutorial\", \"tutorial\", \"two\", \"two\", \"two\", \"two\", \"two\", \"two\", \"two\", \"two\", \"two\", \"two\", \"two\", \"two\", \"two\", \"two\", \"type\", \"type\", \"type\", \"type\", \"type\", \"type\", \"type\", \"type\", \"type\", \"type\", \"type\", \"type\", \"type\", \"type\", \"unicode\", \"unicode\", \"unit\", \"unit\", \"update\", \"update\", \"update\", \"update\", \"update\", \"update\", \"update\", \"update\", \"update\", \"url\", \"url\", \"url\", \"url\", \"url\", \"url\", \"use\", \"use\", \"use\", \"use\", \"use\", \"use\", \"use\", \"use\", \"use\", \"use\", \"use\", \"use\", \"use\", \"use\", \"use\", \"use\", \"use\", \"use\", \"used\", \"used\", \"used\", \"used\", \"used\", \"used\", \"used\", \"used\", \"used\", \"used\", \"used\", \"used\", \"used\", \"used\", \"used\", \"used\", \"user\", \"user\", \"user\", \"user\", \"user\", \"user\", \"user\", \"user\", \"user\", \"using\", \"using\", \"using\", \"using\", \"using\", \"using\", \"using\", \"using\", \"using\", \"using\", \"using\", \"using\", \"using\", \"using\", \"using\", \"using\", \"using\", \"using\", \"using\", \"using\", \"utf\", \"utf\", \"utf\", \"value\", \"value\", \"value\", \"value\", \"value\", \"value\", \"value\", \"value\", \"value\", \"value\", \"value\", \"value\", \"value\", \"value\", \"var\", \"var\", \"var\", \"var\", \"var\", \"var\", \"variable\", \"variable\", \"variable\", \"variable\", \"variable\", \"variable\", \"variable\", \"variable\", \"variable\", \"variable\", \"variable\", \"variable\", \"vector\", \"vector\", \"vector\", \"version\", \"version\", \"version\", \"version\", \"version\", \"version\", \"version\", \"version\", \"version\", \"version\", \"version\", \"version\", \"vertically\", \"view\", \"view\", \"view\", \"view\", \"view\", \"view\", \"visual\", \"visual\", \"visual\", \"visual\", \"want\", \"want\", \"want\", \"want\", \"want\", \"want\", \"want\", \"want\", \"want\", \"want\", \"want\", \"want\", \"want\", \"want\", \"want\", \"want\", \"want\", \"want\", \"want\", \"warning\", \"warning\", \"warning\", \"way\", \"way\", \"way\", \"way\", \"way\", \"way\", \"way\", \"way\", \"way\", \"way\", \"way\", \"way\", \"way\", \"way\", \"way\", \"way\", \"way\", \"way\", \"way\", \"web\", \"web\", \"web\", \"web\", \"web\", \"web\", \"web\", \"web\", \"web\", \"web\", \"whats\", \"whats\", \"whats\", \"whats\", \"whats\", \"whats\", \"whats\", \"whats\", \"whats\", \"whats\", \"whats\", \"whats\", \"whats\", \"whats\", \"whats\", \"width\", \"width\", \"window\", \"window\", \"window\", \"window\", \"window\", \"window\", \"window\", \"work\", \"work\", \"work\", \"work\", \"work\", \"work\", \"work\", \"work\", \"work\", \"work\", \"work\", \"work\", \"work\", \"work\", \"work\", \"work\", \"work\", \"work\", \"world\", \"world\", \"world\", \"world\", \"world\", \"would\", \"would\", \"would\", \"would\", \"would\", \"would\", \"would\", \"would\", \"would\", \"would\", \"would\", \"would\", \"would\", \"would\", \"would\", \"would\", \"would\", \"would\", \"would\", \"would\"]}, \"R\": 10, \"lambda.step\": 0.01, \"plot.opts\": {\"xlab\": \"PC1\", \"ylab\": \"PC2\"}, \"topic.order\": [10, 7, 5, 4, 12, 18, 11, 16, 2, 20, 14, 8, 15, 13, 1, 17, 19, 6, 9, 3]};\n",
       "\n",
       "function LDAvis_load_lib(url, callback){\n",
       "  var s = document.createElement('script');\n",
       "  s.src = url;\n",
       "  s.async = true;\n",
       "  s.onreadystatechange = s.onload = callback;\n",
       "  s.onerror = function(){console.warn(\"failed to load library \" + url);};\n",
       "  document.getElementsByTagName(\"head\")[0].appendChild(s);\n",
       "}\n",
       "\n",
       "if(typeof(LDAvis) !== \"undefined\"){\n",
       "   // already loaded: just create the visualization\n",
       "   !function(LDAvis){\n",
       "       new LDAvis(\"#\" + \"ldavis_el558813961573061846361949799\", ldavis_el558813961573061846361949799_data);\n",
       "   }(LDAvis);\n",
       "}else if(typeof define === \"function\" && define.amd){\n",
       "   // require.js is available: use it to load d3/LDAvis\n",
       "   require.config({paths: {d3: \"https://cdnjs.cloudflare.com/ajax/libs/d3/3.5.5/d3.min\"}});\n",
       "   require([\"d3\"], function(d3){\n",
       "      window.d3 = d3;\n",
       "      LDAvis_load_lib(\"https://cdn.rawgit.com/bmabey/pyLDAvis/files/ldavis.v1.0.0.js\", function(){\n",
       "        new LDAvis(\"#\" + \"ldavis_el558813961573061846361949799\", ldavis_el558813961573061846361949799_data);\n",
       "      });\n",
       "    });\n",
       "}else{\n",
       "    // require.js not available: dynamically load d3 & LDAvis\n",
       "    LDAvis_load_lib(\"https://cdnjs.cloudflare.com/ajax/libs/d3/3.5.5/d3.min.js\", function(){\n",
       "         LDAvis_load_lib(\"https://cdn.rawgit.com/bmabey/pyLDAvis/files/ldavis.v1.0.0.js\", function(){\n",
       "                 new LDAvis(\"#\" + \"ldavis_el558813961573061846361949799\", ldavis_el558813961573061846361949799_data);\n",
       "            })\n",
       "         });\n",
       "}\n",
       "</script>"
      ],
      "text/plain": [
       "<IPython.core.display.HTML object>"
      ]
     },
     "execution_count": 19,
     "metadata": {},
     "output_type": "execute_result"
    }
   ],
   "source": [
    "# Representation graphique des 20 topics :\n",
    "# pyLDAvis nous permet de visualiser les résultats de LDA interractif.\n",
    "\n",
    "from pyLDAvis import sklearn as sklearn_lda\n",
    "import pyLDAvis\n",
    "LDAvis_prepared = sklearn_lda.prepare(lda, tfidf_lda,\n",
    "                                      tfidf_vectorizer_lda, R=n_top_words)\n",
    "pyLDAvis.display(LDAvis_prepared)"
   ]
  },
  {
   "cell_type": "markdown",
   "metadata": {},
   "source": [
    "Sur le côté gauche, la zone de chaque cercle représente l'importance du topic par rapport au corpus. \n",
    "\n",
    "Comme il y a 20 topics, nous avons 20 cercles.\n",
    "La distance entre le centre des cercles indique la similitude entre les sujets. \n",
    "Ici, les topics qui se chevauchentont donc des sujets plus similaires.\n",
    "\n",
    "Sur le côté droit, l' histogramme de chaque topic montre les 10 mots les plus pertinents . \n",
    "Par exemple, dans le topic 1, les mots les plus pertinents sont file, use, object, like, ..."
   ]
  },
  {
   "cell_type": "code",
   "execution_count": 20,
   "metadata": {},
   "outputs": [],
   "source": [
    "# Sauvegarder le modèle sur le disque :\n",
    "pickle.dump(lda, open('models/lda.pkl', 'wb'))\n",
    "pickle.dump(corpus_copy, open('models/corpus_copy.pkl', 'wb'))\n",
    "pickle.dump(train_id2word, open('models/train_id2word.pkl', 'wb'))"
   ]
  },
  {
   "cell_type": "markdown",
   "metadata": {},
   "source": [
    "#### Générer les tags à partir de LDA"
   ]
  },
  {
   "cell_type": "code",
   "execution_count": 21,
   "metadata": {},
   "outputs": [
    {
     "name": "stderr",
     "output_type": "stream",
     "text": [
      "2:1: E302 expected 2 blank lines, found 0\n"
     ]
    }
   ],
   "source": [
    "from utils.functions import remove_stopword\n",
    "def recommend_tags(text, model, n_topics, n_top_words, X_train):\n",
    "    ''' Recomendation system for stackoverflow posts based on a lda model,\n",
    "    it returns up to n_topics tags.\n",
    "    Parameters:\n",
    "    text: the stackoverflow post of user\n",
    "    data_train: data to fit the model with\n",
    "    '''\n",
    "    threshold = 0.011\n",
    "    list_scores = []\n",
    "    list_words = []\n",
    "    used = set()\n",
    "\n",
    "    # vectoriser les données en entrée\n",
    "    data = {'BodyTitle':  text, 'Tags': ['']}\n",
    "    dfInput = pd.DataFrame(data, columns=['BodyTitle', 'Tags'])\n",
    "    dataInput = cleanText(dfInput)\n",
    "    corpusInputlist = dataInput['words_tokens'].tolist()\n",
    "\n",
    "    tfidfVectorizer = TfidfVectorizer(max_df=0.95, min_df=2,\n",
    "                                      max_features=n_features,\n",
    "                                      tokenizer=dummy,\n",
    "                                      preprocessor=dummy)\n",
    "    tfidfVectorizer.fit_transform(X_train)\n",
    "    text_tfidf = tfidfVectorizer.transform(corpusInputlist)\n",
    "    text_projection = model.transform(text_tfidf)\n",
    "    feature_names = tfidfVectorizer.get_feature_names()\n",
    "    # utiliser les modeles LDA-NMF pour extraire les scores de chaque mot-tags\n",
    "    components = model.components_/model.components_.sum(axis=1)[:, np.newaxis]\n",
    "    for topic in range(n_topics):\n",
    "        topic_score = text_projection[0][topic]\n",
    "\n",
    "        for (word_idx, word_score) in zip(components[topic].argsort()\n",
    "                                          [:-n_top_words - 1:-1],\n",
    "                                          sorted(components[topic])\n",
    "                                          [:-n_top_words - 1:-1]):\n",
    "            score = topic_score*word_score\n",
    "\n",
    "            if score >= threshold:\n",
    "                list_scores.append(score)\n",
    "                list_words.append(feature_names[word_idx])\n",
    "                used.add(feature_names[word_idx])\n",
    "\n",
    "    results = [tag for (y, tag) in sorted(zip(list_scores, list_words),\n",
    "                                          key=lambda pair: pair[0],\n",
    "                                          reverse=True)]\n",
    "    tags = \", \".join(filter(None, results[:10]))\n",
    "    # tokenizé les tags pour calculer la performance di=u modele\n",
    "    tags_tokens = custom_tokenize(tags)\n",
    "    tags_tokens2 = remove_stopword(tags_tokens)\n",
    "    return tags_tokens2"
   ]
  },
  {
   "cell_type": "code",
   "execution_count": 22,
   "metadata": {},
   "outputs": [
    {
     "name": "stdout",
     "output_type": "stream",
     "text": [
      "generer les tags pour LDA...\n",
      "fait en 223.299s.\n"
     ]
    },
    {
     "data": {
      "text/html": [
       "<div>\n",
       "<style scoped>\n",
       "    .dataframe tbody tr th:only-of-type {\n",
       "        vertical-align: middle;\n",
       "    }\n",
       "\n",
       "    .dataframe tbody tr th {\n",
       "        vertical-align: top;\n",
       "    }\n",
       "\n",
       "    .dataframe thead th {\n",
       "        text-align: right;\n",
       "    }\n",
       "</style>\n",
       "<table border=\"1\" class=\"dataframe\">\n",
       "  <thead>\n",
       "    <tr style=\"text-align: right;\">\n",
       "      <th></th>\n",
       "      <th>Id</th>\n",
       "      <th>BodyTitle</th>\n",
       "      <th>words_tokens</th>\n",
       "      <th>tags_tokens</th>\n",
       "      <th>tags_predicted_lda</th>\n",
       "    </tr>\n",
       "  </thead>\n",
       "  <tbody>\n",
       "    <tr>\n",
       "      <th>0</th>\n",
       "      <td>9</td>\n",
       "      <td>in c#, how do i calculate someones age based o...</td>\n",
       "      <td>['calculate', 'someone', 'age', 'based', 'date...</td>\n",
       "      <td>['c', '.net', 'datetime']</td>\n",
       "      <td>[database, date, server, using, sql, memory, t...</td>\n",
       "    </tr>\n",
       "    <tr>\n",
       "      <th>1</th>\n",
       "      <td>11</td>\n",
       "      <td>calculate relative time in c# given a specific...</td>\n",
       "      <td>['calculate', 'relative', 'time', 'given', 'sp...</td>\n",
       "      <td>['c', 'datetime', 'time', 'datediff', 'relativ...</td>\n",
       "      <td>[database, list, date, server, using, sql]</td>\n",
       "    </tr>\n",
       "    <tr>\n",
       "      <th>2</th>\n",
       "      <td>13</td>\n",
       "      <td>determine a users timezone is there a standard...</td>\n",
       "      <td>['determine', 'user', 'timezone', 'standard', ...</td>\n",
       "      <td>['html', 'browser', 'timezone', 'user-agent', ...</td>\n",
       "      <td>[application, user]</td>\n",
       "    </tr>\n",
       "    <tr>\n",
       "      <th>3</th>\n",
       "      <td>42</td>\n",
       "      <td>best way to allow plugins for a php applicatio...</td>\n",
       "      <td>['best', 'way', 'allow', 'plugins', 'php', 'ap...</td>\n",
       "      <td>['php', 'plugins', 'architecture', 'hook']</td>\n",
       "      <td>[difference, object]</td>\n",
       "    </tr>\n",
       "    <tr>\n",
       "      <th>4</th>\n",
       "      <td>173</td>\n",
       "      <td>versioning sql server database i want to get m...</td>\n",
       "      <td>['versioning', 'sql', 'server', 'database', 'w...</td>\n",
       "      <td>['sql-server', 'database', 'svn', 'version-con...</td>\n",
       "      <td>[list, python, module, array]</td>\n",
       "    </tr>\n",
       "  </tbody>\n",
       "</table>\n",
       "</div>"
      ],
      "text/plain": [
       "    Id                                          BodyTitle  \\\n",
       "0    9  in c#, how do i calculate someones age based o...   \n",
       "1   11  calculate relative time in c# given a specific...   \n",
       "2   13  determine a users timezone is there a standard...   \n",
       "3   42  best way to allow plugins for a php applicatio...   \n",
       "4  173  versioning sql server database i want to get m...   \n",
       "\n",
       "                                        words_tokens  \\\n",
       "0  ['calculate', 'someone', 'age', 'based', 'date...   \n",
       "1  ['calculate', 'relative', 'time', 'given', 'sp...   \n",
       "2  ['determine', 'user', 'timezone', 'standard', ...   \n",
       "3  ['best', 'way', 'allow', 'plugins', 'php', 'ap...   \n",
       "4  ['versioning', 'sql', 'server', 'database', 'w...   \n",
       "\n",
       "                                         tags_tokens  \\\n",
       "0                          ['c', '.net', 'datetime']   \n",
       "1  ['c', 'datetime', 'time', 'datediff', 'relativ...   \n",
       "2  ['html', 'browser', 'timezone', 'user-agent', ...   \n",
       "3         ['php', 'plugins', 'architecture', 'hook']   \n",
       "4  ['sql-server', 'database', 'svn', 'version-con...   \n",
       "\n",
       "                                  tags_predicted_lda  \n",
       "0  [database, date, server, using, sql, memory, t...  \n",
       "1         [database, list, date, server, using, sql]  \n",
       "2                                [application, user]  \n",
       "3                               [difference, object]  \n",
       "4                      [list, python, module, array]  "
      ]
     },
     "execution_count": 22,
     "metadata": {},
     "output_type": "execute_result"
    },
    {
     "name": "stderr",
     "output_type": "stream",
     "text": [
      "6:80: E501 line too long (102 > 79 characters)\n"
     ]
    }
   ],
   "source": [
    "data_preprocess_predict_lda = data_preprocess.copy()\n",
    "print(\"generer les tags pour LDA...\")\n",
    "t0 = time()\n",
    "list_predicted_lda = [recommend_tags(text, lda, n_topics,\n",
    "                                     n_top_words,\n",
    "                                     X_trainBis) for text in data_preprocess_predict_lda['BodyTitle']]\n",
    "data_preprocess_predict_lda['tags_predicted_lda'] = list_predicted_lda\n",
    "print(\"fait en %0.3fs.\" % (time() - t0))\n",
    "data_preprocess_predict_lda.head(5)"
   ]
  },
  {
   "cell_type": "markdown",
   "metadata": {},
   "source": [
    "### [M5-1 : Modélisation avec algorithme NMF : ](#sommaire)<a class=\"anchor\" id=\"17\"></a>"
   ]
  },
  {
   "cell_type": "markdown",
   "metadata": {},
   "source": [
    "**NMF**(Non-Negative Matrix Factorization)est aussi une technique non supervisée,C'est une alyernative au LDA"
   ]
  },
  {
   "cell_type": "code",
   "execution_count": 23,
   "metadata": {},
   "outputs": [
    {
     "name": "stdout",
     "output_type": "stream",
     "text": [
      "Extraction des features pour NMF...\n",
      "fait en 0.120s.\n",
      "Fit de modele NMF (Frobenius norm) avec tf-idf features, n_samples=0 and n_features=1000...\n",
      "fait en 0.426s.\n",
      "\n",
      "Les Topics dans NMF model (Frobenius norm):\n",
      "Topic #0: code use would like way using one ive know application\n",
      "Topic #1: file directory line open path header batch xml using filename\n",
      "Topic #2: string convert like way comparison int char character str remove\n",
      "Topic #3: table database sql mysql column server row name select query\n",
      "Topic #4: git branch commit repository merge svn change remote add conflict\n",
      "Topic #5: function return var call jquery variable something parameter way int\n",
      "Topic #6: difference whats one i++ use vs. main performance loop explain\n",
      "Topic #7: python module print directory source using window platform output use\n",
      "Topic #8: class method static public private interface abstract void use object\n",
      "Topic #9: list item generic use order range name person search linked\n",
      "Topic #10: div image jquery element img center id= html height width\n",
      "Topic #11: value key dictionary column int convert option variable integer sort\n",
      "Topic #12: script bash shell command directory exit tag path line unix\n",
      "Topic #13: java getting object implementation interface library using equivalent write different\n",
      "Topic #14: javascript object property var way check json key obj oriented\n",
      "Topic #15: array element byte php way linked delete int new find\n",
      "Topic #16: date datetime time current day get return format month range\n",
      "Topic #17: test unit testing code tool coverage framework objective app print\n",
      "Topic #18: feature hidden trick operator tip ruby know known question sure\n",
      "Topic #19: c++ int pointer std book variable static template struct unsigned\n",
      "\n"
     ]
    }
   ],
   "source": [
    "# Use tf-idf features for NMF.\n",
    "print(\"Extraction des features pour NMF...\")\n",
    "tfidf_vectorizer = TfidfVectorizer(max_df=0.95, min_df=2,\n",
    "                                   max_features=n_features,\n",
    "                                   tokenizer=dummy,\n",
    "                                   preprocessor=dummy)\n",
    "t0 = time()\n",
    "tfidf = tfidf_vectorizer.fit_transform(X_trainBis)\n",
    "tfidf_test = tfidf_vectorizer.transform(X_testBis)\n",
    "print(\"fait en %0.3fs.\" % (time() - t0))\n",
    "\n",
    "# Fit the NMF model\n",
    "print(\"Fit de modele NMF (Frobenius norm) avec tf-idf features, \"\n",
    "      \"n_samples=%d and n_features=%d...\"\n",
    "      % (n_samples, n_features))\n",
    "t0 = time()\n",
    "nmf = NMF(n_components=n_components, random_state=1,\n",
    "          alpha=.1, l1_ratio=.5).fit(tfidf)\n",
    "print(\"fait en %0.3fs.\" % (time() - t0))\n",
    "\n",
    "print(\"\\nLes Topics dans NMF model (Frobenius norm):\")\n",
    "tfidf_feature_names = tfidf_vectorizer.get_feature_names()\n",
    "print_top_words(nmf, tfidf_feature_names, n_top_words)"
   ]
  },
  {
   "cell_type": "markdown",
   "metadata": {},
   "source": [
    "Sur les differents topics résultants de NMF ici, on peut facilement deduire visuellement par exemple que :\n",
    " - le topic 2 parle de gestion de versionning de projet\n",
    " - le topic 5 parle de base des données"
   ]
  },
  {
   "cell_type": "markdown",
   "metadata": {},
   "source": [
    "#### Générer les tags à partir de NMF"
   ]
  },
  {
   "cell_type": "code",
   "execution_count": 24,
   "metadata": {},
   "outputs": [
    {
     "name": "stdout",
     "output_type": "stream",
     "text": [
      "generer les tags pour NMF...\n",
      "fait en 262.659s.\n"
     ]
    },
    {
     "data": {
      "text/html": [
       "<div>\n",
       "<style scoped>\n",
       "    .dataframe tbody tr th:only-of-type {\n",
       "        vertical-align: middle;\n",
       "    }\n",
       "\n",
       "    .dataframe tbody tr th {\n",
       "        vertical-align: top;\n",
       "    }\n",
       "\n",
       "    .dataframe thead th {\n",
       "        text-align: right;\n",
       "    }\n",
       "</style>\n",
       "<table border=\"1\" class=\"dataframe\">\n",
       "  <thead>\n",
       "    <tr style=\"text-align: right;\">\n",
       "      <th></th>\n",
       "      <th>Id</th>\n",
       "      <th>BodyTitle</th>\n",
       "      <th>words_tokens</th>\n",
       "      <th>tags_tokens</th>\n",
       "      <th>tags_predicted_lda</th>\n",
       "      <th>tags_predicted_nmf</th>\n",
       "    </tr>\n",
       "  </thead>\n",
       "  <tbody>\n",
       "    <tr>\n",
       "      <th>0</th>\n",
       "      <td>9</td>\n",
       "      <td>in c#, how do i calculate someones age based o...</td>\n",
       "      <td>['calculate', 'someone', 'age', 'based', 'date...</td>\n",
       "      <td>['c', '.net', 'datetime']</td>\n",
       "      <td>[database, date, server, using, sql, memory, t...</td>\n",
       "      <td>[date]</td>\n",
       "    </tr>\n",
       "    <tr>\n",
       "      <th>1</th>\n",
       "      <td>11</td>\n",
       "      <td>calculate relative time in c# given a specific...</td>\n",
       "      <td>['calculate', 'relative', 'time', 'given', 'sp...</td>\n",
       "      <td>['c', 'datetime', 'time', 'datediff', 'relativ...</td>\n",
       "      <td>[database, list, date, server, using, sql]</td>\n",
       "      <td>[date, value]</td>\n",
       "    </tr>\n",
       "    <tr>\n",
       "      <th>2</th>\n",
       "      <td>13</td>\n",
       "      <td>determine a users timezone is there a standard...</td>\n",
       "      <td>['determine', 'user', 'timezone', 'standard', ...</td>\n",
       "      <td>['html', 'browser', 'timezone', 'user-agent', ...</td>\n",
       "      <td>[application, user]</td>\n",
       "      <td>[string]</td>\n",
       "    </tr>\n",
       "    <tr>\n",
       "      <th>3</th>\n",
       "      <td>42</td>\n",
       "      <td>best way to allow plugins for a php applicatio...</td>\n",
       "      <td>['best', 'way', 'allow', 'plugins', 'php', 'ap...</td>\n",
       "      <td>['php', 'plugins', 'architecture', 'hook']</td>\n",
       "      <td>[difference, object]</td>\n",
       "      <td>[]</td>\n",
       "    </tr>\n",
       "    <tr>\n",
       "      <th>4</th>\n",
       "      <td>173</td>\n",
       "      <td>versioning sql server database i want to get m...</td>\n",
       "      <td>['versioning', 'sql', 'server', 'database', 'w...</td>\n",
       "      <td>['sql-server', 'database', 'svn', 'version-con...</td>\n",
       "      <td>[list, python, module, array]</td>\n",
       "      <td>[test, table]</td>\n",
       "    </tr>\n",
       "  </tbody>\n",
       "</table>\n",
       "</div>"
      ],
      "text/plain": [
       "    Id                                          BodyTitle  \\\n",
       "0    9  in c#, how do i calculate someones age based o...   \n",
       "1   11  calculate relative time in c# given a specific...   \n",
       "2   13  determine a users timezone is there a standard...   \n",
       "3   42  best way to allow plugins for a php applicatio...   \n",
       "4  173  versioning sql server database i want to get m...   \n",
       "\n",
       "                                        words_tokens  \\\n",
       "0  ['calculate', 'someone', 'age', 'based', 'date...   \n",
       "1  ['calculate', 'relative', 'time', 'given', 'sp...   \n",
       "2  ['determine', 'user', 'timezone', 'standard', ...   \n",
       "3  ['best', 'way', 'allow', 'plugins', 'php', 'ap...   \n",
       "4  ['versioning', 'sql', 'server', 'database', 'w...   \n",
       "\n",
       "                                         tags_tokens  \\\n",
       "0                          ['c', '.net', 'datetime']   \n",
       "1  ['c', 'datetime', 'time', 'datediff', 'relativ...   \n",
       "2  ['html', 'browser', 'timezone', 'user-agent', ...   \n",
       "3         ['php', 'plugins', 'architecture', 'hook']   \n",
       "4  ['sql-server', 'database', 'svn', 'version-con...   \n",
       "\n",
       "                                  tags_predicted_lda tags_predicted_nmf  \n",
       "0  [database, date, server, using, sql, memory, t...             [date]  \n",
       "1         [database, list, date, server, using, sql]      [date, value]  \n",
       "2                                [application, user]           [string]  \n",
       "3                               [difference, object]                 []  \n",
       "4                      [list, python, module, array]      [test, table]  "
      ]
     },
     "execution_count": 24,
     "metadata": {},
     "output_type": "execute_result"
    },
    {
     "name": "stderr",
     "output_type": "stream",
     "text": [
      "6:80: E501 line too long (106 > 79 characters)\n"
     ]
    }
   ],
   "source": [
    "data_preprocess_predict_lda_nmf = data_preprocess_predict_lda.copy()\n",
    "print(\"generer les tags pour NMF...\")\n",
    "t0 = time()\n",
    "list_predicted_nmf = [recommend_tags(text, nmf, n_topics,\n",
    "                                     n_top_words,\n",
    "                                     X_trainBis) for text in data_preprocess_predict_lda_nmf['BodyTitle']]\n",
    "data_preprocess_predict_lda_nmf['tags_predicted_nmf'] = list_predicted_nmf\n",
    "print(\"fait en %0.3fs.\" % (time() - t0))\n",
    "data_preprocess_predict_lda_nmf.head(5)"
   ]
  },
  {
   "cell_type": "markdown",
   "metadata": {},
   "source": [
    "### Calcul des scores de performances pour LDA et NMF :\n",
    "\n",
    "Pour mesurer la similarité entre la prédiction des modèles et les vrais tags, nous allons utiliser la jaccard_similarity_score, elle permet de quantifier leur ressemblance (vecteurs des tags de prédictions et vecteurs des vrais tags)\n",
    "\n",
    "La cosine_simularity est une valeur comprise dans l'intervalle [-1,1], \n",
    "\n",
    " - -1 indiquera des vecteurs opposés, \n",
    " \n",
    " - 0 des vecteurs indépendants  \n",
    "\n",
    " - 1 des vecteurs similaires "
   ]
  },
  {
   "cell_type": "code",
   "execution_count": 25,
   "metadata": {},
   "outputs": [],
   "source": [
    "# 4.1 Tags de prédiction LDA (=y)\n",
    "tags_LDA = data_preprocess_predict_lda_nmf['tags_predicted_lda']\n",
    "mlb2 = MultiLabelBinarizer()\n",
    "tags_LDA_vect = pd.DataFrame(mlb2.fit_transform(tags_LDA),\n",
    "                             columns=mlb2.classes_)\n",
    "\n",
    "# 4.1 Tags de prédiction NMF (=y)\n",
    "tags_NMF = data_preprocess_predict_lda_nmf['tags_predicted_nmf']\n",
    "mlb3 = MultiLabelBinarizer()\n",
    "tags_NMF_vect = pd.DataFrame(mlb3.fit_transform(tags_NMF),\n",
    "                             columns=mlb3.classes_)\n",
    "\n",
    "tags_Real_vect = y_data"
   ]
  },
  {
   "cell_type": "code",
   "execution_count": 26,
   "metadata": {},
   "outputs": [],
   "source": [
    "def jaccard_similarity(list1, list2):\n",
    "    s1 = set(list1)\n",
    "    s2 = set(list2)\n",
    "    return float(len(s1.intersection(s2))) / float(len(s1.union(s2)))"
   ]
  },
  {
   "cell_type": "code",
   "execution_count": 27,
   "metadata": {},
   "outputs": [
    {
     "name": "stdout",
     "output_type": "stream",
     "text": [
      "Jacard similarity LDA :  0.13106796116504854\n",
      "Jacard similarity NMF :  0.1619718309859155\n"
     ]
    }
   ],
   "source": [
    "jacard_score_LDA = jaccard_similarity(tags_Real_vect, tags_LDA_vect)\n",
    "jacard_score_NMF = jaccard_similarity(tags_Real_vect, tags_NMF_vect)\n",
    "print('Jacard similarity LDA : ', jacard_score_LDA)\n",
    "print('Jacard similarity NMF : ', jacard_score_NMF)"
   ]
  },
  {
   "cell_type": "markdown",
   "metadata": {},
   "source": [
    "Donc nous constatons que les scores des cosine_simularity sont supérieurs au DummyClassifier mais ils sont très proche de 0 \n",
    "Donc les vecteurs sont independants, il faudra tester d'autres approche de prédiction"
   ]
  },
  {
   "cell_type": "markdown",
   "metadata": {},
   "source": [
    "## [MISSION 5: APPROCHE SUPERVISEE](#sommaire)<a class=\"anchor\" id=\"20\"></a>"
   ]
  },
  {
   "cell_type": "markdown",
   "metadata": {},
   "source": [
    "Certains modèles ne peuvent pas faire de la prediction pour une sortie comprenant plusieurs output. \n",
    "Il faut donc utiliser le MulitOutputClassifier\n",
    "\n",
    "MulitOutputClassifier\n",
    "\n",
    "Tester plusieurs modèles : LogistiRegression, SGDClassifier, MultinomialDB, LearSVC, Perceptron, PassiveAggressiveClassifier, RandomForest, KNN\n",
    "    \n",
    "Comparer : utiliser le Jaccard score et l'accuracy    "
   ]
  },
  {
   "cell_type": "code",
   "execution_count": 29,
   "metadata": {},
   "outputs": [],
   "source": [
    "# to ignore ConvergenceWarning\n",
    "warnings.filterwarnings(\"ignore\")"
   ]
  },
  {
   "cell_type": "markdown",
   "metadata": {},
   "source": [
    "#### Knn model :"
   ]
  },
  {
   "cell_type": "code",
   "execution_count": 30,
   "metadata": {},
   "outputs": [
    {
     "name": "stdout",
     "output_type": "stream",
     "text": [
      "Training a KNN Model...\n",
      "fait en 39.420s.\n"
     ]
    }
   ],
   "source": [
    "print(\"Training a KNN Model...\")\n",
    "t0 = time()\n",
    "knn_clf = KNeighborsClassifier()\n",
    "knn_clf_fit = MultiOutputClassifier(knn_clf).fit(X_train, y_train)\n",
    "print(\"fait en %0.3fs.\" % (time() - t0))"
   ]
  },
  {
   "cell_type": "code",
   "execution_count": 31,
   "metadata": {},
   "outputs": [
    {
     "name": "stdout",
     "output_type": "stream",
     "text": [
      "0.09501187648456057 0.06441013460015835\n"
     ]
    }
   ],
   "source": [
    "y_pred_knn = knn_clf_fit.predict(X_test)\n",
    "accuracy_score_knn = accuracy_score(y_test, y_pred_knn)\n",
    "jaccard_score_knn = jaccard_score(y_test, y_pred_knn, average='samples')\n",
    "print(accuracy_score_knn, jaccard_score_knn)"
   ]
  },
  {
   "cell_type": "markdown",
   "metadata": {},
   "source": [
    "#### SGDClassifier"
   ]
  },
  {
   "cell_type": "code",
   "execution_count": 32,
   "metadata": {},
   "outputs": [
    {
     "name": "stdout",
     "output_type": "stream",
     "text": [
      "Training a SGDClassifier Model...\n",
      "fait en 3.670s.\n"
     ]
    }
   ],
   "source": [
    "print(\"Training a SGDClassifier Model...\")\n",
    "t0 = time()\n",
    "sgd_linear_clf = SGDClassifier(random_state=1, max_iter=5, tol=1e-3)\n",
    "sgd_linear_clf_fit = MultiOutputClassifier(sgd_linear_clf).fit(X_train,\n",
    "                                                               y_train)\n",
    "print(\"fait en %0.3fs.\" % (time() - t0))"
   ]
  },
  {
   "cell_type": "code",
   "execution_count": 33,
   "metadata": {},
   "outputs": [
    {
     "name": "stdout",
     "output_type": "stream",
     "text": [
      "0.2042755344418052 0.3637032009953625\n"
     ]
    }
   ],
   "source": [
    "y_pred_sgd = sgd_linear_clf_fit.predict(X_test)\n",
    "accuracy_score_sgd = accuracy_score(y_test, y_pred_sgd)\n",
    "jaccard_score_sgd = jaccard_score(y_test, y_pred_sgd, average='samples')\n",
    "print(accuracy_score_sgd, jaccard_score_sgd)"
   ]
  },
  {
   "cell_type": "markdown",
   "metadata": {},
   "source": [
    "#### RandomForest "
   ]
  },
  {
   "cell_type": "code",
   "execution_count": 34,
   "metadata": {},
   "outputs": [
    {
     "name": "stdout",
     "output_type": "stream",
     "text": [
      "Training a Random Forest Model...\n",
      "fait en 5.504s.\n"
     ]
    }
   ],
   "source": [
    "print(\"Training a Random Forest Model...\")\n",
    "t0 = time()\n",
    "rand_for_clf = RandomForestClassifier(n_estimators=10, random_state=1)\n",
    "rand_for_clf_fit = MultiOutputClassifier(rand_for_clf).fit(X_train,\n",
    "                                                           y_train)\n",
    "print(\"fait en %0.3fs.\" % (time() - t0))"
   ]
  },
  {
   "cell_type": "code",
   "execution_count": 35,
   "metadata": {},
   "outputs": [
    {
     "name": "stdout",
     "output_type": "stream",
     "text": [
      "0.171021377672209 0.19703087885985746\n"
     ]
    }
   ],
   "source": [
    "y_pred_rand = rand_for_clf_fit.predict(X_test)\n",
    "accuracy_score_rand = accuracy_score(y_test, y_pred_rand)\n",
    "jaccard_score_rand = jaccard_score(y_test, y_pred_rand, average='samples')\n",
    "print(accuracy_score_rand, jaccard_score_rand)"
   ]
  },
  {
   "cell_type": "markdown",
   "metadata": {},
   "source": [
    "#### Logistic Regression "
   ]
  },
  {
   "cell_type": "code",
   "execution_count": 36,
   "metadata": {},
   "outputs": [
    {
     "name": "stdout",
     "output_type": "stream",
     "text": [
      "Training a Logistic Regression Model...\n",
      "fait en 10.752s.\n"
     ]
    }
   ],
   "source": [
    "print(\"Training a Logistic Regression Model...\")\n",
    "t0 = time()\n",
    "log_reg_clf = LogisticRegression(random_state=1)\n",
    "log_reg_clf_fit = MultiOutputClassifier(log_reg_clf).fit(X_train, y_train)\n",
    "print(\"fait en %0.3fs.\" % (time() - t0))"
   ]
  },
  {
   "cell_type": "code",
   "execution_count": 37,
   "metadata": {},
   "outputs": [
    {
     "name": "stdout",
     "output_type": "stream",
     "text": [
      "0.2327790973871734 0.32252573238321447\n"
     ]
    }
   ],
   "source": [
    "y_pred_logr = log_reg_clf_fit.predict(X_test)\n",
    "accuracy_score_logr = accuracy_score(y_test, y_pred_logr)\n",
    "jaccard_score_logr = jaccard_score(y_test, y_pred_logr, average='samples')\n",
    "print(accuracy_score_logr, jaccard_score_logr)"
   ]
  },
  {
   "cell_type": "markdown",
   "metadata": {},
   "source": [
    "#### MultinomialNB"
   ]
  },
  {
   "cell_type": "code",
   "execution_count": 38,
   "metadata": {},
   "outputs": [
    {
     "name": "stdout",
     "output_type": "stream",
     "text": [
      "Training a Naive Bayes classifier for multinomial Model...\n",
      "fait en 1.223s.\n"
     ]
    }
   ],
   "source": [
    "print(\"Training a Naive Bayes classifier for multinomial Model...\")\n",
    "t0 = time()\n",
    "mnb_clf = MultinomialNB()\n",
    "mnb_clf_fit = MultiOutputClassifier(mnb_clf).fit(X_train, y_train)\n",
    "print(\"fait en %0.3fs.\" % (time() - t0))"
   ]
  },
  {
   "cell_type": "code",
   "execution_count": 39,
   "metadata": {},
   "outputs": [
    {
     "name": "stdout",
     "output_type": "stream",
     "text": [
      "0.14726840855106887 0.29559555334027143\n"
     ]
    }
   ],
   "source": [
    "y_pred_mnb = mnb_clf_fit.predict(X_test)\n",
    "accuracy_score_mnb = accuracy_score(y_test, y_pred_mnb)\n",
    "jaccard_score_mnb = jaccard_score(y_test, y_pred_mnb, average='samples')\n",
    "print(accuracy_score_mnb, jaccard_score_mnb)"
   ]
  },
  {
   "cell_type": "markdown",
   "metadata": {},
   "source": [
    "#### Perceptron"
   ]
  },
  {
   "cell_type": "code",
   "execution_count": 40,
   "metadata": {},
   "outputs": [
    {
     "name": "stdout",
     "output_type": "stream",
     "text": [
      "Training a Perceptron Model...\n",
      "fait en 4.953s.\n"
     ]
    }
   ],
   "source": [
    "print(\"Training a Perceptron Model...\")\n",
    "t0 = time()\n",
    "prpt_clf = Perceptron(tol=1e-3, random_state=1)\n",
    "prpt_clf_fit = MultiOutputClassifier(prpt_clf).fit(X_train, y_train)\n",
    "print(\"fait en %0.3fs.\" % (time() - t0))"
   ]
  },
  {
   "cell_type": "code",
   "execution_count": 41,
   "metadata": {},
   "outputs": [
    {
     "name": "stdout",
     "output_type": "stream",
     "text": [
      "0.21852731591448932 0.37885985748218526\n"
     ]
    }
   ],
   "source": [
    "y_pred_prpt = prpt_clf_fit.predict(X_test)\n",
    "accuracy_score_prpt = accuracy_score(y_test, y_pred_prpt)\n",
    "jaccard_score_prpt = jaccard_score(y_test, y_pred_prpt, average='samples')\n",
    "print(accuracy_score_prpt, jaccard_score_prpt)"
   ]
  },
  {
   "cell_type": "markdown",
   "metadata": {},
   "source": [
    "#### LinearSVC"
   ]
  },
  {
   "cell_type": "code",
   "execution_count": 42,
   "metadata": {},
   "outputs": [
    {
     "name": "stdout",
     "output_type": "stream",
     "text": [
      "Training a Linear svc classifier for multinomial Model...\n",
      "fait en 136.840s.\n"
     ]
    }
   ],
   "source": [
    "print(\"Training a Linear svc classifier for multinomial Model...\")\n",
    "t0 = time()\n",
    "lsvc_clf = make_pipeline(StandardScaler(), LinearSVC(random_state=0,\n",
    "                                                     tol=1e-5))\n",
    "lsvc_clf_fit = MultiOutputClassifier(lsvc_clf).fit(X_train, y_train)\n",
    "print(\"fait en %0.3fs.\" % (time() - t0))"
   ]
  },
  {
   "cell_type": "code",
   "execution_count": 43,
   "metadata": {},
   "outputs": [
    {
     "name": "stdout",
     "output_type": "stream",
     "text": [
      "0.08076009501187649 0.2980262347839545\n"
     ]
    }
   ],
   "source": [
    "y_pred_lsvc = lsvc_clf_fit.predict(X_test)\n",
    "accuracy_score_lsvc = accuracy_score(y_test, y_pred_lsvc)\n",
    "jaccard_score_lsvc = jaccard_score(y_test, y_pred_lsvc, average='samples')\n",
    "print(accuracy_score_lsvc, jaccard_score_lsvc)"
   ]
  },
  {
   "cell_type": "markdown",
   "metadata": {},
   "source": [
    "#### PassiveAggressiveClassifier"
   ]
  },
  {
   "cell_type": "code",
   "execution_count": 44,
   "metadata": {},
   "outputs": [
    {
     "name": "stdout",
     "output_type": "stream",
     "text": [
      "Training a PassiveAggressiveClassifier Model...\n",
      "fait en 7.389s.\n"
     ]
    }
   ],
   "source": [
    "print(\"Training a PassiveAggressiveClassifier Model...\")\n",
    "t0 = time()\n",
    "pac_clf = PassiveAggressiveClassifier(max_iter=1000, random_state=1,\n",
    "                                      tol=1e-3)\n",
    "pac_clf_fit = MultiOutputClassifier(pac_clf).fit(X_train, y_train)\n",
    "print(\"fait en %0.3fs.\" % (time() - t0))"
   ]
  },
  {
   "cell_type": "code",
   "execution_count": 45,
   "metadata": {},
   "outputs": [
    {
     "name": "stdout",
     "output_type": "stream",
     "text": [
      "0.21852731591448932 0.38404592240696755\n"
     ]
    }
   ],
   "source": [
    "y_pred_pac = pac_clf_fit.predict(X_test)\n",
    "accuracy_score_pac = accuracy_score(y_test, y_pred_pac)\n",
    "jaccard_score_pac = jaccard_score(y_test, y_pred_pac, average='samples')\n",
    "print(accuracy_score_pac, jaccard_score_pac)"
   ]
  },
  {
   "cell_type": "markdown",
   "metadata": {},
   "source": [
    "#### Representation graphique :"
   ]
  },
  {
   "cell_type": "code",
   "execution_count": 46,
   "metadata": {},
   "outputs": [
    {
     "data": {
      "image/png": "[encoded data removed]",
      "text/plain": [
       "<Figure size 432x288 with 1 Axes>"
      ]
     },
     "metadata": {
      "needs_background": "light"
     },
     "output_type": "display_data"
    },
    {
     "data": {
      "text/plain": [
       "<Figure size 2160x1080 with 0 Axes>"
      ]
     },
     "metadata": {},
     "output_type": "display_data"
    }
   ],
   "source": [
    "score_AccuracyJaccard_df = pd.DataFrame({\n",
    "    'Models': ['LogisticRegression', 'SGDClassifier',\n",
    "               'RandomForest', 'KNN', 'MultinomialNB', 'LinearSVC',\n",
    "               'Perceptron', 'PassiveAggressiveClassifier', 'LDA', 'NMF'],\n",
    "    'Accuracy_score': [accuracy_score_logr,\n",
    "                       accuracy_score_sgd,\n",
    "                       accuracy_score_rand,\n",
    "                       accuracy_score_knn,\n",
    "                       accuracy_score_mnb,\n",
    "                       accuracy_score_lsvc,\n",
    "                       accuracy_score_prpt,\n",
    "                       accuracy_score_pac,\n",
    "                       0,\n",
    "                       0],\n",
    "    'Jaccard_score': [jaccard_score_logr,\n",
    "                      jaccard_score_sgd,\n",
    "                      jaccard_score_rand,\n",
    "                      jaccard_score_knn,\n",
    "                      jaccard_score_mnb,\n",
    "                      jaccard_score_lsvc,\n",
    "                      jaccard_score_prpt,\n",
    "                      jaccard_score_pac,\n",
    "                      jacard_score_LDA,\n",
    "                      jacard_score_NMF]})\n",
    "ax = plt.gca()\n",
    "score_AccuracyJaccard_df.plot(kind='bar', x='Models',\n",
    "                              y=['Accuracy_score', 'Jaccard_score'], ax=ax)\n",
    "plt.figure(figsize=(30, 15))\n",
    "plt.show()"
   ]
  },
  {
   "cell_type": "markdown",
   "metadata": {},
   "source": [
    "###  Test sur formulaire :"
   ]
  },
  {
   "cell_type": "markdown",
   "metadata": {},
   "source": [
    "On constate que le modèle de LogisticRegression a le meilleur score, donc nous allons tester notre prédiction à partir de ce modèle"
   ]
  },
  {
   "cell_type": "code",
   "execution_count": 47,
   "metadata": {},
   "outputs": [],
   "source": [
    "# Sauvegarder le modèle sur le disque :\n",
    "pickle.dump(sgd_linear_clf_fit, open('models/model.pkl', 'wb'))"
   ]
  },
  {
   "cell_type": "markdown",
   "metadata": {},
   "source": [
    "#### Prediction avec LogisticRegression :"
   ]
  },
  {
   "cell_type": "code",
   "execution_count": 48,
   "metadata": {},
   "outputs": [
    {
     "name": "stderr",
     "output_type": "stream",
     "text": [
      "4:80: E501 line too long (94 > 79 characters)\n"
     ]
    }
   ],
   "source": [
    "# Loading model to compare the results\n",
    "model = pickle.load(open('models/model.pkl', 'rb'))\n",
    "# model = log_reg_clf_fit\n",
    "# textInput = data_preprocess[(data_preprocess['Id'] == 9)]['BodyTitle']\n",
    "most_freq_words = top1000words_exp\n",
    "most_freq_tags = top100tags_exp"
   ]
  },
  {
   "cell_type": "code",
   "execution_count": 53,
   "metadata": {},
   "outputs": [
    {
     "name": "stdout",
     "output_type": "stream",
     "text": [
      "je suis un developpeur de javascript et python et j'ai besoin d'aide pour un calcul de date\n"
     ]
    },
    {
     "name": "stderr",
     "output_type": "stream",
     "text": [
      "1:80: E501 line too long (105 > 79 characters)\n"
     ]
    }
   ],
   "source": [
    "textInput = \"je suis un developpeur de javascript et python et j'ai besoin d'aide pour un calcul de date\"\n",
    "print(textInput)"
   ]
  },
  {
   "cell_type": "code",
   "execution_count": 54,
   "metadata": {},
   "outputs": [
    {
     "name": "stdout",
     "output_type": "stream",
     "text": [
      "les tags proposées sont :  ['python', 'javascript', 'datetime']\n"
     ]
    }
   ],
   "source": [
    "tagslist = predictTag(model, textInput, top1000words_exp, top100tags_exp)\n",
    "print('les tags proposées sont : ', tagslist)"
   ]
  },
  {
   "cell_type": "code",
   "execution_count": null,
   "metadata": {},
   "outputs": [],
   "source": []
  }
 ],
 "metadata": {
  "kernelspec": {
   "display_name": "Python 3",
   "language": "python",
   "name": "python3"
  },
  "language_info": {
   "codemirror_mode": {
    "name": "ipython",
    "version": 3
   },
   "file_extension": ".py",
   "mimetype": "text/x-python",
   "name": "python",
   "nbconvert_exporter": "python",
   "pygments_lexer": "ipython3",
   "version": "3.7.6"
  }
 },
 "nbformat": 4,
 "nbformat_minor": 2
}
