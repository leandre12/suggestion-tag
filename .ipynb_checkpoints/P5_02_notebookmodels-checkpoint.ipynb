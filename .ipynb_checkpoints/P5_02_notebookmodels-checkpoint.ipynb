{
 "cells": [
  {
   "cell_type": "code",
   "execution_count": 1,
   "metadata": {},
   "outputs": [],
   "source": [
    "%load_ext pycodestyle_magic"
   ]
  },
  {
   "cell_type": "code",
   "execution_count": 2,
   "metadata": {},
   "outputs": [],
   "source": [
    "%flake8_on"
   ]
  },
  {
   "cell_type": "markdown",
   "metadata": {},
   "source": [
    "# PROJET 5 : Catégorisation automatiquement des questions"
   ]
  },
  {
   "cell_type": "markdown",
   "metadata": {},
   "source": [
    "## SOMMAIRE  <a class=\"anchor\" id=\"sommaire\"></a>\n",
    "## [CONTEXTE DU PROJET](#1)<a class=\"anchor\" id=\"sommaire\"></a>\n",
    "## [IMPORT DES LIBRAIRIES](#3)<a class=\"anchor\" id=\"sommaire\"></a>\n",
    "\n",
    "## [MISSION 3: PREPROCESSING](#11)<a class=\"anchor\" id=\"sommaire\"></a>\n",
    "### [M3-1 : Préparation des input et output : ](#12)<a class=\"anchor\" id=\"sommaire\"></a>\n",
    "### [M3-2 : Séparation de jeu de données de test et d'entrainement : ](#13)<a class=\"anchor\" id=\"sommaire\"></a>\n",
    "\n",
    "## [MISSION 4: APPROCHE NON-SUPERVISEE](#15)<a class=\"anchor\" id=\"sommaire\"></a>\n",
    "### [M4-1 : Modélisation avec algorithme LDA : ](#16)<a class=\"anchor\" id=\"sommaire\"></a>\n",
    "### [M5-1 : Modélisation avec algorithme NMF : ](#17)<a class=\"anchor\" id=\"sommaire\"></a>\n",
    "\n",
    "## [MISSION 5: APPROCHE SUPERVISEE](#20)<a class=\"anchor\" id=\"sommaire\"></a>\n"
   ]
  },
  {
   "cell_type": "markdown",
   "metadata": {},
   "source": [
    "--------------------------------------------------------"
   ]
  },
  {
   "cell_type": "markdown",
   "metadata": {},
   "source": [
    "## [CONTEXTE DU PROJET](#sommaire)<a class=\"anchor\" id=\"1\"></a>"
   ]
  },
  {
   "cell_type": "markdown",
   "metadata": {},
   "source": [
    "Stack Overflow est un site de questions-réponses liées au développement informatique.\n",
    "Les tags nous permettent de retrouver facilement la réponse à une question posée, pourtant ce n'est pas évident de trouver des tags associés à notre question.\n",
    "Donc il était intéressant de développer un application qui suggererait automatiquement plusieurs tags pertinents à partir d'une question posée. "
   ]
  },
  {
   "cell_type": "markdown",
   "metadata": {},
   "source": [
    "## [IMPORT DES LIBRAIRIES](#sommaire)<a class=\"anchor\" id=\"3\"></a>"
   ]
  },
  {
   "cell_type": "code",
   "execution_count": 3,
   "metadata": {},
   "outputs": [
    {
     "name": "stderr",
     "output_type": "stream",
     "text": [
      "C:\\ProgramData\\Anaconda3\\lib\\site-packages\\scipy\\sparse\\sparsetools.py:21: DeprecationWarning: `scipy.sparse.sparsetools` is deprecated!\n",
      "scipy.sparse.sparsetools is a private module for scipy.sparse, and should not be used.\n",
      "  _deprecated()\n"
     ]
    }
   ],
   "source": [
    "import numpy as np\n",
    "import pandas as pd\n",
    "import matplotlib.pyplot as plt\n",
    "import seaborn as sns\n",
    "from bs4 import BeautifulSoup\n",
    "import nltk\n",
    "import os\n",
    "import re\n",
    "import warnings\n",
    "import pyLDAvis.gensim\n",
    "from time import time\n",
    "from utils.functions import custom_tokenize, print_top_words\n",
    "from utils.functions import predictTag, vectorizeInputTest\n",
    "from utils.functions import remove_stopword, cleanText, pattern_searcher\n",
    "from utils.functions import compute_coherence_values, print_topics\n",
    "from nltk.stem import WordNetLemmatizer\n",
    "from PIL import Image\n",
    "from wordcloud import WordCloud, STOPWORDS, ImageColorGenerator\n",
    "from sklearn.model_selection import train_test_split\n",
    "from sklearn.preprocessing import MultiLabelBinarizer\n",
    "from sklearn.feature_extraction.text import TfidfVectorizer, CountVectorizer\n",
    "from sklearn.decomposition import LatentDirichletAllocation as LDA\n",
    "from gensim.models.ldamulticore import LdaMulticore\n",
    "from gensim.corpora import Dictionary\n",
    "from sklearn.decomposition import NMF\n",
    "from sklearn.multioutput import MultiOutputClassifier\n",
    "from sklearn.linear_model import SGDClassifier, LogisticRegression\n",
    "from sklearn.linear_model import Perceptron, PassiveAggressiveClassifier\n",
    "from sklearn.neighbors import KNeighborsClassifier\n",
    "from sklearn.ensemble import RandomForestClassifier\n",
    "from sklearn.naive_bayes import MultinomialNB\n",
    "from sklearn.svm import LinearSVC\n",
    "from sklearn.pipeline import make_pipeline\n",
    "from sklearn.preprocessing import StandardScaler\n",
    "from sklearn.metrics import accuracy_score, jaccard_score\n",
    "from gensim.models.coherencemodel import CoherenceModel\n",
    "from sklearn.metrics.pairwise import cosine_similarity\n",
    "from sklearn.dummy import DummyClassifier"
   ]
  },
  {
   "cell_type": "code",
   "execution_count": 4,
   "metadata": {},
   "outputs": [],
   "source": [
    "# Configuration affichage\n",
    "pd.set_option('display.max_rows', 500)\n",
    "pd.set_option('display.max_columns', 500)"
   ]
  },
  {
   "cell_type": "markdown",
   "metadata": {},
   "source": [
    "## [MISSION 3: PREPROCESSING](#sommaire)<a class=\"anchor\" id=\"11\"></a>"
   ]
  },
  {
   "cell_type": "markdown",
   "metadata": {},
   "source": [
    "#### Récuperation des données texte :"
   ]
  },
  {
   "cell_type": "markdown",
   "metadata": {},
   "source": [
    "Exportons les données stockées dans des fichiers texte :\n",
    "\n",
    "- data/tags_words_tokens.csv : contient les données de base\n",
    "- data/Backup/top1000_words.csv : contient les données de top 1000 des mots \n",
    "- data/Backup/top100_tags.csv : contient les données de top 100 des tags\n",
    "- data/Backup/X_data.csv\n",
    "- data/Backup/y_data.csv"
   ]
  },
  {
   "cell_type": "code",
   "execution_count": 5,
   "metadata": {},
   "outputs": [],
   "source": [
    "data_preprocess = pd.read_csv('data/Backup/tags_words_tokens.csv',\n",
    "                              sep='\\t', engine='python')\n",
    "data_preprocess.drop(['Unnamed: 0'], axis=1, inplace=True)\n",
    "\n",
    "top1000words_exp = pd.read_csv('data/Backup/top1000_words.csv',\n",
    "                               header=None, index_col=0,\n",
    "                               squeeze=True).to_dict()\n",
    "top100tags_exp = pd.read_csv('data/Backup/top100_tags.csv',\n",
    "                             header=None, index_col=0,\n",
    "                             squeeze=True).to_dict()"
   ]
  },
  {
   "cell_type": "markdown",
   "metadata": {},
   "source": [
    "### [M3-1 : Préparation des input et output : ](#sommaire)<a class=\"anchor\" id=\"12\"></a>"
   ]
  },
  {
   "cell_type": "markdown",
   "metadata": {},
   "source": [
    "#### vectorisation de corpus par Bag Of Words:"
   ]
  },
  {
   "cell_type": "code",
   "execution_count": 6,
   "metadata": {},
   "outputs": [],
   "source": [
    "# Corpus (=X) en entrée on aura un ensmble de mots -> Body + Title\n",
    "X_data = pd.read_csv('data/Backup/X_data.csv', sep='\\t', engine='python')\n",
    "X_data.drop(['Unnamed: 0'], axis=1, inplace=True)"
   ]
  },
  {
   "cell_type": "code",
   "execution_count": 7,
   "metadata": {},
   "outputs": [],
   "source": [
    "# X_data"
   ]
  },
  {
   "cell_type": "raw",
   "metadata": {},
   "source": [
    "Le resultat est un vecteur de (8292, 1000) car nous avons 8292 lignes et 1000 (top 1000 des mots dans corpus) nouvelles colonnes."
   ]
  },
  {
   "cell_type": "markdown",
   "metadata": {},
   "source": [
    "#### vectorisation des tags par MultiLabelBinarizer :"
   ]
  },
  {
   "cell_type": "code",
   "execution_count": 8,
   "metadata": {},
   "outputs": [],
   "source": [
    "# 4.1 Tags (=y)\n",
    "y_data = pd.read_csv('data/Backup/y_data.csv', sep='\\t', engine='python')\n",
    "y_data.drop(['Unnamed: 0'], axis=1, inplace=True)"
   ]
  },
  {
   "cell_type": "code",
   "execution_count": 9,
   "metadata": {},
   "outputs": [],
   "source": [
    "# y_data"
   ]
  },
  {
   "cell_type": "markdown",
   "metadata": {},
   "source": [
    "Le resultat est une matrice de (8292, 100) car nous avons 8292 lignes et 100 (tags) nouvelles colonnes."
   ]
  },
  {
   "cell_type": "markdown",
   "metadata": {},
   "source": [
    "### [M3-2 : Séparation de jeu de données de test et d'entrainement : ](#sommaire)<a class=\"anchor\" id=\"13\"></a>"
   ]
  },
  {
   "cell_type": "markdown",
   "metadata": {},
   "source": [
    "Nous allons utiliser 80% des données pour l'entrainement et 20% pour le test"
   ]
  },
  {
   "cell_type": "code",
   "execution_count": 10,
   "metadata": {},
   "outputs": [],
   "source": [
    "# Split train and test :\n",
    "X_train, X_test, y_train, y_test = train_test_split(X_data, y_data, test_size=0.2, random_state=1)"
   ]
  },
  {
   "cell_type": "markdown",
   "metadata": {},
   "source": [
    "## [MISSION 4: APPROCHE NON-SUPERVISEE](#sommaire)<a class=\"anchor\" id=\"15\"></a>"
   ]
  },
  {
   "cell_type": "raw",
   "metadata": {},
   "source": [
    "Dans cette partie, nous allons à partir des questions à notre disposition, extraire les sujets(topics) qui les composent.\n",
    "Nous supposons donc que :\n",
    "- Une question peut etre composé de un ou plusieurs topics\n",
    "- Un topic est composé par plusieurs mots"
   ]
  },
  {
   "cell_type": "code",
   "execution_count": 11,
   "metadata": {},
   "outputs": [],
   "source": [
    "n_samples = 0.8\n",
    "n_features = 1000\n",
    "n_components = 6\n",
    "n_top_words = 10\n",
    "data_preprocess_copy = cleanText(data_preprocess)\n",
    "data_preprocess_copy.drop(['tokens', 'tokensStopWord'], axis=1, inplace=True)\n",
    "corpus = data_preprocess_copy['words_tokens']\n",
    "tags = data_preprocess_copy['tags_tokens']\n",
    "datasetX = corpus.tolist()\n",
    "datasety = tags.tolist()\n",
    "\n",
    "X_trainBis = datasetX[:int(len(datasetX)*n_samples)]\n",
    "y_trainBis = datasety[:int(len(datasety)*n_samples)]\n",
    "X_testBis = datasetX[int(len(datasetX)*n_samples):]\n",
    "y_testBis = datasety[int(len(datasety)*n_samples):]\n",
    "\n",
    "\n",
    "def dummy(doc):\n",
    "    return doc"
   ]
  },
  {
   "cell_type": "markdown",
   "metadata": {},
   "source": [
    "### [M4-1 : Modélisation avec algorithme LDA : ](#sommaire)<a class=\"anchor\" id=\"16\"></a>"
   ]
  },
  {
   "cell_type": "markdown",
   "metadata": {},
   "source": [
    "LDA (Latent Dirichlet Allocation) est un modèle probabiliste génératif avec les hypothèses suivantes : \n",
    "\n",
    "•\tChaque question du corpus est un ensemble de mots sans ordre (bag-of-words) ;\n",
    "\n",
    "•\tChaque question m aborde un certain nombre de topic dans différentes proportions qui lui sont propres p(θm) ;\n",
    "\n",
    "•\tChaque mot possède une distribution associée à chaque topic p(ϕk) . On peut ainsi représenter chaque topic par une \n",
    "probabilité sur chaque mot.\n",
    "\n",
    "•\t zn représente le topic du mot wn\n"
   ]
  },
  {
   "cell_type": "code",
   "execution_count": 14,
   "metadata": {},
   "outputs": [
    {
     "name": "stdout",
     "output_type": "stream",
     "text": [
      "Vectorisation et entrainement du modèle pour LDA...\n"
     ]
    },
    {
     "data": {
      "text/plain": [
       "LatentDirichletAllocation(batch_size=128, doc_topic_prior=None,\n",
       "                          evaluate_every=-1, learning_decay=0.7,\n",
       "                          learning_method='batch', learning_offset=10.0,\n",
       "                          max_doc_update_iter=100, max_iter=10,\n",
       "                          mean_change_tol=0.001, n_components=6, n_jobs=-1,\n",
       "                          perp_tol=0.1, random_state=None,\n",
       "                          topic_word_prior=None, total_samples=1000000.0,\n",
       "                          verbose=0)"
      ]
     },
     "execution_count": 14,
     "metadata": {},
     "output_type": "execute_result"
    }
   ],
   "source": [
    "print(\"Vectorisation et entrainement du modèle pour LDA...\")\n",
    "\n",
    "tfidf_vectorizer_lda = CountVectorizer(max_df=0.95, min_df=2,\n",
    "                                       max_features=n_features,\n",
    "                                       tokenizer=dummy, preprocessor=dummy,\n",
    "                                       analyzer='word')\n",
    "tfidf_lda = tfidf_vectorizer_lda.fit_transform(X_trainBis)\n",
    "\n",
    "# entrainer le modèle :\n",
    "lda = LDA(n_components=n_components, n_jobs=-1)\n",
    "lda.fit(tfidf_lda)"
   ]
  },
  {
   "cell_type": "markdown",
   "metadata": {},
   "source": [
    "#### La recherche de nombre de topics optimal :"
   ]
  },
  {
   "cell_type": "code",
   "execution_count": 16,
   "metadata": {},
   "outputs": [
    {
     "data": {
      "image/png": "[encoded data removed]",
      "text/plain": [
       "<Figure size 432x288 with 1 Axes>"
      ]
     },
     "metadata": {
      "needs_background": "light"
     },
     "output_type": "display_data"
    },
    {
     "data": {
      "text/plain": [
       "<Figure size 1440x720 with 0 Axes>"
      ]
     },
     "metadata": {},
     "output_type": "display_data"
    }
   ],
   "source": [
    "# Calcul de coherence_score avec (4,6,8,10,12 topics) :\n",
    "outputCoherence = pd.DataFrame(columns=['nbrTopic', 'coherence'])\n",
    "\n",
    "dictionary = Dictionary(datasetX)\n",
    "id2word = Dictionary(corpus)\n",
    "corpus_copy = corpus.copy()\n",
    "corpus_copy = [dictionary.doc2bow(doc) for doc in corpus_copy]\n",
    "\n",
    "for i in range(4, 12, 2):\n",
    "    number_topics = i\n",
    "    ldai = LdaMulticore(corpus_copy, id2word=id2word, num_topics=number_topics)\n",
    "    coherence_model_ldai = CoherenceModel(model=ldai, texts=corpus,\n",
    "                                          dictionary=dictionary,\n",
    "                                          coherence='c_v')\n",
    "    coherence_ldai = coherence_model_ldai.get_coherence()\n",
    "    dictionarylda = {\"nbrTopic\": number_topics,\n",
    "                     \"coherence\": coherence_ldai}\n",
    "    outputCoherence = outputCoherence.append(dictionarylda, ignore_index=True)\n",
    "# outputCoherence.head(10)\n",
    "# Representation graphique de coherence\n",
    "ax = plt.gca()\n",
    "outputCoherence.plot(kind='line', x='nbrTopic',\n",
    "                     y='coherence', color='red', ax=ax)\n",
    "plt.figure(figsize=(20, 10))\n",
    "plt.show()"
   ]
  },
  {
   "cell_type": "markdown",
   "metadata": {},
   "source": [
    "Donc on voit que le nombre de topics optimal serait 6 , donc on gardera 6 topics.   "
   ]
  },
  {
   "cell_type": "code",
   "execution_count": 15,
   "metadata": {},
   "outputs": [
    {
     "data": {
      "text/html": [
       "\n",
       "<link rel=\"stylesheet\" type=\"text/css\" href=\"https://cdn.rawgit.com/bmabey/pyLDAvis/files/ldavis.v1.0.0.css\">\n",
       "\n",
       "\n",
       "<div id=\"ldavis_el898019293948269523248566522\"></div>\n",
       "<script type=\"text/javascript\">\n",
       "\n",
       "var ldavis_el898019293948269523248566522_data = {\"mdsDat\": {\"x\": [0.037944981422760024, 0.15519583104647003, -0.057167550004592935, 0.11221367405120167, -0.1852272480853139, -0.06295968843052495], \"y\": [-0.02082565186540896, -0.023396016347439118, -0.03468864329911511, -0.03231018380189401, -0.10686547294796932, 0.2180859682618264], \"topics\": [1, 2, 3, 4, 5, 6], \"cluster\": [1, 1, 1, 1, 1, 1], \"Freq\": [23.17393274014429, 18.643832485846612, 17.401257075837947, 15.431349261461824, 13.357652398270057, 11.99197603843928]}, \"tinfo\": {\"Term\": [\"file\", \"git\", \"class\", \"function\", \"string\", \"table\", \"android\", \"public\", \"int\", \"javascript\", \"height\", \"width\", \"layout_height=\", \"layout_width=\", \"wrap_content\", \"border\", \"+id\", \"img\", \"fill_parent\", \"icon\", \"color\", \"android\", \"div\", \"image\", \"font\", \"layout\", \"algorithm\", \"background\", \"programming\", \"language\", \"difference\", \"memory\", \"use\", \"question\", \"application\", \"would\", \"one\", \"used\", \"like\", \"using\", \"public\", \"void\", \"std\", \"fragment\", \"constructor\", \"const\", \"enum\", \"boolean\", \"struct\", \"extends\", \"int\", \"static\", \"class\", \"private\", \"exception\", \"activity\", \"method\", \"return\", \"object\", \"new\", \"string\", \"code\", \"type\", \"vim\", \"plot\", \"regex\", \"filename\", \"editor\", \"grep\", \"regular\", \"folder\", \"file\", \"chrome\", \"open\", \"directory\", \"line\", \"tool\", \"tab\", \"source\", \"python\", \"way\", \"code\", \"like\", \"want\", \"would\", \"using\", \"json\", \"value=\", \"ajax\", \"alert\", \"console.log\", \"america\", \"err\", \"type=\", \"jquery\", \"submit\", \"php\", \"javascript\", \"var\", \"request\", \"input\", \"function\", \"date\", \"url\", \"array\", \"string\", \"value\", \"data\", \"get\", \"using\", \"like\", \"install\", \"lib\", \"usr\", \"gem\", \"maven\", \"certificate\", \"installed\", \"bin\", \"pip\", \"ubuntu\", \"port\", \"jar\", \"connection\", \"ruby\", \"home\", \"build\", \"package\", \"error\", \"module\", \"running\", \"version\", \"command\", \"run\", \"window\", \"server\", \"library\", \"python\", \"user\", \"get\", \"file\", \"branch\", \"master\", \"commit\", \"sql\", \"merge\", \"git\", \"commits\", \"formula\", \"repo\", \"schema\", \"table\", \"join\", \"push\", \"database\", \"column\", \"key\", \"repository\", \"row\", \"change\"], \"Freq\": [7538.0, 3660.0, 3709.0, 4309.0, 4628.0, 2099.0, 3235.0, 2510.0, 2274.0, 2194.0, 547.2501595678825, 602.0453838661009, 264.2058893005802, 263.2071969631275, 256.21124887614815, 216.2038053133797, 216.20062086584952, 213.20199939100192, 190.19982016571234, 187.18096819038493, 610.9293609801974, 3139.8956274396896, 1621.0348981329519, 1746.6259606720544, 353.88084828167365, 376.9993780184042, 435.36876691356514, 610.726281007208, 496.16134317619424, 695.4581460966726, 1540.4281948658465, 612.797774549346, 2313.193963064834, 1181.7660184623207, 1113.5569962162415, 1501.855776430746, 1386.0508202942967, 941.3499903716819, 1447.062105270813, 1408.577480370967, 2509.0055501095185, 1224.8742471089631, 740.3851776846883, 524.6114704837995, 386.75585439227166, 383.7611727878226, 248.90311580951422, 227.9103518597099, 215.93752718259142, 215.93664464210457, 2261.8700411947, 1157.2900799358645, 3529.762657335845, 896.0755706322789, 846.9451908862678, 670.5134542198546, 2249.398447287284, 1867.6422698934973, 1804.5035028084878, 2053.7719456061045, 1922.1002397706648, 1430.742807272459, 1252.6031810882075, 379.503429107862, 208.24579364416525, 171.3403794403355, 242.2588941403527, 192.77343297569757, 212.59174065876275, 255.43424979635466, 607.795268405699, 6296.539271499867, 296.43933578394854, 661.001350423391, 1041.9699649256197, 1847.4349891004686, 472.04493182631904, 315.90837556865563, 575.1361613634541, 1190.954484219475, 1737.4690852906087, 1609.4514984354892, 1756.9054396853282, 1376.7599403207503, 1262.2782624678773, 1241.1673286166476, 845.2428082784655, 401.82095313091406, 344.8659593347362, 341.8667729451848, 210.98399929743314, 196.9983828855363, 184.00448170148604, 445.7521633542488, 1239.4154004057293, 208.97469998468162, 1094.701258977244, 2003.6483955758688, 1703.480394319833, 984.185706999469, 979.4543034635279, 3128.412980121123, 898.6613559579038, 970.0846205195816, 1406.0733212124148, 2669.2337686033366, 1534.1370973708292, 1404.6688391342457, 1538.8578932381547, 1347.0605643269143, 1324.089586609677, 716.8658167390922, 565.1408837972517, 514.2337785949052, 456.3386801064269, 393.4502077828485, 294.6309396660969, 424.8857182189255, 422.34384514042495, 185.82956444145557, 175.84617633477814, 313.34299627256297, 246.71298075124653, 546.1367473463348, 702.6784699446298, 446.89282804505194, 755.5868841753643, 665.9122821354335, 2013.3529457982866, 666.7320388588217, 779.2157982992462, 1115.1341796834533, 1301.9076938173232, 1176.9134017995393, 989.444059771641, 1165.6611528065864, 883.8249836591121, 1025.354114700171, 943.202932084063, 931.0894957090499, 964.1945527638605, 1567.8378187036808, 800.9538433997745, 1012.8535096951637, 1105.4648473431753, 509.68036715740845, 3654.176894034301, 377.12505247419233, 217.5620372468407, 303.939144549213, 200.60954995694033, 2058.0855501824744, 411.96655990726737, 549.3407439161184, 1429.7793858697398, 1068.8795363698543, 1460.7939775378966, 934.839350170048, 831.4215260797872, 920.5966758087436], \"Total\": [7538.0, 3660.0, 3709.0, 4309.0, 4628.0, 2099.0, 3235.0, 2510.0, 2274.0, 2194.0, 548.0947847382411, 603.1042739900263, 265.04482596507523, 264.0446512379511, 257.0434219319818, 217.03635807962982, 217.03635526128573, 214.03582575675023, 191.03176952266352, 188.03120113682527, 619.0951018840741, 3235.45256685129, 1659.252444517037, 1814.1716115789336, 357.05042684302146, 384.04723936978337, 456.0304803509389, 660.0133566725575, 530.9941690188297, 838.8596927994103, 2368.1076381067332, 726.9551312946595, 6230.619833779749, 2313.5178956008986, 2292.7074747970078, 4842.563880441869, 4386.346539249836, 1852.0631505123667, 6488.774584779595, 6324.563408640317, 2510.352453416023, 1225.7073553185046, 741.218016850122, 525.4454462331963, 387.59074668134195, 384.5939060355553, 249.73604879233704, 228.75815982219163, 216.77079498835448, 216.7707948344148, 2274.5815507675297, 1170.7618767352849, 3709.2504325403397, 942.964056638237, 892.0257697884147, 721.3004759504461, 2939.1000073361165, 2843.004774246294, 3119.8779321021348, 4070.760046347418, 4628.603356656591, 4901.008374121383, 2249.1299094109454, 380.33656855511595, 209.08674182716078, 172.24834537909604, 246.93447717128691, 199.1448987890301, 240.01937574514426, 297.86182313251095, 717.1398722605594, 7538.230284499563, 366.6614555120558, 830.8373532677709, 1353.8535963729157, 2749.6046558699063, 628.7550228635389, 393.5497399043264, 923.0269269291385, 2632.567210090569, 5442.488549785118, 4901.008374121383, 6488.774584779595, 4823.954026383603, 4842.563880441869, 6324.563408640317, 846.27690339151, 402.6554907093998, 345.7040852872656, 342.70664288042497, 211.81832985796322, 197.8302680537437, 184.8413466053482, 452.61906383548074, 1297.9242611559491, 219.7929045008729, 1155.0046814955824, 2194.8706699310624, 1919.2311686849766, 1110.9903373485295, 1117.8533421810137, 4309.107226170423, 1041.8430893482753, 1180.7963061167263, 1931.2526039740892, 4628.603356656591, 3292.1089922147607, 3153.9134091849483, 5128.829717200809, 6324.563408640317, 6488.774584779595, 717.6991570646176, 565.974169494889, 515.0664425429599, 457.17138163867753, 394.28536147955094, 295.4644855381449, 426.226169478713, 424.228394854545, 186.66169732903865, 176.67978984617815, 315.4295000343005, 248.55145112958627, 567.9822440690936, 739.5805581978057, 462.1735243676269, 856.2465021955122, 747.5530482936914, 3047.909442022388, 767.4110026498945, 957.1269226510361, 1614.6442753687754, 2027.8909968195696, 1758.3464138785594, 1535.9905040332399, 2139.965415997136, 1482.7731529692235, 2632.567210090569, 2800.5975380670347, 5128.829717200809, 7538.230284499563, 1568.6707380929313, 801.78768532678, 1014.2004937052778, 1106.946517506898, 510.5913921566008, 3660.885762414916, 377.9576455072372, 218.39810584372847, 305.15798403920496, 201.44490543441069, 2099.322376721707, 413.8605617072732, 554.477693752202, 1469.996110425036, 1106.0161633817777, 1607.7342301354615, 1012.2316473824629, 900.6765503369886, 2104.9086176293304], \"Category\": [\"Default\", \"Default\", \"Default\", \"Default\", \"Default\", \"Default\", \"Default\", \"Default\", \"Default\", \"Default\", \"Topic1\", \"Topic1\", \"Topic1\", \"Topic1\", \"Topic1\", \"Topic1\", \"Topic1\", \"Topic1\", \"Topic1\", \"Topic1\", \"Topic1\", \"Topic1\", \"Topic1\", \"Topic1\", \"Topic1\", \"Topic1\", \"Topic1\", \"Topic1\", \"Topic1\", \"Topic1\", \"Topic1\", \"Topic1\", \"Topic1\", \"Topic1\", \"Topic1\", \"Topic1\", \"Topic1\", \"Topic1\", \"Topic1\", \"Topic1\", \"Topic2\", \"Topic2\", \"Topic2\", \"Topic2\", \"Topic2\", \"Topic2\", \"Topic2\", \"Topic2\", \"Topic2\", \"Topic2\", \"Topic2\", \"Topic2\", \"Topic2\", \"Topic2\", \"Topic2\", \"Topic2\", \"Topic2\", \"Topic2\", \"Topic2\", \"Topic2\", \"Topic2\", \"Topic2\", \"Topic2\", \"Topic3\", \"Topic3\", \"Topic3\", \"Topic3\", \"Topic3\", \"Topic3\", \"Topic3\", \"Topic3\", \"Topic3\", \"Topic3\", \"Topic3\", \"Topic3\", \"Topic3\", \"Topic3\", \"Topic3\", \"Topic3\", \"Topic3\", \"Topic3\", \"Topic3\", \"Topic3\", \"Topic3\", \"Topic3\", \"Topic3\", \"Topic4\", \"Topic4\", \"Topic4\", \"Topic4\", \"Topic4\", \"Topic4\", \"Topic4\", \"Topic4\", \"Topic4\", \"Topic4\", \"Topic4\", \"Topic4\", \"Topic4\", \"Topic4\", \"Topic4\", \"Topic4\", \"Topic4\", \"Topic4\", \"Topic4\", \"Topic4\", \"Topic4\", \"Topic4\", \"Topic4\", \"Topic4\", \"Topic4\", \"Topic5\", \"Topic5\", \"Topic5\", \"Topic5\", \"Topic5\", \"Topic5\", \"Topic5\", \"Topic5\", \"Topic5\", \"Topic5\", \"Topic5\", \"Topic5\", \"Topic5\", \"Topic5\", \"Topic5\", \"Topic5\", \"Topic5\", \"Topic5\", \"Topic5\", \"Topic5\", \"Topic5\", \"Topic5\", \"Topic5\", \"Topic5\", \"Topic5\", \"Topic5\", \"Topic5\", \"Topic5\", \"Topic5\", \"Topic5\", \"Topic6\", \"Topic6\", \"Topic6\", \"Topic6\", \"Topic6\", \"Topic6\", \"Topic6\", \"Topic6\", \"Topic6\", \"Topic6\", \"Topic6\", \"Topic6\", \"Topic6\", \"Topic6\", \"Topic6\", \"Topic6\", \"Topic6\", \"Topic6\", \"Topic6\"], \"logprob\": [10.0, 9.0, 8.0, 7.0, 6.0, 5.0, 4.0, 3.0, 2.0, 1.0, -5.5644, -5.469, -6.2926, -6.2964, -6.3233, -6.4931, -6.4931, -6.5071, -6.6212, -6.6372, -5.4543, -3.8173, -4.4785, -4.4039, -6.0003, -5.937, -5.7931, -5.4546, -5.6624, -5.3247, -4.5295, -5.4513, -4.1229, -4.7945, -4.854, -4.5548, -4.6351, -5.022, -4.592, -4.619, -3.8241, -4.5412, -5.0446, -5.3891, -5.694, -5.7018, -6.1347, -6.2228, -6.2768, -6.2768, -3.9278, -4.5979, -3.4828, -4.8538, -4.9101, -5.1437, -3.9334, -4.1193, -4.1537, -4.0243, -4.0906, -4.3858, -4.5188, -5.6439, -6.2441, -6.4392, -6.0928, -6.3213, -6.2234, -6.0398, -5.173, -2.8351, -5.891, -5.0891, -4.6339, -4.0613, -5.4257, -5.8274, -5.2282, -4.5003, -4.1226, -4.1992, -4.1115, -4.3553, -4.4421, -4.459, -4.723, -5.4667, -5.6195, -5.6282, -6.1109, -6.1795, -6.2477, -5.3629, -4.3403, -6.1205, -4.4644, -3.8599, -4.0222, -4.5709, -4.5757, -3.4144, -4.6618, -4.5853, -4.2141, -3.5731, -4.1269, -4.2151, -4.1239, -4.257, -4.2742, -4.7435, -4.9813, -5.0757, -5.1951, -5.3434, -5.6326, -5.2665, -5.2725, -6.0935, -6.1487, -5.5711, -5.8101, -5.0155, -4.7635, -5.216, -4.6909, -4.8172, -3.7108, -4.816, -4.6601, -4.3016, -4.1468, -4.2477, -4.4212, -4.2573, -4.5341, -4.3856, -4.4691, -4.482, -4.4471, -3.8531, -4.5247, -4.29, -4.2025, -4.9767, -3.0069, -5.2779, -5.828, -5.4937, -5.9091, -3.581, -5.1896, -4.9018, -3.9452, -4.2361, -3.9238, -4.3701, -4.4874, -4.3855], \"loglift\": [10.0, 9.0, 8.0, 7.0, 6.0, 5.0, 4.0, 3.0, 2.0, 1.0, 1.4606, 1.4604, 1.459, 1.459, 1.4589, 1.4583, 1.4583, 1.4582, 1.4578, 1.4576, 1.4489, 1.4322, 1.4388, 1.4242, 1.4532, 1.4436, 1.4158, 1.3845, 1.3943, 1.2747, 1.0321, 1.2913, 0.4713, 0.7904, 0.74, 0.2914, 0.3101, 0.7854, -0.0384, -0.0397, 1.6791, 1.679, 1.6785, 1.6781, 1.6775, 1.6775, 1.6763, 1.6759, 1.6758, 1.6758, 1.6741, 1.6681, 1.6301, 1.6287, 1.6278, 1.6066, 1.4122, 1.2595, 1.1321, 0.9955, 0.8008, 0.4484, 1.0943, 1.7464, 1.7446, 1.7433, 1.7295, 1.7161, 1.6273, 1.595, 1.5832, 1.5686, 1.536, 1.5199, 1.4868, 1.351, 1.462, 1.5289, 1.2756, 0.9554, 0.6068, 0.6351, 0.4421, 0.4948, 0.4041, 0.1202, 1.8675, 1.8667, 1.8663, 1.8663, 1.8648, 1.8646, 1.8642, 1.8535, 1.8226, 1.8183, 1.8151, 1.7776, 1.7495, 1.7476, 1.7366, 1.5486, 1.7209, 1.6722, 1.5514, 1.3183, 1.1052, 1.0599, 0.6649, 0.3223, 0.2794, 2.0119, 2.0116, 2.0115, 2.0113, 2.011, 2.0103, 2.0099, 2.0086, 2.0086, 2.0084, 2.0064, 2.0057, 1.9739, 1.9619, 1.9795, 1.888, 1.8974, 1.5984, 1.8724, 1.8074, 1.6429, 1.5699, 1.6116, 1.5733, 1.4056, 1.4957, 1.0702, 0.9248, 0.3068, -0.0434, 2.1204, 2.1199, 2.1196, 2.1196, 2.1191, 2.1191, 2.1187, 2.1171, 2.1169, 2.1168, 2.1011, 2.1163, 2.1116, 2.0932, 2.0868, 2.0251, 2.0414, 2.0409, 1.2939]}, \"token.table\": {\"Topic\": [1, 1, 2, 4, 4, 1, 2, 3, 4, 1, 2, 1, 2, 3, 4, 5, 6, 1, 2, 4, 6, 1, 2, 3, 5, 6, 3, 5, 2, 1, 6, 1, 2, 3, 4, 5, 6, 5, 1, 2, 3, 4, 5, 6, 1, 3, 4, 1, 2, 3, 4, 5, 1, 2, 3, 4, 5, 6, 1, 2, 3, 1, 2, 3, 4, 6, 3, 4, 5, 6, 3, 6, 6, 2, 4, 5, 6, 4, 2, 2, 1, 2, 3, 4, 5, 6, 4, 5, 6, 1, 4, 6, 1, 2, 3, 4, 5, 6, 3, 5, 6, 1, 4, 1, 2, 3, 6, 2, 4, 1, 2, 3, 4, 5, 6, 2, 5, 2, 1, 2, 3, 4, 5, 6, 3, 4, 1, 3, 5, 1, 3, 6, 2, 1, 2, 3, 4, 5, 5, 1, 2, 3, 4, 5, 6, 3, 6, 3, 5, 1, 1, 2, 3, 4, 5, 6, 1, 1, 3, 4, 1, 1, 2, 3, 4, 5, 6, 5, 3, 5, 2, 6, 1, 5, 1, 3, 4, 4, 6, 1, 3, 4, 4, 1, 2, 3, 4, 5, 6, 1, 2, 3, 4, 5, 1, 2, 3, 1, 1, 5, 1, 2, 3, 4, 5, 6, 1, 2, 3, 4, 5, 6, 1, 2, 3, 4, 5, 6, 6, 5, 1, 2, 3, 5, 6, 6, 1, 2, 3, 4, 5, 6, 2, 3, 4, 5, 1, 2, 3, 4, 5, 6, 1, 2, 3, 4, 5, 6, 1, 2, 3, 4, 5, 6, 1, 2, 3, 4, 5, 2, 3, 5, 6, 1, 3, 4, 5, 5, 3, 4, 5, 2, 5, 6, 1, 2, 3, 5, 6, 2, 6, 2, 6, 1, 2, 3, 4, 5, 1, 2, 3, 4, 5, 6, 3, 1, 2, 3, 4, 3, 6, 3, 5, 6, 1, 2, 3, 4, 5, 6, 1, 2, 3, 4, 5, 6, 1, 4, 6, 2, 3, 5, 1, 2, 3, 4, 5, 6, 1, 2, 3, 4, 5, 6, 6, 1, 3, 4, 5, 6, 1, 2, 3, 4, 5, 6, 4, 6, 1, 2, 5, 2, 1, 2, 3, 4, 5, 2, 1, 3, 4, 6, 1, 2, 3, 1, 4, 6, 1, 3, 5, 6, 1, 2, 3, 4, 5, 6, 1, 4, 5, 1, 2, 3, 4, 5, 6, 1, 2, 3, 4, 5, 6, 1, 2, 3, 4, 5, 6, 1, 2, 3, 4, 5, 6, 1, 2, 3, 4, 5, 6, 5, 1, 2, 3, 4, 5, 6, 4, 2, 4, 5, 1, 2, 3, 4, 5, 6, 3, 2, 1, 2, 3, 4, 5, 6, 1, 2, 3, 4, 5, 6, 1, 1, 2, 3, 4, 5, 1, 2, 3, 4, 5, 6, 1], \"Freq\": [0.9952249692912596, 0.06931923888462128, 0.9302641858316176, 0.9979633295722249, 0.9979380531568175, 0.9538836080983998, 0.028506866448917693, 0.015349851164801837, 0.995803129309221, 0.9704979242071895, 0.029362198343848088, 0.48588841456916854, 0.02573376701937248, 0.07458430780191007, 0.030095422446384766, 0.3733577045522516, 0.010467973024829484, 0.0031067919275051497, 0.26821970307461124, 0.7280249083453734, 0.0005177986545841916, 0.9257388412263999, 0.021211691942994434, 0.009090725118426186, 0.04242338388598887, 0.001515120853071031, 0.0023572208087176004, 0.9947471812788273, 0.9966857583450535, 0.995224956367681, 0.9995724162651579, 0.007007327895197616, 0.0023357759650658723, 0.09810259053276663, 0.00583943991266468, 0.8829233147948997, 0.0046715519301317445, 0.9984279479907748, 0.16817832234384372, 0.08361408116530084, 0.24134064336348193, 0.03183036044360884, 0.03753132052306117, 0.43754868609796627, 0.054546229769554824, 0.8072842005894114, 0.13636557442388705, 0.043944188445741265, 0.9516747559108385, 0.002965558729467202, 0.000539192496266764, 0.0008087887444001461, 0.13507424380165, 0.2919807294262253, 0.32829978591669917, 0.15711052526778022, 0.06243613082070227, 0.024892836470998943, 0.9869242999024891, 0.009691564319828044, 0.0016152607199713407, 0.0018082918371506967, 0.0009041459185753484, 0.0009041459185753484, 0.029836815312986497, 0.9665319869570475, 0.2273297730119649, 0.000493123151869772, 0.6420463437344431, 0.12969138894175003, 0.0009859983368245091, 0.9988163152032278, 0.997466262374579, 0.0017606184179911662, 0.02816989468785866, 0.9612976562231768, 0.007042473671964665, 0.9961366428556397, 0.9984557580704351, 0.998475849368438, 0.1781913220455964, 0.09575405561880804, 0.044706363716066004, 0.445478305113991, 0.0009511992280014043, 0.23526327572568068, 0.0115646564500668, 0.01564629990303155, 0.9727916896232661, 0.0019196748727786826, 0.8628938553140179, 0.13533707853089713, 0.6503082778919657, 0.263079257874477, 0.00042227810252725047, 0.010134674460654011, 0.005067337230327006, 0.07094272122457808, 0.7696548598693411, 0.2164192648193061, 0.013295381456476144, 0.9769459766996629, 0.02290187977457569, 0.010042938644985117, 0.0050214693224925585, 0.9691435792410638, 0.020085877289970234, 0.9970526930497363, 0.9954482770181038, 0.00032809373737051296, 0.16503114989736803, 0.0006561874747410259, 0.09580337131218979, 0.6604526933268426, 0.07775821575681158, 0.9495241378518755, 0.049325929239058465, 0.9964441942697881, 0.0001326571306870584, 0.0005306285227482336, 0.8353419519364068, 0.02188842656336464, 0.1278814739823243, 0.014194312983515249, 0.9800170586634441, 0.01619862906881726, 0.994598963694669, 0.8478122936930977, 0.1519926644943218, 0.9914565937646601, 0.008402174523429323, 0.9981771552358915, 0.9991522502737636, 0.008354398744445683, 0.2633956270818292, 0.001392399790740947, 0.7259044242396138, 0.0009282665271606314, 0.9974377625421809, 0.11971541927796861, 0.15949057486869433, 0.12380992058877861, 0.3000684532065044, 0.18152289144591005, 0.11523096546136719, 0.0016389476179781363, 0.998119099348685, 0.8874283558930934, 0.11249091835264564, 0.9980025631173194, 0.004327378991984705, 0.021636894959923526, 0.0021636894959923525, 0.004327378991984705, 0.9671692047085817, 0.0021636894959923525, 0.9945157977474446, 0.9629739484676029, 0.012126746918309825, 0.024804709605633732, 0.9951605029060535, 0.03578286926436797, 0.028626295411494373, 0.057252590822988746, 0.875785725245406, 0.0008945717316091992, 0.0017891434632183983, 0.9990258354663852, 0.0023461722240636445, 0.997123195227049, 0.9944686306088765, 0.005275695653097488, 0.004023311855373695, 0.9937580282773026, 0.041460301623538566, 0.04510516330472877, 0.913037851138146, 0.0024162727559126733, 0.9955043754360214, 0.040063971031474584, 0.004622765888247068, 0.9546011559230194, 0.9984911517892161, 0.0012439867003587327, 0.005597940151614297, 0.008707906902511128, 0.03856358771112071, 0.037319601010761976, 0.9087322846120541, 0.8285056559109102, 0.09536755751492491, 0.0369549285370334, 0.020265605971921542, 0.01788141703404842, 0.9816500715345648, 0.0078115390307790305, 0.0078115390307790305, 0.9960579273288176, 0.9960436568851013, 0.9982787739310464, 0.23402096221201435, 0.02630206779904484, 0.06609237549503574, 0.03641824772175439, 0.5961802034450163, 0.04113913168568552, 0.22300050357646234, 0.12822143674887124, 0.27077531774971964, 0.20404469021094412, 0.05486398014735355, 0.11897469852178917, 0.008364838905440162, 0.03782361939851204, 0.6717329329716513, 0.08182994581408853, 0.19711924724993773, 0.002909509184500926, 0.9990175886444814, 0.9967400223160007, 0.843243239659492, 0.13618447100536657, 0.0110048057378074, 0.006878003586129625, 0.00275120143445185, 0.9988417506333138, 0.09186485635945314, 0.7652002294533707, 0.017352250645674482, 0.1156816709711632, 0.0051036031310807296, 0.0044231227136032995, 0.0065154134912515475, 0.1081558639547757, 0.015636992379003716, 0.8691561597329565, 0.08868122804828928, 0.5045740787013467, 0.10170090972850902, 0.11177273895282996, 0.06067662971725055, 0.13265336051544654, 0.050001956292850584, 0.5785482763371493, 0.0003205253608516063, 0.3262948173469352, 0.004166829691070882, 0.040706720828154, 0.3159805062362987, 0.1534306498535563, 0.23345168714716444, 0.08389670006851221, 0.04627997313561951, 0.1668814794841058, 0.018054075133963846, 0.004814420035723693, 0.7955829109033402, 0.009628840071447386, 0.17091191126819108, 0.04548172210334217, 0.061534094610404114, 0.8909066741419378, 0.0013376977089218285, 0.028571312764957148, 0.006060581495596971, 0.948048105382669, 0.01731594713027706, 0.9964550985097267, 0.9948024354979947, 0.00317028052192727, 0.9922978033632356, 0.9501952844250833, 0.04135894653189537, 0.007423400659570963, 0.9340968864432319, 0.030132157627201027, 0.030132157627201027, 0.0018832598517000642, 0.0018832598517000642, 0.999461249589004, 0.00039835043825787325, 0.007213996243801314, 0.9901209844617302, 0.0037985734843426723, 0.022791440906056032, 0.45241010198521225, 0.13143064255825646, 0.3893537821451239, 0.5109102472246038, 0.16814220488187043, 0.15085251800455726, 0.051004576288073804, 0.04970784977227532, 0.06959098968118545, 0.9927526422599382, 0.06378796651475337, 0.040287136746160024, 0.8561016558559005, 0.036929875350646686, 0.0032769911072407848, 0.9962052966011986, 0.018770407000346448, 0.05729913715895232, 0.9237016076486279, 0.04950538105602436, 0.002700293512146783, 0.004500489186911305, 0.8856962719841448, 0.021602348097174266, 0.03600391349529044, 0.001055221583578004, 0.6570513060412372, 0.005979588973608689, 0.30706948082119917, 0.007386551085046028, 0.021456172199419414, 0.03441857122670878, 0.04108023017381371, 0.9226397641740322, 0.005408470998409039, 0.04326776798727231, 0.9505387779703885, 0.019905065192925793, 0.08644485455213487, 0.13478572716352608, 0.03184810430868126, 0.6693789066306759, 0.05800904713366945, 0.019851076748916518, 0.025075044314420862, 0.07104595889085911, 0.022985457288219123, 0.8138941467055771, 0.047015708089539116, 0.9977914287112337, 0.007944053615501398, 0.011682431787502055, 0.18551701678553262, 0.5448686185690959, 0.25000404025254397, 0.066086912765312, 0.09100492905387228, 0.6229504072140066, 0.004333568050184394, 0.2025943063461204, 0.013000704150553181, 0.0009033860120471163, 0.9982415433120635, 0.0025624339668162215, 0.988245366535456, 0.00854144655605407, 0.9983567360446821, 0.002592574708900535, 0.41524404920890234, 0.0041049099557591805, 0.5766318248379606, 0.0012962873544502674, 0.9964441935621637, 0.004549737409726202, 0.009099474819452403, 0.9508951186327762, 0.03639789927780961, 0.03303267333669273, 0.16262239181141036, 0.8029480595688386, 0.018101078910681953, 0.0009526883637201027, 0.9803163262679857, 0.09065533940453455, 0.7506898280515844, 0.14473045413706392, 0.012723556407653972, 0.08714481061315531, 0.5571043249912428, 0.0689155390053014, 0.179625017794463, 0.04935241825540938, 0.0578001294883173, 0.013256180482448475, 0.9853760825286699, 0.9961524187527617, 0.08722927016831136, 0.0008468861181389452, 0.060975800506004055, 0.8214795345947769, 0.014397064008362069, 0.014397064008362069, 0.3712311233402343, 0.19773313616738808, 0.16274464291698987, 0.08089082843211332, 0.10239751694382597, 0.08490327031862686, 0.5080820271920402, 0.1727802855488341, 0.14308367397012822, 0.05075420887997001, 0.06533254547315288, 0.05939322315741172, 0.24816132648594957, 0.03677786565187454, 0.10890533032836636, 0.13354292964855416, 0.3367138573758999, 0.13604239624625436, 0.22278217624873384, 0.13566153812733403, 0.19621907787415097, 0.21297912803906635, 0.14404156320979172, 0.08854366124860961, 0.9979295049048533, 0.035539528088736956, 0.35175020108339655, 0.009416456160263638, 0.4659627016078845, 0.00030375665033108507, 0.1369942492993194, 0.9983720805390112, 0.05210419757225923, 0.8873344846555746, 0.05991982720809811, 0.050785179900552195, 0.036540556269909506, 0.11581498343174708, 0.0018579943866055683, 0.6905545803550696, 0.10404768564991182, 0.9991150770582105, 0.9994229003232825, 0.18781273516389735, 0.10447860764084356, 0.28545048159016184, 0.18138647159868673, 0.06820131332110621, 0.172887219786634, 0.15305498438446669, 0.14460296844006637, 0.3191554716396382, 0.21424023024284292, 0.060817766904271875, 0.10803881250668236, 0.9981690164741818, 0.019531370748207946, 0.002604182766427726, 0.3287780742615004, 0.005208365532855452, 0.6438841889992553, 0.3101662749491592, 0.12121677989025063, 0.26060575165501926, 0.14661654807849736, 0.04543047968629496, 0.11584772320005214, 0.9959406783331031], \"Term\": [\"+id\", \"activity\", \"activity\", \"ajax\", \"alert\", \"algorithm\", \"algorithm\", \"algorithm\", \"america\", \"android\", \"android\", \"application\", \"application\", \"application\", \"application\", \"application\", \"application\", \"array\", \"array\", \"array\", \"array\", \"background\", \"background\", \"background\", \"background\", \"background\", \"bin\", \"bin\", \"boolean\", \"border\", \"branch\", \"build\", \"build\", \"build\", \"build\", \"build\", \"build\", \"certificate\", \"change\", \"change\", \"change\", \"change\", \"change\", \"change\", \"chrome\", \"chrome\", \"chrome\", \"class\", \"class\", \"class\", \"class\", \"class\", \"code\", \"code\", \"code\", \"code\", \"code\", \"code\", \"color\", \"color\", \"color\", \"column\", \"column\", \"column\", \"column\", \"column\", \"command\", \"command\", \"command\", \"command\", \"commit\", \"commit\", \"commits\", \"connection\", \"connection\", \"connection\", \"connection\", \"console.log\", \"const\", \"constructor\", \"data\", \"data\", \"data\", \"data\", \"data\", \"data\", \"database\", \"database\", \"database\", \"date\", \"date\", \"date\", \"difference\", \"difference\", \"difference\", \"difference\", \"difference\", \"difference\", \"directory\", \"directory\", \"directory\", \"div\", \"div\", \"editor\", \"editor\", \"editor\", \"editor\", \"enum\", \"err\", \"error\", \"error\", \"error\", \"error\", \"error\", \"error\", \"exception\", \"exception\", \"extends\", \"file\", \"file\", \"file\", \"file\", \"file\", \"file\", \"filename\", \"filename\", \"fill_parent\", \"folder\", \"folder\", \"font\", \"font\", \"formula\", \"fragment\", \"function\", \"function\", \"function\", \"function\", \"function\", \"gem\", \"get\", \"get\", \"get\", \"get\", \"get\", \"get\", \"git\", \"git\", \"grep\", \"grep\", \"height\", \"home\", \"home\", \"home\", \"home\", \"home\", \"home\", \"icon\", \"image\", \"image\", \"image\", \"img\", \"input\", \"input\", \"input\", \"input\", \"input\", \"input\", \"install\", \"installed\", \"installed\", \"int\", \"int\", \"jar\", \"jar\", \"javascript\", \"javascript\", \"javascript\", \"join\", \"join\", \"jquery\", \"jquery\", \"jquery\", \"json\", \"key\", \"key\", \"key\", \"key\", \"key\", \"key\", \"language\", \"language\", \"language\", \"language\", \"language\", \"layout\", \"layout\", \"layout\", \"layout_height=\", \"layout_width=\", \"lib\", \"library\", \"library\", \"library\", \"library\", \"library\", \"library\", \"like\", \"like\", \"like\", \"like\", \"like\", \"like\", \"line\", \"line\", \"line\", \"line\", \"line\", \"line\", \"master\", \"maven\", \"memory\", \"memory\", \"memory\", \"memory\", \"memory\", \"merge\", \"method\", \"method\", \"method\", \"method\", \"method\", \"method\", \"module\", \"module\", \"module\", \"module\", \"new\", \"new\", \"new\", \"new\", \"new\", \"new\", \"object\", \"object\", \"object\", \"object\", \"object\", \"object\", \"one\", \"one\", \"one\", \"one\", \"one\", \"one\", \"open\", \"open\", \"open\", \"open\", \"open\", \"package\", \"package\", \"package\", \"package\", \"php\", \"php\", \"php\", \"php\", \"pip\", \"plot\", \"port\", \"port\", \"private\", \"private\", \"private\", \"programming\", \"programming\", \"programming\", \"programming\", \"programming\", \"public\", \"public\", \"push\", \"push\", \"python\", \"python\", \"python\", \"python\", \"python\", \"question\", \"question\", \"question\", \"question\", \"question\", \"question\", \"regex\", \"regular\", \"regular\", \"regular\", \"regular\", \"repo\", \"repo\", \"repository\", \"repository\", \"repository\", \"request\", \"request\", \"request\", \"request\", \"request\", \"request\", \"return\", \"return\", \"return\", \"return\", \"return\", \"return\", \"row\", \"row\", \"row\", \"ruby\", \"ruby\", \"ruby\", \"run\", \"run\", \"run\", \"run\", \"run\", \"run\", \"running\", \"running\", \"running\", \"running\", \"running\", \"running\", \"schema\", \"server\", \"server\", \"server\", \"server\", \"server\", \"source\", \"source\", \"source\", \"source\", \"source\", \"source\", \"sql\", \"sql\", \"static\", \"static\", \"static\", \"std\", \"string\", \"string\", \"string\", \"string\", \"string\", \"struct\", \"submit\", \"submit\", \"submit\", \"submit\", \"tab\", \"tab\", \"tab\", \"table\", \"table\", \"table\", \"tool\", \"tool\", \"tool\", \"tool\", \"type\", \"type\", \"type\", \"type\", \"type\", \"type\", \"type=\", \"type=\", \"ubuntu\", \"url\", \"url\", \"url\", \"url\", \"url\", \"url\", \"use\", \"use\", \"use\", \"use\", \"use\", \"use\", \"used\", \"used\", \"used\", \"used\", \"used\", \"used\", \"user\", \"user\", \"user\", \"user\", \"user\", \"user\", \"using\", \"using\", \"using\", \"using\", \"using\", \"using\", \"usr\", \"value\", \"value\", \"value\", \"value\", \"value\", \"value\", \"value=\", \"var\", \"var\", \"var\", \"version\", \"version\", \"version\", \"version\", \"version\", \"version\", \"vim\", \"void\", \"want\", \"want\", \"want\", \"want\", \"want\", \"want\", \"way\", \"way\", \"way\", \"way\", \"way\", \"way\", \"width\", \"window\", \"window\", \"window\", \"window\", \"window\", \"would\", \"would\", \"would\", \"would\", \"would\", \"would\", \"wrap_content\"]}, \"R\": 10, \"lambda.step\": 0.01, \"plot.opts\": {\"xlab\": \"PC1\", \"ylab\": \"PC2\"}, \"topic.order\": [3, 6, 4, 2, 1, 5]};\n",
       "\n",
       "function LDAvis_load_lib(url, callback){\n",
       "  var s = document.createElement('script');\n",
       "  s.src = url;\n",
       "  s.async = true;\n",
       "  s.onreadystatechange = s.onload = callback;\n",
       "  s.onerror = function(){console.warn(\"failed to load library \" + url);};\n",
       "  document.getElementsByTagName(\"head\")[0].appendChild(s);\n",
       "}\n",
       "\n",
       "if(typeof(LDAvis) !== \"undefined\"){\n",
       "   // already loaded: just create the visualization\n",
       "   !function(LDAvis){\n",
       "       new LDAvis(\"#\" + \"ldavis_el898019293948269523248566522\", ldavis_el898019293948269523248566522_data);\n",
       "   }(LDAvis);\n",
       "}else if(typeof define === \"function\" && define.amd){\n",
       "   // require.js is available: use it to load d3/LDAvis\n",
       "   require.config({paths: {d3: \"https://cdnjs.cloudflare.com/ajax/libs/d3/3.5.5/d3.min\"}});\n",
       "   require([\"d3\"], function(d3){\n",
       "      window.d3 = d3;\n",
       "      LDAvis_load_lib(\"https://cdn.rawgit.com/bmabey/pyLDAvis/files/ldavis.v1.0.0.js\", function(){\n",
       "        new LDAvis(\"#\" + \"ldavis_el898019293948269523248566522\", ldavis_el898019293948269523248566522_data);\n",
       "      });\n",
       "    });\n",
       "}else{\n",
       "    // require.js not available: dynamically load d3 & LDAvis\n",
       "    LDAvis_load_lib(\"https://cdnjs.cloudflare.com/ajax/libs/d3/3.5.5/d3.min.js\", function(){\n",
       "         LDAvis_load_lib(\"https://cdn.rawgit.com/bmabey/pyLDAvis/files/ldavis.v1.0.0.js\", function(){\n",
       "                 new LDAvis(\"#\" + \"ldavis_el898019293948269523248566522\", ldavis_el898019293948269523248566522_data);\n",
       "            })\n",
       "         });\n",
       "}\n",
       "</script>"
      ],
      "text/plain": [
       "<IPython.core.display.HTML object>"
      ]
     },
     "execution_count": 15,
     "metadata": {},
     "output_type": "execute_result"
    }
   ],
   "source": [
    "# Representation graphique des 6 topics :\n",
    "# pyLDAvis nous permet de visualiser les résultats de LDA interractif.\n",
    "\n",
    "from pyLDAvis import sklearn as sklearn_lda\n",
    "import pyLDAvis\n",
    "LDAvis_prepared = sklearn_lda.prepare(lda, tfidf_lda,\n",
    "                                      tfidf_vectorizer_lda, R=n_top_words)\n",
    "pyLDAvis.display(LDAvis_prepared)"
   ]
  },
  {
   "cell_type": "markdown",
   "metadata": {},
   "source": [
    "Sur le côté gauche, la zone de chaque cercle représente l'importance du topic par rapport au corpus. \n",
    "\n",
    "Comme il y a 6 topics, nous avons 6 cercles.\n",
    "La distance entre le centre des cercles indique la similitude entre les sujets. \n",
    "Ici, les topics qui se chevauchentont donc des sujets plus similaires.\n",
    "\n",
    "Sur le côté droit, l' histogramme de chaque topic montre les 10 mots les plus pertinents . \n",
    "Par exemple, dans le topic 1, les mots les plus pertinents sont file, use, object, like, ..."
   ]
  },
  {
   "cell_type": "code",
   "execution_count": 16,
   "metadata": {},
   "outputs": [
    {
     "name": "stdout",
     "output_type": "stream",
     "text": [
      "Les topics touvées via LDA:\n",
      "Topic # 0:\n",
      "error command run server version python window file user get\n",
      "Topic # 1:\n",
      "function string javascript var get value array data using like\n",
      "Topic # 2:\n",
      "android use image div difference would like using one question\n",
      "Topic # 3:\n",
      "file line like way code want would using python directory\n",
      "Topic # 4:\n",
      "git table branch key database sql column commit repository change\n",
      "Topic # 5:\n",
      "class public int method new string return object code type\n"
     ]
    }
   ],
   "source": [
    "# La liste des topics trouvées par le modèle LDA\n",
    "print(\"Les topics touvées via LDA:\")\n",
    "print_topics(lda, tfidf_vectorizer_lda, n_top_words)"
   ]
  },
  {
   "cell_type": "markdown",
   "metadata": {},
   "source": [
    "### [M5-1 : Modélisation avec algorithme NMF : ](#sommaire)<a class=\"anchor\" id=\"17\"></a>"
   ]
  },
  {
   "cell_type": "markdown",
   "metadata": {},
   "source": [
    "**NMF**(Non-Negative Matrix Factorization)est aussi une technique non supervisée,C'est une alyernative au LDA"
   ]
  },
  {
   "cell_type": "code",
   "execution_count": 17,
   "metadata": {},
   "outputs": [
    {
     "name": "stdout",
     "output_type": "stream",
     "text": [
      "Extraction des features pour NMF...\n",
      "fait en 1.045s.\n",
      "Fit de modele NMF (Frobenius norm) avec tf-idf features, n_samples=0 and n_features=1000...\n",
      "fait en 1.568s.\n",
      "\n",
      "Les Topics dans NMF model (Frobenius norm):\n",
      "Topic #0: function use code like class using would way object get\n",
      "Topic #1: file directory line command folder python path script using open\n",
      "Topic #2: git branch commit repository master remote change push commits merge\n",
      "Topic #3: string convert array character value list int java public return\n",
      "Topic #4: difference whats use one java two vs. explain used please\n",
      "Topic #5: table database sql column mysql row select query server key\n",
      "\n"
     ]
    }
   ],
   "source": [
    "# Use tf-idf features for NMF.\n",
    "print(\"Extraction des features pour NMF...\")\n",
    "tfidf_vectorizer = TfidfVectorizer(max_df=0.95, min_df=2,\n",
    "                                   max_features=n_features,\n",
    "                                   tokenizer=dummy,\n",
    "                                   preprocessor=dummy)\n",
    "t0 = time()\n",
    "tfidf = tfidf_vectorizer.fit_transform(X_trainBis)\n",
    "tfidf_test = tfidf_vectorizer.transform(X_testBis)\n",
    "print(\"fait en %0.3fs.\" % (time() - t0))\n",
    "\n",
    "# Fit the NMF model\n",
    "print(\"Fit de modele NMF (Frobenius norm) avec tf-idf features, \"\n",
    "      \"n_samples=%d and n_features=%d...\"\n",
    "      % (n_samples, n_features))\n",
    "t0 = time()\n",
    "nmf = NMF(n_components=n_components, random_state=1,\n",
    "          alpha=.1, l1_ratio=.5).fit(tfidf)\n",
    "print(\"fait en %0.3fs.\" % (time() - t0))\n",
    "\n",
    "print(\"\\nLes Topics dans NMF model (Frobenius norm):\")\n",
    "tfidf_feature_names = tfidf_vectorizer.get_feature_names()\n",
    "print_top_words(nmf, tfidf_feature_names, n_top_words)"
   ]
  },
  {
   "cell_type": "markdown",
   "metadata": {},
   "source": [
    "Sur les differents topics résultants de NMF ici, on peut facilement deduire visuellement par exemple que :\n",
    " - le topic 2 parle de gestion de versionning de projet\n",
    " - le topic 5 parle de base des données"
   ]
  },
  {
   "cell_type": "markdown",
   "metadata": {},
   "source": [
    "### Calcul des scores de performances pour LDA et NMF :\n",
    "\n",
    "Pour mesurer la similarité entre la prédiction des modèles et les vrais tags, nous allons utiliser la cosine_simularity, elle permet de quantifier la ressemblance entre deux vecteurs(vecteurs des tags de prédictions et vecteurs des vrais tags)\n",
    "\n",
    "La cosine_simularity est une valeur comprise dans l'intervalle [-1,1], \n",
    "\n",
    " - -1 indiquera des vecteurs opposés, \n",
    " \n",
    " - 0 des vecteurs indépendants  \n",
    "\n",
    " - 1 des vecteurs similaires "
   ]
  },
  {
   "cell_type": "code",
   "execution_count": 21,
   "metadata": {},
   "outputs": [
    {
     "name": "stdout",
     "output_type": "stream",
     "text": [
      "DummyClassifier score  : 0.004810126582278481\n",
      "Cosine_simularity score LDA : 0.016174398111016484\n",
      "Cosine_simularity score NMF : 0.01630386829837769\n"
     ]
    }
   ],
   "source": [
    "# calcul de cosine_simularity :\n",
    "# Pour LDA :\n",
    "doc_term_matrix_lda = tfidf_lda.todense()\n",
    "df_predict_lda = pd.DataFrame(doc_term_matrix_lda,\n",
    "                              columns=tfidf_vectorizer_lda.get_feature_names())\n",
    "cs_lda = cosine_similarity(df_predict_lda, X_test)\n",
    "\n",
    "# Pour NMF :\n",
    "doc_term_matrix_nmf = tfidf.todense()\n",
    "df_predict_nmf = pd.DataFrame(doc_term_matrix_nmf,\n",
    "                              columns=tfidf_vectorizer.get_feature_names())\n",
    "cs_nmf = cosine_similarity(df_predict_nmf, X_test)\n",
    "\n",
    "# Calcul de DummyClassifier\n",
    "clf = DummyClassifier(strategy='most_frequent')\n",
    "clf.fit(X_trainBis, y_trainBis)\n",
    "\n",
    "print(\"DummyClassifier score  : {}\".format(clf.score(X_testBis, y_testBis)))\n",
    "print(\"Cosine_simularity score LDA : {}\".format(np.mean(cs_lda)))\n",
    "print(\"Cosine_simularity score NMF : {}\".format(np.mean(cs_nmf)))"
   ]
  },
  {
   "cell_type": "markdown",
   "metadata": {},
   "source": [
    "Donc nous constatons que les scores des cosine_simularity sont supérieurs au DummyClassifier mais ils sont très proche de 0 \n",
    "Donc les vecteurs sont independants, il faudra tester d'autres approche de prédiction"
   ]
  },
  {
   "cell_type": "markdown",
   "metadata": {},
   "source": [
    "## [MISSION 5: APPROCHE SUPERVISEE](#sommaire)<a class=\"anchor\" id=\"20\"></a>"
   ]
  },
  {
   "cell_type": "markdown",
   "metadata": {},
   "source": [
    "Certains modèles ne peuvent pas faire de la prediction pour une sortie comprenant plusieurs output. \n",
    "Il faut donc utiliser le MulitOutputClassifier\n",
    "\n",
    "MulitOutputClassifier\n",
    "\n",
    "Tester plusieurs modèles : LogistiRegression, SGDClassifier, MultinomialDB, LearSVC, Perceptron, PassiveAggressiveClassifier, RandomForest, KNN\n",
    "    \n",
    "Comparer : utiliser le Jaccard score et l'accuracy    "
   ]
  },
  {
   "cell_type": "code",
   "execution_count": 22,
   "metadata": {},
   "outputs": [],
   "source": [
    "# to ignore ConvergenceWarning\n",
    "warnings.filterwarnings(\"ignore\")"
   ]
  },
  {
   "cell_type": "markdown",
   "metadata": {},
   "source": [
    "#### Knn model :"
   ]
  },
  {
   "cell_type": "code",
   "execution_count": 24,
   "metadata": {},
   "outputs": [
    {
     "name": "stdout",
     "output_type": "stream",
     "text": [
      "Training a KNN Model...\n",
      "fait en 831.556s.\n"
     ]
    }
   ],
   "source": [
    "print(\"Training a KNN Model...\")\n",
    "t0 = time()\n",
    "knn_clf = KNeighborsClassifier()\n",
    "knn_clf_fit = MultiOutputClassifier(knn_clf).fit(X_train, y_train)\n",
    "print(\"fait en %0.3fs.\" % (time() - t0))"
   ]
  },
  {
   "cell_type": "code",
   "execution_count": 25,
   "metadata": {},
   "outputs": [
    {
     "name": "stdout",
     "output_type": "stream",
     "text": [
      "0.1840506329113924 0.14901265822784807\n"
     ]
    }
   ],
   "source": [
    "y_pred_knn = knn_clf_fit.predict(X_test)\n",
    "accuracy_score_knn = accuracy_score(y_test, y_pred_knn)\n",
    "jaccard_score_knn = jaccard_score(y_test, y_pred_knn, average='samples')\n",
    "print(accuracy_score_knn, jaccard_score_knn)"
   ]
  },
  {
   "cell_type": "markdown",
   "metadata": {},
   "source": [
    "#### SGDClassifier"
   ]
  },
  {
   "cell_type": "code",
   "execution_count": 26,
   "metadata": {},
   "outputs": [
    {
     "name": "stdout",
     "output_type": "stream",
     "text": [
      "Training a SGDClassifier Model...\n",
      "fait en 28.374s.\n"
     ]
    }
   ],
   "source": [
    "print(\"Training a SGDClassifier Model...\")\n",
    "t0 = time()\n",
    "sgd_linear_clf = SGDClassifier(random_state=1, max_iter=5, tol=1e-3)\n",
    "sgd_linear_clf_fit = MultiOutputClassifier(sgd_linear_clf).fit(X_train,\n",
    "                                                               y_train)\n",
    "print(\"fait en %0.3fs.\" % (time() - t0))"
   ]
  },
  {
   "cell_type": "code",
   "execution_count": 27,
   "metadata": {},
   "outputs": [
    {
     "name": "stdout",
     "output_type": "stream",
     "text": [
      "0.3139240506329114 0.43517962628089213\n"
     ]
    }
   ],
   "source": [
    "y_pred_sgd = sgd_linear_clf_fit.predict(X_test)\n",
    "accuracy_score_sgd = accuracy_score(y_test, y_pred_sgd)\n",
    "jaccard_score_sgd = jaccard_score(y_test, y_pred_sgd, average='samples')\n",
    "print(accuracy_score_sgd, jaccard_score_sgd)"
   ]
  },
  {
   "cell_type": "markdown",
   "metadata": {},
   "source": [
    "#### RandomForest "
   ]
  },
  {
   "cell_type": "code",
   "execution_count": 28,
   "metadata": {},
   "outputs": [
    {
     "name": "stdout",
     "output_type": "stream",
     "text": [
      "Training a Random Forest Model...\n",
      "fait en 66.091s.\n"
     ]
    }
   ],
   "source": [
    "print(\"Training a Random Forest Model...\")\n",
    "t0 = time()\n",
    "rand_for_clf = RandomForestClassifier(n_estimators=10, random_state=1)\n",
    "rand_for_clf_fit = MultiOutputClassifier(rand_for_clf).fit(X_train,\n",
    "                                                           y_train)\n",
    "print(\"fait en %0.3fs.\" % (time() - t0))"
   ]
  },
  {
   "cell_type": "code",
   "execution_count": 29,
   "metadata": {},
   "outputs": [
    {
     "name": "stdout",
     "output_type": "stream",
     "text": [
      "0.28556962025316457 0.29728270042194094\n"
     ]
    }
   ],
   "source": [
    "y_pred_rand = rand_for_clf_fit.predict(X_test)\n",
    "accuracy_score_rand = accuracy_score(y_test, y_pred_rand)\n",
    "jaccard_score_rand = jaccard_score(y_test, y_pred_rand, average='samples')\n",
    "print(accuracy_score_rand, jaccard_score_rand)"
   ]
  },
  {
   "cell_type": "markdown",
   "metadata": {},
   "source": [
    "#### Logistic Regression "
   ]
  },
  {
   "cell_type": "code",
   "execution_count": 30,
   "metadata": {},
   "outputs": [
    {
     "name": "stdout",
     "output_type": "stream",
     "text": [
      "Training a Logistic Regression Model...\n",
      "fait en 135.136s.\n"
     ]
    }
   ],
   "source": [
    "print(\"Training a Logistic Regression Model...\")\n",
    "t0 = time()\n",
    "log_reg_clf = LogisticRegression(random_state=1)\n",
    "log_reg_clf_fit = MultiOutputClassifier(log_reg_clf).fit(X_train, y_train)\n",
    "print(\"fait en %0.3fs.\" % (time() - t0))"
   ]
  },
  {
   "cell_type": "code",
   "execution_count": 31,
   "metadata": {},
   "outputs": [
    {
     "name": "stdout",
     "output_type": "stream",
     "text": [
      "0.34632911392405064 0.4403037974683544\n"
     ]
    }
   ],
   "source": [
    "y_pred_logr = log_reg_clf_fit.predict(X_test)\n",
    "accuracy_score_logr = accuracy_score(y_test, y_pred_logr)\n",
    "jaccard_score_logr = jaccard_score(y_test, y_pred_logr, average='samples')\n",
    "print(accuracy_score_logr, jaccard_score_logr)"
   ]
  },
  {
   "cell_type": "markdown",
   "metadata": {},
   "source": [
    "#### MultinomialNB"
   ]
  },
  {
   "cell_type": "code",
   "execution_count": 32,
   "metadata": {},
   "outputs": [
    {
     "name": "stdout",
     "output_type": "stream",
     "text": [
      "Training a Naive Bayes classifier for multinomial Model...\n",
      "fait en 10.262s.\n"
     ]
    }
   ],
   "source": [
    "print(\"Training a Naive Bayes classifier for multinomial Model...\")\n",
    "t0 = time()\n",
    "mnb_clf = MultinomialNB()\n",
    "mnb_clf_fit = MultiOutputClassifier(mnb_clf).fit(X_train, y_train)\n",
    "print(\"fait en %0.3fs.\" % (time() - t0))"
   ]
  },
  {
   "cell_type": "code",
   "execution_count": 33,
   "metadata": {},
   "outputs": [
    {
     "name": "stdout",
     "output_type": "stream",
     "text": [
      "0.1508860759493671 0.33878973811695134\n"
     ]
    }
   ],
   "source": [
    "y_pred_mnb = mnb_clf_fit.predict(X_test)\n",
    "accuracy_score_mnb = accuracy_score(y_test, y_pred_mnb)\n",
    "jaccard_score_mnb = jaccard_score(y_test, y_pred_mnb, average='samples')\n",
    "print(accuracy_score_mnb, jaccard_score_mnb)"
   ]
  },
  {
   "cell_type": "markdown",
   "metadata": {},
   "source": [
    "#### Perceptron"
   ]
  },
  {
   "cell_type": "code",
   "execution_count": 34,
   "metadata": {},
   "outputs": [
    {
     "name": "stdout",
     "output_type": "stream",
     "text": [
      "Training a Perceptron Model...\n",
      "fait en 68.228s.\n"
     ]
    }
   ],
   "source": [
    "print(\"Training a Perceptron Model...\")\n",
    "t0 = time()\n",
    "prpt_clf = Perceptron(tol=1e-3, random_state=1)\n",
    "prpt_clf_fit = MultiOutputClassifier(prpt_clf).fit(X_train, y_train)\n",
    "print(\"fait en %0.3fs.\" % (time() - t0))"
   ]
  },
  {
   "cell_type": "code",
   "execution_count": 35,
   "metadata": {},
   "outputs": [
    {
     "name": "stdout",
     "output_type": "stream",
     "text": [
      "0.23518987341772152 0.4035461121157323\n"
     ]
    }
   ],
   "source": [
    "y_pred_prpt = prpt_clf_fit.predict(X_test)\n",
    "accuracy_score_prpt = accuracy_score(y_test, y_pred_prpt)\n",
    "jaccard_score_prpt = jaccard_score(y_test, y_pred_prpt, average='samples')\n",
    "print(accuracy_score_prpt, jaccard_score_prpt)"
   ]
  },
  {
   "cell_type": "markdown",
   "metadata": {},
   "source": [
    "#### LinearSVC"
   ]
  },
  {
   "cell_type": "code",
   "execution_count": 36,
   "metadata": {},
   "outputs": [
    {
     "name": "stdout",
     "output_type": "stream",
     "text": [
      "Training a Linear svc classifier for multinomial Model...\n",
      "fait en 590.120s.\n"
     ]
    }
   ],
   "source": [
    "print(\"Training a Linear svc classifier for multinomial Model...\")\n",
    "t0 = time()\n",
    "lsvc_clf = make_pipeline(StandardScaler(), LinearSVC(random_state=0,\n",
    "                                                     tol=1e-5))\n",
    "lsvc_clf_fit = MultiOutputClassifier(lsvc_clf).fit(X_train, y_train)\n",
    "print(\"fait en %0.3fs.\" % (time() - t0))"
   ]
  },
  {
   "cell_type": "code",
   "execution_count": 37,
   "metadata": {},
   "outputs": [
    {
     "name": "stdout",
     "output_type": "stream",
     "text": [
      "0.15443037974683543 0.34387089071266286\n"
     ]
    }
   ],
   "source": [
    "y_pred_lsvc = lsvc_clf_fit.predict(X_test)\n",
    "accuracy_score_lsvc = accuracy_score(y_test, y_pred_lsvc)\n",
    "jaccard_score_lsvc = jaccard_score(y_test, y_pred_lsvc, average='samples')\n",
    "print(accuracy_score_lsvc, jaccard_score_lsvc)"
   ]
  },
  {
   "cell_type": "markdown",
   "metadata": {},
   "source": [
    "#### PassiveAggressiveClassifier"
   ]
  },
  {
   "cell_type": "code",
   "execution_count": 38,
   "metadata": {},
   "outputs": [
    {
     "name": "stdout",
     "output_type": "stream",
     "text": [
      "Training a PassiveAggressiveClassifier Model...\n",
      "fait en 86.848s.\n"
     ]
    }
   ],
   "source": [
    "print(\"Training a PassiveAggressiveClassifier Model...\")\n",
    "t0 = time()\n",
    "pac_clf = PassiveAggressiveClassifier(max_iter=1000, random_state=1,\n",
    "                                      tol=1e-3)\n",
    "pac_clf_fit = MultiOutputClassifier(pac_clf).fit(X_train, y_train)\n",
    "print(\"fait en %0.3fs.\" % (time() - t0))"
   ]
  },
  {
   "cell_type": "code",
   "execution_count": 39,
   "metadata": {},
   "outputs": [
    {
     "name": "stdout",
     "output_type": "stream",
     "text": [
      "0.23139240506329115 0.40785714285714286\n"
     ]
    }
   ],
   "source": [
    "y_pred_pac = pac_clf_fit.predict(X_test)\n",
    "accuracy_score_pac = accuracy_score(y_test, y_pred_pac)\n",
    "jaccard_score_pac = jaccard_score(y_test, y_pred_pac, average='samples')\n",
    "print(accuracy_score_pac, jaccard_score_pac)"
   ]
  },
  {
   "cell_type": "markdown",
   "metadata": {},
   "source": [
    "#### Representation graphique :"
   ]
  },
  {
   "cell_type": "code",
   "execution_count": 40,
   "metadata": {},
   "outputs": [
    {
     "data": {
      "image/png": "[encoded data removed]",
      "text/plain": [
       "<Figure size 432x288 with 1 Axes>"
      ]
     },
     "metadata": {
      "needs_background": "light"
     },
     "output_type": "display_data"
    },
    {
     "data": {
      "text/plain": [
       "<Figure size 2160x1080 with 0 Axes>"
      ]
     },
     "metadata": {},
     "output_type": "display_data"
    }
   ],
   "source": [
    "score_AccuracyJaccard_df = pd.DataFrame({\n",
    "    'Models': ['LogisticRegression', 'SGDClassifier',\n",
    "               'RandomForest', 'KNN', 'MultinomialNB', 'LinearSVC',\n",
    "               'Perceptron', 'PassiveAggressiveClassifier'],\n",
    "    'Accuracy_score': [accuracy_score_logr,\n",
    "                       accuracy_score_sgd,\n",
    "                       accuracy_score_rand,\n",
    "                       accuracy_score_knn,\n",
    "                       accuracy_score_mnb,\n",
    "                       accuracy_score_lsvc,\n",
    "                       accuracy_score_prpt,\n",
    "                       accuracy_score_pac],\n",
    "    'Jaccard_score': [jaccard_score_logr,\n",
    "                      jaccard_score_sgd,\n",
    "                      jaccard_score_rand,\n",
    "                      jaccard_score_knn,\n",
    "                      jaccard_score_mnb,\n",
    "                      jaccard_score_lsvc,\n",
    "                      jaccard_score_prpt,\n",
    "                      jaccard_score_pac]})\n",
    "ax = plt.gca()\n",
    "score_AccuracyJaccard_df.plot(kind='bar', x='Models',\n",
    "                              y=['Accuracy_score', 'Jaccard_score'], ax=ax)\n",
    "plt.figure(figsize=(30, 15))\n",
    "plt.show()"
   ]
  },
  {
   "cell_type": "markdown",
   "metadata": {},
   "source": [
    "###  Test sur formulaire :"
   ]
  },
  {
   "cell_type": "markdown",
   "metadata": {},
   "source": [
    "On constate que le modèle de LogisticRegression a le meilleur score, donc nous allons tester notre prédiction à partir de ce modèle"
   ]
  },
  {
   "cell_type": "markdown",
   "metadata": {},
   "source": [
    "#### Prediction avec LogisticRegression :"
   ]
  },
  {
   "cell_type": "code",
   "execution_count": 41,
   "metadata": {},
   "outputs": [],
   "source": [
    "# model = sgd_linear_clf_fit\n",
    "# model = log_reg_clf_fit\n",
    "model = lsvc_clf_fit\n",
    "# model = knn_clf_fit\n",
    "# textInput = \" javascript java python the definitive guide to form based\"\n",
    "textInput = data_preprocess[(data_preprocess['Id'] == 9)]['BodyTitle']\n",
    "most_freq_words = top1000words_exp\n",
    "most_freq_tags = top100tags_exp"
   ]
  },
  {
   "cell_type": "code",
   "execution_count": 42,
   "metadata": {},
   "outputs": [
    {
     "name": "stdout",
     "output_type": "stream",
     "text": [
      "0    in c#, how do i calculate someones age based o...\n",
      "Name: BodyTitle, dtype: object\n"
     ]
    }
   ],
   "source": [
    "print(textInput)"
   ]
  },
  {
   "cell_type": "code",
   "execution_count": 43,
   "metadata": {},
   "outputs": [
    {
     "name": "stdout",
     "output_type": "stream",
     "text": [
      "les tags proposées sont :  ['c', '.net', 'datetime']\n"
     ]
    }
   ],
   "source": [
    "tagslist = predictTag(model, textInput, top1000words_exp, top100tags_exp)\n",
    "print('les tags proposées sont : ', tagslist)"
   ]
  },
  {
   "cell_type": "code",
   "execution_count": null,
   "metadata": {},
   "outputs": [],
   "source": []
  }
 ],
 "metadata": {
  "kernelspec": {
   "display_name": "Python 3",
   "language": "python",
   "name": "python3"
  },
  "language_info": {
   "codemirror_mode": {
    "name": "ipython",
    "version": 3
   },
   "file_extension": ".py",
   "mimetype": "text/x-python",
   "name": "python",
   "nbconvert_exporter": "python",
   "pygments_lexer": "ipython3",
   "version": "3.7.6"
  }
 },
 "nbformat": 4,
 "nbformat_minor": 2
}
