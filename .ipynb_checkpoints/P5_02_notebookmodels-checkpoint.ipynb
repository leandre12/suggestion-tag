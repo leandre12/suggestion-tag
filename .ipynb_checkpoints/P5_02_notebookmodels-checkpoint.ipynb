{
 "cells": [
  {
   "cell_type": "code",
   "execution_count": 1,
   "metadata": {},
   "outputs": [],
   "source": [
    "%load_ext pycodestyle_magic"
   ]
  },
  {
   "cell_type": "code",
   "execution_count": 2,
   "metadata": {},
   "outputs": [],
   "source": [
    "%flake8_on"
   ]
  },
  {
   "cell_type": "markdown",
   "metadata": {},
   "source": [
    "# PROJET 5 : Catégorisation automatiquement des questions"
   ]
  },
  {
   "cell_type": "markdown",
   "metadata": {},
   "source": [
    "## SOMMAIRE  <a class=\"anchor\" id=\"sommaire\"></a>\n",
    "## [CONTEXTE DU PROJET](#1)<a class=\"anchor\" id=\"sommaire\"></a>\n",
    "## [IMPORT DES LIBRAIRIES](#3)<a class=\"anchor\" id=\"sommaire\"></a>\n",
    "\n",
    "## [MISSION 3: PREPROCESSING](#11)<a class=\"anchor\" id=\"sommaire\"></a>\n",
    "### [M3-1 : Préparation des input et output : ](#12)<a class=\"anchor\" id=\"sommaire\"></a>\n",
    "### [M3-2 : Séparation de jeu de données de test et d'entrainement : ](#13)<a class=\"anchor\" id=\"sommaire\"></a>\n",
    "\n",
    "## [MISSION 4: APPROCHE NON-SUPERVISEE](#15)<a class=\"anchor\" id=\"sommaire\"></a>\n",
    "### [M4-1 : Modélisation avec algorithme LDA : ](#16)<a class=\"anchor\" id=\"sommaire\"></a>\n",
    "### [M5-1 : Modélisation avec algorithme NMF : ](#17)<a class=\"anchor\" id=\"sommaire\"></a>\n",
    "\n",
    "## [MISSION 5: APPROCHE SUPERVISEE](#20)<a class=\"anchor\" id=\"sommaire\"></a>\n"
   ]
  },
  {
   "cell_type": "markdown",
   "metadata": {},
   "source": [
    "--------------------------------------------------------"
   ]
  },
  {
   "cell_type": "markdown",
   "metadata": {},
   "source": [
    "## [CONTEXTE DU PROJET](#sommaire)<a class=\"anchor\" id=\"1\"></a>"
   ]
  },
  {
   "cell_type": "markdown",
   "metadata": {},
   "source": [
    "Stack Overflow est un site de questions-réponses liées au développement informatique.\n",
    "Les tags nous permettent de retrouver facilement la réponse à une question posée, pourtant ce n'est pas évident de trouver des tags associés à notre question.\n",
    "Donc il était intéressant de développer un application qui suggererait automatiquement plusieurs tags pertinents à partir d'une question posée. "
   ]
  },
  {
   "cell_type": "markdown",
   "metadata": {},
   "source": [
    "## [IMPORT DES LIBRAIRIES](#sommaire)<a class=\"anchor\" id=\"3\"></a>"
   ]
  },
  {
   "cell_type": "code",
   "execution_count": 3,
   "metadata": {},
   "outputs": [
    {
     "name": "stderr",
     "output_type": "stream",
     "text": [
      "C:\\ProgramData\\Anaconda3\\lib\\site-packages\\scipy\\sparse\\sparsetools.py:21: DeprecationWarning: `scipy.sparse.sparsetools` is deprecated!\n",
      "scipy.sparse.sparsetools is a private module for scipy.sparse, and should not be used.\n",
      "  _deprecated()\n",
      "11:14: E401 multiple imports on one line\n"
     ]
    }
   ],
   "source": [
    "import numpy as np\n",
    "import pandas as pd\n",
    "import matplotlib.pyplot as plt\n",
    "import seaborn as sns\n",
    "from bs4 import BeautifulSoup\n",
    "import nltk\n",
    "import os\n",
    "import re\n",
    "import warnings\n",
    "import pyLDAvis.gensim\n",
    "import pickle, requests, json\n",
    "from time import time\n",
    "from utils.functions import custom_tokenize, print_top_words\n",
    "from utils.functions import predictTag, vectorizeInputTest\n",
    "from utils.functions import remove_stopword, cleanText, pattern_searcher\n",
    "from utils.functions import compute_coherence_values, print_topics\n",
    "from nltk.stem import WordNetLemmatizer\n",
    "from PIL import Image\n",
    "from wordcloud import WordCloud, STOPWORDS, ImageColorGenerator\n",
    "from sklearn.model_selection import train_test_split\n",
    "from sklearn.preprocessing import MultiLabelBinarizer\n",
    "from sklearn.feature_extraction.text import TfidfVectorizer, CountVectorizer\n",
    "from sklearn.decomposition import LatentDirichletAllocation as LDA\n",
    "from gensim.models.ldamulticore import LdaMulticore\n",
    "from gensim.corpora import Dictionary\n",
    "from sklearn.decomposition import NMF\n",
    "from sklearn.multioutput import MultiOutputClassifier\n",
    "from sklearn.linear_model import SGDClassifier, LogisticRegression\n",
    "from sklearn.linear_model import Perceptron, PassiveAggressiveClassifier\n",
    "from sklearn.neighbors import KNeighborsClassifier\n",
    "from sklearn.ensemble import RandomForestClassifier\n",
    "from sklearn.naive_bayes import MultinomialNB\n",
    "from sklearn.svm import LinearSVC\n",
    "from sklearn.pipeline import make_pipeline\n",
    "from sklearn.preprocessing import StandardScaler\n",
    "from sklearn.metrics import accuracy_score, jaccard_score\n",
    "from gensim.models.coherencemodel import CoherenceModel\n",
    "from sklearn.metrics.pairwise import cosine_similarity\n",
    "from sklearn.dummy import DummyClassifier"
   ]
  },
  {
   "cell_type": "code",
   "execution_count": 4,
   "metadata": {},
   "outputs": [],
   "source": [
    "# Configuration affichage\n",
    "pd.set_option('display.max_rows', 500)\n",
    "pd.set_option('display.max_columns', 500)"
   ]
  },
  {
   "cell_type": "markdown",
   "metadata": {},
   "source": [
    "## [MISSION 3: PREPROCESSING](#sommaire)<a class=\"anchor\" id=\"11\"></a>"
   ]
  },
  {
   "cell_type": "markdown",
   "metadata": {},
   "source": [
    "#### Récuperation des données texte :"
   ]
  },
  {
   "cell_type": "markdown",
   "metadata": {},
   "source": [
    "Exportons les données stockées dans des fichiers texte :\n",
    "\n",
    "- data/tags_words_tokens.csv : contient les données de base\n",
    "- data/Backup/top1000_words.csv : contient les données de top 1000 des mots \n",
    "- data/Backup/top100_tags.csv : contient les données de top 100 des tags\n",
    "- data/Backup/X_data.csv\n",
    "- data/Backup/y_data.csv"
   ]
  },
  {
   "cell_type": "code",
   "execution_count": 5,
   "metadata": {},
   "outputs": [],
   "source": [
    "data_preprocess = pd.read_csv('data/Backup/tags_words_tokens.csv',\n",
    "                              sep='\\t', engine='python')\n",
    "data_preprocess.drop(['Unnamed: 0'], axis=1, inplace=True)\n",
    "\n",
    "top1000words_exp = pd.read_csv('data/Backup/top1000_words.csv',\n",
    "                               header=None, index_col=0,\n",
    "                               squeeze=True).to_dict()\n",
    "top100tags_exp = pd.read_csv('data/Backup/top100_tags.csv',\n",
    "                             header=None, index_col=0,\n",
    "                             squeeze=True).to_dict()"
   ]
  },
  {
   "cell_type": "markdown",
   "metadata": {},
   "source": [
    "### [M3-1 : Préparation des input et output : ](#sommaire)<a class=\"anchor\" id=\"12\"></a>"
   ]
  },
  {
   "cell_type": "markdown",
   "metadata": {},
   "source": [
    "#### vectorisation de corpus par Bag Of Words:"
   ]
  },
  {
   "cell_type": "code",
   "execution_count": 6,
   "metadata": {},
   "outputs": [],
   "source": [
    "# Corpus (=X) en entrée on aura un ensmble de mots -> Body + Title\n",
    "X_data = pd.read_csv('data/Backup/X_data.csv', sep='\\t', engine='python')\n",
    "X_data.drop(['Unnamed: 0'], axis=1, inplace=True)"
   ]
  },
  {
   "cell_type": "code",
   "execution_count": 7,
   "metadata": {},
   "outputs": [],
   "source": [
    "# X_data"
   ]
  },
  {
   "cell_type": "raw",
   "metadata": {},
   "source": [
    "Le resultat est un vecteur de (8292, 1000) car nous avons 8292 lignes et 1000 (top 1000 des mots dans corpus) nouvelles colonnes."
   ]
  },
  {
   "cell_type": "markdown",
   "metadata": {},
   "source": [
    "#### vectorisation des tags par MultiLabelBinarizer :"
   ]
  },
  {
   "cell_type": "code",
   "execution_count": 8,
   "metadata": {},
   "outputs": [],
   "source": [
    "# 4.1 Tags (=y)\n",
    "y_data = pd.read_csv('data/Backup/y_data.csv', sep='\\t', engine='python')\n",
    "y_data.drop(['Unnamed: 0'], axis=1, inplace=True)"
   ]
  },
  {
   "cell_type": "code",
   "execution_count": 9,
   "metadata": {},
   "outputs": [],
   "source": [
    "# y_data"
   ]
  },
  {
   "cell_type": "markdown",
   "metadata": {},
   "source": [
    "Le resultat est une matrice de (8292, 100) car nous avons 8292 lignes et 100 (tags) nouvelles colonnes."
   ]
  },
  {
   "cell_type": "markdown",
   "metadata": {},
   "source": [
    "### [M3-2 : Séparation de jeu de données de test et d'entrainement : ](#sommaire)<a class=\"anchor\" id=\"13\"></a>"
   ]
  },
  {
   "cell_type": "markdown",
   "metadata": {},
   "source": [
    "Nous allons utiliser 80% des données pour l'entrainement et 20% pour le test"
   ]
  },
  {
   "cell_type": "code",
   "execution_count": 10,
   "metadata": {},
   "outputs": [],
   "source": [
    "# Split train and test :\n",
    "X_train, X_test, y_train, y_test = train_test_split(X_data, y_data, test_size=0.2, random_state=1)"
   ]
  },
  {
   "cell_type": "markdown",
   "metadata": {},
   "source": [
    "## [MISSION 4: APPROCHE NON-SUPERVISEE](#sommaire)<a class=\"anchor\" id=\"15\"></a>"
   ]
  },
  {
   "cell_type": "raw",
   "metadata": {},
   "source": [
    "Dans cette partie, nous allons à partir des questions à notre disposition, extraire les sujets(topics) qui les composent.\n",
    "Nous supposons donc que :\n",
    "- Une question peut etre composé de un ou plusieurs topics\n",
    "- Un topic est composé par plusieurs mots"
   ]
  },
  {
   "cell_type": "code",
   "execution_count": 11,
   "metadata": {},
   "outputs": [],
   "source": [
    "n_samples = 0.8\n",
    "n_features = 1000\n",
    "n_components = 20\n",
    "n_top_words = 10\n",
    "data_preprocess_copy = cleanText(data_preprocess)\n",
    "data_preprocess_copy.drop(['tokens', 'tokensStopWord'], axis=1, inplace=True)\n",
    "corpus = data_preprocess_copy['words_tokens']\n",
    "tags = data_preprocess_copy['tags_tokens']\n",
    "datasetX = corpus.tolist()\n",
    "datasety = tags.tolist()\n",
    "\n",
    "X_trainBis = datasetX[:int(len(datasetX)*n_samples)]\n",
    "y_trainBis = datasety[:int(len(datasety)*n_samples)]\n",
    "X_testBis = datasetX[int(len(datasetX)*n_samples):]\n",
    "y_testBis = datasety[int(len(datasety)*n_samples):]\n",
    "\n",
    "\n",
    "def dummy(doc):\n",
    "    return doc"
   ]
  },
  {
   "cell_type": "markdown",
   "metadata": {},
   "source": [
    "### [M4-1 : Modélisation avec algorithme LDA : ](#sommaire)<a class=\"anchor\" id=\"16\"></a>"
   ]
  },
  {
   "cell_type": "markdown",
   "metadata": {},
   "source": [
    "LDA (Latent Dirichlet Allocation) est un modèle probabiliste génératif avec les hypothèses suivantes : \n",
    "\n",
    "•\tChaque question du corpus est un ensemble de mots sans ordre (bag-of-words) ;\n",
    "\n",
    "•\tChaque question m aborde un certain nombre de topic dans différentes proportions qui lui sont propres p(θm) ;\n",
    "\n",
    "•\tChaque mot possède une distribution associée à chaque topic p(ϕk) . On peut ainsi représenter chaque topic par une \n",
    "probabilité sur chaque mot.\n",
    "\n",
    "•\t zn représente le topic du mot wn\n"
   ]
  },
  {
   "cell_type": "code",
   "execution_count": 12,
   "metadata": {},
   "outputs": [
    {
     "name": "stdout",
     "output_type": "stream",
     "text": [
      "Vectorisation et entrainement du modèle pour LDA...\n"
     ]
    }
   ],
   "source": [
    "print(\"Vectorisation et entrainement du modèle pour LDA...\")\n",
    "\n",
    "tfidf_vectorizer_lda = CountVectorizer(max_df=0.95, min_df=2,\n",
    "                                       max_features=n_features,\n",
    "                                       tokenizer=dummy, preprocessor=dummy,\n",
    "                                       analyzer='word')\n",
    "tfidf_lda = tfidf_vectorizer_lda.fit_transform(X_trainBis)\n"
   ]
  },
  {
   "cell_type": "markdown",
   "metadata": {},
   "source": [
    "#### La recherche de nombre de topics optimal avec HDP models:"
   ]
  },
  {
   "cell_type": "code",
   "execution_count": 13,
   "metadata": {},
   "outputs": [
    {
     "name": "stdout",
     "output_type": "stream",
     "text": [
      "Le nombre de topics optimal : 20\n"
     ]
    }
   ],
   "source": [
    "from gensim.models import HdpModel\n",
    "dictionary = Dictionary(datasetX)\n",
    "train_id2word = Dictionary(corpus)\n",
    "corpus_copy = corpus.copy()\n",
    "train_corpus = [dictionary.doc2bow(doc) for doc in corpus_copy]\n",
    "hdp = HdpModel(train_corpus, train_id2word, chunksize=10000)\n",
    "nbrOPticOptim = len(hdp.print_topics())\n",
    "print('Le nombre de topics optimal :', nbrOPticOptim)"
   ]
  },
  {
   "cell_type": "code",
   "execution_count": 14,
   "metadata": {},
   "outputs": [
    {
     "name": "stdout",
     "output_type": "stream",
     "text": [
      "\n",
      "Les topics du modele LDA :\n",
      "Topic #0: number service window range .net python find output print way\n",
      "Topic #1: int import return eclipse like node field form set class\n",
      "Topic #2: code best statement mysql whats sql like result practice dont\n",
      "Topic #3: use c++ language good programming question book know ive one\n",
      "Topic #4: feature file hidden view copy internet explorer set use one\n",
      "Topic #5: class method java static use object one interface function using\n",
      "Topic #6: file database one utf using used memory content data output\n",
      "Topic #7: http public variable foo type void method static example class\n",
      "Topic #8: git branch merge commit repository database change svn file container\n",
      "Topic #9: python list file using module way want like function add\n",
      "Topic #10: test unit file class abstract testing directory constructor make using\n",
      "Topic #11: sql query table procedure join date index stored currency server\n",
      "Topic #12: visual studio expression project regular ball asp.net system solution control\n",
      "Topic #13: file command script line way window using like bash get\n",
      "Topic #14: div jquery element javascript html using page like script form\n",
      "Topic #15: string function object way table javascript value return column get\n",
      "Topic #16: error image event text way get add remove input function\n",
      "Topic #17: value exception type string java one public example code dont\n",
      "Topic #18: difference use array one would memory data whats process pattern\n",
      "Topic #19: application web way user app would using need iphone thread\n",
      "\n"
     ]
    }
   ],
   "source": [
    "# entrainer le modèle :\n",
    "n_topics = 20\n",
    "n_top_words = 10\n",
    "\n",
    "lda = LDA(n_components=nbrOPticOptim, n_jobs=-1)\n",
    "lda.fit(tfidf_lda)\n",
    "\n",
    "print(\"\\nLes topics du modele LDA :\")\n",
    "tf_feature_names = tfidf_vectorizer_lda.get_feature_names()\n",
    "print_top_words(lda, tf_feature_names, n_top_words)\n",
    "\n",
    "# hdp.print_topics(num_topics=20)"
   ]
  },
  {
   "cell_type": "code",
   "execution_count": 15,
   "metadata": {},
   "outputs": [
    {
     "data": {
      "text/html": [
       "\n",
       "<link rel=\"stylesheet\" type=\"text/css\" href=\"https://cdn.rawgit.com/bmabey/pyLDAvis/files/ldavis.v1.0.0.css\">\n",
       "\n",
       "\n",
       "<div id=\"ldavis_el80441982903037512976958059\"></div>\n",
       "<script type=\"text/javascript\">\n",
       "\n",
       "var ldavis_el80441982903037512976958059_data = {\"mdsDat\": {\"x\": [-0.11924142197686405, 0.1420283886472816, -0.09601218392362337, -0.04861681862809478, 0.004886169529099568, 0.04394675506874457, 0.03482497594536823, -0.060693703054384776, -0.08847806809872488, -0.05762816811728351, -0.08595340620395384, -0.015367927749854904, 0.06259773516458016, 0.008284133981909785, 0.0012989093269646724, -0.08966736544832309, 0.13430114016671568, -0.05177561632662941, -0.028765683974810764, 0.310032155671883], \"y\": [0.062026615030640345, 0.05081077691687278, -0.09183929678213024, -0.0374513088412595, 0.1716078341643535, -0.08700157087580528, 0.17138825771544688, -0.02631367166722983, -0.09283768754039691, 0.10998176593255377, -0.08857552550771988, -0.10591435695971778, -0.09136531944860045, 0.058013726677158095, 0.13546411062644395, -0.0566751978295033, 0.08710132154468449, 0.03841237992685604, -0.08335332461878044, -0.1234795284638665], \"topics\": [1, 2, 3, 4, 5, 6, 7, 8, 9, 10, 11, 12, 13, 14, 15, 16, 17, 18, 19, 20], \"cluster\": [1, 1, 1, 1, 1, 1, 1, 1, 1, 1, 1, 1, 1, 1, 1, 1, 1, 1, 1, 1], \"Freq\": [10.99360175090564, 7.219494072124426, 7.0640354575339, 7.036915597100216, 6.5613757624792255, 6.224032328006715, 4.993868549421441, 4.897118853017695, 4.85747492472809, 4.645036917748571, 4.166245864398117, 4.125599511753443, 4.099307376000037, 3.859483596846156, 3.7250893785907895, 3.4978722980014547, 3.270416829782895, 3.0908752812313516, 2.879675750080959, 2.7924799002488774]}, \"tinfo\": {\"Term\": [\"git\", \"string\", \"class\", \"file\", \"python\", \"test\", \"method\", \"list\", \"error\", \"difference\", \"book\", \"lisp\", \"recursion\", \"editor\", \"tutorial\", \"wpf\", \"programming\", \"functional\", \"ide\", \"believe\", \"pointer\", \"language\", \"c++\", \"design\", \"good\", \"pattern\", \"use\", \"question\", \"know\", \"ive\", \"one\", \"overloading\", \"column\", \"foreign\", \"regex\", \"string\", \"count\", \"primary\", \"hashmap\", \"arg\", \"nvarchar\", \"table\", \"var\", \"object\", \"function\", \"javascript\", \"return\", \"date\", \"value\", \"way\", \"name\", \"get\", \"shell\", \"bash\", \"grep\", \"podcast\", \"mac\", \"tab\", \"command\", \"echo\", \"batch\", \"scripting\", \"script\", \"line\", \"window\", \"file\", \"machine\", \"linux\", \"way\", \"using\", \"like\", \"get\", \"car\", \"layer\", \"app\", \"center\", \"iphone\", \"domain\", \"authentication\", \"jpa\", \"business\", \"security\", \"web\", \"website\", \"url\", \"application\", \"thread\", \"user\", \"php\", \"request\", \"way\", \"would\", \"need\", \"using\", \"jar\", \"anonymous\", \"interface\", \"inheritance\", \"linq\", \"beginner\", \"class\", \"reflection\", \"super\", \"static\", \"method\", \"called\", \"java\", \"self\", \"object\", \"use\", \"function\", \"one\", \"using\", \"div\", \"width\", \"src=\", \"style=\", \"iframe\", \"height\", \"dom\", \"title\", \"id=\", \"html\", \"element\", \"jquery\", \"page\", \"javascript\", \"tag\", \"option\", \"content\", \"form\", \"using\", \"script\", \"like\", \"synchronized\", \"str\", \"foreach\", \"lock\", \"arraylist\", \"dictionary\", \"exception\", \"faster\", \"integer\", \"favorite\", \"value\", \"stack\", \"type\", \"public\", \"java\", \"string\", \"example\", \"one\", \"dont\", \"code\", \"plain\", \":string\", \"piece\", \"module\", \"python\", \"extension\", \"std\", \"list\", \"quick\", \"iterate\", \"documentation\", \"file\", \"source\", \"add\", \"item\", \"end\", \"using\", \"want\", \"way\", \"function\", \"like\", \"git\", \"merge\", \"commit\", \"branch\", \"rebase\", \"commits\", \"mutex\", \"history\", \"checkout\", \"subversion\", \"repository\", \"svn\", \"master\", \"container\", \"change\", \"database\", \"file\", \"salt\", \"versus\", \"storing\", \"array\", \"password\", \"difference\", \"provide\", \"search\", \"distance\", \"hibernate\", \"purpose\", \"memory\", \"process\", \"use\", \"vs.\", \"point\", \"pattern\", \"whats\", \"data\", \"one\", \"would\", \"utf\", \"redirect\", \"heap\", \"encoding\", \"diff\", \"virtual\", \"ascii\", \"cpu\", \"activity\", \"whatever\", \"file\", \"content\", \"filename\", \"xml\", \"database\", \"memory\", \"output\", \"character\", \"used\", \"one\", \"data\", \"using\", \"explorer\", \"hidden\", \"internet\", \"assembly\", \"certificate\", \"feature\", \"port\", \"copy\", \"controller\", \"view\", \"operator\", \"file\", \"build\", \"browser\", \"set\", \"use\", \"one\", \"button\", \"image\", \"error\", \"event\", \"json\", \"failed\", \"handler\", \"nothing\", \"alert\", \"plugins\", \"click\", \"remove\", \"input\", \"message\", \"text\", \"add\", \"get\", \"way\", \"function\", \"coverage\", \"condition\", \"calculate\", \"exit\", \"injection\", \"proxy\", \"team\", \"dependency\", \"follow\", \"statement\", \"mysql\", \"code\", \"practice\", \"best\", \"whats\", \"result\", \"sql\", \"like\", \"dont\", \"soap\", \"equal\", \"foo\", \"void\", \"myclass\", \"bar\", \"compile\", \"http\", \"sudo\", \"variable\", \"public\", \"type\", \"static\", \"private\", \"path\", \"method\", \"example\", \"class\", \"grid\", \"house\", \"studio\", \"ball\", \"collision\", \"operating\", \"visual\", \"graph\", \"expression\", \"life\", \"regular\", \"asp.net\", \"project\", \"mvc\", \"system\", \"control\", \"solution\", \"unsigned\", \"eclipse\", \"col\", \"node\", \"signed\", \"override\", \"warning\", \"import\", \"catch\", \"company\", \"int\", \"return\", \"field\", \"world\", \"form\", \"void\", \"like\", \"set\", \"class\", \"abstract\", \"declaration\", \"test\", \"unit\", \"namespace\", \"initialize\", \"constructor\", \"flag\", \"member\", \"testing\", \"double\", \"word\", \"structure\", \"directory\", \"class\", \"file\", \"make\", \"using\", \"android\", \"service\", \"range\", \"logging\", \"card\", \"random\", \"trace\", \"constant\", \"number\", \"network\", \"account\", \".net\", \"output\", \"print\", \"window\", \"find\", \"python\", \"way\", \"procedure\", \"currency\", \"join\", \"outer\", \"dbo\", \"seek\", \"inner\", \"index\", \"collection\", \"stored\", \"query\", \"sql\", \"date\", \"loop\", \"table\", \"order\", \"server\"], \"Freq\": [272.0, 412.0, 433.0, 600.0, 321.0, 181.0, 404.0, 263.0, 160.0, 276.0, 86.65904283338936, 20.971345337068772, 16.931673780254393, 37.56015300777082, 58.09187553032098, 27.94518938608305, 101.88617015353255, 20.95612784078112, 25.61349673179598, 13.868295008245193, 43.67947780738479, 122.26531015040764, 140.82224134611266, 54.393257829288984, 108.1286794093475, 57.45142172775711, 167.28652139154212, 97.9573239246002, 72.76154526641555, 71.72141145458016, 66.04477672293008, 15.551081562433751, 90.2123158127919, 14.352629006073716, 17.34864211172154, 340.338687120692, 33.40218190249029, 15.081228293328955, 13.867080112742187, 13.613252082123878, 11.702522443486572, 121.9262035868145, 53.43432201777584, 134.85366937922487, 135.45077875920256, 104.50075931335093, 95.57439012943776, 48.41474145800267, 96.08093684324417, 130.07316303982856, 68.96892012297332, 76.0367517105272, 47.935830117597874, 54.427844565365824, 20.571849616157802, 19.594564544437727, 27.24466159810708, 30.07506523785971, 140.37678714599497, 21.41156909944034, 18.027895744049932, 10.89580332639137, 139.12576829782125, 120.95009987370346, 91.4761751580674, 204.04377876490722, 34.56174077614109, 46.87810235976135, 91.48667254174025, 79.81571818228686, 74.91252039309137, 54.15717815446579, 39.016138509610926, 26.2819375737118, 73.8319716918871, 21.480795353042318, 54.38276712699262, 23.288077526942782, 17.564270121210797, 15.592053161384554, 17.020348177021194, 20.792363423542174, 98.35541181401712, 30.75213846024849, 51.011981673382444, 102.36368852297413, 52.920830351247965, 74.43036181353084, 49.329579322570396, 39.00446749055916, 78.87158631921001, 62.94978963023549, 54.499810072326184, 56.92225811677983, 17.71740278798522, 17.95480793321327, 65.93992755979613, 16.62844273802946, 50.3561649950166, 18.352102885331497, 324.2210132719395, 17.624536245022878, 11.193679377886367, 108.50948702270813, 238.8341048703437, 38.90259074771156, 122.2398129380121, 33.47218693975719, 87.35665756466018, 89.25455570131959, 61.91370067702692, 66.94271504500048, 56.69466547836335, 152.68923523388713, 26.466594038160284, 23.53204810786802, 21.575121030729758, 21.57512103069644, 37.403316077808775, 22.51663321777224, 21.24363658619771, 30.674655629932865, 86.9586857566854, 104.15431527982362, 110.8130051583767, 67.59714599342692, 96.1385444103331, 44.401136408542605, 50.22568371310792, 45.28008924843893, 52.33886062526227, 77.8240918118384, 55.95143000828088, 58.309593432660826, 16.75581766062334, 15.773071753653792, 25.499619973379268, 31.518996110574143, 16.47704086119529, 27.223854871512902, 90.56392130968683, 22.93155533463985, 38.95723632201163, 20.79315177739525, 101.34857103127382, 32.06852081359454, 51.61091972583363, 44.29467311644948, 49.42067230922996, 51.00183158441863, 43.83328021909962, 46.22809580509462, 39.51982141332231, 40.88671120005708, 12.62588789738544, 13.693640391372986, 12.68751310493542, 52.08219517830263, 232.42218979428876, 21.225080390866168, 32.501755975000776, 174.20373366774655, 14.773651215636837, 10.128971847061216, 20.219907303635377, 107.45579626661643, 30.172828804505567, 35.60128459660338, 30.30866546021818, 26.52676403639317, 57.43767664423396, 45.4761794869435, 51.525050427552635, 41.81499565035351, 42.553976027698425, 271.72788806337155, 86.35856539843157, 80.47382263144823, 123.18282130171383, 22.607211044518163, 16.722470641560534, 19.66484083129396, 18.681291386989813, 17.70326070977322, 23.403300693611122, 67.47474102956706, 46.76458241755715, 35.33969435975065, 38.59178676199817, 63.82510101851155, 66.75229127959119, 41.919985521730936, 14.84492459571538, 13.77500673046494, 12.880433914612745, 84.76529437302091, 29.20037900610019, 159.71373570528732, 22.061883330483305, 29.37650619066482, 11.885803411296482, 9.557441159639124, 16.16449324548422, 52.787631541942325, 39.9884801913517, 138.01664899419657, 25.290900206248004, 31.30792544597027, 33.36005729862608, 41.14611497468686, 45.54909966435873, 63.2828592585692, 54.22300315052113, 38.42346846899323, 15.348314574196369, 25.088179256750323, 20.850846600196142, 16.812705447011993, 28.84026599638456, 13.454420403840375, 17.538584408756968, 15.478607214379418, 15.973992328347977, 113.59510237968435, 33.29143015485375, 22.105867707241885, 24.768502732560293, 44.296938824195976, 34.01332890049554, 31.376141660624622, 28.00881246431402, 35.407921333370055, 40.972336528169656, 31.63380494934369, 36.28129496623568, 32.833189393580334, 67.93240164394902, 35.10777804121414, 26.9613015976168, 12.955811896777993, 92.63737383032797, 13.460746046610232, 35.35623142175521, 14.38766871278067, 59.76732521073365, 24.125312693297854, 79.61661435729519, 20.69218244133267, 25.928257512175083, 29.620898185789343, 28.680472350913792, 27.67445942783608, 37.03771539989628, 135.26230741476164, 144.50828600419368, 71.13749040082732, 31.53947609143049, 13.114133793403843, 13.741702464847936, 11.484096835962145, 13.398427462411936, 11.24430798500657, 15.496107184235576, 40.568838303570075, 40.509768724791435, 29.986841252557607, 50.18266595931187, 40.85334276834194, 45.215981291571026, 49.06246920726236, 38.49039978328827, 15.891966786253962, 17.578118741388646, 14.901813089393492, 23.22786122202824, 14.818410182581312, 9.95104462235423, 8.68893073542125, 17.90056580460281, 9.867048711175034, 43.92938498569653, 38.11408692885505, 147.26171436688006, 27.7755343446368, 45.33842496185431, 34.31007820971509, 29.387462019631297, 31.132450220951114, 29.42167969150782, 24.21195059865262, 20.55194191951542, 18.27041778536538, 69.02981729853553, 52.57574606087705, 21.629715617907454, 21.73070357107059, 19.6959114816758, 89.17119078356967, 10.310605686970574, 80.14440033756358, 84.96524690085747, 60.51350438860626, 48.944536056495494, 31.689454790861085, 28.805893132698547, 51.67816872336383, 33.76481951300446, 32.23125309721849, 21.125594566390106, 18.114820995845587, 60.09754094057427, 41.19741838919989, 19.11841218422171, 16.991503490994067, 65.95854999215646, 16.951450224255858, 53.27218311386297, 11.059975374999278, 41.200194888908555, 33.4193547173503, 51.03724949015667, 24.68874534944561, 31.5896653441986, 26.182732854113972, 26.95606711773529, 23.02414915925898, 31.98217129106282, 15.033121251128719, 26.821501358834368, 12.892694822974908, 17.87868134181115, 15.776984539500305, 48.55339387723445, 23.174891951589323, 13.332501699185919, 98.28310908006632, 45.58626342455513, 25.591646587000188, 18.904615339772246, 23.857344793090594, 20.79600483003494, 27.03157099552286, 23.503264901660852, 23.24997156956031, 32.10681954919736, 22.072429186885103, 156.27547044493164, 53.015240495990845, 14.180928937997818, 12.148780031074049, 24.094618262240964, 9.879014098384324, 17.519269929643098, 31.653486511126097, 13.745899280975951, 22.77051350103244, 21.049130706060357, 27.808306771869233, 35.946120884588446, 36.91805635698429, 24.064392513885316, 23.428497884196176, 23.458429740359357, 79.03473179975386, 40.702926057564774, 16.50110922258899, 13.471987309683975, 26.56127502443408, 11.724917666608793, 13.060326477613929, 101.77451317941548, 8.616582673321554, 16.967088898249635, 37.30491999958048, 31.332761025805848, 30.39198869327527, 41.28701048014095, 32.14936694777793, 35.74434340754607, 29.78441592683988, 47.851715207480325, 40.73243770685312, 46.7859974191721, 20.39164484346498, 19.374605201261808, 20.39164484639186, 22.092889418405175, 45.39109201369863, 31.33737638887768, 42.05584089016552, 57.73901896899941, 78.37384060259122, 45.42804065695075, 34.060978218808714, 52.86197052970809, 35.361299649840184, 39.6219260570071], \"Total\": [272.0, 412.0, 433.0, 600.0, 321.0, 181.0, 404.0, 263.0, 160.0, 276.0, 88.63899260165024, 21.905835986413862, 17.92192124699054, 39.81297643583408, 61.75191741208873, 29.851472217081003, 109.46622714050211, 22.89589635662674, 28.829063135745017, 16.90345316675085, 54.627022842826804, 159.8701703741701, 251.45570926852326, 75.44688825610633, 201.21627545984686, 94.26046008374554, 685.0819486707129, 279.59029606404084, 327.63721238044184, 320.9899930607171, 508.2106404413978, 16.486939650493756, 99.04143566236299, 16.52400187108555, 20.386011808657937, 412.74520755501663, 40.84749344023389, 19.45384296841177, 18.479406512473354, 18.493439895778973, 16.67809324722559, 237.0328915548998, 100.37647618760614, 333.8065846411314, 369.0392860685811, 269.18129123956567, 239.05189735638126, 95.18140679895261, 281.3975302595582, 650.1221055020602, 182.94597928356706, 383.58161263479144, 48.871269690764635, 56.68699506146749, 21.50728919351741, 20.53000417569187, 29.325737095504756, 35.176696348345764, 167.2664539166449, 26.41600579548614, 22.50588215767639, 15.669553213278514, 213.1151128847337, 187.9847298959897, 181.57417601130584, 600.3437822975629, 52.83794291397259, 102.23809513949924, 650.1221055020602, 650.2797898936988, 607.929700315613, 383.58161263479144, 39.951733045955095, 27.29038841607712, 76.98393332769548, 22.416389894601675, 57.513560414999844, 25.34384444075409, 19.50336811968133, 17.558195063860037, 19.56148366591569, 24.40128756607497, 130.7658992765015, 38.02777134547144, 77.0453726021499, 190.7248137351925, 92.99760275262575, 190.18808932290577, 121.59889440426612, 76.33464902173677, 650.1221055020602, 487.250057422125, 308.6669585536901, 650.2797898936988, 18.68753269530123, 19.669775451653678, 76.68960094040155, 19.653978643509433, 63.198766163904246, 23.69360003351314, 433.62931642994255, 23.613703062137233, 16.735999937589465, 168.1337946825854, 404.53074461367845, 62.0607875431633, 327.37204292493715, 55.21674788239875, 333.8065846411314, 685.0819486707129, 369.0392860685811, 508.2106404413978, 650.2797898936988, 153.6246158782791, 27.402813609859667, 24.467428752599837, 22.510501674936172, 22.510501674938265, 40.110680685642194, 24.460505447423376, 25.441223809918867, 37.24288899486993, 106.64888282060711, 142.83048874841518, 173.57238042492128, 129.1662754194269, 269.18129123956567, 76.41461795259237, 103.66762088550381, 86.34330267402136, 120.88999956242615, 650.2797898936988, 213.1151128847337, 607.929700315613, 17.690984186818643, 16.70823828288249, 27.556258332352602, 35.39770235623383, 18.67838702349231, 32.396910883764626, 112.26717783389753, 30.620333018244743, 58.92613370091034, 31.49270185942505, 281.3975302595582, 61.017971231465815, 222.34706619330865, 171.82599695837635, 327.37204292493715, 412.74520755501663, 292.11806993977416, 508.2106404413978, 209.72420263372803, 520.1704808287511, 15.637394007335221, 17.577217329223796, 16.60872261138731, 68.31442892030653, 321.05791895279805, 31.356380078502507, 48.90438131624908, 263.771965459365, 26.400859984968243, 20.569697851445643, 52.03027036950296, 600.3437822975629, 94.09658187026913, 128.26406657596687, 107.14681135225955, 86.38011197797289, 650.2797898936988, 391.0175894330633, 650.1221055020602, 369.0392860685811, 607.929700315613, 272.6631523817844, 87.2938297173327, 81.40908929910583, 126.54841539662466, 23.542475361835848, 17.657734959789728, 21.578568699643174, 20.609495131689393, 19.612710757434346, 26.534741672529773, 78.70051468810559, 55.09578988582855, 43.23660335646266, 48.060597180873806, 146.3394420235036, 186.12563977367645, 600.3437822975629, 15.779909730463377, 16.774163547622095, 17.776722882288166, 129.2081615961634, 49.20110082283599, 276.10502371132316, 39.37388662837613, 53.250871091571184, 21.59251549061312, 17.75044999048158, 30.531462480628452, 109.57274346227086, 81.28437257865752, 685.0819486707129, 51.350068404533204, 81.7805737502877, 94.26046008374554, 152.51119745642472, 196.21919165155936, 508.2106404413978, 487.250057422125, 40.41470243437136, 17.7318695003412, 29.542361224730538, 26.575420163824173, 21.63487384965099, 39.31179204486273, 18.685499284447722, 25.577205586716904, 23.575941649505296, 25.64824338853817, 600.3437822975629, 86.34330267402136, 43.156732193782084, 52.941321178352396, 186.12563977367645, 109.57274346227086, 92.15856067965238, 78.18159033673716, 212.55542319509334, 508.2106404413978, 196.21919165155936, 650.2797898936988, 35.388422336735296, 76.65293602315299, 44.23671996972175, 34.36138997566749, 16.693087758961358, 124.87597094571484, 19.801996711967647, 60.029641349494746, 24.58460450937655, 107.98542351330514, 58.69306324345998, 600.3437822975629, 47.35618309038566, 87.24494750517987, 206.07406406365124, 685.0819486707129, 508.2106404413978, 38.99885806729486, 146.10033908156566, 160.867283072494, 80.9454481252962, 40.036127853509456, 17.601473917985604, 18.531475256831225, 15.604772004634425, 18.53656180765705, 19.546507204875077, 27.36225896422635, 80.06130289930108, 80.09379130093224, 59.643073285069896, 177.0422909007474, 128.26406657596687, 383.58161263479144, 650.1221055020602, 369.0392860685811, 16.826762923575533, 20.75848544728583, 17.870688515877653, 30.71199183954706, 20.7194721361298, 17.764518934799035, 15.890514268284347, 33.52255444818925, 18.739211148443946, 87.69389115047419, 92.41103252420316, 520.1704808287511, 87.04649629876798, 287.5824117559765, 152.51119745642472, 120.36101321781939, 155.70411965456907, 607.929700315613, 209.72420263372803, 23.601643902211926, 23.557014881569312, 90.28003914308337, 76.00385036137169, 32.429932152650686, 34.33077127113473, 33.39554216985904, 152.05995454542375, 18.653458533686077, 156.41814441644206, 171.82599695837635, 222.34706619330865, 168.1337946825854, 85.45817620250584, 69.6275434069834, 404.53074461367845, 292.11806993977416, 433.62931642994255, 22.059718829665904, 19.048945256962472, 64.12339444056504, 44.10188539380866, 21.035204758500875, 19.040743316695284, 77.13514089954687, 20.015360365596266, 70.81983745551699, 15.945807610137667, 61.81244487843985, 52.824041293619366, 142.54786310879936, 39.828246471643936, 94.97571834528318, 72.16843290002761, 138.98148336760246, 23.95850905647537, 33.93829055757986, 15.96748114836016, 34.85495773144025, 16.892578554569887, 23.826320897396887, 21.866493151306948, 68.47305699776382, 32.764012900950135, 21.786369847312464, 166.15497450430448, 239.05189735638126, 77.66360812000421, 38.801057146874854, 120.88999956242615, 76.00385036137169, 607.929700315613, 206.07406406365124, 433.62931642994255, 33.053567735054244, 25.324673828018025, 181.14831242817644, 64.32380630707742, 18.48592026256986, 18.480569785318895, 39.01891692507422, 17.52873997663104, 31.282745411843102, 57.7383649375323, 26.402573806839435, 63.84797874565117, 58.0526295517339, 110.2829161917166, 433.62931642994255, 600.3437822975629, 224.05420955862562, 650.2797898936988, 24.393963439814094, 92.80735991707036, 47.828813542422665, 20.517796753013922, 17.587201720122867, 38.12550439682041, 18.646616286448083, 22.549460262009404, 190.35991697826202, 16.639492877906847, 33.28743659692355, 99.20657639898407, 92.15856067965238, 88.21870714064366, 181.57417601130584, 185.94663948241785, 321.05791895279805, 650.1221055020602, 48.78516704747201, 41.66588954563692, 48.756994267244046, 21.32509668311872, 20.308057040020287, 22.311470410515636, 24.331741477696283, 55.59378102504199, 41.31498989618734, 59.37887965367171, 90.51477969045473, 155.70411965456907, 95.18140679895261, 69.95210333626281, 237.0328915548998, 81.72122076048444, 176.5010992343837], \"Category\": [\"Default\", \"Default\", \"Default\", \"Default\", \"Default\", \"Default\", \"Default\", \"Default\", \"Default\", \"Default\", \"Topic1\", \"Topic1\", \"Topic1\", \"Topic1\", \"Topic1\", \"Topic1\", \"Topic1\", \"Topic1\", \"Topic1\", \"Topic1\", \"Topic1\", \"Topic1\", \"Topic1\", \"Topic1\", \"Topic1\", \"Topic1\", \"Topic1\", \"Topic1\", \"Topic1\", \"Topic1\", \"Topic1\", \"Topic2\", \"Topic2\", \"Topic2\", \"Topic2\", \"Topic2\", \"Topic2\", \"Topic2\", \"Topic2\", \"Topic2\", \"Topic2\", \"Topic2\", \"Topic2\", \"Topic2\", \"Topic2\", \"Topic2\", \"Topic2\", \"Topic2\", \"Topic2\", \"Topic2\", \"Topic2\", \"Topic2\", \"Topic3\", \"Topic3\", \"Topic3\", \"Topic3\", \"Topic3\", \"Topic3\", \"Topic3\", \"Topic3\", \"Topic3\", \"Topic3\", \"Topic3\", \"Topic3\", \"Topic3\", \"Topic3\", \"Topic3\", \"Topic3\", \"Topic3\", \"Topic3\", \"Topic3\", \"Topic3\", \"Topic4\", \"Topic4\", \"Topic4\", \"Topic4\", \"Topic4\", \"Topic4\", \"Topic4\", \"Topic4\", \"Topic4\", \"Topic4\", \"Topic4\", \"Topic4\", \"Topic4\", \"Topic4\", \"Topic4\", \"Topic4\", \"Topic4\", \"Topic4\", \"Topic4\", \"Topic4\", \"Topic4\", \"Topic4\", \"Topic5\", \"Topic5\", \"Topic5\", \"Topic5\", \"Topic5\", \"Topic5\", \"Topic5\", \"Topic5\", \"Topic5\", \"Topic5\", \"Topic5\", \"Topic5\", \"Topic5\", \"Topic5\", \"Topic5\", \"Topic5\", \"Topic5\", \"Topic5\", \"Topic5\", \"Topic6\", \"Topic6\", \"Topic6\", \"Topic6\", \"Topic6\", \"Topic6\", \"Topic6\", \"Topic6\", \"Topic6\", \"Topic6\", \"Topic6\", \"Topic6\", \"Topic6\", \"Topic6\", \"Topic6\", \"Topic6\", \"Topic6\", \"Topic6\", \"Topic6\", \"Topic6\", \"Topic6\", \"Topic7\", \"Topic7\", \"Topic7\", \"Topic7\", \"Topic7\", \"Topic7\", \"Topic7\", \"Topic7\", \"Topic7\", \"Topic7\", \"Topic7\", \"Topic7\", \"Topic7\", \"Topic7\", \"Topic7\", \"Topic7\", \"Topic7\", \"Topic7\", \"Topic7\", \"Topic7\", \"Topic8\", \"Topic8\", \"Topic8\", \"Topic8\", \"Topic8\", \"Topic8\", \"Topic8\", \"Topic8\", \"Topic8\", \"Topic8\", \"Topic8\", \"Topic8\", \"Topic8\", \"Topic8\", \"Topic8\", \"Topic8\", \"Topic8\", \"Topic8\", \"Topic8\", \"Topic8\", \"Topic8\", \"Topic9\", \"Topic9\", \"Topic9\", \"Topic9\", \"Topic9\", \"Topic9\", \"Topic9\", \"Topic9\", \"Topic9\", \"Topic9\", \"Topic9\", \"Topic9\", \"Topic9\", \"Topic9\", \"Topic9\", \"Topic9\", \"Topic9\", \"Topic10\", \"Topic10\", \"Topic10\", \"Topic10\", \"Topic10\", \"Topic10\", \"Topic10\", \"Topic10\", \"Topic10\", \"Topic10\", \"Topic10\", \"Topic10\", \"Topic10\", \"Topic10\", \"Topic10\", \"Topic10\", \"Topic10\", \"Topic10\", \"Topic10\", \"Topic10\", \"Topic10\", \"Topic11\", \"Topic11\", \"Topic11\", \"Topic11\", \"Topic11\", \"Topic11\", \"Topic11\", \"Topic11\", \"Topic11\", \"Topic11\", \"Topic11\", \"Topic11\", \"Topic11\", \"Topic11\", \"Topic11\", \"Topic11\", \"Topic11\", \"Topic11\", \"Topic11\", \"Topic11\", \"Topic11\", \"Topic11\", \"Topic12\", \"Topic12\", \"Topic12\", \"Topic12\", \"Topic12\", \"Topic12\", \"Topic12\", \"Topic12\", \"Topic12\", \"Topic12\", \"Topic12\", \"Topic12\", \"Topic12\", \"Topic12\", \"Topic12\", \"Topic12\", \"Topic12\", \"Topic13\", \"Topic13\", \"Topic13\", \"Topic13\", \"Topic13\", \"Topic13\", \"Topic13\", \"Topic13\", \"Topic13\", \"Topic13\", \"Topic13\", \"Topic13\", \"Topic13\", \"Topic13\", \"Topic13\", \"Topic13\", \"Topic13\", \"Topic13\", \"Topic13\", \"Topic14\", \"Topic14\", \"Topic14\", \"Topic14\", \"Topic14\", \"Topic14\", \"Topic14\", \"Topic14\", \"Topic14\", \"Topic14\", \"Topic14\", \"Topic14\", \"Topic14\", \"Topic14\", \"Topic14\", \"Topic14\", \"Topic14\", \"Topic14\", \"Topic14\", \"Topic15\", \"Topic15\", \"Topic15\", \"Topic15\", \"Topic15\", \"Topic15\", \"Topic15\", \"Topic15\", \"Topic15\", \"Topic15\", \"Topic15\", \"Topic15\", \"Topic15\", \"Topic15\", \"Topic15\", \"Topic15\", \"Topic15\", \"Topic15\", \"Topic16\", \"Topic16\", \"Topic16\", \"Topic16\", \"Topic16\", \"Topic16\", \"Topic16\", \"Topic16\", \"Topic16\", \"Topic16\", \"Topic16\", \"Topic16\", \"Topic16\", \"Topic16\", \"Topic16\", \"Topic16\", \"Topic16\", \"Topic17\", \"Topic17\", \"Topic17\", \"Topic17\", \"Topic17\", \"Topic17\", \"Topic17\", \"Topic17\", \"Topic17\", \"Topic17\", \"Topic17\", \"Topic17\", \"Topic17\", \"Topic17\", \"Topic17\", \"Topic17\", \"Topic17\", \"Topic17\", \"Topic17\", \"Topic18\", \"Topic18\", \"Topic18\", \"Topic18\", \"Topic18\", \"Topic18\", \"Topic18\", \"Topic18\", \"Topic18\", \"Topic18\", \"Topic18\", \"Topic18\", \"Topic18\", \"Topic18\", \"Topic18\", \"Topic18\", \"Topic18\", \"Topic18\", \"Topic19\", \"Topic19\", \"Topic19\", \"Topic19\", \"Topic19\", \"Topic19\", \"Topic19\", \"Topic19\", \"Topic19\", \"Topic19\", \"Topic19\", \"Topic19\", \"Topic19\", \"Topic19\", \"Topic19\", \"Topic19\", \"Topic19\", \"Topic19\", \"Topic20\", \"Topic20\", \"Topic20\", \"Topic20\", \"Topic20\", \"Topic20\", \"Topic20\", \"Topic20\", \"Topic20\", \"Topic20\", \"Topic20\", \"Topic20\", \"Topic20\", \"Topic20\", \"Topic20\", \"Topic20\", \"Topic20\"], \"logprob\": [10.0, 9.0, 8.0, 7.0, 6.0, 5.0, 4.0, 3.0, 2.0, 1.0, -4.316, -5.7348, -5.9488, -5.1521, -4.716, -5.4478, -4.1541, -5.7356, -5.5349, -6.1484, -5.0011, -3.9718, -3.8305, -4.7818, -4.0947, -4.7271, -3.6583, -4.1935, -4.4908, -4.5052, -4.5877, -5.6133, -3.8553, -5.6935, -5.504, -2.5275, -4.8488, -5.644, -5.7279, -5.7464, -5.8977, -3.5541, -4.379, -3.4533, -3.4489, -3.7083, -3.7976, -4.4777, -3.7923, -3.4894, -4.1238, -4.0262, -4.4658, -4.3388, -5.3118, -5.3604, -5.0308, -4.932, -3.3914, -5.2718, -5.4438, -5.9473, -3.4003, -3.5403, -3.8196, -3.0174, -4.793, -4.4881, -3.8195, -3.956, -4.0194, -4.3438, -4.6679, -5.063, -4.0301, -5.2647, -4.3358, -5.1839, -5.466, -5.5851, -5.4974, -5.2973, -3.7433, -4.9059, -4.3998, -3.7033, -4.3631, -4.022, -4.4333, -4.6682, -3.964, -4.1895, -4.3337, -4.2902, -5.3873, -5.374, -4.0731, -5.4508, -4.3428, -5.3521, -2.4805, -5.3926, -5.8465, -3.575, -2.7861, -4.6008, -3.4559, -4.7512, -3.7919, -3.7704, -4.1361, -4.058, -4.2242, -3.1807, -4.9332, -5.0507, -5.1376, -5.1376, -4.5873, -5.0948, -5.153, -4.7857, -3.7437, -3.5632, -3.5013, -3.9955, -3.6433, -4.4158, -4.2926, -4.3962, -4.2514, -3.8546, -4.1846, -4.1433, -5.1701, -5.2306, -4.7502, -4.5383, -5.1869, -4.6848, -3.4828, -4.8564, -4.3264, -4.9543, -3.3703, -4.521, -4.0452, -4.198, -4.0885, -4.057, -4.2085, -4.1553, -4.3121, -4.2781, -5.4336, -5.3524, -5.4287, -4.0165, -2.5208, -4.9141, -4.488, -2.8091, -5.2765, -5.6539, -4.9627, -3.2922, -4.5624, -4.3969, -4.5579, -4.6912, -3.9186, -4.1521, -4.0273, -4.2361, -4.2186, -2.3564, -3.5027, -3.5733, -3.1475, -4.8429, -5.1444, -4.9824, -5.0337, -5.0875, -4.8083, -3.7494, -4.1161, -4.3962, -4.3082, -3.8051, -3.7602, -4.2254, -5.2188, -5.2936, -5.3608, -3.4766, -4.5423, -2.8431, -4.8226, -4.5363, -5.4411, -5.6592, -5.1337, -3.9502, -4.2279, -2.9891, -4.686, -4.4726, -4.4091, -4.1994, -4.0977, -3.7689, -3.9234, -4.159, -5.0767, -4.5853, -4.7703, -4.9856, -4.4459, -5.2084, -4.9433, -5.0682, -5.0367, -3.0751, -4.3024, -4.7119, -4.5981, -4.0168, -4.2809, -4.3616, -4.4752, -4.2408, -4.0948, -4.3535, -4.2164, -4.3065, -3.5794, -4.2395, -4.5035, -5.2363, -3.2692, -5.1981, -4.2324, -5.1315, -3.7074, -4.6146, -3.4207, -4.7681, -4.5426, -4.4094, -4.4417, -4.4774, -4.1796, -2.8843, -2.8182, -3.5269, -4.3403, -5.2178, -5.1711, -5.3505, -5.1964, -5.3716, -5.0509, -4.0885, -4.09, -4.3907, -3.8758, -4.0815, -3.98, -3.8984, -4.1411, -4.9654, -4.8646, -5.0297, -4.5859, -5.0353, -5.4335, -5.5692, -4.8464, -5.442, -3.9486, -4.0906, -2.739, -4.4071, -3.9171, -4.1958, -4.3506, -4.293, -4.3495, -4.5444, -4.6728, -4.7905, -3.4612, -3.7335, -4.6217, -4.617, -4.7154, -3.2052, -5.3626, -3.3119, -3.2535, -3.5929, -3.8051, -4.2398, -4.3352, -3.7507, -4.1764, -4.2228, -4.5824, -4.7361, -3.5369, -3.9145, -4.6822, -4.8001, -3.4438, -4.8025, -3.6574, -5.2295, -3.9144, -4.1237, -3.7003, -4.4265, -4.18, -4.3677, -4.3386, -4.4291, -4.1004, -4.8553, -4.2764, -5.0089, -4.682, -4.807, -3.6829, -4.4225, -4.9754, -2.9777, -3.746, -4.3233, -4.6262, -4.3935, -4.5308, -4.2686, -4.4085, -4.4193, -4.0401, -4.4148, -2.4575, -3.5386, -4.8572, -5.0119, -4.3271, -5.2187, -4.6458, -4.0543, -4.8884, -4.3837, -4.4623, -4.1838, -3.9271, -3.9004, -4.3284, -4.3552, -4.2831, -3.0685, -3.7321, -4.6349, -4.8377, -4.1589, -4.9766, -4.8688, -2.8156, -5.2847, -4.6071, -3.8192, -3.9937, -4.0242, -3.7178, -3.968, -3.862, -4.0444, -3.5395, -3.7006, -3.562, -4.3925, -4.4436, -4.3925, -4.3124, -3.5923, -3.9628, -3.6686, -3.3517, -3.0461, -3.5915, -3.8795, -3.4399, -3.842, -3.7282], \"loglift\": [10.0, 9.0, 8.0, 7.0, 6.0, 5.0, 4.0, 3.0, 2.0, 1.0, 2.1853, 2.1643, 2.151, 2.1496, 2.1468, 2.1419, 2.1361, 2.1193, 2.0896, 2.0099, 1.9842, 1.9397, 1.6281, 1.8807, 1.5868, 1.7127, 0.798, 1.1591, 0.7031, 0.7092, 0.1673, 2.5699, 2.535, 2.4875, 2.4671, 2.4355, 2.4272, 2.3738, 2.3412, 2.322, 2.2741, 1.9636, 1.9979, 1.722, 1.6261, 1.6822, 1.7116, 1.9524, 1.5538, 1.0193, 1.6529, 1.01, 2.6308, 2.6095, 2.6057, 2.6035, 2.5765, 2.4935, 2.4749, 2.4401, 2.4283, 2.2868, 2.2237, 2.2092, 1.9646, 1.571, 2.2257, 1.8704, 0.6892, 0.5525, 0.5564, 0.6925, 2.6303, 2.6163, 2.6122, 2.6114, 2.598, 2.5694, 2.5493, 2.5352, 2.5148, 2.494, 2.3692, 2.4416, 2.2417, 2.0317, 2.0902, 1.7159, 1.7518, 1.9825, 0.5447, 0.6076, 0.9199, 0.2183, 2.6707, 2.6327, 2.5729, 2.5568, 2.4968, 2.4685, 2.4332, 2.4314, 2.3218, 2.286, 2.197, 2.2569, 1.7389, 2.2234, 1.3834, 0.6859, 0.9388, 0.6969, 0.2842, 2.7706, 2.742, 2.7378, 2.7343, 2.7343, 2.7069, 2.6939, 2.5964, 2.5827, 2.5726, 2.461, 2.328, 2.1292, 1.7472, 2.2338, 2.0521, 2.1313, 1.9396, 0.6538, 1.4394, 0.4325, 2.9426, 2.9394, 2.9194, 2.8809, 2.8716, 2.823, 2.7821, 2.7078, 2.5831, 2.5818, 1.9758, 2.3537, 1.5365, 1.6413, 1.1062, 0.906, 1.1002, 0.5997, 1.328, 0.4536, 2.8026, 2.7669, 2.7472, 2.7452, 2.6935, 2.6263, 2.608, 2.6017, 2.436, 2.3081, 2.0714, 1.2961, 1.8791, 1.7348, 1.7538, 1.8359, 0.5898, 0.865, 0.4814, 0.8389, 0.3572, 3.0212, 3.0139, 3.0131, 2.9977, 2.9841, 2.9702, 2.9318, 2.9264, 2.9222, 2.8991, 2.8708, 2.8607, 2.823, 2.8052, 2.1949, 1.9992, 0.3629, 3.0083, 2.8724, 2.7472, 2.6478, 2.5476, 2.522, 2.4901, 2.4746, 2.4724, 2.4503, 2.4334, 2.3391, 2.36, 1.4672, 2.3611, 2.1092, 2.0307, 1.7593, 1.6089, 0.9861, 0.8737, 3.1276, 3.0338, 3.0147, 2.9356, 2.926, 2.8684, 2.8497, 2.8009, 2.7574, 2.7046, 1.5133, 2.2251, 2.5092, 2.4185, 1.7426, 2.0083, 2.1007, 2.1516, 1.3859, 0.6602, 1.3531, 0.2921, 3.113, 3.0672, 2.9568, 2.9454, 2.9345, 2.8893, 2.802, 2.6586, 2.6522, 2.5964, 2.2989, 1.1677, 2.36, 1.9746, 1.2482, 0.0146, 0.2776, 3.1428, 3.1173, 3.0871, 3.0652, 2.9558, 2.9001, 2.8953, 2.8877, 2.8697, 2.6414, 2.6258, 2.5146, 2.5127, 2.5067, 1.9336, 2.0502, 1.0563, 0.6103, 0.9339, 3.1975, 3.0883, 3.073, 2.9753, 2.9194, 2.6751, 2.651, 2.6273, 2.6132, 2.5634, 2.369, 1.9927, 2.1123, 1.4073, 1.7628, 1.8447, 1.6449, 0.2263, 1.0957, 3.1517, 3.0359, 3.0217, 2.9216, 2.8851, 2.8328, 2.7621, 2.7564, 2.6972, 2.6214, 2.5858, 1.9887, 2.056, 2.298, 2.4075, 1.2324, 1.1323, 0.6908, 3.3097, 3.3027, 3.2882, 3.2849, 3.2575, 3.2391, 3.1965, 3.1869, 3.0683, 2.9872, 2.9474, 2.8952, 2.3259, 2.8748, 2.2522, 2.3391, 1.7129, 3.3805, 3.3609, 3.36, 3.1583, 3.15, 3.1331, 3.0938, 3.0765, 3.074, 2.9292, 2.8952, 1.7632, 2.3101, 2.7012, 1.7975, 2.1242, 0.3072, 1.2492, 0.4944, 3.4477, 3.3393, 3.329, 3.2834, 3.2116, 3.0572, 2.9947, 2.9033, 2.897, 2.8756, 2.824, 2.4457, 2.4622, 2.099, 0.9865, 0.6879, 1.2456, 0.1533, 3.5084, 3.3869, 3.3862, 3.3296, 3.2809, 3.1861, 3.0835, 3.0014, 2.9213, 2.8894, 2.8736, 2.5694, 2.4686, 2.4819, 2.0664, 1.7924, 1.3523, 0.4643, 3.5589, 3.5556, 3.537, 3.5335, 3.5312, 3.4883, 3.4817, 3.3755, 3.3018, 3.2333, 3.1287, 2.8918, 2.8386, 2.8586, 2.0777, 2.7405, 2.0843]}, \"token.table\": {\"Topic\": [4, 5, 7, 8, 11, 14, 16, 17, 19, 8, 15, 18, 4, 18, 19, 20, 11, 13, 1, 2, 3, 5, 6, 8, 12, 13, 14, 15, 16, 17, 18, 6, 13, 19, 5, 12, 3, 4, 15, 1, 3, 4, 8, 10, 11, 12, 13, 18, 19, 2, 11, 5, 7, 10, 12, 17, 7, 10, 4, 11, 19, 6, 10, 12, 14, 16, 12, 19, 4, 5, 1, 13, 16, 3, 15, 3, 19, 3, 12, 5, 16, 1, 14, 15, 1, 2, 3, 4, 5, 6, 7, 8, 9, 11, 12, 13, 14, 15, 16, 1, 9, 9, 14, 4, 6, 12, 13, 14, 15, 16, 8, 10, 11, 12, 13, 15, 16, 18, 20, 4, 20, 13, 17, 1, 3, 5, 8, 10, 11, 15, 17, 19, 14, 20, 1, 5, 8, 11, 12, 17, 18, 4, 4, 13, 17, 19, 4, 13, 14, 17, 4, 12, 19, 3, 6, 9, 10, 11, 12, 13, 15, 16, 17, 18, 20, 2, 3, 4, 10, 11, 19, 4, 9, 1, 5, 7, 12, 15, 17, 18, 3, 6, 13, 16, 1, 2, 3, 4, 5, 6, 7, 8, 9, 11, 12, 13, 14, 15, 16, 17, 18, 19, 20, 17, 5, 8, 13, 20, 15, 16, 2, 6, 16, 17, 20, 3, 9, 11, 12, 13, 9, 9, 4, 14, 17, 1, 5, 8, 15, 19, 4, 10, 14, 2, 10, 16, 19, 1, 2, 5, 7, 12, 18, 5, 6, 9, 3, 6, 8, 11, 18, 1, 4, 6, 8, 9, 12, 13, 14, 16, 18, 12, 14, 15, 1, 9, 11, 12, 19, 1, 2, 4, 7, 9, 20, 14, 3, 6, 11, 20, 4, 6, 10, 11, 12, 13, 15, 16, 17, 18, 20, 2, 4, 9, 10, 11, 19, 2, 19, 20, 20, 3, 17, 18, 1, 4, 5, 14, 1, 5, 6, 8, 10, 19, 7, 8, 11, 18, 5, 7, 9, 10, 11, 12, 14, 15, 18, 20, 3, 8, 9, 10, 13, 16, 18, 8, 10, 6, 1, 2, 4, 5, 7, 8, 11, 12, 14, 16, 6, 18, 4, 6, 1, 2, 3, 4, 5, 6, 7, 8, 9, 10, 11, 12, 14, 16, 17, 18, 4, 10, 11, 14, 15, 18, 3, 15, 14, 17, 1, 3, 1, 5, 6, 8, 9, 13, 14, 18, 4, 11, 12, 1, 2, 6, 8, 9, 11, 12, 15, 16, 17, 18, 2, 9, 15, 17, 7, 9, 12, 13, 1, 4, 13, 17, 1, 2, 3, 4, 5, 6, 7, 8, 9, 10, 11, 12, 13, 14, 15, 16, 17, 18, 7, 13, 14, 17, 4, 13, 14, 20, 6, 12, 1, 8, 16, 17, 1, 5, 8, 12, 13, 18, 20, 5, 7, 10, 20, 1, 7, 11, 13, 1, 8, 9, 12, 18, 4, 6, 10, 13, 14, 17, 18, 3, 8, 9, 10, 11, 12, 15, 16, 18, 3, 8, 11, 12, 18, 1, 2, 3, 4, 5, 7, 8, 9, 11, 13, 15, 18, 19, 3, 4, 18, 3, 5, 10, 12, 14, 2, 3, 6, 13, 15, 7, 20, 2, 17, 1, 3, 4, 6, 7, 9, 10, 11, 12, 13, 17, 1, 2, 3, 5, 6, 8, 10, 12, 13, 14, 15, 17, 18, 19, 1, 14, 1, 2, 3, 4, 5, 6, 7, 8, 9, 10, 11, 12, 13, 15, 16, 17, 18, 19, 20, 9, 1, 2, 3, 4, 5, 6, 7, 8, 9, 10, 14, 16, 19, 20, 10, 16, 3, 16, 2, 4, 13, 14, 2, 5, 3, 11, 13, 6, 18, 9, 10, 13, 16, 6, 12, 9, 14, 16, 4, 6, 8, 11, 12, 13, 17, 4, 6, 8, 12, 15, 16, 6, 13, 17, 1, 8, 6, 13, 18, 8, 9, 14, 17, 8, 17, 20, 5, 19, 2, 8, 18, 4, 6, 14, 5, 20, 3, 4, 6, 8, 10, 11, 13, 17, 2, 3, 7, 8, 13, 15, 17, 19, 2, 3, 5, 7, 17, 3, 5, 6, 7, 15, 19, 1, 4, 12, 13, 4, 11, 2, 4, 5, 6, 7, 8, 11, 17, 18, 19, 20, 5, 8, 18, 20, 1, 2, 3, 4, 5, 6, 7, 8, 9, 10, 12, 13, 14, 15, 16, 18, 19, 20, 5, 1, 2, 3, 4, 5, 7, 11, 12, 15, 1, 2, 4, 6, 12, 13, 15, 16, 19, 14, 20, 4, 10, 4, 6, 13, 16, 12, 13, 14, 1, 2, 3, 4, 5, 6, 7, 8, 9, 10, 11, 12, 13, 14, 15, 16, 17, 18, 19, 1, 3, 5, 7, 8, 11, 12, 4, 6, 10, 16, 18, 1, 2, 3, 4, 5, 6, 7, 8, 9, 10, 11, 12, 13, 14, 15, 16, 17, 18, 19, 20, 1, 2, 3, 4, 5, 7, 9, 11, 12, 13, 15, 18, 19, 5, 7, 17, 20, 1, 3, 4, 10, 11, 16, 19, 1, 1, 2, 3, 4, 6, 7, 8, 10, 13, 16, 19, 7, 9, 17, 1, 18, 19, 3, 7, 12, 16, 19, 20, 3, 19, 3, 4, 10, 12, 1, 2, 3, 4, 5, 6, 7, 9, 10, 12, 13, 14, 15, 16, 17, 18, 19, 20, 1, 6, 9, 11, 16, 5, 12, 16, 18, 1, 5, 10, 11, 13, 16, 9, 3, 6, 7, 13, 15, 17, 1, 2, 4, 5, 6, 7, 8, 10, 11, 12, 13, 14, 15, 16, 17, 18, 8, 11, 12, 14, 17, 18, 6, 9, 12, 16, 7, 15, 2, 3, 6, 9, 13, 14, 17, 19, 2, 3, 5, 7, 9, 11, 12, 15, 16, 17, 18, 4, 8, 18, 1, 2, 3, 4, 5, 6, 7, 8, 9, 10, 11, 12, 13, 14, 15, 16, 17, 18, 19, 12, 13, 19, 8, 10, 16, 17, 6, 8, 13, 1, 2, 4, 7, 8, 9, 10, 11, 12, 13, 15, 18, 19, 2, 20, 1, 2, 4, 5, 7, 8, 11, 15, 17, 19, 20, 1, 2, 3, 4, 5, 6, 7, 8, 9, 10, 11, 12, 13, 14, 16, 17, 18, 19, 20, 1, 16, 2, 10, 12, 15, 2, 3, 4, 5, 6, 8, 9, 11, 12, 13, 14, 18, 2, 5, 6, 7, 10, 12, 14, 17, 19, 20, 20, 3, 8, 11, 12, 17, 19, 20, 2, 4, 17, 18, 1, 4, 6, 9, 11, 12, 13, 15, 18, 4, 10, 12, 17, 3, 4, 9, 10, 11, 12, 15, 19, 1, 3, 10, 11, 1, 4, 10, 11, 12, 13, 15, 8, 12, 17, 18, 8, 15, 17, 4, 7, 13, 3, 1, 3, 4, 6, 7, 8, 10, 11, 12, 13, 14, 16, 18, 19, 1, 3, 8, 11, 17, 12, 15, 20, 1, 2, 4, 11, 12, 14, 17, 18, 19, 2, 7, 11, 14, 3, 5, 8, 11, 17, 18, 19, 20, 5, 7, 12, 15, 18, 20, 9, 10, 11, 12, 13, 14, 19, 20, 1, 9, 12, 15, 19, 1, 3, 4, 5, 8, 9, 11, 12, 14, 16, 18, 1, 2, 4, 9, 10, 11, 14, 19, 14, 15, 2, 4, 5, 6, 7, 15, 16, 17, 18, 3, 5, 6, 10, 11, 17, 1, 3, 5, 8, 12, 18, 19, 4, 5, 7, 9, 12, 14, 17, 20, 1, 2, 3, 4, 5, 6, 7, 8, 9, 10, 11, 12, 14, 15, 16, 17, 18, 19, 20, 3, 5, 8, 13, 14, 15, 3, 9, 10, 12, 19, 9, 13, 19, 9, 1, 4, 11, 5, 7, 8, 15, 17, 2, 3, 7, 1, 3, 4, 7, 8, 12, 16, 2, 3, 5, 6, 10, 13, 16, 17, 9, 16, 4, 6, 9, 12, 15, 17, 1, 2, 3, 4, 5, 6, 7, 8, 10, 12, 13, 14, 16, 17, 20, 2, 3, 5, 7, 8, 12, 13, 14, 17, 18, 10, 2, 3, 4, 6, 8, 12, 13, 14, 19, 3, 6, 11, 12, 1, 3, 10, 13, 4, 14, 10, 20, 5, 14, 17, 18, 19, 2, 3, 4, 6, 9, 11, 12, 13, 14, 15, 20, 15, 19, 20, 2, 4, 5, 6, 7, 10, 11, 12, 13, 14, 16, 17, 18, 19, 20, 3, 17, 19, 14, 15, 1, 2, 3, 6, 7, 8, 9, 10, 11, 12, 16, 17, 1, 2, 3, 6, 8, 9, 12, 14, 15, 16, 19, 2, 6, 11, 14, 20, 6, 2, 3, 6, 7, 8, 14, 16, 19, 2, 4, 6, 8, 11, 12, 13, 14, 15, 17, 1, 2, 5, 7, 15, 1, 8, 9, 15, 17, 1, 2, 15, 18, 19, 20, 1, 10, 15, 7, 2, 3, 4, 7, 11, 1, 9, 10, 16, 17, 18, 2, 12, 16, 6, 9, 16, 8, 10, 13, 15, 5, 7, 9, 16, 9, 16, 7, 1, 3, 4, 5, 9, 10, 11, 16, 18, 19, 20, 3, 8, 13, 2, 6, 17, 20, 1, 6, 8, 11, 11, 14, 16, 4, 5, 12, 14, 17, 18, 4, 14, 17, 18, 1, 2, 3, 6, 8, 11, 12, 13, 17, 1, 4, 5, 7, 9, 11, 13, 17, 6, 7, 8, 1, 7, 14, 17, 19, 1, 15, 16, 1, 2, 3, 6, 7, 8, 9, 11, 13, 15, 18, 19, 14, 15, 18, 17, 4, 8, 13, 15, 1, 2, 3, 4, 5, 6, 7, 8, 9, 10, 11, 12, 13, 14, 15, 16, 17, 18, 1, 2, 3, 4, 5, 7, 9, 10, 11, 12, 13, 15, 16, 17, 18, 19, 1, 3, 4, 5, 6, 8, 10, 11, 12, 13, 14, 17, 19, 20, 1, 2, 3, 4, 5, 6, 7, 8, 9, 10, 11, 12, 13, 14, 15, 16, 17, 18, 19, 20, 4, 11, 1, 2, 3, 4, 6, 7, 8, 10, 11, 13, 14, 17, 18, 19, 2, 6, 7, 8, 11, 13, 19, 1, 2, 6, 7, 10, 12, 15, 16, 17, 18, 19, 20, 10, 14, 11, 12, 13, 14, 15, 17, 20, 5, 11, 18, 1, 11, 12, 16, 7, 15, 17, 1, 2, 5, 7, 10, 11, 20, 1, 2, 3, 4, 5, 6, 7, 8, 9, 10, 11, 12, 13, 14, 15, 16, 17, 18, 19, 20, 4, 12, 15, 17, 1, 2, 3, 4, 5, 6, 7, 8, 9, 10, 11, 12, 13, 14, 16, 17, 18, 19, 3, 4, 6, 11, 12, 15, 19, 4, 6, 8, 15, 4, 6, 11, 15, 20, 1, 2, 3, 4, 5, 7, 9, 10, 11, 12, 13, 14, 15, 6, 3, 6, 7, 11, 12, 16, 19, 20, 1, 3, 5, 7, 9, 14, 16, 18, 1, 7, 10, 17, 1, 2, 3, 4, 5, 6, 7, 8, 9, 10, 11, 12, 13, 14, 15, 16, 17, 18, 19, 1, 18, 2, 4, 5, 6, 8, 11], \"Freq\": [0.02015995383165426, 0.08063981532661704, 0.19151956140071547, 0.02015995383165426, 0.04031990766330852, 0.21167951523236975, 0.02015995383165426, 0.03023993074748139, 0.3729591458856038, 0.7964855720776501, 0.17067547973092503, 0.9681254458369132, 0.3304550041866735, 0.03004136401697032, 0.5107031882884954, 0.09012409205091096, 0.6362418190119142, 0.29691284887222663, 0.07016774253504256, 0.07016774253504256, 0.0155928316744539, 0.0311856633489078, 0.05457491086058865, 0.28067097014017023, 0.0155928316744539, 0.31965304932630495, 0.023389247511680852, 0.00779641583722695, 0.046778495023361705, 0.046778495023361705, 0.0155928316744539, 0.21578974793198633, 0.7013166807789556, 0.9428562134540643, 0.9151095824272211, 0.05083942124595672, 0.012989723397781278, 0.9612395314358146, 0.012989723397781278, 0.052431562543740484, 0.09437681257873287, 0.5348019379461529, 0.005243156254374048, 0.010486312508748097, 0.15729468763122145, 0.047188406289366436, 0.015729468763122145, 0.010486312508748097, 0.06291787505248858, 0.7570251980647161, 0.21629291373277604, 0.01547889835512826, 0.23992292450448804, 0.657853180092951, 0.00773944917756413, 0.0773944917756413, 0.8566050151908926, 0.05353781344943079, 0.05351743535332331, 0.695726659593203, 0.16055230605996995, 0.03786154847341414, 0.01893077423670707, 0.1893077423670707, 0.11358464542024244, 0.6247155498113334, 0.7857656520623773, 0.20371702090506077, 0.9229175129928331, 0.051273195166268506, 0.022674767554050814, 0.022674767554050814, 0.9296654697160833, 0.3495406469382057, 0.6408245193867105, 0.9525994443954227, 0.017640730451767086, 0.7997909112778543, 0.17773131361730093, 0.7596988205481695, 0.16882196012181544, 0.828233134489824, 0.05915950960641601, 0.05915950960641601, 0.1321360363033755, 0.18081773388882966, 0.06606801815168775, 0.12518150807688208, 0.013909056452986896, 0.02434084879272707, 0.020863584679480345, 0.052158961698700865, 0.013909056452986896, 0.09040886694441483, 0.02781811290597379, 0.02434084879272707, 0.15647688509610258, 0.052158961698700865, 0.013909056452986896, 0.9815093498522034, 0.011281716664967856, 0.9719600171562535, 0.015804227921239894, 0.1490057633334947, 0.37824539923117884, 0.2980115266669894, 0.022923963589768417, 0.03438594538465262, 0.10315783615395786, 0.011461981794884208, 0.12669940034120128, 0.02111656672353355, 0.02111656672353355, 0.4434479011942045, 0.0422331334470671, 0.0422331334470671, 0.21116566723533547, 0.0422331334470671, 0.02111656672353355, 0.8690547348216296, 0.10224173350842701, 0.9487457283019489, 0.025641776440593213, 0.5607349318500843, 0.0795368697659694, 0.15112005255534186, 0.04374527837128317, 0.03181474790638776, 0.00795368697659694, 0.04772212185958164, 0.03579159139468623, 0.04374527837128317, 0.8393632951899352, 0.1119151060253247, 0.1450191071735997, 0.6284161310855987, 0.08056617065199984, 0.03222646826079993, 0.0483397023911999, 0.03222646826079993, 0.016113234130399966, 0.9761779283802194, 0.05685952864552769, 0.05685952864552769, 0.05685952864552769, 0.7391738723918599, 0.030521291852226094, 0.15260645926113048, 0.06104258370445219, 0.7019897126012001, 0.9368145405544195, 0.7787654499702252, 0.17971510383928274, 0.06833427722372959, 0.047833994056610714, 0.4373393742318694, 0.02733371088949184, 0.01366685544474592, 0.08200113266847552, 0.17083569305932397, 0.04100056633423776, 0.034167138611864795, 0.02733371088949184, 0.02050028316711888, 0.034167138611864795, 0.358140578611931, 0.15348881940511327, 0.06395367475213054, 0.012790734950426107, 0.358140578611931, 0.025581469900852215, 0.050987342462129694, 0.9177721643183344, 0.00230611714224714, 0.7471819540880734, 0.0345917571337071, 0.00230611714224714, 0.07379574855190849, 0.05304069427168422, 0.08302021712089705, 0.03654669014380021, 0.32892021129420185, 0.5482003521570031, 0.03654669014380021, 0.08843254605050142, 0.02306935983926124, 0.08843254605050142, 0.0634407395579684, 0.04806116633179425, 0.04806116633179425, 0.07882031278414257, 0.03075914645234832, 0.01345712657290239, 0.00768978661308708, 0.03268159310562009, 0.03460403975889186, 0.2825996580309502, 0.02691425314580478, 0.03268159310562009, 0.03268159310562009, 0.00576733995981531, 0.04806116633179425, 0.01345712657290239, 0.9394092819417845, 0.12102145038794777, 0.07261287023276866, 0.04840858015517911, 0.7503329924052762, 0.047539351838059664, 0.9032476849231337, 0.9087105755091669, 0.04038713668929631, 0.010096784172324078, 0.010096784172324078, 0.020193568344648156, 0.8369879119322229, 0.07174182102276196, 0.0657633359375318, 0.005978485085230164, 0.011956970170460327, 0.9826912533816872, 0.9627508872860803, 0.321301807004048, 0.04590025814343543, 0.5967033558646606, 0.05988823268169872, 0.1497205817042468, 0.08983234902254808, 0.5988823268169872, 0.08983234902254808, 0.09634614264507915, 0.048173071322539576, 0.8671152838057123, 0.044346959456265454, 0.22173479728132725, 0.08869391891253091, 0.5765104729314509, 0.025628594507639522, 0.07688578352291857, 0.10251437803055809, 0.10251437803055809, 0.025628594507639522, 0.6150862681833486, 0.0624211969050164, 0.10403532817502734, 0.8114755597652132, 0.023163348378631713, 0.5211753385192136, 0.05790837094657929, 0.3821952482474233, 0.011581674189315857, 0.06928236902312018, 0.15242121185086438, 0.05542589521849614, 0.041569421413872105, 0.18013415946011246, 0.041569421413872105, 0.041569421413872105, 0.041569421413872105, 0.36026831892022493, 0.013856473804624035, 0.5694620791910812, 0.04067586279936294, 0.3254069023949035, 0.09995062214461324, 0.18324280726512426, 0.09995062214461324, 0.5830452958435772, 0.016658437024102205, 0.048962612673561105, 0.8078831091137583, 0.024481306336780553, 0.024481306336780553, 0.024481306336780553, 0.024481306336780553, 0.950866192901715, 0.11729193753511526, 0.15638925004682033, 0.7037516252106916, 0.9840183528325354, 0.16817926790056548, 0.025481707257661433, 0.2344317067704852, 0.1630829264490332, 0.02038536580612915, 0.0815414632245166, 0.02038536580612915, 0.03057804870919372, 0.06115609741838744, 0.08663780467604888, 0.10702317048217802, 0.1880450218602822, 0.09133615347499421, 0.35997189898968307, 0.09670886838528799, 0.2363994560529262, 0.02149085964117511, 0.5043001738920316, 0.010506253622750658, 0.47278141302377963, 0.9355892571385559, 0.03948718182082358, 0.07897436364164716, 0.8687180000581187, 0.059661324529760945, 0.17898397358928284, 0.2088146358541633, 0.5369519207678485, 0.7157352840940989, 0.10603485690282946, 0.013254357112853683, 0.013254357112853683, 0.11928921401568315, 0.013254357112853683, 0.8334127934873805, 0.12346856199813046, 0.785768390337725, 0.1848866800794647, 0.1738468911387341, 0.054327153480854415, 0.010865430696170882, 0.5794896371291137, 0.010865430696170882, 0.007243620464113922, 0.054327153480854415, 0.061570773944968335, 0.021730861392341764, 0.028974481856455687, 0.37177109035387956, 0.19948692653135003, 0.09067587569606819, 0.009067587569606819, 0.05440552541764092, 0.009067587569606819, 0.25389245194899096, 0.4168110938214936, 0.5557481250953249, 0.9959341419686674, 0.09609790540182743, 0.03843916216073097, 0.09609790540182743, 0.07687832432146194, 0.03843916216073097, 0.3843916216073097, 0.07687832432146194, 0.03843916216073097, 0.07687832432146194, 0.05765874324109646, 0.9402912809564521, 0.04088222960680227, 0.9075181965296047, 0.03945731289259151, 0.17165400820653995, 0.03337716826238277, 0.06675433652476553, 0.10013150478714831, 0.05244983584088721, 0.02860900136775666, 0.1907266757850444, 0.01430450068387833, 0.05721800273551332, 0.03337716826238277, 0.00953633378925222, 0.04291350205163499, 0.11443600547102664, 0.01907266757850444, 0.03337716826238277, 0.02860900136775666, 0.03787509533411306, 0.22725057200467838, 0.03787509533411306, 0.03787509533411306, 0.11362528600233919, 0.5302513346775829, 0.7949725693802049, 0.15142334654861045, 0.029465243639876185, 0.9428877964760379, 0.9544626752848779, 0.02511743882328626, 0.014002612590109138, 0.04200783777032741, 0.7281358546856752, 0.0910169818357094, 0.014002612590109138, 0.0700130629505457, 0.014002612590109138, 0.021003918885163706, 0.15051502385821186, 0.7902038752556123, 0.037628755964552965, 0.04630695548322522, 0.09261391096645044, 0.02315347774161261, 0.31257194951177025, 0.034730216612418915, 0.18522782193290088, 0.10419064983725675, 0.02315347774161261, 0.06946043322483783, 0.034730216612418915, 0.06946043322483783, 0.1273506008754598, 0.04245020029181993, 0.7641036052527587, 0.04245020029181993, 0.031081522013066985, 0.018648913207840193, 0.04351413081829378, 0.9013641383789426, 0.037061997548722844, 0.06176999591453808, 0.8771339419864407, 0.012353999182907615, 0.08558183341809097, 0.07188874007119642, 0.03765600670396003, 0.010269820010170917, 0.06846546673447278, 0.027386186693789113, 0.1506240268158401, 0.07531201340792006, 0.006846546673447278, 0.054772373387578226, 0.03080946003051275, 0.03423273336723639, 0.027386186693789113, 0.0787352867446437, 0.11639129344860372, 0.020539640020341834, 0.06846546673447278, 0.04107928004068367, 0.810566380626732, 0.008907322864030022, 0.06235126004821016, 0.10688787436836027, 0.03256057129815739, 0.06512114259631478, 0.74889313985762, 0.09768171389447217, 0.05651565873632859, 0.9325083691494218, 0.028240674814542326, 0.18356438629452512, 0.7483778825853716, 0.014120337407271163, 0.19134861820716084, 0.09567430910358042, 0.6697201637250629, 0.11362684791734132, 0.7385745114627186, 0.05681342395867066, 0.05681342395867066, 0.032658038023432416, 0.7511348745389457, 0.032658038023432416, 0.13063215209372966, 0.1270135543738014, 0.6668211604624573, 0.09526016578035104, 0.09526016578035104, 0.07207151169148798, 0.024023837230495993, 0.12812713189597863, 0.7447389541453757, 0.03203178297399466, 0.15451252253768388, 0.10300834835845592, 0.06438021772403495, 0.03862813063442097, 0.01287604354480699, 0.33477713216498173, 0.2961490015305608, 0.3398053015878268, 0.17823121210734053, 0.06995991503278787, 0.0016657122626854255, 0.18989119794613848, 0.13325698101483402, 0.023319971677595957, 0.0016657122626854255, 0.06163135371936074, 0.11585677936756268, 0.23171355873512536, 0.5097698292172758, 0.023171355873512534, 0.11585677936756268, 0.12906928604251175, 0.12369139912407377, 0.2204933636559576, 0.02688943459218995, 0.06991252993969387, 0.02151154767375196, 0.08066830377656985, 0.03764520842906593, 0.02151154767375196, 0.06991252993969387, 0.01613366075531397, 0.01075577383687598, 0.17209238139001568, 0.11409833237679144, 0.22819666475358288, 0.5704916618839573, 0.160092117871734, 0.106728078581156, 0.053364039290578, 0.160092117871734, 0.53364039290578, 0.011076645618364389, 0.14399639303873707, 0.03322993685509317, 0.044306582473457555, 0.7642885476671428, 0.9072349263995899, 0.0362893970559836, 0.8472523853012772, 0.06051802752151981, 0.016543965648434168, 0.033087931296868336, 0.13235172518747335, 0.43014310685928836, 0.008271982824217084, 0.024815948472651252, 0.016543965648434168, 0.049631896945302505, 0.041359914121085424, 0.033087931296868336, 0.19852758778121002, 0.008129215813197975, 0.3658147115939088, 0.024387647439593922, 0.16800379347275812, 0.08400189673637906, 0.11380902138477163, 0.005419477208798649, 0.0027097386043993246, 0.10297006696717434, 0.005419477208798649, 0.021677908835194597, 0.05961424929678514, 0.013548693021996624, 0.01896817023079527, 0.9171949275496256, 0.04367594893093456, 0.06517517831023494, 0.19813254206311423, 0.14077838515010746, 0.06778218544264433, 0.036498099853731564, 0.04431912125095976, 0.03910510698614096, 0.041712114118550365, 0.04692612838336916, 0.005214014264818796, 0.018249049926865782, 0.05996116404541615, 0.1173153209584229, 0.026070071324093978, 0.002607007132409398, 0.026070071324093978, 0.007821021397228192, 0.041712114118550365, 0.013035035662046989, 0.9975678694536039, 0.5367359064428744, 0.004969776911508096, 0.029818661469048578, 0.034788438380556674, 0.07454665367262144, 0.014909330734524289, 0.009939553823016192, 0.014909330734524289, 0.019879107646032384, 0.08945598440714572, 0.07951643058412954, 0.04969776911508096, 0.034788438380556674, 0.004969776911508096, 0.09992325711195953, 0.8493476854516561, 0.976413150492703, 0.9519613627966648, 0.053962244567192334, 0.053962244567192334, 0.7554714239406928, 0.053962244567192334, 0.7576000879979661, 0.2164571679994189, 0.06769939561654799, 0.8462424452068499, 0.06769939561654799, 0.9224475717572234, 0.04986203090579586, 0.22534639978957952, 0.5633659994739487, 0.05633659994739488, 0.11267319989478976, 0.10436651764498105, 0.8871153999823389, 0.9219051645173678, 0.04852132444828251, 0.9449342080197811, 0.01875312658796602, 0.815761006576522, 0.06563594305788108, 0.028129689881949034, 0.00937656329398301, 0.04688281646991506, 0.00937656329398301, 0.0657635340605917, 0.23017236921207093, 0.03945812043635502, 0.0657635340605917, 0.5852954531392661, 0.00657635340605917, 0.8323736647892739, 0.05370152676059831, 0.08055229014089747, 0.9018676700514324, 0.06937443615780249, 0.9773216216008804, 0.9240224961054436, 0.06844611082262546, 0.2190642664090471, 0.04381285328180942, 0.014604284427269807, 0.7156099369362205, 0.10792574078200086, 0.07195049385466724, 0.8094430558650064, 0.8649648149289157, 0.1017605664622254, 0.10822177147312932, 0.16233265720969398, 0.6493306288387759, 0.0965275556664631, 0.14479133349969464, 0.7239566674984732, 0.041098579027590405, 0.9041687386069889, 0.1498243472445077, 0.04994144908150256, 0.17479507178525897, 0.03745608681112692, 0.02497072454075128, 0.02497072454075128, 0.5118998530854012, 0.02497072454075128, 0.16249889647029814, 0.10231411999981735, 0.024073910588192318, 0.0060184776470480796, 0.0060184776470480796, 0.07222173176457695, 0.5898108094107117, 0.030092388235240398, 0.16970398992672264, 0.03394079798534453, 0.016970398992672265, 0.6618455607142183, 0.11879279294870584, 0.013039577566417885, 0.8606121193835804, 0.013039577566417885, 0.06519788783208942, 0.013039577566417885, 0.013039577566417885, 0.06781696296771955, 0.06781696296771955, 0.7911979012900615, 0.06781696296771955, 0.9389090087685914, 0.034774407732170054, 0.07466391112376573, 0.009332988890470717, 0.018665977780941433, 0.09332988890470717, 0.25199070004270935, 0.2799896667141215, 0.018665977780941433, 0.08399690001423644, 0.046664944452353585, 0.009332988890470717, 0.09332988890470717, 0.09723040243196569, 0.4861520121598285, 0.24307600607991425, 0.09723040243196569, 0.22430605799720613, 0.04673042874941794, 0.05296115258267367, 0.09346085749883588, 0.0747686859990687, 0.006230723833255725, 0.05919187641592939, 0.06230723833255725, 0.06230723833255725, 0.04673042874941794, 0.018692171499767176, 0.05919187641592939, 0.04361506683279008, 0.031153619166278627, 0.02180753341639504, 0.018692171499767176, 0.03738434299953435, 0.03738434299953435, 0.9632090171286174, 0.11913051478541274, 0.033600914426654874, 0.09774811469572328, 0.08552960035875787, 0.372664687277445, 0.14967680062782626, 0.058037943100585694, 0.018327771505448114, 0.06109257168482705, 0.026004779038563075, 0.3900716855784461, 0.07429936868160879, 0.3566369696717222, 0.05200955807712615, 0.026004779038563075, 0.044579621208965275, 0.007429936868160879, 0.018574842170402197, 0.020509877916568386, 0.9639642620787141, 0.9112553962299198, 0.05695346226436999, 0.01152257055589037, 0.6395026658519155, 0.21892884056191703, 0.12674827611479408, 0.12488720233621978, 0.7992780949518066, 0.07493232140173187, 0.22280741393695763, 0.048834501684812626, 0.048834501684812626, 0.14650350505443788, 0.03967803261891026, 0.04273018897421105, 0.027469407197707105, 0.024417250842406313, 0.051886658040113415, 0.03967803261891026, 0.027469407197707105, 0.030521563553007895, 0.03662587626360947, 0.04273018897421105, 0.030521563553007895, 0.04578234532951184, 0.018312938131804735, 0.030521563553007895, 0.03967803261891026, 0.7631192217689117, 0.018765226764809302, 0.03127537794134884, 0.10633628500058605, 0.006255075588269768, 0.006255075588269768, 0.056295680294427906, 0.952716377780943, 0.0627124084555142, 0.1254248169110284, 0.6898364930106561, 0.0627124084555142, 0.07237678958135611, 0.1134999654798539, 0.12336952769549336, 0.08718113290481531, 0.05263766515007717, 0.09540576808451487, 0.037833321826617965, 0.07073186254541619, 0.027963759610978498, 0.036188394790678056, 0.02960868664691841, 0.01973912443127894, 0.03454346775473814, 0.047702884042257435, 0.03125361368285832, 0.016449270359399117, 0.04441302997037761, 0.03289854071879823, 0.024673905539098675, 0.0016449270359399117, 0.010639162027184774, 0.010639162027184774, 0.6436693026446789, 0.02127832405436955, 0.010639162027184774, 0.03191748608155433, 0.02127832405436955, 0.13298952533980968, 0.03723706709514671, 0.03191748608155433, 0.03191748608155433, 0.005319581013592387, 0.010639162027184774, 0.791154686000141, 0.04746928116000846, 0.01582309372000282, 0.11076165604001974, 0.13693525863229, 0.45971122540840215, 0.05868653941383858, 0.039124359609225716, 0.11737307882767715, 0.08802980912075786, 0.10759198892537072, 0.9586486456405651, 0.04928499500453052, 0.08340537616151318, 0.011373460385660889, 0.007582306923773926, 0.007582306923773926, 0.03412038115698267, 0.6596607023683315, 0.09856999000906104, 0.022746920771321778, 0.007582306923773926, 0.011373460385660889, 0.9040134774274279, 0.05650084233921424, 0.02825042116960712, 0.09747635304488597, 0.09747635304488597, 0.8285490008815307, 0.014295495807938131, 0.4145693784302058, 0.042886487423814394, 0.014295495807938131, 0.014295495807938131, 0.4860468574698965, 0.9206929705490247, 0.03409973964996388, 0.6624027747822203, 0.09462896782603147, 0.018925793565206295, 0.20818372921726924, 0.12050655086190304, 0.004463205587477891, 0.031242439112345234, 0.17852822349911562, 0.06694808381216835, 0.026779233524867344, 0.031242439112345234, 0.08926411174955781, 0.044632055874778906, 0.008926411174955781, 0.07587449498712413, 0.08480090616207991, 0.040168850287301015, 0.026779233524867344, 0.031242439112345234, 0.10711693409946937, 0.013389616762433672, 0.017852822349911562, 0.06938565398550403, 0.02312855132850134, 0.8094992964975469, 0.04625710265700268, 0.02312855132850134, 0.35163154177112577, 0.03196650379737507, 0.03196650379737507, 0.5753970683527512, 0.11864264404839224, 0.01825271446898342, 0.4836969334280607, 0.31029614597271815, 0.03650542893796684, 0.01825271446898342, 0.985178451655492, 0.13413125044316912, 0.0838320315269807, 0.13413125044316912, 0.5029921891618843, 0.11736484413777298, 0.03353281261079228, 0.0024719999983066477, 0.0939359999356526, 0.0024719999983066477, 0.5908079995952887, 0.019775999986453182, 0.04943999996613295, 0.03460799997629307, 0.0049439999966132955, 0.007415999994919943, 0.007415999994919943, 0.012359999991533237, 0.012359999991533237, 0.12854399991194568, 0.009887999993226591, 0.014831999989839886, 0.012359999991533237, 0.7611861918755344, 0.04391458799281929, 0.029276391995212862, 0.014638195997606431, 0.014638195997606431, 0.11710556798085145, 0.04634227663193139, 0.9268455326386278, 0.35150932416689296, 0.6276952217265946, 0.30835710518693277, 0.6783856314112521, 0.09739096895863414, 0.03246365631954471, 0.010821218773181571, 0.30299412564908396, 0.1082121877318157, 0.4112063133808997, 0.021642437546363143, 0.010821218773181571, 0.3771605162912583, 0.08199141658505615, 0.09838969990206739, 0.10385579434107113, 0.027330472195018718, 0.021864377756014974, 0.10932188878007487, 0.027330472195018718, 0.005466094439003743, 0.09838969990206739, 0.04372875551202995, 0.05409522413795065, 0.1081904482759013, 0.7573331379313091, 0.061555017385170184, 0.06803449289939863, 0.15226767458436835, 0.1749458388841679, 0.029157639814027983, 0.06803449289939863, 0.035637115328256426, 0.04535632859959909, 0.035637115328256426, 0.0323973775711422, 0.038876853085370644, 0.0161986887855711, 0.05507554187094175, 0.07775370617074129, 0.019438426542685322, 0.0161986887855711, 0.01295895102845688, 0.01295895102845688, 0.048596066356713305, 0.3605879123856307, 0.060097985397605115, 0.540881868578446, 0.11476129252028545, 0.028690323130071364, 0.0860709693902141, 0.7746387245119268, 0.06408296126998923, 0.12816592253997847, 0.7049125739698815, 0.03677244722059507, 0.18386223610297536, 0.031519240474795776, 0.021012826983197185, 0.015759620237397888, 0.031519240474795776, 0.02626603372899648, 0.02626603372899648, 0.03677244722059507, 0.015759620237397888, 0.015759620237397888, 0.010506413491598593, 0.5358270880715282, 0.7195067099169868, 0.23983556997232897, 0.08088516297252538, 0.4044258148626269, 0.005991493553520398, 0.26062996957813733, 0.08687665652604577, 0.005991493553520398, 0.014978733883800997, 0.008987240330280599, 0.008987240330280599, 0.014978733883800997, 0.10485113718660698, 0.12986741077022082, 0.04525682496537998, 0.021644568461703467, 0.03345069671354172, 0.13183509881219385, 0.03345069671354172, 0.09051364993075996, 0.025579944545649554, 0.059030641259191274, 0.12396434664430168, 0.08067520972089474, 0.05509526517524519, 0.03345069671354172, 0.025579944545649554, 0.03345069671354172, 0.027547632587622595, 0.019676880419730425, 0.019676880419730425, 0.011806128251838256, 0.052518958076766944, 0.8928222873050381, 0.3577935592301868, 0.05111336560431241, 0.40890692483449925, 0.170377885347708, 0.019292426920927502, 0.14469320190695628, 0.038584853841855005, 0.009646213460463751, 0.4823106730231876, 0.09646213460463751, 0.028938640381391257, 0.06752349422324626, 0.019292426920927502, 0.019292426920927502, 0.009646213460463751, 0.048231067302318756, 0.012236723713793822, 0.012236723713793822, 0.024473447427587645, 0.08565706599655676, 0.012236723713793822, 0.208024303134495, 0.024473447427587645, 0.024473447427587645, 0.15907740827931968, 0.4282853299827838, 0.9378621019726636, 0.24956986991093658, 0.02170172781834231, 0.3363767811843058, 0.010850863909171156, 0.010850863909171156, 0.3363767811843058, 0.010850863909171156, 0.9704651281064662, 0.1259111724768116, 0.7554670348608696, 0.08394078165120773, 0.007741958934348878, 0.2167748501617686, 0.5264532075357237, 0.015483917868697756, 0.061935671474791024, 0.10064546614653541, 0.03870979467174439, 0.007741958934348878, 0.015483917868697756, 0.2845464789580907, 0.5894177064131879, 0.020324748497006478, 0.10162374248503239, 0.35905331104202914, 0.0430863973250435, 0.028724264883362334, 0.014362132441681167, 0.10053492709176817, 0.014362132441681167, 0.41650184080875385, 0.014362132441681167, 0.6047074239756357, 0.010608902175011153, 0.35009377177536805, 0.010608902175011153, 0.06579007185216094, 0.4029641900944858, 0.17269893861192248, 0.20559397453800296, 0.03289503592608047, 0.09046134879672131, 0.016447517963040236, 0.7827212425768921, 0.060209326352068625, 0.060209326352068625, 0.060209326352068625, 0.8313405669705536, 0.06394927438235028, 0.06394927438235028, 0.05116003537197637, 0.30696021223185826, 0.5627603890917401, 0.9741839226550469, 0.17118979921500915, 0.012227842801072083, 0.036683528403216245, 0.024455685602144166, 0.13450627081179292, 0.06113921400536041, 0.37906312683323456, 0.036683528403216245, 0.024455685602144166, 0.036683528403216245, 0.036683528403216245, 0.012227842801072083, 0.012227842801072083, 0.024455685602144166, 0.8054621634167591, 0.1098357495568308, 0.0366119165189436, 0.0183059582594718, 0.0183059582594718, 0.6564994525094152, 0.05049995788533963, 0.20199983154135853, 0.36761962124434083, 0.034464339491656955, 0.06892867898331391, 0.011488113163885651, 0.10339301847497086, 0.32166716858879824, 0.034464339491656955, 0.022976226327771302, 0.022976226327771302, 0.7710558795172907, 0.05140372530115272, 0.05140372530115272, 0.05140372530115272, 0.022670928477918836, 0.11335464238959418, 0.2607156774960666, 0.13602557086751302, 0.022670928477918836, 0.04534185695583767, 0.34006392716878253, 0.05667732119479709, 0.32764565363119663, 0.21062934876291212, 0.011701630486828452, 0.37445217557851046, 0.07020978292097071, 0.9839056193718067, 0.024604975551292266, 0.49209951102584537, 0.024604975551292266, 0.12302487775646134, 0.024604975551292266, 0.04920995110258453, 0.0369074633269384, 0.20914229218598426, 0.9317942406938072, 0.009135237653860855, 0.01827047530772171, 0.009135237653860855, 0.01827047530772171, 0.07015187588162947, 0.021045562764488837, 0.007015187588162946, 0.09821262623428124, 0.08418225105795535, 0.15433412693958481, 0.007015187588162946, 0.12627337658693302, 0.042091125528977674, 0.3577745669963103, 0.03507593794081473, 0.05079508708085303, 0.025397543540426514, 0.10159017416170606, 0.025397543540426514, 0.5587459578893833, 0.05079508708085303, 0.07619263062127954, 0.07619263062127954, 0.5629198311928917, 0.39404388183502415, 0.04655872883972234, 0.029099205524826463, 0.06983809325958351, 0.005819841104965293, 0.2560730086184729, 0.4946864939220499, 0.011639682209930585, 0.02327936441986117, 0.052378569944687633, 0.09825929569877088, 0.09825929569877088, 0.13101239426502784, 0.5240495770601113, 0.03275309856625696, 0.06550619713251392, 0.01868821681636241, 0.07475286726544964, 0.05294994764636016, 0.7226110502326798, 0.012458811210908274, 0.006229405605454137, 0.11212930089817445, 0.022095839009271884, 0.08838335603708754, 0.022095839009271884, 0.011047919504635942, 0.03314375851390782, 0.14362295356026725, 0.022095839009271884, 0.6407793312688846, 0.35051288038105893, 0.03218995840234215, 0.025036634312932782, 0.04649660658116088, 0.042919944536456194, 0.007153324089409366, 0.0643799168046843, 0.03576662044704683, 0.010729986134114048, 0.10372319929643581, 0.014306648178818732, 0.042919944536456194, 0.07153324089409366, 0.028613296357637465, 0.017883310223523415, 0.025036634312932782, 0.007153324089409366, 0.053649930670570244, 0.017883310223523415, 0.15151021604135112, 0.11363266203101333, 0.5681633101550666, 0.03787755401033778, 0.07575510802067556, 0.03787755401033778, 0.05245832236561298, 0.07868748354841947, 0.10491664473122596, 0.02622916118280649, 0.7081873519357752, 0.10453949470365088, 0.02090789894073018, 0.8572238565699373, 0.9769575903341395, 0.9485590169555427, 0.05639563273239507, 0.845934490985926, 0.7622692617347943, 0.042348292318599684, 0.08469658463719937, 0.042348292318599684, 0.08469658463719937, 0.8339051384626444, 0.04905324343897908, 0.04905324343897908, 0.09706783175782127, 0.016177971959636876, 0.016177971959636876, 0.03235594391927375, 0.11324580371745814, 0.048533915878910636, 0.663296850345112, 0.22482771761333822, 0.08743300129407597, 0.024980857512593137, 0.024980857512593137, 0.0374712862688897, 0.5121075790081593, 0.024980857512593137, 0.06245214378148284, 0.851328612849924, 0.12706397206715284, 0.510908224506207, 0.11790189796297083, 0.03930063265432361, 0.026200421769549075, 0.23580379592594167, 0.05240084353909815, 0.016616676335056816, 0.03323335267011363, 0.04154169083764204, 0.016616676335056816, 0.024925014502585222, 0.016616676335056816, 0.14955008701551134, 0.09970005801034089, 0.016616676335056816, 0.024925014502585222, 0.08308338167528408, 0.2409418068583238, 0.05815836717269885, 0.14955008701551134, 0.016616676335056816, 0.40158643818200745, 0.04183192064395911, 0.0711142650947305, 0.10876299367429369, 0.0711142650947305, 0.008366384128791822, 0.025099152386375466, 0.0752974571591264, 0.1924268349622119, 0.004183192064395911, 0.9505757799768811, 0.014076899377955388, 0.6522296711785996, 0.009384599585303592, 0.2627687883885006, 0.018769199170607185, 0.009384599585303592, 0.004692299792651796, 0.014076899377955388, 0.009384599585303592, 0.7019983180298023, 0.0638180289118002, 0.1276360578236004, 0.1276360578236004, 0.20656939078206243, 0.20656939078206243, 0.5445920302436191, 0.03755807105128408, 0.8606103240714327, 0.08196288800680311, 0.04481999534771537, 0.8963999069543075, 0.5976447593451858, 0.18110447252884418, 0.12677313077019092, 0.03622089450576884, 0.03622089450576884, 0.14730786444266525, 0.07365393222133262, 0.2436245450397925, 0.011331374187897326, 0.03399412256369198, 0.07365393222133262, 0.03399412256369198, 0.022662748375794652, 0.06798824512738395, 0.06798824512738395, 0.22662748375794653, 0.129300090108401, 0.8512255932136399, 0.010775007509033416, 0.009705248494455124, 0.10675773343900637, 0.019410496988910248, 0.029115745483365374, 0.03396836973059294, 0.009705248494455124, 0.08734723645009612, 0.14557872741682687, 0.1164629819334615, 0.07278936370841343, 0.07278936370841343, 0.1164629819334615, 0.06793673946118588, 0.038820993977820496, 0.06793673946118588, 0.9821721494801008, 0.7695687167003381, 0.1775927807770011, 0.0847398599981657, 0.88976852998074, 0.03597601550110908, 0.05036642170155271, 0.021585609300665446, 0.15829446820487994, 0.03597601550110908, 0.12951365580399268, 0.021585609300665446, 0.07914723410243997, 0.09353764030288361, 0.1367088589042145, 0.19427048370598904, 0.028780812400887264, 0.05313689297336534, 0.021254757189346135, 0.159410678920096, 0.021254757189346135, 0.318821357840192, 0.08501902875738454, 0.010627378594673068, 0.08501902875738454, 0.021254757189346135, 0.0637642715680384, 0.14878330032542295, 0.23120775532379176, 0.006422437647883104, 0.05780193883094794, 0.19909556708437623, 0.5009501365348822, 0.9808958776450848, 0.06555445747001952, 0.049165843102514636, 0.03277722873500976, 0.5244356597601562, 0.01638861436750488, 0.01638861436750488, 0.18027475804255366, 0.11472030057253416, 0.0798231200390992, 0.022806605725456914, 0.06841981717637075, 0.11403302862728457, 0.022806605725456914, 0.04561321145091383, 0.022806605725456914, 0.5017453259600521, 0.03420990858818537, 0.09122642290182766, 0.017842932800414144, 0.017842932800414144, 0.6482932250817138, 0.023790577067218856, 0.291434569073431, 0.0408961313111526, 0.6747861666340178, 0.1431364595890341, 0.10224032827788149, 0.0204480656555763, 0.06736401938416597, 0.05052301453812449, 0.11788703392229047, 0.016841004846041494, 0.016841004846041494, 0.7073222035337428, 0.16876001385998143, 0.7312933933932529, 0.05625333795332715, 0.9576114327021492, 0.8237527505505436, 0.02180521986751439, 0.009691208830006397, 0.12356291258258155, 0.016959615452511193, 0.03445149712327311, 0.03445149712327311, 0.36174071979436767, 0.08612874280818278, 0.10335449136981933, 0.36174071979436767, 0.031189864751370398, 0.015594932375685199, 0.935695942541112, 0.9773216216009712, 0.8667881633764262, 0.07537288377186314, 0.16082808421732264, 0.21443744562309686, 0.053609361405774214, 0.5360936140577421, 0.6572657768296073, 0.1792543027717111, 0.05975143425723703, 0.05975143425723703, 0.8530597364589031, 0.12705145011090047, 0.9609414502030087, 0.05264503482692866, 0.20005113234232888, 0.02105801393077146, 0.01052900696538573, 0.04211602786154292, 0.08423205572308584, 0.1368770905500145, 0.33692822289234337, 0.05264503482692866, 0.03158702089615719, 0.02105801393077146, 0.8528373359145989, 0.05685582239430659, 0.05685582239430659, 0.5146965013998628, 0.1729717750606096, 0.08437647563932175, 0.22359766044420265, 0.07851900802176882, 0.5758060588263048, 0.24864352540226795, 0.07851900802176882, 0.06293062534771993, 0.5663756281294793, 0.3146531267385996, 0.03312203089045581, 0.005520338481742635, 0.016561015445227905, 0.027601692408713175, 0.04416270785394108, 0.8611728031518511, 0.1039170403680717, 0.2771121076481912, 0.05195852018403585, 0.5542242152963824, 0.07342878322382305, 0.05648367940294081, 0.09602225498499938, 0.2315830855520573, 0.1525059343879402, 0.04518694352235265, 0.04518694352235265, 0.28241839701470406, 0.011296735880588162, 0.06451779209793225, 0.5699071635317349, 0.07527075744758763, 0.15054151489517525, 0.043011861398621495, 0.010752965349655374, 0.043011861398621495, 0.043011861398621495, 0.8254319900999671, 0.03930628524285558, 0.07861257048571116, 0.0536290329911908, 0.0536290329911908, 0.0536290329911908, 0.1072580659823816, 0.6435483958942897, 0.9392420904592957, 0.016193829145849926, 0.03238765829169985, 0.044974733290638495, 0.18439640649161784, 0.0179898933162554, 0.0179898933162554, 0.23386861311132018, 0.09444693991034084, 0.0359797866325108, 0.04947220661970235, 0.022487366645319248, 0.2743458730728948, 0.0089949466581277, 0.01349241998719155, 0.13991709316819065, 0.015546343685354515, 0.8239562153237894, 0.9599929589017431, 0.6619476066830895, 0.03893809451076997, 0.18171110771692653, 0.1038349186953866, 0.2437664579019132, 0.014596793886342108, 0.05254845799083159, 0.05838717554536843, 0.12991146558844477, 0.04670974043629474, 0.03795166410448948, 0.045250061047660536, 0.011677435109073686, 0.20143575563152108, 0.026274228995415795, 0.042330702270392116, 0.02335487021814737, 0.011677435109073686, 0.005838717554536843, 0.007298396943171054, 0.029193587772684215, 0.011677435109073686, 0.12232103801057091, 0.042341897772889936, 0.02352327654049441, 0.11291172739437316, 0.14584431455106533, 0.1035024167781754, 0.03293258715669217, 0.1317303486267687, 0.16466293578346086, 0.014113965924296645, 0.004704655308098882, 0.02822793184859329, 0.018818621232395527, 0.018818621232395527, 0.018818621232395527, 0.014113965924296645, 0.06309543380303968, 0.047321575352279766, 0.3890885084520781, 0.05257952816919974, 0.09464315070455953, 0.010515905633839948, 0.010515905633839948, 0.07361133943687964, 0.1419647260568393, 0.03154771690151984, 0.02628976408459987, 0.005257952816919974, 0.02628976408459987, 0.021031811267679897, 0.05843638475403312, 0.06458758314919451, 0.12302396790322763, 0.08765457713104968, 0.08765457713104968, 0.11994836870564693, 0.0338315911733876, 0.08765457713104968, 0.04305838876612967, 0.04459618836492001, 0.05536078555645243, 0.021529194383064835, 0.04459618836492001, 0.006151198395161381, 0.018453595185484145, 0.012302396790322762, 0.030755991975806907, 0.03536939077217794, 0.006151198395161381, 0.0169157955866938, 0.0247434705630675, 0.9402518813965649, 0.010661074378417006, 0.3411543801093442, 0.003553691459472335, 0.01421476583788934, 0.14925504129783806, 0.35892283740670583, 0.00710738291894467, 0.03553691459472335, 0.010661074378417006, 0.003553691459472335, 0.010661074378417006, 0.003553691459472335, 0.02132214875683401, 0.02842953167577868, 0.528012159950123, 0.0597749615037875, 0.2590248331830792, 0.009962493583964583, 0.04981246791982292, 0.06973745508775209, 0.009962493583964583, 0.10228992333141464, 0.1342555243724817, 0.019179360624640242, 0.006393120208213415, 0.038358721249280484, 0.05114496166570732, 0.5114496166570731, 0.006393120208213415, 0.08311056270677439, 0.006393120208213415, 0.03196560104106707, 0.01278624041642683, 0.8346168773336325, 0.11923098247623322, 0.046302545633707115, 0.5556305476044854, 0.07408407301393138, 0.009260509126741423, 0.027781527380224266, 0.06482356388718996, 0.2129917099150527, 0.025437659999289708, 0.7376921399794015, 0.22893893999360737, 0.07778555830751385, 0.038892779153756926, 0.012964259717918977, 0.8556411413826525, 0.026314456313603855, 0.6973330923105022, 0.2763017912928405, 0.0973708537369465, 0.0194741707473893, 0.0584225122421679, 0.194741707473893, 0.48685426868473247, 0.0778966829895572, 0.0389483414947786, 0.012787148545541145, 0.06649317243681396, 0.09462489923700448, 0.13042891516451968, 0.035804015927515205, 0.05114859418216458, 0.05370602389127281, 0.11508433690987031, 0.05114859418216458, 0.03068915650929875, 0.0792803209823551, 0.04859116447305636, 0.05626345360038104, 0.007672289127324688, 0.002557429709108229, 0.012787148545541145, 0.007672289127324688, 0.05626345360038104, 0.040918875345731666, 0.043476305054839896, 0.045732070208076805, 0.13719621062423043, 0.045732070208076805, 0.7317131233292289, 0.05229786791166457, 0.1999624361328351, 0.13997370529298458, 0.12151563426533826, 0.05383604049730176, 0.05075969532602737, 0.02922527912710667, 0.07998497445313404, 0.03076345171274386, 0.010767208099460352, 0.023072588784557896, 0.003076345171274386, 0.07537045669622246, 0.01538172585637193, 0.012305380685097544, 0.02922527912710667, 0.027687106541469476, 0.04614517756911579, 0.022941760937662873, 0.7494308572969872, 0.09941429739653912, 0.045883521875325746, 0.030589014583550497, 0.038236268229438125, 0.007647253645887624, 0.8151937098383666, 0.0525931425702172, 0.0788897138553258, 0.0525931425702172, 0.038989024895439255, 0.19494512447719628, 0.6238243983270281, 0.038989024895439255, 0.07797804979087851, 0.03278447801466245, 0.05245516482345992, 0.1311379120586498, 0.01311379120586498, 0.05245516482345992, 0.0655689560293249, 0.02622758241172996, 0.2688327197202321, 0.01311379120586498, 0.01311379120586498, 0.03278447801466245, 0.22293445049970464, 0.0655689560293249, 0.948807679757566, 0.5011725896216311, 0.011014782189486398, 0.005507391094743199, 0.04956651985268879, 0.09913303970537758, 0.0165221732842296, 0.22580303488447118, 0.08261086642114798, 0.23493304400057746, 0.1566220293337183, 0.03132440586674366, 0.07831101466685915, 0.01566220293337183, 0.10963542053360281, 0.01566220293337183, 0.3602306674675521, 0.2577249367754772, 0.05154498735509544, 0.15463496206528632, 0.4896773798734067, 0.12314005731972548, 0.05130835721655228, 0.07183170010317319, 0.12929706018571174, 0.08414570583514575, 0.05541302579387646, 0.045151354350566004, 0.041046685773241824, 0.024628011463945096, 0.11082605158775292, 0.05336069150521437, 0.03078501432993137, 0.028732680041269276, 0.01641867430929673, 0.034889682907255554, 0.01641867430929673, 0.03078501432993137, 0.03078501432993137, 0.024628011463945096, 0.9379771890774087, 0.033499185324193166, 0.056666511776186916, 0.0755553490349159, 0.03777767451745795, 0.056666511776186916, 0.2833325588809346, 0.4722209314682243], \"Term\": [\".net\", \".net\", \".net\", \".net\", \".net\", \".net\", \".net\", \".net\", \".net\", \":string\", \":string\", \"abstract\", \"account\", \"account\", \"account\", \"account\", \"activity\", \"activity\", \"add\", \"add\", \"add\", \"add\", \"add\", \"add\", \"add\", \"add\", \"add\", \"add\", \"add\", \"add\", \"add\", \"alert\", \"alert\", \"android\", \"anonymous\", \"anonymous\", \"app\", \"app\", \"app\", \"application\", \"application\", \"application\", \"application\", \"application\", \"application\", \"application\", \"application\", \"application\", \"application\", \"arg\", \"arg\", \"array\", \"array\", \"array\", \"array\", \"array\", \"arraylist\", \"arraylist\", \"ascii\", \"ascii\", \"ascii\", \"asp.net\", \"asp.net\", \"asp.net\", \"asp.net\", \"asp.net\", \"assembly\", \"assembly\", \"authentication\", \"authentication\", \"ball\", \"ball\", \"ball\", \"bar\", \"bar\", \"bash\", \"bash\", \"batch\", \"batch\", \"beginner\", \"beginner\", \"believe\", \"believe\", \"believe\", \"best\", \"best\", \"best\", \"best\", \"best\", \"best\", \"best\", \"best\", \"best\", \"best\", \"best\", \"best\", \"best\", \"best\", \"best\", \"book\", \"book\", \"branch\", \"branch\", \"browser\", \"browser\", \"browser\", \"browser\", \"browser\", \"browser\", \"browser\", \"build\", \"build\", \"build\", \"build\", \"build\", \"build\", \"build\", \"build\", \"build\", \"business\", \"business\", \"button\", \"button\", \"c++\", \"c++\", \"c++\", \"c++\", \"c++\", \"c++\", \"c++\", \"c++\", \"c++\", \"calculate\", \"calculate\", \"called\", \"called\", \"called\", \"called\", \"called\", \"called\", \"called\", \"car\", \"card\", \"card\", \"card\", \"card\", \"catch\", \"catch\", \"catch\", \"catch\", \"center\", \"certificate\", \"certificate\", \"change\", \"change\", \"change\", \"change\", \"change\", \"change\", \"change\", \"change\", \"change\", \"change\", \"change\", \"change\", \"character\", \"character\", \"character\", \"character\", \"character\", \"character\", \"checkout\", \"checkout\", \"class\", \"class\", \"class\", \"class\", \"class\", \"class\", \"class\", \"click\", \"click\", \"click\", \"click\", \"code\", \"code\", \"code\", \"code\", \"code\", \"code\", \"code\", \"code\", \"code\", \"code\", \"code\", \"code\", \"code\", \"code\", \"code\", \"code\", \"code\", \"code\", \"code\", \"col\", \"collection\", \"collection\", \"collection\", \"collection\", \"collision\", \"collision\", \"column\", \"column\", \"column\", \"column\", \"column\", \"command\", \"command\", \"command\", \"command\", \"command\", \"commit\", \"commits\", \"company\", \"company\", \"company\", \"compile\", \"compile\", \"compile\", \"compile\", \"compile\", \"condition\", \"condition\", \"condition\", \"constant\", \"constant\", \"constant\", \"constant\", \"constructor\", \"constructor\", \"constructor\", \"constructor\", \"constructor\", \"constructor\", \"container\", \"container\", \"container\", \"content\", \"content\", \"content\", \"content\", \"content\", \"control\", \"control\", \"control\", \"control\", \"control\", \"control\", \"control\", \"control\", \"control\", \"control\", \"controller\", \"controller\", \"controller\", \"copy\", \"copy\", \"copy\", \"copy\", \"copy\", \"count\", \"count\", \"count\", \"count\", \"count\", \"count\", \"coverage\", \"cpu\", \"cpu\", \"cpu\", \"currency\", \"data\", \"data\", \"data\", \"data\", \"data\", \"data\", \"data\", \"data\", \"data\", \"data\", \"data\", \"database\", \"database\", \"database\", \"database\", \"database\", \"database\", \"date\", \"date\", \"date\", \"dbo\", \"declaration\", \"declaration\", \"declaration\", \"dependency\", \"dependency\", \"dependency\", \"dependency\", \"design\", \"design\", \"design\", \"design\", \"design\", \"design\", \"dictionary\", \"dictionary\", \"diff\", \"diff\", \"difference\", \"difference\", \"difference\", \"difference\", \"difference\", \"difference\", \"difference\", \"difference\", \"difference\", \"difference\", \"directory\", \"directory\", \"directory\", \"directory\", \"directory\", \"directory\", \"directory\", \"distance\", \"distance\", \"div\", \"documentation\", \"documentation\", \"documentation\", \"documentation\", \"documentation\", \"documentation\", \"documentation\", \"documentation\", \"documentation\", \"documentation\", \"dom\", \"dom\", \"domain\", \"domain\", \"dont\", \"dont\", \"dont\", \"dont\", \"dont\", \"dont\", \"dont\", \"dont\", \"dont\", \"dont\", \"dont\", \"dont\", \"dont\", \"dont\", \"dont\", \"dont\", \"double\", \"double\", \"double\", \"double\", \"double\", \"double\", \"echo\", \"echo\", \"eclipse\", \"eclipse\", \"editor\", \"editor\", \"element\", \"element\", \"element\", \"element\", \"element\", \"element\", \"element\", \"element\", \"encoding\", \"encoding\", \"encoding\", \"end\", \"end\", \"end\", \"end\", \"end\", \"end\", \"end\", \"end\", \"end\", \"end\", \"end\", \"equal\", \"equal\", \"equal\", \"equal\", \"error\", \"error\", \"error\", \"error\", \"event\", \"event\", \"event\", \"event\", \"example\", \"example\", \"example\", \"example\", \"example\", \"example\", \"example\", \"example\", \"example\", \"example\", \"example\", \"example\", \"example\", \"example\", \"example\", \"example\", \"example\", \"example\", \"exception\", \"exception\", \"exception\", \"exception\", \"exit\", \"exit\", \"exit\", \"exit\", \"explorer\", \"explorer\", \"expression\", \"expression\", \"expression\", \"expression\", \"extension\", \"extension\", \"extension\", \"failed\", \"failed\", \"failed\", \"failed\", \"faster\", \"faster\", \"faster\", \"faster\", \"favorite\", \"favorite\", \"favorite\", \"favorite\", \"feature\", \"feature\", \"feature\", \"feature\", \"feature\", \"field\", \"field\", \"field\", \"field\", \"field\", \"field\", \"field\", \"file\", \"file\", \"file\", \"file\", \"file\", \"file\", \"file\", \"file\", \"file\", \"filename\", \"filename\", \"filename\", \"filename\", \"filename\", \"find\", \"find\", \"find\", \"find\", \"find\", \"find\", \"find\", \"find\", \"find\", \"find\", \"find\", \"find\", \"find\", \"flag\", \"flag\", \"flag\", \"follow\", \"follow\", \"follow\", \"follow\", \"follow\", \"foo\", \"foo\", \"foo\", \"foo\", \"foo\", \"foreach\", \"foreach\", \"foreign\", \"foreign\", \"form\", \"form\", \"form\", \"form\", \"form\", \"form\", \"form\", \"form\", \"form\", \"form\", \"form\", \"function\", \"function\", \"function\", \"function\", \"function\", \"function\", \"function\", \"function\", \"function\", \"function\", \"function\", \"function\", \"function\", \"function\", \"functional\", \"functional\", \"get\", \"get\", \"get\", \"get\", \"get\", \"get\", \"get\", \"get\", \"get\", \"get\", \"get\", \"get\", \"get\", \"get\", \"get\", \"get\", \"get\", \"get\", \"get\", \"git\", \"good\", \"good\", \"good\", \"good\", \"good\", \"good\", \"good\", \"good\", \"good\", \"good\", \"good\", \"good\", \"good\", \"good\", \"graph\", \"graph\", \"grep\", \"grid\", \"handler\", \"handler\", \"handler\", \"handler\", \"hashmap\", \"hashmap\", \"heap\", \"heap\", \"heap\", \"height\", \"height\", \"hibernate\", \"hibernate\", \"hibernate\", \"hibernate\", \"hidden\", \"hidden\", \"history\", \"history\", \"house\", \"html\", \"html\", \"html\", \"html\", \"html\", \"html\", \"html\", \"http\", \"http\", \"http\", \"http\", \"http\", \"http\", \"id=\", \"id=\", \"id=\", \"ide\", \"ide\", \"iframe\", \"image\", \"image\", \"import\", \"import\", \"import\", \"import\", \"index\", \"index\", \"index\", \"inheritance\", \"inheritance\", \"initialize\", \"initialize\", \"initialize\", \"injection\", \"injection\", \"injection\", \"inner\", \"inner\", \"input\", \"input\", \"input\", \"input\", \"input\", \"input\", \"input\", \"input\", \"int\", \"int\", \"int\", \"int\", \"int\", \"int\", \"int\", \"int\", \"integer\", \"integer\", \"integer\", \"integer\", \"integer\", \"interface\", \"interface\", \"interface\", \"interface\", \"interface\", \"interface\", \"internet\", \"internet\", \"internet\", \"internet\", \"iphone\", \"iphone\", \"item\", \"item\", \"item\", \"item\", \"item\", \"item\", \"item\", \"item\", \"item\", \"item\", \"item\", \"iterate\", \"iterate\", \"iterate\", \"iterate\", \"ive\", \"ive\", \"ive\", \"ive\", \"ive\", \"ive\", \"ive\", \"ive\", \"ive\", \"ive\", \"ive\", \"ive\", \"ive\", \"ive\", \"ive\", \"ive\", \"ive\", \"ive\", \"jar\", \"java\", \"java\", \"java\", \"java\", \"java\", \"java\", \"java\", \"java\", \"java\", \"javascript\", \"javascript\", \"javascript\", \"javascript\", \"javascript\", \"javascript\", \"javascript\", \"javascript\", \"javascript\", \"join\", \"join\", \"jpa\", \"jpa\", \"jquery\", \"jquery\", \"jquery\", \"jquery\", \"json\", \"json\", \"json\", \"know\", \"know\", \"know\", \"know\", \"know\", \"know\", \"know\", \"know\", \"know\", \"know\", \"know\", \"know\", \"know\", \"know\", \"know\", \"know\", \"know\", \"know\", \"know\", \"language\", \"language\", \"language\", \"language\", \"language\", \"language\", \"language\", \"layer\", \"life\", \"life\", \"life\", \"life\", \"like\", \"like\", \"like\", \"like\", \"like\", \"like\", \"like\", \"like\", \"like\", \"like\", \"like\", \"like\", \"like\", \"like\", \"like\", \"like\", \"like\", \"like\", \"like\", \"like\", \"line\", \"line\", \"line\", \"line\", \"line\", \"line\", \"line\", \"line\", \"line\", \"line\", \"line\", \"line\", \"line\", \"linq\", \"linq\", \"linq\", \"linq\", \"linux\", \"linux\", \"linux\", \"linux\", \"linux\", \"linux\", \"linux\", \"lisp\", \"list\", \"list\", \"list\", \"list\", \"list\", \"list\", \"list\", \"list\", \"list\", \"list\", \"list\", \"lock\", \"lock\", \"lock\", \"logging\", \"logging\", \"logging\", \"loop\", \"loop\", \"loop\", \"loop\", \"loop\", \"loop\", \"mac\", \"mac\", \"machine\", \"machine\", \"machine\", \"machine\", \"make\", \"make\", \"make\", \"make\", \"make\", \"make\", \"make\", \"make\", \"make\", \"make\", \"make\", \"make\", \"make\", \"make\", \"make\", \"make\", \"make\", \"make\", \"master\", \"master\", \"master\", \"master\", \"master\", \"member\", \"member\", \"member\", \"member\", \"memory\", \"memory\", \"memory\", \"memory\", \"memory\", \"memory\", \"merge\", \"message\", \"message\", \"message\", \"message\", \"message\", \"message\", \"method\", \"method\", \"method\", \"method\", \"method\", \"method\", \"method\", \"method\", \"method\", \"method\", \"method\", \"method\", \"method\", \"method\", \"method\", \"method\", \"module\", \"module\", \"module\", \"module\", \"module\", \"module\", \"mutex\", \"mutex\", \"mvc\", \"mvc\", \"myclass\", \"myclass\", \"mysql\", \"mysql\", \"mysql\", \"mysql\", \"mysql\", \"mysql\", \"mysql\", \"mysql\", \"name\", \"name\", \"name\", \"name\", \"name\", \"name\", \"name\", \"name\", \"name\", \"name\", \"name\", \"namespace\", \"namespace\", \"namespace\", \"need\", \"need\", \"need\", \"need\", \"need\", \"need\", \"need\", \"need\", \"need\", \"need\", \"need\", \"need\", \"need\", \"need\", \"need\", \"need\", \"need\", \"need\", \"need\", \"network\", \"network\", \"network\", \"node\", \"node\", \"node\", \"node\", \"nothing\", \"nothing\", \"nothing\", \"number\", \"number\", \"number\", \"number\", \"number\", \"number\", \"number\", \"number\", \"number\", \"number\", \"number\", \"number\", \"number\", \"nvarchar\", \"nvarchar\", \"object\", \"object\", \"object\", \"object\", \"object\", \"object\", \"object\", \"object\", \"object\", \"object\", \"object\", \"one\", \"one\", \"one\", \"one\", \"one\", \"one\", \"one\", \"one\", \"one\", \"one\", \"one\", \"one\", \"one\", \"one\", \"one\", \"one\", \"one\", \"one\", \"one\", \"operating\", \"operating\", \"operator\", \"operator\", \"operator\", \"operator\", \"option\", \"option\", \"option\", \"option\", \"option\", \"option\", \"option\", \"option\", \"option\", \"option\", \"option\", \"option\", \"order\", \"order\", \"order\", \"order\", \"order\", \"order\", \"order\", \"order\", \"order\", \"order\", \"outer\", \"output\", \"output\", \"output\", \"output\", \"output\", \"output\", \"output\", \"overloading\", \"override\", \"override\", \"override\", \"page\", \"page\", \"page\", \"page\", \"page\", \"page\", \"page\", \"page\", \"page\", \"password\", \"password\", \"password\", \"password\", \"path\", \"path\", \"path\", \"path\", \"path\", \"path\", \"path\", \"path\", \"pattern\", \"pattern\", \"pattern\", \"pattern\", \"php\", \"php\", \"php\", \"php\", \"php\", \"php\", \"php\", \"piece\", \"piece\", \"piece\", \"piece\", \"plain\", \"plain\", \"plain\", \"plugins\", \"plugins\", \"plugins\", \"podcast\", \"point\", \"point\", \"point\", \"point\", \"point\", \"point\", \"point\", \"point\", \"point\", \"point\", \"point\", \"point\", \"point\", \"point\", \"pointer\", \"pointer\", \"pointer\", \"pointer\", \"pointer\", \"port\", \"port\", \"port\", \"practice\", \"practice\", \"practice\", \"practice\", \"practice\", \"practice\", \"practice\", \"practice\", \"practice\", \"primary\", \"primary\", \"primary\", \"primary\", \"print\", \"print\", \"print\", \"print\", \"print\", \"print\", \"print\", \"print\", \"private\", \"private\", \"private\", \"private\", \"private\", \"procedure\", \"process\", \"process\", \"process\", \"process\", \"process\", \"process\", \"process\", \"process\", \"programming\", \"programming\", \"programming\", \"programming\", \"programming\", \"project\", \"project\", \"project\", \"project\", \"project\", \"project\", \"project\", \"project\", \"project\", \"project\", \"project\", \"provide\", \"provide\", \"provide\", \"provide\", \"provide\", \"provide\", \"provide\", \"provide\", \"proxy\", \"proxy\", \"public\", \"public\", \"public\", \"public\", \"public\", \"public\", \"public\", \"public\", \"public\", \"purpose\", \"purpose\", \"purpose\", \"purpose\", \"purpose\", \"purpose\", \"python\", \"python\", \"python\", \"python\", \"python\", \"python\", \"python\", \"query\", \"query\", \"query\", \"query\", \"query\", \"query\", \"query\", \"query\", \"question\", \"question\", \"question\", \"question\", \"question\", \"question\", \"question\", \"question\", \"question\", \"question\", \"question\", \"question\", \"question\", \"question\", \"question\", \"question\", \"question\", \"question\", \"question\", \"quick\", \"quick\", \"quick\", \"quick\", \"quick\", \"quick\", \"random\", \"random\", \"random\", \"random\", \"random\", \"range\", \"range\", \"range\", \"rebase\", \"recursion\", \"redirect\", \"redirect\", \"reflection\", \"reflection\", \"reflection\", \"reflection\", \"reflection\", \"regex\", \"regex\", \"regex\", \"regular\", \"regular\", \"regular\", \"regular\", \"regular\", \"regular\", \"regular\", \"remove\", \"remove\", \"remove\", \"remove\", \"remove\", \"remove\", \"remove\", \"remove\", \"repository\", \"repository\", \"request\", \"request\", \"request\", \"request\", \"request\", \"request\", \"result\", \"result\", \"result\", \"result\", \"result\", \"result\", \"result\", \"result\", \"result\", \"result\", \"result\", \"result\", \"result\", \"result\", \"result\", \"return\", \"return\", \"return\", \"return\", \"return\", \"return\", \"return\", \"return\", \"return\", \"return\", \"salt\", \"script\", \"script\", \"script\", \"script\", \"script\", \"script\", \"script\", \"script\", \"script\", \"scripting\", \"scripting\", \"scripting\", \"scripting\", \"search\", \"search\", \"search\", \"search\", \"security\", \"security\", \"seek\", \"seek\", \"self\", \"self\", \"self\", \"self\", \"self\", \"server\", \"server\", \"server\", \"server\", \"server\", \"server\", \"server\", \"server\", \"server\", \"server\", \"server\", \"service\", \"service\", \"service\", \"set\", \"set\", \"set\", \"set\", \"set\", \"set\", \"set\", \"set\", \"set\", \"set\", \"set\", \"set\", \"set\", \"set\", \"set\", \"shell\", \"signed\", \"signed\", \"soap\", \"soap\", \"solution\", \"solution\", \"solution\", \"solution\", \"solution\", \"solution\", \"solution\", \"solution\", \"solution\", \"solution\", \"solution\", \"solution\", \"source\", \"source\", \"source\", \"source\", \"source\", \"source\", \"source\", \"source\", \"source\", \"source\", \"source\", \"sql\", \"sql\", \"sql\", \"sql\", \"sql\", \"src=\", \"stack\", \"stack\", \"stack\", \"stack\", \"stack\", \"stack\", \"stack\", \"stack\", \"statement\", \"statement\", \"statement\", \"statement\", \"statement\", \"statement\", \"statement\", \"statement\", \"statement\", \"statement\", \"static\", \"static\", \"static\", \"static\", \"static\", \"std\", \"std\", \"std\", \"std\", \"std\", \"stored\", \"stored\", \"stored\", \"stored\", \"stored\", \"stored\", \"storing\", \"storing\", \"storing\", \"str\", \"string\", \"string\", \"string\", \"string\", \"string\", \"structure\", \"structure\", \"structure\", \"structure\", \"structure\", \"structure\", \"studio\", \"studio\", \"studio\", \"style=\", \"subversion\", \"subversion\", \"sudo\", \"sudo\", \"sudo\", \"sudo\", \"super\", \"super\", \"super\", \"super\", \"svn\", \"svn\", \"synchronized\", \"system\", \"system\", \"system\", \"system\", \"system\", \"system\", \"system\", \"system\", \"system\", \"system\", \"system\", \"tab\", \"tab\", \"tab\", \"table\", \"table\", \"table\", \"table\", \"tag\", \"tag\", \"tag\", \"tag\", \"team\", \"team\", \"team\", \"test\", \"test\", \"test\", \"test\", \"test\", \"test\", \"testing\", \"testing\", \"testing\", \"testing\", \"text\", \"text\", \"text\", \"text\", \"text\", \"text\", \"text\", \"text\", \"text\", \"thread\", \"thread\", \"thread\", \"thread\", \"thread\", \"thread\", \"thread\", \"thread\", \"title\", \"title\", \"title\", \"trace\", \"trace\", \"trace\", \"trace\", \"trace\", \"tutorial\", \"tutorial\", \"tutorial\", \"type\", \"type\", \"type\", \"type\", \"type\", \"type\", \"type\", \"type\", \"type\", \"type\", \"type\", \"type\", \"unit\", \"unit\", \"unit\", \"unsigned\", \"url\", \"url\", \"url\", \"url\", \"use\", \"use\", \"use\", \"use\", \"use\", \"use\", \"use\", \"use\", \"use\", \"use\", \"use\", \"use\", \"use\", \"use\", \"use\", \"use\", \"use\", \"use\", \"used\", \"used\", \"used\", \"used\", \"used\", \"used\", \"used\", \"used\", \"used\", \"used\", \"used\", \"used\", \"used\", \"used\", \"used\", \"used\", \"user\", \"user\", \"user\", \"user\", \"user\", \"user\", \"user\", \"user\", \"user\", \"user\", \"user\", \"user\", \"user\", \"user\", \"using\", \"using\", \"using\", \"using\", \"using\", \"using\", \"using\", \"using\", \"using\", \"using\", \"using\", \"using\", \"using\", \"using\", \"using\", \"using\", \"using\", \"using\", \"using\", \"using\", \"utf\", \"utf\", \"value\", \"value\", \"value\", \"value\", \"value\", \"value\", \"value\", \"value\", \"value\", \"value\", \"value\", \"value\", \"value\", \"value\", \"var\", \"var\", \"var\", \"var\", \"var\", \"var\", \"var\", \"variable\", \"variable\", \"variable\", \"variable\", \"variable\", \"variable\", \"variable\", \"variable\", \"variable\", \"variable\", \"variable\", \"variable\", \"versus\", \"versus\", \"view\", \"view\", \"view\", \"view\", \"view\", \"view\", \"view\", \"virtual\", \"virtual\", \"virtual\", \"visual\", \"visual\", \"visual\", \"visual\", \"void\", \"void\", \"void\", \"vs.\", \"vs.\", \"vs.\", \"vs.\", \"vs.\", \"vs.\", \"vs.\", \"want\", \"want\", \"want\", \"want\", \"want\", \"want\", \"want\", \"want\", \"want\", \"want\", \"want\", \"want\", \"want\", \"want\", \"want\", \"want\", \"want\", \"want\", \"want\", \"want\", \"warning\", \"warning\", \"warning\", \"warning\", \"way\", \"way\", \"way\", \"way\", \"way\", \"way\", \"way\", \"way\", \"way\", \"way\", \"way\", \"way\", \"way\", \"way\", \"way\", \"way\", \"way\", \"way\", \"web\", \"web\", \"web\", \"web\", \"web\", \"web\", \"web\", \"website\", \"website\", \"website\", \"website\", \"whatever\", \"whatever\", \"whatever\", \"whatever\", \"whatever\", \"whats\", \"whats\", \"whats\", \"whats\", \"whats\", \"whats\", \"whats\", \"whats\", \"whats\", \"whats\", \"whats\", \"whats\", \"whats\", \"width\", \"window\", \"window\", \"window\", \"window\", \"window\", \"window\", \"window\", \"window\", \"word\", \"word\", \"word\", \"word\", \"word\", \"word\", \"word\", \"word\", \"world\", \"world\", \"world\", \"world\", \"would\", \"would\", \"would\", \"would\", \"would\", \"would\", \"would\", \"would\", \"would\", \"would\", \"would\", \"would\", \"would\", \"would\", \"would\", \"would\", \"would\", \"would\", \"would\", \"wpf\", \"wpf\", \"xml\", \"xml\", \"xml\", \"xml\", \"xml\", \"xml\"]}, \"R\": 10, \"lambda.step\": 0.01, \"plot.opts\": {\"xlab\": \"PC1\", \"ylab\": \"PC2\"}, \"topic.order\": [4, 16, 14, 20, 6, 15, 18, 10, 9, 19, 7, 5, 17, 3, 8, 13, 2, 11, 1, 12]};\n",
       "\n",
       "function LDAvis_load_lib(url, callback){\n",
       "  var s = document.createElement('script');\n",
       "  s.src = url;\n",
       "  s.async = true;\n",
       "  s.onreadystatechange = s.onload = callback;\n",
       "  s.onerror = function(){console.warn(\"failed to load library \" + url);};\n",
       "  document.getElementsByTagName(\"head\")[0].appendChild(s);\n",
       "}\n",
       "\n",
       "if(typeof(LDAvis) !== \"undefined\"){\n",
       "   // already loaded: just create the visualization\n",
       "   !function(LDAvis){\n",
       "       new LDAvis(\"#\" + \"ldavis_el80441982903037512976958059\", ldavis_el80441982903037512976958059_data);\n",
       "   }(LDAvis);\n",
       "}else if(typeof define === \"function\" && define.amd){\n",
       "   // require.js is available: use it to load d3/LDAvis\n",
       "   require.config({paths: {d3: \"https://cdnjs.cloudflare.com/ajax/libs/d3/3.5.5/d3.min\"}});\n",
       "   require([\"d3\"], function(d3){\n",
       "      window.d3 = d3;\n",
       "      LDAvis_load_lib(\"https://cdn.rawgit.com/bmabey/pyLDAvis/files/ldavis.v1.0.0.js\", function(){\n",
       "        new LDAvis(\"#\" + \"ldavis_el80441982903037512976958059\", ldavis_el80441982903037512976958059_data);\n",
       "      });\n",
       "    });\n",
       "}else{\n",
       "    // require.js not available: dynamically load d3 & LDAvis\n",
       "    LDAvis_load_lib(\"https://cdnjs.cloudflare.com/ajax/libs/d3/3.5.5/d3.min.js\", function(){\n",
       "         LDAvis_load_lib(\"https://cdn.rawgit.com/bmabey/pyLDAvis/files/ldavis.v1.0.0.js\", function(){\n",
       "                 new LDAvis(\"#\" + \"ldavis_el80441982903037512976958059\", ldavis_el80441982903037512976958059_data);\n",
       "            })\n",
       "         });\n",
       "}\n",
       "</script>"
      ],
      "text/plain": [
       "<IPython.core.display.HTML object>"
      ]
     },
     "execution_count": 15,
     "metadata": {},
     "output_type": "execute_result"
    }
   ],
   "source": [
    "# Representation graphique des 20 topics :\n",
    "# pyLDAvis nous permet de visualiser les résultats de LDA interractif.\n",
    "\n",
    "from pyLDAvis import sklearn as sklearn_lda\n",
    "import pyLDAvis\n",
    "LDAvis_prepared = sklearn_lda.prepare(lda, tfidf_lda,\n",
    "                                      tfidf_vectorizer_lda, R=n_top_words)\n",
    "pyLDAvis.display(LDAvis_prepared)"
   ]
  },
  {
   "cell_type": "markdown",
   "metadata": {},
   "source": [
    "Sur le côté gauche, la zone de chaque cercle représente l'importance du topic par rapport au corpus. \n",
    "\n",
    "Comme il y a 20 topics, nous avons 20 cercles.\n",
    "La distance entre le centre des cercles indique la similitude entre les sujets. \n",
    "Ici, les topics qui se chevauchentont donc des sujets plus similaires.\n",
    "\n",
    "Sur le côté droit, l' histogramme de chaque topic montre les 10 mots les plus pertinents . \n",
    "Par exemple, dans le topic 1, les mots les plus pertinents sont file, use, object, like, ..."
   ]
  },
  {
   "cell_type": "code",
   "execution_count": 16,
   "metadata": {},
   "outputs": [],
   "source": [
    "# Sauvegarder le modèle sur le disque :\n",
    "pickle.dump(lda, open('models/lda.pkl', 'wb'))\n",
    "pickle.dump(corpus_copy, open('models/corpus_copy.pkl', 'wb'))\n",
    "pickle.dump(train_id2word, open('models/train_id2word.pkl', 'wb'))"
   ]
  },
  {
   "cell_type": "markdown",
   "metadata": {},
   "source": [
    "#### Générer les tags à partir de LDA"
   ]
  },
  {
   "cell_type": "code",
   "execution_count": 17,
   "metadata": {},
   "outputs": [
    {
     "name": "stderr",
     "output_type": "stream",
     "text": [
      "2:1: E302 expected 2 blank lines, found 0\n",
      "29:34: E261 at least two spaces before inline comment\n",
      "32:80: E501 line too long (92 > 79 characters)\n",
      "33:80: E501 line too long (91 > 79 characters)\n"
     ]
    }
   ],
   "source": [
    "from utils.functions import remove_stopword\n",
    "def recommend_tags(text, model, n_topics, n_top_words, X_train):\n",
    "    ''' Recomendation system for stackoverflow posts based on a lda model,\n",
    "    it returns up to n_topics tags.\n",
    "    Parameters:\n",
    "    text: the stackoverflow post of user\n",
    "    data_train: data to fit the model with\n",
    "    '''\n",
    "    threshold = 0.011\n",
    "    list_scores = []\n",
    "    list_words = []\n",
    "    used = set()\n",
    "\n",
    "    # vectoriser les données en entrée\n",
    "    data = {'BodyTitle':  text, 'Tags': ['']}\n",
    "    dfInput = pd.DataFrame(data, columns=['BodyTitle', 'Tags'])\n",
    "    dataInput = cleanText(dfInput)\n",
    "    corpusInputlist = dataInput['words_tokens'].tolist()\n",
    "\n",
    "    tfidfVectorizer = TfidfVectorizer(max_df=0.95, min_df=2,\n",
    "                                      max_features=n_features,\n",
    "                                      tokenizer=dummy,\n",
    "                                      preprocessor=dummy)\n",
    "    tfidfVectorizer.fit_transform(X_train)\n",
    "    text_tfidf = tfidfVectorizer.transform(corpusInputlist)\n",
    "    text_projection = model.transform(text_tfidf)\n",
    "    feature_names = tfidfVectorizer.get_feature_names()\n",
    "    # utiliser les modeles LDA ou NMF pour extraire les scores de chaque mot-tags\n",
    "    components = model.components_/model.components_.sum(axis=1)[:, np.newaxis]\n",
    "    for topic in range(n_topics):\n",
    "        topic_score = text_projection[0][topic]\n",
    "\n",
    "        for (word_idx, word_score) in zip(components[topic].argsort()[:-n_top_words - 1:-1],\n",
    "                                          sorted(components[topic])[:-n_top_words - 1:-1]):\n",
    "            score = topic_score*word_score\n",
    "\n",
    "            if score >= threshold:\n",
    "                list_scores.append(score)\n",
    "                list_words.append(feature_names[word_idx])\n",
    "                used.add(feature_names[word_idx])\n",
    "\n",
    "    results = [tag for (y, tag) in sorted(zip(list_scores, list_words),\n",
    "                                          key=lambda pair: pair[0],\n",
    "                                          reverse=True)]\n",
    "    tags = \", \".join(filter(None, results[:10]))\n",
    "    # tokenizé les tags pour calculer la performance di=u modele\n",
    "    tags_tokens = custom_tokenize(tags)\n",
    "    tags_tokens2 = remove_stopword(tags_tokens)\n",
    "    return tags_tokens2       "
   ]
  },
  {
   "cell_type": "code",
   "execution_count": 21,
   "metadata": {},
   "outputs": [
    {
     "name": "stdout",
     "output_type": "stream",
     "text": [
      "generer les tags pour LDA...\n",
      "fait en 218.307s.\n"
     ]
    },
    {
     "data": {
      "text/html": [
       "<div>\n",
       "<style scoped>\n",
       "    .dataframe tbody tr th:only-of-type {\n",
       "        vertical-align: middle;\n",
       "    }\n",
       "\n",
       "    .dataframe tbody tr th {\n",
       "        vertical-align: top;\n",
       "    }\n",
       "\n",
       "    .dataframe thead th {\n",
       "        text-align: right;\n",
       "    }\n",
       "</style>\n",
       "<table border=\"1\" class=\"dataframe\">\n",
       "  <thead>\n",
       "    <tr style=\"text-align: right;\">\n",
       "      <th></th>\n",
       "      <th>Id</th>\n",
       "      <th>BodyTitle</th>\n",
       "      <th>words_tokens</th>\n",
       "      <th>tags_tokens</th>\n",
       "      <th>tags_predicted_lda</th>\n",
       "    </tr>\n",
       "  </thead>\n",
       "  <tbody>\n",
       "    <tr>\n",
       "      <th>0</th>\n",
       "      <td>9</td>\n",
       "      <td>in c#, how do i calculate someones age based o...</td>\n",
       "      <td>['calculate', 'someone', 'age', 'based', 'date...</td>\n",
       "      <td>['c', '.net', 'datetime']</td>\n",
       "      <td>[string, code, function, object, way]</td>\n",
       "    </tr>\n",
       "    <tr>\n",
       "      <th>1</th>\n",
       "      <td>11</td>\n",
       "      <td>calculate relative time in c# given a specific...</td>\n",
       "      <td>['calculate', 'relative', 'time', 'given', 'sp...</td>\n",
       "      <td>['c', 'datetime', 'time', 'datediff', 'relativ...</td>\n",
       "      <td>[code, string]</td>\n",
       "    </tr>\n",
       "    <tr>\n",
       "      <th>2</th>\n",
       "      <td>13</td>\n",
       "      <td>determine a users timezone is there a standard...</td>\n",
       "      <td>['determine', 'user', 'timezone', 'standard', ...</td>\n",
       "      <td>['html', 'browser', 'timezone', 'user-agent', ...</td>\n",
       "      <td>[application, web, way, user, app, would]</td>\n",
       "    </tr>\n",
       "    <tr>\n",
       "      <th>3</th>\n",
       "      <td>42</td>\n",
       "      <td>best way to allow plugins for a php applicatio...</td>\n",
       "      <td>['best', 'way', 'allow', 'plugins', 'php', 'ap...</td>\n",
       "      <td>['php', 'plugins', 'architecture', 'hook']</td>\n",
       "      <td>[value, exception]</td>\n",
       "    </tr>\n",
       "    <tr>\n",
       "      <th>4</th>\n",
       "      <td>173</td>\n",
       "      <td>versioning sql server database i want to get m...</td>\n",
       "      <td>['versioning', 'sql', 'server', 'database', 'w...</td>\n",
       "      <td>['sql-server', 'database', 'svn', 'version-con...</td>\n",
       "      <td>[git, branch, merge, commit]</td>\n",
       "    </tr>\n",
       "  </tbody>\n",
       "</table>\n",
       "</div>"
      ],
      "text/plain": [
       "    Id                                          BodyTitle  \\\n",
       "0    9  in c#, how do i calculate someones age based o...   \n",
       "1   11  calculate relative time in c# given a specific...   \n",
       "2   13  determine a users timezone is there a standard...   \n",
       "3   42  best way to allow plugins for a php applicatio...   \n",
       "4  173  versioning sql server database i want to get m...   \n",
       "\n",
       "                                        words_tokens  \\\n",
       "0  ['calculate', 'someone', 'age', 'based', 'date...   \n",
       "1  ['calculate', 'relative', 'time', 'given', 'sp...   \n",
       "2  ['determine', 'user', 'timezone', 'standard', ...   \n",
       "3  ['best', 'way', 'allow', 'plugins', 'php', 'ap...   \n",
       "4  ['versioning', 'sql', 'server', 'database', 'w...   \n",
       "\n",
       "                                         tags_tokens  \\\n",
       "0                          ['c', '.net', 'datetime']   \n",
       "1  ['c', 'datetime', 'time', 'datediff', 'relativ...   \n",
       "2  ['html', 'browser', 'timezone', 'user-agent', ...   \n",
       "3         ['php', 'plugins', 'architecture', 'hook']   \n",
       "4  ['sql-server', 'database', 'svn', 'version-con...   \n",
       "\n",
       "                          tags_predicted_lda  \n",
       "0      [string, code, function, object, way]  \n",
       "1                             [code, string]  \n",
       "2  [application, web, way, user, app, would]  \n",
       "3                         [value, exception]  \n",
       "4               [git, branch, merge, commit]  "
      ]
     },
     "execution_count": 21,
     "metadata": {},
     "output_type": "execute_result"
    },
    {
     "name": "stderr",
     "output_type": "stream",
     "text": [
      "4:80: E501 line too long (136 > 79 characters)\n"
     ]
    }
   ],
   "source": [
    "data_preprocess_predict_lda = data_preprocess.copy()\n",
    "print(\"generer les tags pour LDA...\")\n",
    "t0 = time()\n",
    "list_predicted_lda = [recommend_tags(text, lda, n_topics,\n",
    "                                     n_top_words,\n",
    "                                     X_trainBis) for text in data_preprocess_predict_lda['BodyTitle']]\n",
    "data_preprocess_predict_lda['tags_predicted_lda'] = list_predicted_lda\n",
    "print(\"fait en %0.3fs.\" % (time() - t0))\n",
    "data_preprocess_predict_lda.head(5)"
   ]
  },
  {
   "cell_type": "markdown",
   "metadata": {},
   "source": [
    "### [M5-1 : Modélisation avec algorithme NMF : ](#sommaire)<a class=\"anchor\" id=\"17\"></a>"
   ]
  },
  {
   "cell_type": "markdown",
   "metadata": {},
   "source": [
    "**NMF**(Non-Negative Matrix Factorization)est aussi une technique non supervisée,C'est une alyernative au LDA"
   ]
  },
  {
   "cell_type": "code",
   "execution_count": 22,
   "metadata": {},
   "outputs": [
    {
     "name": "stdout",
     "output_type": "stream",
     "text": [
      "Extraction des features pour NMF...\n",
      "fait en 0.144s.\n",
      "Fit de modele NMF (Frobenius norm) avec tf-idf features, n_samples=0 and n_features=1000...\n",
      "fait en 0.344s.\n",
      "\n",
      "Les Topics dans NMF model (Frobenius norm):\n",
      "Topic #0: code use would like way using one ive know application\n",
      "Topic #1: file directory line open path header batch xml using filename\n",
      "Topic #2: string convert like way comparison int char character str remove\n",
      "Topic #3: table database sql mysql column server row name select query\n",
      "Topic #4: git branch commit repository merge svn change remote add conflict\n",
      "Topic #5: function return var call jquery variable something parameter way int\n",
      "Topic #6: difference whats one i++ use vs. main performance loop explain\n",
      "Topic #7: python module print directory source using window platform output use\n",
      "Topic #8: class method static public private interface abstract void use object\n",
      "Topic #9: list item generic use order range name person search linked\n",
      "Topic #10: div image jquery element img center id= html height width\n",
      "Topic #11: value key dictionary column int convert option variable integer sort\n",
      "Topic #12: script bash shell command directory exit tag path line unix\n",
      "Topic #13: java getting object implementation interface library using equivalent write different\n",
      "Topic #14: javascript object property var way check json key obj oriented\n",
      "Topic #15: array element byte php way linked delete int new find\n",
      "Topic #16: date datetime time current day get return format month range\n",
      "Topic #17: test unit testing code tool coverage framework objective app print\n",
      "Topic #18: feature hidden trick operator tip ruby know known question sure\n",
      "Topic #19: c++ int pointer std book variable static template struct unsigned\n",
      "\n"
     ]
    }
   ],
   "source": [
    "# Use tf-idf features for NMF.\n",
    "print(\"Extraction des features pour NMF...\")\n",
    "tfidf_vectorizer = TfidfVectorizer(max_df=0.95, min_df=2,\n",
    "                                   max_features=n_features,\n",
    "                                   tokenizer=dummy,\n",
    "                                   preprocessor=dummy)\n",
    "t0 = time()\n",
    "tfidf = tfidf_vectorizer.fit_transform(X_trainBis)\n",
    "tfidf_test = tfidf_vectorizer.transform(X_testBis)\n",
    "print(\"fait en %0.3fs.\" % (time() - t0))\n",
    "\n",
    "# Fit the NMF model\n",
    "print(\"Fit de modele NMF (Frobenius norm) avec tf-idf features, \"\n",
    "      \"n_samples=%d and n_features=%d...\"\n",
    "      % (n_samples, n_features))\n",
    "t0 = time()\n",
    "nmf = NMF(n_components=n_components, random_state=1,\n",
    "          alpha=.1, l1_ratio=.5).fit(tfidf)\n",
    "print(\"fait en %0.3fs.\" % (time() - t0))\n",
    "\n",
    "print(\"\\nLes Topics dans NMF model (Frobenius norm):\")\n",
    "tfidf_feature_names = tfidf_vectorizer.get_feature_names()\n",
    "print_top_words(nmf, tfidf_feature_names, n_top_words)"
   ]
  },
  {
   "cell_type": "markdown",
   "metadata": {},
   "source": [
    "Sur les differents topics résultants de NMF ici, on peut facilement deduire visuellement par exemple que :\n",
    " - le topic 2 parle de gestion de versionning de projet\n",
    " - le topic 5 parle de base des données"
   ]
  },
  {
   "cell_type": "markdown",
   "metadata": {},
   "source": [
    "#### Générer les tags à partir de NMF"
   ]
  },
  {
   "cell_type": "code",
   "execution_count": 23,
   "metadata": {},
   "outputs": [
    {
     "name": "stdout",
     "output_type": "stream",
     "text": [
      "generer les tags pour NMF...\n",
      "fait en 251.857s.\n"
     ]
    },
    {
     "data": {
      "text/html": [
       "<div>\n",
       "<style scoped>\n",
       "    .dataframe tbody tr th:only-of-type {\n",
       "        vertical-align: middle;\n",
       "    }\n",
       "\n",
       "    .dataframe tbody tr th {\n",
       "        vertical-align: top;\n",
       "    }\n",
       "\n",
       "    .dataframe thead th {\n",
       "        text-align: right;\n",
       "    }\n",
       "</style>\n",
       "<table border=\"1\" class=\"dataframe\">\n",
       "  <thead>\n",
       "    <tr style=\"text-align: right;\">\n",
       "      <th></th>\n",
       "      <th>Id</th>\n",
       "      <th>BodyTitle</th>\n",
       "      <th>words_tokens</th>\n",
       "      <th>tags_tokens</th>\n",
       "      <th>tags_predicted_lda</th>\n",
       "      <th>tags_predicted_nmf</th>\n",
       "    </tr>\n",
       "  </thead>\n",
       "  <tbody>\n",
       "    <tr>\n",
       "      <th>0</th>\n",
       "      <td>9</td>\n",
       "      <td>in c#, how do i calculate someones age based o...</td>\n",
       "      <td>['calculate', 'someone', 'age', 'based', 'date...</td>\n",
       "      <td>['c', '.net', 'datetime']</td>\n",
       "      <td>[string, code, function, object, way]</td>\n",
       "      <td>[date]</td>\n",
       "    </tr>\n",
       "    <tr>\n",
       "      <th>1</th>\n",
       "      <td>11</td>\n",
       "      <td>calculate relative time in c# given a specific...</td>\n",
       "      <td>['calculate', 'relative', 'time', 'given', 'sp...</td>\n",
       "      <td>['c', 'datetime', 'time', 'datediff', 'relativ...</td>\n",
       "      <td>[code, string]</td>\n",
       "      <td>[date, value]</td>\n",
       "    </tr>\n",
       "    <tr>\n",
       "      <th>2</th>\n",
       "      <td>13</td>\n",
       "      <td>determine a users timezone is there a standard...</td>\n",
       "      <td>['determine', 'user', 'timezone', 'standard', ...</td>\n",
       "      <td>['html', 'browser', 'timezone', 'user-agent', ...</td>\n",
       "      <td>[application, web, way, user, app, would]</td>\n",
       "      <td>[string]</td>\n",
       "    </tr>\n",
       "    <tr>\n",
       "      <th>3</th>\n",
       "      <td>42</td>\n",
       "      <td>best way to allow plugins for a php applicatio...</td>\n",
       "      <td>['best', 'way', 'allow', 'plugins', 'php', 'ap...</td>\n",
       "      <td>['php', 'plugins', 'architecture', 'hook']</td>\n",
       "      <td>[value, exception]</td>\n",
       "      <td>[]</td>\n",
       "    </tr>\n",
       "    <tr>\n",
       "      <th>4</th>\n",
       "      <td>173</td>\n",
       "      <td>versioning sql server database i want to get m...</td>\n",
       "      <td>['versioning', 'sql', 'server', 'database', 'w...</td>\n",
       "      <td>['sql-server', 'database', 'svn', 'version-con...</td>\n",
       "      <td>[git, branch, merge, commit]</td>\n",
       "      <td>[test, table]</td>\n",
       "    </tr>\n",
       "  </tbody>\n",
       "</table>\n",
       "</div>"
      ],
      "text/plain": [
       "    Id                                          BodyTitle  \\\n",
       "0    9  in c#, how do i calculate someones age based o...   \n",
       "1   11  calculate relative time in c# given a specific...   \n",
       "2   13  determine a users timezone is there a standard...   \n",
       "3   42  best way to allow plugins for a php applicatio...   \n",
       "4  173  versioning sql server database i want to get m...   \n",
       "\n",
       "                                        words_tokens  \\\n",
       "0  ['calculate', 'someone', 'age', 'based', 'date...   \n",
       "1  ['calculate', 'relative', 'time', 'given', 'sp...   \n",
       "2  ['determine', 'user', 'timezone', 'standard', ...   \n",
       "3  ['best', 'way', 'allow', 'plugins', 'php', 'ap...   \n",
       "4  ['versioning', 'sql', 'server', 'database', 'w...   \n",
       "\n",
       "                                         tags_tokens  \\\n",
       "0                          ['c', '.net', 'datetime']   \n",
       "1  ['c', 'datetime', 'time', 'datediff', 'relativ...   \n",
       "2  ['html', 'browser', 'timezone', 'user-agent', ...   \n",
       "3         ['php', 'plugins', 'architecture', 'hook']   \n",
       "4  ['sql-server', 'database', 'svn', 'version-con...   \n",
       "\n",
       "                          tags_predicted_lda tags_predicted_nmf  \n",
       "0      [string, code, function, object, way]             [date]  \n",
       "1                             [code, string]      [date, value]  \n",
       "2  [application, web, way, user, app, would]           [string]  \n",
       "3                         [value, exception]                 []  \n",
       "4               [git, branch, merge, commit]      [test, table]  "
      ]
     },
     "execution_count": 23,
     "metadata": {},
     "output_type": "execute_result"
    },
    {
     "name": "stderr",
     "output_type": "stream",
     "text": [
      "4:80: E501 line too long (140 > 79 characters)\n"
     ]
    }
   ],
   "source": [
    "data_preprocess_predict_lda_nmf = data_preprocess_predict_lda.copy()\n",
    "print(\"generer les tags pour NMF...\")\n",
    "t0 = time()\n",
    "list_predicted_nmf = [recommend_tags(text, nmf, n_topics,\n",
    "                                     n_top_words,\n",
    "                                     X_trainBis) for text in data_preprocess_predict_lda_nmf['BodyTitle']]\n",
    "data_preprocess_predict_lda_nmf['tags_predicted_nmf'] = list_predicted_nmf\n",
    "print(\"fait en %0.3fs.\" % (time() - t0))\n",
    "data_preprocess_predict_lda_nmf.head(5)"
   ]
  },
  {
   "cell_type": "markdown",
   "metadata": {},
   "source": [
    "### Calcul des scores de performances pour LDA et NMF :\n",
    "\n",
    "Pour mesurer la similarité entre la prédiction des modèles et les vrais tags, nous allons utiliser la jaccard_similarity_score, elle permet de quantifier leur ressemblance (vecteurs des tags de prédictions et vecteurs des vrais tags)\n",
    "\n",
    "La cosine_simularity est une valeur comprise dans l'intervalle [-1,1], \n",
    "\n",
    " - -1 indiquera des vecteurs opposés, \n",
    " \n",
    " - 0 des vecteurs indépendants  \n",
    "\n",
    " - 1 des vecteurs similaires "
   ]
  },
  {
   "cell_type": "code",
   "execution_count": 36,
   "metadata": {},
   "outputs": [],
   "source": [
    "# 4.1 Tags de prédiction LDA (=y)\n",
    "tags_LDA = data_preprocess_predict_lda_nmf['tags_predicted_lda']\n",
    "mlb2 = MultiLabelBinarizer()\n",
    "tags_LDA_vect = pd.DataFrame(mlb2.fit_transform(tags_LDA),\n",
    "                             columns=mlb2.classes_)\n",
    "\n",
    "# 4.1 Tags de prédiction NMF (=y)\n",
    "tags_NMF = data_preprocess_predict_lda_nmf['tags_predicted_nmf']\n",
    "mlb3 = MultiLabelBinarizer()\n",
    "tags_NMF_vect = pd.DataFrame(mlb3.fit_transform(tags_NMF),\n",
    "                             columns=mlb3.classes_)\n",
    "\n",
    "tags_Real_vect = y_data"
   ]
  },
  {
   "cell_type": "code",
   "execution_count": 37,
   "metadata": {},
   "outputs": [],
   "source": [
    "def jaccard_similarity(list1, list2):\n",
    "    s1 = set(list1)\n",
    "    s2 = set(list2)\n",
    "    return float(len(s1.intersection(s2))) / float(len(s1.union(s2)))"
   ]
  },
  {
   "cell_type": "code",
   "execution_count": 43,
   "metadata": {},
   "outputs": [
    {
     "name": "stdout",
     "output_type": "stream",
     "text": [
      "Jacard similarity LDA :  0.1407035175879397\n",
      "Jacard similarity NMF :  0.1619718309859155\n"
     ]
    }
   ],
   "source": [
    "jacard_score_LDA = jaccard_similarity(tags_Real_vect, tags_LDA_vect)\n",
    "jacard_score_NMF = jaccard_similarity(tags_Real_vect, tags_NMF_vect)\n",
    "print('Jacard similarity LDA : ', jacard_score_LDA)\n",
    "print('Jacard similarity NMF : ', jacard_score_NMF)"
   ]
  },
  {
   "cell_type": "markdown",
   "metadata": {},
   "source": [
    "Donc nous constatons que les scores des cosine_simularity sont supérieurs au DummyClassifier mais ils sont très proche de 0 \n",
    "Donc les vecteurs sont independants, il faudra tester d'autres approche de prédiction"
   ]
  },
  {
   "cell_type": "markdown",
   "metadata": {},
   "source": [
    "## [MISSION 5: APPROCHE SUPERVISEE](#sommaire)<a class=\"anchor\" id=\"20\"></a>"
   ]
  },
  {
   "cell_type": "markdown",
   "metadata": {},
   "source": [
    "Certains modèles ne peuvent pas faire de la prediction pour une sortie comprenant plusieurs output. \n",
    "Il faut donc utiliser le MulitOutputClassifier\n",
    "\n",
    "MulitOutputClassifier\n",
    "\n",
    "Tester plusieurs modèles : LogistiRegression, SGDClassifier, MultinomialDB, LearSVC, Perceptron, PassiveAggressiveClassifier, RandomForest, KNN\n",
    "    \n",
    "Comparer : utiliser le Jaccard score et l'accuracy    "
   ]
  },
  {
   "cell_type": "code",
   "execution_count": 44,
   "metadata": {},
   "outputs": [],
   "source": [
    "# to ignore ConvergenceWarning\n",
    "warnings.filterwarnings(\"ignore\")"
   ]
  },
  {
   "cell_type": "markdown",
   "metadata": {},
   "source": [
    "#### Knn model :"
   ]
  },
  {
   "cell_type": "code",
   "execution_count": 45,
   "metadata": {},
   "outputs": [
    {
     "name": "stdout",
     "output_type": "stream",
     "text": [
      "Training a KNN Model...\n",
      "fait en 39.795s.\n"
     ]
    }
   ],
   "source": [
    "print(\"Training a KNN Model...\")\n",
    "t0 = time()\n",
    "knn_clf = KNeighborsClassifier()\n",
    "knn_clf_fit = MultiOutputClassifier(knn_clf).fit(X_train, y_train)\n",
    "print(\"fait en %0.3fs.\" % (time() - t0))"
   ]
  },
  {
   "cell_type": "code",
   "execution_count": 46,
   "metadata": {},
   "outputs": [
    {
     "name": "stdout",
     "output_type": "stream",
     "text": [
      "0.09501187648456057 0.06441013460015835\n"
     ]
    }
   ],
   "source": [
    "y_pred_knn = knn_clf_fit.predict(X_test)\n",
    "accuracy_score_knn = accuracy_score(y_test, y_pred_knn)\n",
    "jaccard_score_knn = jaccard_score(y_test, y_pred_knn, average='samples')\n",
    "print(accuracy_score_knn, jaccard_score_knn)"
   ]
  },
  {
   "cell_type": "markdown",
   "metadata": {},
   "source": [
    "#### SGDClassifier"
   ]
  },
  {
   "cell_type": "code",
   "execution_count": 47,
   "metadata": {},
   "outputs": [
    {
     "name": "stdout",
     "output_type": "stream",
     "text": [
      "Training a SGDClassifier Model...\n",
      "fait en 4.009s.\n"
     ]
    }
   ],
   "source": [
    "print(\"Training a SGDClassifier Model...\")\n",
    "t0 = time()\n",
    "sgd_linear_clf = SGDClassifier(random_state=1, max_iter=5, tol=1e-3)\n",
    "sgd_linear_clf_fit = MultiOutputClassifier(sgd_linear_clf).fit(X_train,\n",
    "                                                               y_train)\n",
    "print(\"fait en %0.3fs.\" % (time() - t0))"
   ]
  },
  {
   "cell_type": "code",
   "execution_count": 48,
   "metadata": {},
   "outputs": [
    {
     "name": "stdout",
     "output_type": "stream",
     "text": [
      "0.2042755344418052 0.3637032009953625\n"
     ]
    }
   ],
   "source": [
    "y_pred_sgd = sgd_linear_clf_fit.predict(X_test)\n",
    "accuracy_score_sgd = accuracy_score(y_test, y_pred_sgd)\n",
    "jaccard_score_sgd = jaccard_score(y_test, y_pred_sgd, average='samples')\n",
    "print(accuracy_score_sgd, jaccard_score_sgd)"
   ]
  },
  {
   "cell_type": "markdown",
   "metadata": {},
   "source": [
    "#### RandomForest "
   ]
  },
  {
   "cell_type": "code",
   "execution_count": 49,
   "metadata": {},
   "outputs": [
    {
     "name": "stdout",
     "output_type": "stream",
     "text": [
      "Training a Random Forest Model...\n",
      "fait en 5.459s.\n"
     ]
    }
   ],
   "source": [
    "print(\"Training a Random Forest Model...\")\n",
    "t0 = time()\n",
    "rand_for_clf = RandomForestClassifier(n_estimators=10, random_state=1)\n",
    "rand_for_clf_fit = MultiOutputClassifier(rand_for_clf).fit(X_train,\n",
    "                                                           y_train)\n",
    "print(\"fait en %0.3fs.\" % (time() - t0))"
   ]
  },
  {
   "cell_type": "code",
   "execution_count": 50,
   "metadata": {},
   "outputs": [
    {
     "name": "stdout",
     "output_type": "stream",
     "text": [
      "0.171021377672209 0.19703087885985746\n"
     ]
    }
   ],
   "source": [
    "y_pred_rand = rand_for_clf_fit.predict(X_test)\n",
    "accuracy_score_rand = accuracy_score(y_test, y_pred_rand)\n",
    "jaccard_score_rand = jaccard_score(y_test, y_pred_rand, average='samples')\n",
    "print(accuracy_score_rand, jaccard_score_rand)"
   ]
  },
  {
   "cell_type": "markdown",
   "metadata": {},
   "source": [
    "#### Logistic Regression "
   ]
  },
  {
   "cell_type": "code",
   "execution_count": 51,
   "metadata": {},
   "outputs": [
    {
     "name": "stdout",
     "output_type": "stream",
     "text": [
      "Training a Logistic Regression Model...\n",
      "fait en 10.007s.\n"
     ]
    }
   ],
   "source": [
    "print(\"Training a Logistic Regression Model...\")\n",
    "t0 = time()\n",
    "log_reg_clf = LogisticRegression(random_state=1)\n",
    "log_reg_clf_fit = MultiOutputClassifier(log_reg_clf).fit(X_train, y_train)\n",
    "print(\"fait en %0.3fs.\" % (time() - t0))"
   ]
  },
  {
   "cell_type": "code",
   "execution_count": 52,
   "metadata": {},
   "outputs": [
    {
     "name": "stdout",
     "output_type": "stream",
     "text": [
      "0.2327790973871734 0.32252573238321447\n"
     ]
    }
   ],
   "source": [
    "y_pred_logr = log_reg_clf_fit.predict(X_test)\n",
    "accuracy_score_logr = accuracy_score(y_test, y_pred_logr)\n",
    "jaccard_score_logr = jaccard_score(y_test, y_pred_logr, average='samples')\n",
    "print(accuracy_score_logr, jaccard_score_logr)"
   ]
  },
  {
   "cell_type": "markdown",
   "metadata": {},
   "source": [
    "#### MultinomialNB"
   ]
  },
  {
   "cell_type": "code",
   "execution_count": 32,
   "metadata": {},
   "outputs": [
    {
     "name": "stdout",
     "output_type": "stream",
     "text": [
      "Training a Naive Bayes classifier for multinomial Model...\n",
      "fait en 10.262s.\n"
     ]
    }
   ],
   "source": [
    "print(\"Training a Naive Bayes classifier for multinomial Model...\")\n",
    "t0 = time()\n",
    "mnb_clf = MultinomialNB()\n",
    "mnb_clf_fit = MultiOutputClassifier(mnb_clf).fit(X_train, y_train)\n",
    "print(\"fait en %0.3fs.\" % (time() - t0))"
   ]
  },
  {
   "cell_type": "code",
   "execution_count": 33,
   "metadata": {},
   "outputs": [
    {
     "name": "stdout",
     "output_type": "stream",
     "text": [
      "0.1508860759493671 0.33878973811695134\n"
     ]
    }
   ],
   "source": [
    "y_pred_mnb = mnb_clf_fit.predict(X_test)\n",
    "accuracy_score_mnb = accuracy_score(y_test, y_pred_mnb)\n",
    "jaccard_score_mnb = jaccard_score(y_test, y_pred_mnb, average='samples')\n",
    "print(accuracy_score_mnb, jaccard_score_mnb)"
   ]
  },
  {
   "cell_type": "markdown",
   "metadata": {},
   "source": [
    "#### Perceptron"
   ]
  },
  {
   "cell_type": "code",
   "execution_count": 34,
   "metadata": {},
   "outputs": [
    {
     "name": "stdout",
     "output_type": "stream",
     "text": [
      "Training a Perceptron Model...\n",
      "fait en 68.228s.\n"
     ]
    }
   ],
   "source": [
    "print(\"Training a Perceptron Model...\")\n",
    "t0 = time()\n",
    "prpt_clf = Perceptron(tol=1e-3, random_state=1)\n",
    "prpt_clf_fit = MultiOutputClassifier(prpt_clf).fit(X_train, y_train)\n",
    "print(\"fait en %0.3fs.\" % (time() - t0))"
   ]
  },
  {
   "cell_type": "code",
   "execution_count": 35,
   "metadata": {},
   "outputs": [
    {
     "name": "stdout",
     "output_type": "stream",
     "text": [
      "0.23518987341772152 0.4035461121157323\n"
     ]
    }
   ],
   "source": [
    "y_pred_prpt = prpt_clf_fit.predict(X_test)\n",
    "accuracy_score_prpt = accuracy_score(y_test, y_pred_prpt)\n",
    "jaccard_score_prpt = jaccard_score(y_test, y_pred_prpt, average='samples')\n",
    "print(accuracy_score_prpt, jaccard_score_prpt)"
   ]
  },
  {
   "cell_type": "markdown",
   "metadata": {},
   "source": [
    "#### LinearSVC"
   ]
  },
  {
   "cell_type": "code",
   "execution_count": 36,
   "metadata": {},
   "outputs": [
    {
     "name": "stdout",
     "output_type": "stream",
     "text": [
      "Training a Linear svc classifier for multinomial Model...\n",
      "fait en 590.120s.\n"
     ]
    }
   ],
   "source": [
    "print(\"Training a Linear svc classifier for multinomial Model...\")\n",
    "t0 = time()\n",
    "lsvc_clf = make_pipeline(StandardScaler(), LinearSVC(random_state=0,\n",
    "                                                     tol=1e-5))\n",
    "lsvc_clf_fit = MultiOutputClassifier(lsvc_clf).fit(X_train, y_train)\n",
    "print(\"fait en %0.3fs.\" % (time() - t0))"
   ]
  },
  {
   "cell_type": "code",
   "execution_count": 37,
   "metadata": {},
   "outputs": [
    {
     "name": "stdout",
     "output_type": "stream",
     "text": [
      "0.15443037974683543 0.34387089071266286\n"
     ]
    }
   ],
   "source": [
    "y_pred_lsvc = lsvc_clf_fit.predict(X_test)\n",
    "accuracy_score_lsvc = accuracy_score(y_test, y_pred_lsvc)\n",
    "jaccard_score_lsvc = jaccard_score(y_test, y_pred_lsvc, average='samples')\n",
    "print(accuracy_score_lsvc, jaccard_score_lsvc)"
   ]
  },
  {
   "cell_type": "markdown",
   "metadata": {},
   "source": [
    "#### PassiveAggressiveClassifier"
   ]
  },
  {
   "cell_type": "code",
   "execution_count": 38,
   "metadata": {},
   "outputs": [
    {
     "name": "stdout",
     "output_type": "stream",
     "text": [
      "Training a PassiveAggressiveClassifier Model...\n",
      "fait en 86.848s.\n"
     ]
    }
   ],
   "source": [
    "print(\"Training a PassiveAggressiveClassifier Model...\")\n",
    "t0 = time()\n",
    "pac_clf = PassiveAggressiveClassifier(max_iter=1000, random_state=1,\n",
    "                                      tol=1e-3)\n",
    "pac_clf_fit = MultiOutputClassifier(pac_clf).fit(X_train, y_train)\n",
    "print(\"fait en %0.3fs.\" % (time() - t0))"
   ]
  },
  {
   "cell_type": "code",
   "execution_count": 39,
   "metadata": {},
   "outputs": [
    {
     "name": "stdout",
     "output_type": "stream",
     "text": [
      "0.23139240506329115 0.40785714285714286\n"
     ]
    }
   ],
   "source": [
    "y_pred_pac = pac_clf_fit.predict(X_test)\n",
    "accuracy_score_pac = accuracy_score(y_test, y_pred_pac)\n",
    "jaccard_score_pac = jaccard_score(y_test, y_pred_pac, average='samples')\n",
    "print(accuracy_score_pac, jaccard_score_pac)"
   ]
  },
  {
   "cell_type": "markdown",
   "metadata": {},
   "source": [
    "#### Representation graphique :"
   ]
  },
  {
   "cell_type": "code",
   "execution_count": 40,
   "metadata": {},
   "outputs": [
    {
     "data": {
      "image/png": "[encoded data removed]",
      "text/plain": [
       "<Figure size 432x288 with 1 Axes>"
      ]
     },
     "metadata": {
      "needs_background": "light"
     },
     "output_type": "display_data"
    },
    {
     "data": {
      "text/plain": [
       "<Figure size 2160x1080 with 0 Axes>"
      ]
     },
     "metadata": {},
     "output_type": "display_data"
    }
   ],
   "source": [
    "score_AccuracyJaccard_df = pd.DataFrame({\n",
    "    'Models': ['LogisticRegression', 'SGDClassifier',\n",
    "               'RandomForest', 'KNN', 'MultinomialNB', 'LinearSVC',\n",
    "               'Perceptron', 'PassiveAggressiveClassifier'],\n",
    "    'Accuracy_score': [accuracy_score_logr,\n",
    "                       accuracy_score_sgd,\n",
    "                       accuracy_score_rand,\n",
    "                       accuracy_score_knn,\n",
    "                       accuracy_score_mnb,\n",
    "                       accuracy_score_lsvc,\n",
    "                       accuracy_score_prpt,\n",
    "                       accuracy_score_pac],\n",
    "    'Jaccard_score': [jaccard_score_logr,\n",
    "                      jaccard_score_sgd,\n",
    "                      jaccard_score_rand,\n",
    "                      jaccard_score_knn,\n",
    "                      jaccard_score_mnb,\n",
    "                      jaccard_score_lsvc,\n",
    "                      jaccard_score_prpt,\n",
    "                      jaccard_score_pac]})\n",
    "ax = plt.gca()\n",
    "score_AccuracyJaccard_df.plot(kind='bar', x='Models',\n",
    "                              y=['Accuracy_score', 'Jaccard_score'], ax=ax)\n",
    "plt.figure(figsize=(30, 15))\n",
    "plt.show()"
   ]
  },
  {
   "cell_type": "markdown",
   "metadata": {},
   "source": [
    "###  Test sur formulaire :"
   ]
  },
  {
   "cell_type": "markdown",
   "metadata": {},
   "source": [
    "On constate que le modèle de LogisticRegression a le meilleur score, donc nous allons tester notre prédiction à partir de ce modèle"
   ]
  },
  {
   "cell_type": "code",
   "execution_count": 19,
   "metadata": {},
   "outputs": [],
   "source": [
    "# Sauvegarder le modèle sur le disque :\n",
    "pickle.dump(sgd_linear_clf_fit, open('models/model.pkl', 'wb'))"
   ]
  },
  {
   "cell_type": "markdown",
   "metadata": {},
   "source": [
    "#### Prediction avec LogisticRegression :"
   ]
  },
  {
   "cell_type": "code",
   "execution_count": 30,
   "metadata": {},
   "outputs": [
    {
     "name": "stderr",
     "output_type": "stream",
     "text": [
      "4:80: E501 line too long (94 > 79 characters)\n"
     ]
    }
   ],
   "source": [
    "# Loading model to compare the results\n",
    "model = pickle.load(open('models/model.pkl', 'rb'))\n",
    "# model = log_reg_clf_fit\n",
    "textInput = \" langage datetime c# java python javascript the c definitive guide to form based\"\n",
    "# textInput = data_preprocess[(data_preprocess['Id'] == 9)]['BodyTitle']\n",
    "most_freq_words = top1000words_exp\n",
    "most_freq_tags = top100tags_exp"
   ]
  },
  {
   "cell_type": "code",
   "execution_count": 31,
   "metadata": {},
   "outputs": [
    {
     "name": "stdout",
     "output_type": "stream",
     "text": [
      " langage datetime c# java python javascript the c definitive guide to form based\n"
     ]
    }
   ],
   "source": [
    "print(textInput)"
   ]
  },
  {
   "cell_type": "code",
   "execution_count": 32,
   "metadata": {},
   "outputs": [
    {
     "name": "stdout",
     "output_type": "stream",
     "text": [
      "les tags proposées sont :  ['python']\n"
     ]
    }
   ],
   "source": [
    "tagslist = predictTag(model, textInput, top1000words_exp, top100tags_exp)\n",
    "print('les tags proposées sont : ', tagslist)"
   ]
  },
  {
   "cell_type": "code",
   "execution_count": null,
   "metadata": {},
   "outputs": [],
   "source": []
  }
 ],
 "metadata": {
  "kernelspec": {
   "display_name": "Python 3",
   "language": "python",
   "name": "python3"
  },
  "language_info": {
   "codemirror_mode": {
    "name": "ipython",
    "version": 3
   },
   "file_extension": ".py",
   "mimetype": "text/x-python",
   "name": "python",
   "nbconvert_exporter": "python",
   "pygments_lexer": "ipython3",
   "version": "3.7.6"
  }
 },
 "nbformat": 4,
 "nbformat_minor": 2
}
