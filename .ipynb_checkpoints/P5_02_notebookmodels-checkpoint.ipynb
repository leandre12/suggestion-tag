{
 "cells": [
  {
   "cell_type": "code",
   "execution_count": 1,
   "metadata": {},
   "outputs": [],
   "source": [
    "%load_ext pycodestyle_magic"
   ]
  },
  {
   "cell_type": "code",
   "execution_count": 2,
   "metadata": {},
   "outputs": [],
   "source": [
    "%flake8_on"
   ]
  },
  {
   "cell_type": "markdown",
   "metadata": {},
   "source": [
    "# PROJET 5 : Catégorisation automatiquement des questions"
   ]
  },
  {
   "cell_type": "markdown",
   "metadata": {},
   "source": [
    "## SOMMAIRE  <a class=\"anchor\" id=\"sommaire\"></a>\n",
    "## [CONTEXTE DU PROJET](#1)<a class=\"anchor\" id=\"sommaire\"></a>\n",
    "## [LES DONNEES DU PROJET](#2)<a class=\"anchor\" id=\"sommaire\"></a>\n",
    "## [IMPORT DES LIBRAIRIES](#3)<a class=\"anchor\" id=\"sommaire\"></a>\n",
    "\n",
    "## [MISSION 3: PREPROCESSING](#11)<a class=\"anchor\" id=\"sommaire\"></a>\n",
    "### [M3-1 : Préparation des input et output : ](#12)<a class=\"anchor\" id=\"sommaire\"></a>\n",
    "### [M3-2 : Séparation de jeu de données de test et d'entrainement : ](#13)<a class=\"anchor\" id=\"sommaire\"></a>\n",
    "\n",
    "## [MISSION 4: APPROCHE NON-SUPERVISEE](#15)<a class=\"anchor\" id=\"sommaire\"></a>\n",
    "### [M4-1 : Modélisation avec algorithme LDA : ](#16)<a class=\"anchor\" id=\"sommaire\"></a>\n",
    "### [M5-1 : Modélisation avec algorithme NMF : ](#17)<a class=\"anchor\" id=\"sommaire\"></a>\n",
    "\n",
    "## [MISSION 5: APPROCHE SUPERVISEE](#20)<a class=\"anchor\" id=\"sommaire\"></a>\n"
   ]
  },
  {
   "cell_type": "markdown",
   "metadata": {},
   "source": [
    "--------------------------------------------------------"
   ]
  },
  {
   "cell_type": "markdown",
   "metadata": {},
   "source": [
    "## [CONTEXTE DU PROJET](#sommaire)<a class=\"anchor\" id=\"1\"></a>"
   ]
  },
  {
   "cell_type": "markdown",
   "metadata": {},
   "source": [
    "Stack Overflow est un site de questions-réponses liées au développement informatique.\n",
    "Les tags nous permettent de retrouver facilement la réponse à une question posée, pourtant ce n'est pas évident de trouver des tags associés à notre question.\n",
    "Donc il était intéressant de développer un application qui suggererait automatiquement plusieurs tags pertinents à partir d'une question posée. "
   ]
  },
  {
   "cell_type": "markdown",
   "metadata": {},
   "source": [
    "## [LES DONNEES DU PROJET](#sommaire)<a class=\"anchor\" id=\"2\"></a>"
   ]
  },
  {
   "cell_type": "markdown",
   "metadata": {},
   "source": [
    "Stack Overflow propose un outil d’export de données en ligne sur - \"stackexchange explorer\" :\n",
    "On retrouve 29 tables au total, mais pour notre besoin, la table 'Posts' suffira parce qu'elle contient la liste des questions posées avec les tags associés, le nombre de réponse, la note de pertinence associée à la question,..."
   ]
  },
  {
   "cell_type": "markdown",
   "metadata": {},
   "source": [
    "## [IMPORT DES LIBRAIRIES](#sommaire)<a class=\"anchor\" id=\"3\"></a>"
   ]
  },
  {
   "cell_type": "code",
   "execution_count": 4,
   "metadata": {},
   "outputs": [],
   "source": [
    "import numpy as np\n",
    "import pandas as pd\n",
    "import matplotlib.pyplot as plt\n",
    "import seaborn as sns\n",
    "from bs4 import BeautifulSoup\n",
    "import nltk\n",
    "import os\n",
    "import re\n",
    "import warnings\n",
    "import pyLDAvis.gensim\n",
    "from time import time\n",
    "from utils.functions import custom_tokenize, print_top_words\n",
    "from utils.functions import predictTag, vectorizeInputTest\n",
    "from utils.functions import remove_stopword, cleanText, pattern_searcher\n",
    "from utils.functions import compute_coherence_values\n",
    "from nltk.stem import WordNetLemmatizer\n",
    "from PIL import Image\n",
    "from wordcloud import WordCloud, STOPWORDS, ImageColorGenerator\n",
    "from sklearn.model_selection import train_test_split\n",
    "from sklearn.preprocessing import MultiLabelBinarizer\n",
    "from sklearn.feature_extraction.text import TfidfVectorizer, CountVectorizer\n",
    "from sklearn.decomposition import LatentDirichletAllocation as LDA\n",
    "from gensim.models.ldamulticore import LdaMulticore\n",
    "from gensim.corpora import Dictionary\n",
    "from sklearn.decomposition import NMF\n",
    "from sklearn.multioutput import MultiOutputClassifier\n",
    "from sklearn.linear_model import SGDClassifier, LogisticRegression\n",
    "from sklearn.linear_model import Perceptron, PassiveAggressiveClassifier\n",
    "from sklearn.neighbors import KNeighborsClassifier\n",
    "from sklearn.ensemble import RandomForestClassifier\n",
    "from sklearn.naive_bayes import MultinomialNB\n",
    "from sklearn.svm import LinearSVC\n",
    "from sklearn.pipeline import make_pipeline\n",
    "from sklearn.preprocessing import StandardScaler\n",
    "from sklearn.metrics import accuracy_score, jaccard_score\n",
    "from gensim.models.coherencemodel import CoherenceModel"
   ]
  },
  {
   "cell_type": "code",
   "execution_count": 5,
   "metadata": {},
   "outputs": [],
   "source": [
    "# Configuration affichage\n",
    "pd.set_option('display.max_rows', 500)\n",
    "pd.set_option('display.max_columns', 500)"
   ]
  },
  {
   "cell_type": "markdown",
   "metadata": {},
   "source": [
    "### Sauvegarde des données des tags et mots pour la suite :"
   ]
  },
  {
   "cell_type": "markdown",
   "metadata": {},
   "source": [
    "## [MISSION 3: PREPROCESSING](#sommaire)<a class=\"anchor\" id=\"11\"></a>"
   ]
  },
  {
   "cell_type": "markdown",
   "metadata": {},
   "source": [
    "#### Récuperation des données texte :"
   ]
  },
  {
   "cell_type": "markdown",
   "metadata": {},
   "source": [
    "Exportons les données stockées dans des fichiers texte :\n",
    "\n",
    "- data/tags_words_tokens.csv : contient les données de base\n",
    "- data/Backup/top1000_words.csv : contient les données de top 1000 des mots \n",
    "- data/Backup/top100_tags.csv : contient les données de top 100 des tags\n",
    "- data/Backup/X_data.csv\n",
    "- data/Backup/y_data.csv"
   ]
  },
  {
   "cell_type": "code",
   "execution_count": 6,
   "metadata": {},
   "outputs": [],
   "source": [
    "data_preprocess = pd.read_csv('data/Backup/tags_words_tokens.csv',\n",
    "                              sep='\\t', engine='python')\n",
    "data_preprocess.drop(['Unnamed: 0'], axis=1, inplace=True)\n",
    "\n",
    "top1000words_exp = pd.read_csv('data/Backup/top1000_words.csv',\n",
    "                               header=None, index_col=0,\n",
    "                               squeeze=True).to_dict()\n",
    "top100tags_exp = pd.read_csv('data/Backup/top100_tags.csv',\n",
    "                             header=None, index_col=0,\n",
    "                             squeeze=True).to_dict()"
   ]
  },
  {
   "cell_type": "markdown",
   "metadata": {},
   "source": [
    "### [M3-1 : Préparation des input et output : ](#sommaire)<a class=\"anchor\" id=\"12\"></a>"
   ]
  },
  {
   "cell_type": "markdown",
   "metadata": {},
   "source": [
    "#### vectorisation de corpus par Bag Of Words:"
   ]
  },
  {
   "cell_type": "code",
   "execution_count": 7,
   "metadata": {},
   "outputs": [],
   "source": [
    "# Corpus (=X) en entrée on aura un ensmble de mots -> Body + Title\n",
    "X_data = pd.read_csv('data/Backup/X_data.csv', sep='\\t', engine='python')\n",
    "X_data.drop(['Unnamed: 0'], axis=1, inplace=True)"
   ]
  },
  {
   "cell_type": "code",
   "execution_count": 8,
   "metadata": {},
   "outputs": [],
   "source": [
    "# X_data"
   ]
  },
  {
   "cell_type": "raw",
   "metadata": {},
   "source": [
    "Le resultat est un vecteur de (8292, 1000) car nous avons 8292 lignes et 1000 (top 1000 des mots dans corpus) nouvelles colonnes."
   ]
  },
  {
   "cell_type": "markdown",
   "metadata": {},
   "source": [
    "#### vectorisation des tags par MultiLabelBinarizer :"
   ]
  },
  {
   "cell_type": "code",
   "execution_count": 9,
   "metadata": {},
   "outputs": [],
   "source": [
    "# 4.1 Tags (=y)\n",
    "y_data = pd.read_csv('data/Backup/y_data.csv', sep='\\t', engine='python')\n",
    "y_data.drop(['Unnamed: 0'], axis=1, inplace=True)"
   ]
  },
  {
   "cell_type": "code",
   "execution_count": 10,
   "metadata": {},
   "outputs": [],
   "source": [
    "# y_data"
   ]
  },
  {
   "cell_type": "markdown",
   "metadata": {},
   "source": [
    "Le resultat est une matrice de (8292, 100) car nous avons 8292 lignes et 100 (tags) nouvelles colonnes."
   ]
  },
  {
   "cell_type": "markdown",
   "metadata": {},
   "source": [
    "### [M3-2 : Séparation de jeu de données de test et d'entrainement : ](#sommaire)<a class=\"anchor\" id=\"13\"></a>"
   ]
  },
  {
   "cell_type": "markdown",
   "metadata": {},
   "source": [
    "Nous allons utiliser 80% des données pour l'entrainement et 20% pour le test"
   ]
  },
  {
   "cell_type": "code",
   "execution_count": 11,
   "metadata": {},
   "outputs": [],
   "source": [
    "# Split train and test :\n",
    "X_train, X_test, y_train, y_test = train_test_split(X_data, y_data, test_size=0.2, random_state=1)"
   ]
  },
  {
   "cell_type": "markdown",
   "metadata": {},
   "source": [
    "## [MISSION 4: APPROCHE NON-SUPERVISEE](#sommaire)<a class=\"anchor\" id=\"15\"></a>"
   ]
  },
  {
   "cell_type": "raw",
   "metadata": {},
   "source": [
    "Dans cette partie, nous allons à partir des questions à notre disposition, extraire les sujets(topics) qui les composent.\n",
    "Nous supposons donc que :\n",
    "- Une question peut etre composé de un ou plusieurs topics\n",
    "- Un topic est composé par plusieurs mots"
   ]
  },
  {
   "cell_type": "code",
   "execution_count": 21,
   "metadata": {},
   "outputs": [],
   "source": [
    "n_samples = 0.8\n",
    "n_features = 1000\n",
    "n_components = 8\n",
    "n_top_words = 10\n",
    "data_preprocess_copy = cleanText(data_preprocess)\n",
    "data_preprocess_copy.drop(['tokens', 'tokensStopWord'], axis=1, inplace=True)\n",
    "corpus = data_preprocess_copy['words_tokens']\n",
    "dataset = corpus.tolist()\n",
    "data_samples = dataset[:int(len(dataset)*n_samples)]\n",
    "test_samples = dataset[int(len(dataset)*n_samples):]\n",
    "\n",
    "\n",
    "def dummy(doc):\n",
    "    return doc"
   ]
  },
  {
   "cell_type": "markdown",
   "metadata": {},
   "source": [
    "### [M4-1 : Modélisation avec algorithme LDA : ](#sommaire)<a class=\"anchor\" id=\"16\"></a>"
   ]
  },
  {
   "cell_type": "markdown",
   "metadata": {},
   "source": [
    "LDA (Latent Dirichlet Allocation) est une méthode non-supervisée qui consiste à classer chaque mot dans une categorie ou sujet(topic) qui lui concerne automatiquement."
   ]
  },
  {
   "cell_type": "code",
   "execution_count": 13,
   "metadata": {},
   "outputs": [
    {
     "name": "stdout",
     "output_type": "stream",
     "text": [
      "Vectorisation des données pour LDA...\n",
      "\n"
     ]
    }
   ],
   "source": [
    "print(\"Vectorisation des données pour LDA...\")\n",
    "tf_vectorizer = CountVectorizer(max_df=0.95, min_df=2,\n",
    "                                max_features=n_features,\n",
    "                                tokenizer=dummy,\n",
    "                                preprocessor=dummy, analyzer='word')\n",
    "tf = tf_vectorizer.fit_transform(data_samples)\n",
    "tf_test = tf_vectorizer.transform(test_samples)\n",
    "print()"
   ]
  },
  {
   "cell_type": "markdown",
   "metadata": {},
   "source": [
    "#### La recherche de nombre de topics optimal :"
   ]
  },
  {
   "cell_type": "raw",
   "metadata": {},
   "source": [
    "# Trop long donc commenté\n",
    "model_list, coherence_values = compute_coherence_values(dictionary=dictionary,\n",
    "                                                        corpus=corpus, texts=corpus,\n",
    "                                                        start=5, limit=100, step=20)\n",
    "# Show graph\n",
    "import matplotlib.pyplot as plt\n",
    "limit=100; start=5; step=20;\n",
    "x = range(start, limit, step)\n",
    "plt.plot(x, coherence_values)\n",
    "plt.xlabel(\"Num Topics\")\n",
    "plt.ylabel(\"Coherence score\")\n",
    "plt.legend((\"coherence_values\"), loc='best')\n",
    "plt.show()"
   ]
  },
  {
   "cell_type": "markdown",
   "metadata": {},
   "source": [
    "Diagnostiquer les performances du modèle avec perplexité et log-vraisemblance :\n",
    "\n",
    "Un modèle avec une probabilité logarithmique plus élevée et une perplexité moindre est considéré comme bon\n",
    "\n",
    "Voyons ce que ça donne sur notre modèle:"
   ]
  },
  {
   "cell_type": "raw",
   "metadata": {},
   "source": [
    "# Calcul de perplexity avec (5,10,...,30 topics) :\n",
    "output = pd.DataFrame(columns=['nbrTopic', 'perplexity', 'loglikelihood'])\n",
    "for i in range(5, 150, 20):\n",
    "    number_topics = i\n",
    "    lda_perplexity = LDA(n_components=number_topics, max_iter=5,\n",
    "                         learning_method='online',\n",
    "                         learning_offset=50., random_state=0)\n",
    "    lda_perplexity.fit(tf)\n",
    "    train_gamma = lda_perplexity.transform(tf)\n",
    "    test_gamma = lda_perplexity.transform(tf_test)\n",
    "    news_lda = lda_perplexity.fit(train_gamma)\n",
    "    dictionary = {\"nbrTopic\": i,\n",
    "                  \"perplexity\": news_lda.perplexity(test_gamma),\n",
    "                  \"loglikelihood\": news_lda.score(test_gamma)}\n",
    "    output = output.append(dictionary, ignore_index=True)\n",
    "# output.head(10)\n",
    "# Representation graphique de scores de topic\n",
    "ax = plt.gca()\n",
    "output.plot(kind='line', x='nbrTopic',\n",
    "            y='perplexity', color='red', ax=ax)\n",
    "plt.figure(figsize=(20, 10))\n",
    "plt.show()\n",
    "# Representation graphique de scores de loglikelihood\n",
    "ax = plt.gca()\n",
    "output.plot(kind='line', x='nbrTopic',\n",
    "            y='loglikelihood', color='red', ax=ax)\n",
    "plt.figure(figsize=(20, 10))\n",
    "plt.show()"
   ]
  },
  {
   "cell_type": "code",
   "execution_count": 18,
   "metadata": {},
   "outputs": [
    {
     "data": {
      "image/png": "[encoded data removed]",
      "text/plain": [
       "<Figure size 432x288 with 1 Axes>"
      ]
     },
     "metadata": {
      "needs_background": "light"
     },
     "output_type": "display_data"
    },
    {
     "data": {
      "text/plain": [
       "<Figure size 1440x720 with 0 Axes>"
      ]
     },
     "metadata": {},
     "output_type": "display_data"
    }
   ],
   "source": [
    "# Calcul de coherence_score avec (4,6,8,10,12 topics) :\n",
    "outputCoherence = pd.DataFrame(columns=['nbrTopic', 'coherence'])\n",
    "\n",
    "dictionary = Dictionary(dataset)\n",
    "id2word = Dictionary(corpus)\n",
    "corpus_copy = corpus.copy()\n",
    "corpus_copy = [dictionary.doc2bow(doc) for doc in corpus_copy]\n",
    "\n",
    "for i in range(4, 12, 2):\n",
    "    number_topics = i\n",
    "    ldai = LdaMulticore(corpus_copy, id2word=id2word, num_topics=number_topics)\n",
    "    coherence_model_ldai = CoherenceModel(model=ldai, texts=corpus,\n",
    "                                          dictionary=dictionary,\n",
    "                                          coherence='c_v')\n",
    "    coherence_ldai = coherence_model_ldai.get_coherence()\n",
    "    dictionarylda = {\"nbrTopic\": number_topics,\n",
    "                     \"coherence\": coherence_ldai}\n",
    "    outputCoherence = outputCoherence.append(dictionarylda, ignore_index=True)\n",
    "# outputCoherence.head(10)\n",
    "# Representation graphique de coherence\n",
    "ax = plt.gca()\n",
    "outputCoherence.plot(kind='line', x='nbrTopic',\n",
    "                     y='coherence', color='red', ax=ax)\n",
    "plt.figure(figsize=(20, 10))\n",
    "plt.show()"
   ]
  },
  {
   "cell_type": "markdown",
   "metadata": {},
   "source": [
    "Donc on voit que le nombre de topics optimal serait 8 , donc on gardera 8 topics.   "
   ]
  },
  {
   "cell_type": "code",
   "execution_count": 20,
   "metadata": {},
   "outputs": [
    {
     "data": {
      "text/html": [
       "\n",
       "<link rel=\"stylesheet\" type=\"text/css\" href=\"https://cdn.rawgit.com/bmabey/pyLDAvis/files/ldavis.v1.0.0.css\">\n",
       "\n",
       "\n",
       "<div id=\"ldavis_el15922251114192456980061900\"></div>\n",
       "<script type=\"text/javascript\">\n",
       "\n",
       "var ldavis_el15922251114192456980061900_data = {\"mdsDat\": {\"x\": [-0.026560519650018075, 0.050029032530688085, -0.09069798004624526, 0.0011592195219821582, 0.00231997071623064, 0.03791391873598983, -0.008418198199262266, 0.03425455639063481], \"y\": [0.005973430946199765, 0.0006267983165879186, -0.010987672082318312, 0.0029486181893355265, -0.01752980755193989, 0.04496552896952929, 0.038580050955633875, -0.06457694774302829], \"topics\": [1, 2, 3, 4, 5, 6, 7, 8], \"cluster\": [1, 1, 1, 1, 1, 1, 1, 1], \"Freq\": [15.880290031433105, 15.293502807617188, 14.903094291687012, 12.955509185791016, 10.916451454162598, 10.413970947265625, 10.0560302734375, 9.581151008605957]}, \"tinfo\": {\"Term\": [\"div\", \"git\", \"angular\", \"android\", \"file\", \"function\", \"error\", \"react\", \"class=\", \"class\", \"gradle\", \"woman\", \"match_parent\", \"innertext\", \"cmds\", \"pivoting\", \"****\", \"ford\", \"steroid\", \"jsessionid\", \"hadoop\", \"rjava\", \"main.py\", \"lib\", \"java_home\", \"package\", \"prop\", \"file\", \"library\", \"object\", \"module\", \"formula\", \"version\", \"studio\", \"application\", \"use\", \"work\", \"like\", \"would\", \"get\", \"using\", \"code\", \"myriad\", \"movie\", \"reject\", \"mcontext\", \".then\", \"backgroundimage\", \"trained\", \"computational\", \".inject\", \"authorizeattribute\", \"java.lang.nullpointerexception\", \"bbb\", \"layout_width=\", \"layout_height=\", \"view.onclicklistener\", \"wrap_content\", \"react\", \"android\", \"void\", \"override\", \"public\", \"string\", \"return\", \"button\", \"new\", \"class\", \"example\", \"type\", \"code\", \"get\", \"file\", \"like\", \"projectroot\", \"mergetool\", \"difftool\", \"textfile\", \"amd\", \"uninstalling\", \"archetype\", \"vectorized\", \"gpu\", \"\\\\python\", \"executor\", \"america\", \"africa\", \"git\", \"asia\", \"push\", \"apt\", \"sudo\", \"remote\", \"compose\", \"origin\", \"command\", \"branch\", \"repository\", \"bin\", \"file\", \"run\", \"local\", \"python\", \"get\", \"using\", \"use\", \"want\", \"like\", \"error\", \"router\", \"textinput\", \"phpunit\", \"mocha\", \"self.tableview\", \"\\u00ef\\u00bf\\u00bd\\u00c3\\u00bf\\u00c2\\u00af\\u00c5\\u00a1\\u00c2\", \"elevation\", \"mutate\", \"cryptography\", \"attributed\", \"hall\", \"col\", \"a==\", \"training\", \".net\", \"model\", \"frame\", \"version\", \"difference\", \"uiview\", \"test\", \"use\", \"row\", \"number\", \"data\", \"like\", \"class\", \"get\", \"using\", \"want\", \"error\", \"blur\", \"salary\", \"createuser\", \"mno\", \"agreement\", \"lea\", \"canceled\", \"weighted\", \".contains\", \"compliance\", \"autowired\", \"partition\", \"nan\", \"wordpress\", \"svg\", \"node.js\", \"sublime\", \"mov\", \"mysql\", \"spring\", \"select\", \"password\", \"token\", \"table\", \"column\", \"query\", \"android\", \"using\", \"way\", \"service\", \"like\", \"use\", \"one\", \"want\", \"get\", \"would\", \"error\", \"elt\", \"mydataset\", \"angular\", \"waldo\", \"group_by\", \"__getitem__\", \"iteritems\", \"polymer\", \"phpstorm\", \"multiplier\", \"hue\", \"getcolor\", \"activitythread.java\", \"websocket\", \"broad\", \"zygoteinit.java\", \"nil\", \"function\", \"thread\", \"dataframe\", \"var\", \"array\", \"callback\", \"color\", \"return\", \"new\", \"int\", \"use\", \"way\", \"string\", \"using\", \"like\", \":member\", \"frp\", \"bomb\", \"oom\", \"rabbitmq\", \"biginteger\", \"javac\", \"retries\", \"appmain\", \"reactive\", \"observable\", \"java.lang.noclassdeffounderror\", \"scrapy\", \"ms.\", \"uikit\", \"guard\", \"sec\", \"fingerprint\", \"class\", \"openssl\", \"foo\", \"static\", \"one\", \"int\", \"java\", \"code\", \"test\", \"python\", \"time\", \"using\", \"would\", \"name\", \"function\", \"use\", \"pod\", \"sidebar\", \"blockquote\", \"classnotfoundexception\", \"permgen\", \"localizeddescription\", \"uialertview\", \"avd\", \"openjdk\", \"oncomplete\", \"div\", \"flex\", \"class=\", \"androidruntime\", \"height\", \"align\", \"icon\", \"emulator\", \"center\", \"error\", \"debug\", \"http\", \"code\", \"android\", \"content\", \"user\", \"using\", \"server\", \"want\", \"name\", \"new\", \"way\"], \"Freq\": [2707.0, 4160.0, 1569.0, 6527.0, 9538.0, 5866.0, 6818.0, 1079.0, 1189.0, 4542.0, 410.41571044921875, 19.650182723999023, 384.23785400390625, 14.597352981567383, 16.107406616210938, 13.214829444885254, 9.979687690734863, 15.887308120727539, 30.352537155151367, 8.371928215026855, 60.95798873901367, 57.06654739379883, 60.65799331665039, 803.7640380859375, 58.83628845214844, 922.8250732421875, 158.16944885253906, 3210.281005859375, 979.96435546875, 1308.4361572265625, 616.4495849609375, 133.1787109375, 976.4703369140625, 477.5132751464844, 911.1799926757812, 1542.8111572265625, 1061.654541015625, 1260.7874755859375, 1043.300048828125, 1083.4638671875, 1108.8885498046875, 1023.4711303710938, 60.33238983154297, 216.0514373779297, 65.80986785888672, 66.0639877319336, 188.18951416015625, 10.408936500549316, 47.33623123168945, 21.573728561401367, 6.861003398895264, 20.234848022460938, 19.322021484375, 31.00002670288086, 430.48919677734375, 432.19873046875, 43.73822784423828, 286.8775634765625, 720.4854736328125, 3026.0859375, 836.9923706054688, 468.8837585449219, 1515.01708984375, 1599.8052978515625, 1348.669921875, 690.5565795898438, 1327.1103515625, 1187.989013671875, 1011.6470336914062, 858.3030395507812, 1084.09912109375, 1075.64306640625, 1148.14501953125, 1034.0919189453125, 33.853214263916016, 47.59452819824219, 24.796184539794922, 20.706830978393555, 69.64290618896484, 48.54548645019531, 19.293272018432617, 22.116104125976562, 175.0814208984375, 14.148178100585938, 162.39208984375, 164.13043212890625, 53.97920608520508, 3096.481689453125, 91.53044128417969, 701.9039916992188, 199.27223205566406, 411.2216796875, 732.4370727539062, 219.72874450683594, 546.0643920898438, 1601.0560302734375, 1025.7724609375, 727.5867919921875, 648.5234375, 3419.327392578125, 1322.2593994140625, 837.2642822265625, 1221.5452880859375, 1414.5115966796875, 1511.3099365234375, 1209.07568359375, 1066.3687744140625, 1115.2623291015625, 1077.4271240234375, 374.6630554199219, 24.82505989074707, 24.759185791015625, 16.233840942382812, 15.597235679626465, 13.708776473999023, 32.85769271850586, 40.61536407470703, 37.69300079345703, 15.745992660522461, 50.75435256958008, 477.0244445800781, 35.50408935546875, 87.2872085571289, 337.4699401855469, 510.2530822753906, 174.03054809570312, 961.9073486328125, 940.9436645507812, 148.95465087890625, 628.109375, 1585.918212890625, 429.41741943359375, 527.4591674804688, 863.125244140625, 1151.2733154296875, 853.2284545898438, 980.8377685546875, 960.1021118164062, 842.2884521484375, 859.2227783203125, 48.05471420288086, 12.199968338012695, 12.280943870544434, 10.892375946044922, 37.00747299194336, 16.63987922668457, 13.019096374511719, 28.155517578125, 17.472543716430664, 16.836017608642578, 54.08695983886719, 93.69270324707031, 139.55911254882812, 41.063636779785156, 107.36398315429688, 395.7464599609375, 84.53399658203125, 82.73055267333984, 574.757080078125, 310.8440856933594, 530.8218994140625, 392.0439758300781, 319.5852966308594, 672.291259765625, 609.4550170898438, 417.4052734375, 1306.1246337890625, 1491.06640625, 1158.37646484375, 531.1271362304688, 1150.320556640625, 1082.4700927734375, 760.2646484375, 767.51953125, 793.3289794921875, 750.9700317382812, 731.675537109375, 28.30795669555664, 13.82080078125, 1430.2042236328125, 8.649736404418945, 7.595571517944336, 28.167789459228516, 7.70005989074707, 9.927495002746582, 6.703927993774414, 19.372882843017578, 20.178537368774414, 13.275043487548828, 55.49849319458008, 85.64939880371094, 23.224044799804688, 42.30707931518555, 174.0996551513672, 2000.0306396484375, 464.3495178222656, 283.2646484375, 969.5733642578125, 727.432861328125, 166.66920471191406, 380.43701171875, 960.7182006835938, 1093.04931640625, 655.3402709960938, 1274.0430908203125, 923.6517944335938, 834.2460327148438, 941.7537841796875, 826.3997802734375, 29.218168258666992, 27.486370086669922, 15.617741584777832, 14.336711883544922, 60.90469741821289, 32.87727737426758, 49.80622863769531, 8.887293815612793, 8.421225547790527, 15.391179084777832, 110.01351165771484, 15.913909912109375, 62.39556884765625, 30.364791870117188, 103.27979278564453, 54.80767822265625, 114.17129516601562, 57.63090896606445, 1159.0050048828125, 109.39479064941406, 390.8486633300781, 398.06402587890625, 1096.2481689453125, 667.443115234375, 609.5447998046875, 1032.7318115234375, 508.4151916503906, 664.692626953125, 622.3973999023438, 975.8943481445312, 772.1329956054688, 611.1979370117188, 708.3264770507812, 686.4019165039062, 217.8520965576172, 33.271671295166016, 26.757858276367188, 10.209905624389648, 15.409423828125, 9.601963996887207, 11.868292808532715, 40.522762298583984, 55.05897521972656, 14.745967864990234, 1977.5062255859375, 212.81906127929688, 682.0516967773438, 200.90428161621094, 415.4268798828125, 147.88668823242188, 214.78811645507812, 179.76351928710938, 225.71385192871094, 1868.4393310546875, 325.1908874511719, 781.3568115234375, 1027.82275390625, 893.9943237304688, 455.6732177734375, 658.5189208984375, 863.01611328125, 540.5066528320312, 616.1952514648438, 556.5769653320312, 576.3934936523438, 578.635009765625], \"Total\": [2707.0, 4160.0, 1569.0, 6527.0, 9538.0, 5866.0, 6818.0, 1079.0, 1189.0, 4542.0, 419.1064453125, 20.507400512695312, 403.9955139160156, 15.453350067138672, 17.107446670532227, 14.078908920288086, 10.835603713989258, 17.292034149169922, 33.306148529052734, 9.228758811950684, 71.37686157226562, 67.72449493408203, 72.82960510253906, 1172.5050048828125, 70.99327850341797, 1706.193115234375, 247.85028076171875, 9538.3837890625, 2300.836181640625, 3379.448486328125, 1492.0654296875, 202.83897399902344, 3072.619873046875, 1169.045166015625, 2977.77734375, 8662.134765625, 4292.56103515625, 7673.05810546875, 5535.63134765625, 6720.2294921875, 8718.4111328125, 6591.509765625, 63.27023696899414, 226.84246826171875, 69.18544006347656, 70.67284393310547, 206.14645385742188, 11.439178466796875, 52.16555404663086, 24.251148223876953, 7.740747451782227, 22.8917293548584, 21.98563003540039, 35.47386932373047, 530.8641967773438, 535.7803955078125, 50.88373947143555, 390.5841979980469, 1079.81591796875, 6527.392578125, 1575.803955078125, 786.7625732421875, 3349.251708984375, 5135.98876953125, 4177.9501953125, 1526.2410888671875, 5593.38330078125, 4542.3427734375, 4060.529296875, 2850.66943359375, 6591.509765625, 6720.2294921875, 9538.3837890625, 7673.05810546875, 34.812217712402344, 49.04305648803711, 25.639812469482422, 21.543062210083008, 72.73756408691406, 50.80617141723633, 20.49500274658203, 23.632415771484375, 187.86988830566406, 15.251822471618652, 176.6597137451172, 181.18569946289062, 58.74335861206055, 4160.6728515625, 104.25184631347656, 936.0850219726562, 242.47190856933594, 535.0615844726562, 1027.457275390625, 272.0102844238281, 821.3413696289062, 2991.364501953125, 1786.044677734375, 1201.4150390625, 1037.3448486328125, 9538.3837890625, 3644.916015625, 1757.3001708984375, 3474.26123046875, 6720.2294921875, 8718.4111328125, 8662.134765625, 5698.0654296875, 7673.05810546875, 6818.97900390625, 380.17333984375, 25.674570083618164, 25.9407901763916, 17.0793514251709, 16.447294235229492, 14.554572105407715, 35.02935028076172, 43.93547439575195, 41.222686767578125, 17.304458618164062, 56.573604583740234, 718.5985717773438, 41.5591926574707, 122.30060577392578, 654.6650390625, 1192.934814453125, 323.0885314941406, 3072.619873046875, 3091.9892578125, 267.2350158691406, 2132.83544921875, 8662.134765625, 1384.216796875, 1930.9407958984375, 4620.0556640625, 7673.05810546875, 4542.3427734375, 6720.2294921875, 8718.4111328125, 5698.0654296875, 6818.97900390625, 51.30786895751953, 13.051434516906738, 13.207687377929688, 11.74490737915039, 40.21501159667969, 18.194740295410156, 14.274179458618164, 31.345504760742188, 19.636449813842773, 18.9582462310791, 62.34736251831055, 120.3254623413086, 185.98277282714844, 49.37283706665039, 140.74591064453125, 620.3984375, 113.63408660888672, 110.91569519042969, 1184.335205078125, 576.2958374023438, 1190.657958984375, 899.5621337890625, 682.9572143554688, 1891.2215576171875, 1667.131591796875, 1020.9649047851562, 6527.392578125, 8718.4111328125, 6064.0068359375, 1618.0001220703125, 7673.05810546875, 8662.134765625, 5505.32568359375, 5698.0654296875, 6720.2294921875, 5535.63134765625, 6818.97900390625, 29.68319320678711, 14.853079795837402, 1569.465087890625, 9.581683158874512, 8.437591552734375, 31.427326202392578, 8.649848937988281, 11.230400085449219, 7.597109794616699, 22.146947860717773, 23.352745056152344, 15.366448402404785, 70.5496597290039, 113.10939025878906, 28.136249542236328, 56.997650146484375, 309.492919921875, 5866.0029296875, 1029.5548095703125, 588.9597778320312, 2941.303466796875, 2079.5595703125, 336.85382080078125, 1064.8583984375, 4177.9501953125, 5593.38330078125, 2716.94970703125, 8662.134765625, 6064.0068359375, 5135.98876953125, 8718.4111328125, 7673.05810546875, 30.051979064941406, 28.331933975219727, 16.452089309692383, 15.174898147583008, 64.6861343383789, 35.18598175048828, 54.01476287841797, 9.723589897155762, 9.25597095489502, 16.979829788208008, 125.80803680419922, 17.629291534423828, 72.82772827148438, 34.41618728637695, 125.7897720336914, 67.65767669677734, 157.01980590820312, 72.03138732910156, 4542.3427734375, 183.46141052246094, 1132.608154296875, 1230.9140625, 5505.32568359375, 2716.94970703125, 2508.0556640625, 6591.509765625, 2132.83544921875, 3474.26123046875, 3278.4833984375, 8718.4111328125, 5535.63134765625, 3702.35400390625, 5866.0029296875, 8662.134765625, 220.90567016601562, 35.5590934753418, 28.934314727783203, 11.125917434692383, 16.930633544921875, 10.551456451416016, 13.066661834716797, 44.78670120239258, 62.773624420166016, 16.87893295288086, 2707.1064453125, 293.1581115722656, 1189.6385498046875, 306.11920166015625, 737.9281005859375, 232.6702117919922, 377.1295166015625, 303.2070007324219, 409.035888671875, 6818.97900390625, 669.6868286132812, 3940.7353515625, 6591.509765625, 6527.392578125, 1651.539794921875, 4179.2109375, 8718.4111328125, 2873.740234375, 5698.0654296875, 3702.35400390625, 5593.38330078125, 6064.0068359375], \"Category\": [\"Default\", \"Default\", \"Default\", \"Default\", \"Default\", \"Default\", \"Default\", \"Default\", \"Default\", \"Default\", \"Topic1\", \"Topic1\", \"Topic1\", \"Topic1\", \"Topic1\", \"Topic1\", \"Topic1\", \"Topic1\", \"Topic1\", \"Topic1\", \"Topic1\", \"Topic1\", \"Topic1\", \"Topic1\", \"Topic1\", \"Topic1\", \"Topic1\", \"Topic1\", \"Topic1\", \"Topic1\", \"Topic1\", \"Topic1\", \"Topic1\", \"Topic1\", \"Topic1\", \"Topic1\", \"Topic1\", \"Topic1\", \"Topic1\", \"Topic1\", \"Topic1\", \"Topic1\", \"Topic2\", \"Topic2\", \"Topic2\", \"Topic2\", \"Topic2\", \"Topic2\", \"Topic2\", \"Topic2\", \"Topic2\", \"Topic2\", \"Topic2\", \"Topic2\", \"Topic2\", \"Topic2\", \"Topic2\", \"Topic2\", \"Topic2\", \"Topic2\", \"Topic2\", \"Topic2\", \"Topic2\", \"Topic2\", \"Topic2\", \"Topic2\", \"Topic2\", \"Topic2\", \"Topic2\", \"Topic2\", \"Topic2\", \"Topic2\", \"Topic2\", \"Topic2\", \"Topic3\", \"Topic3\", \"Topic3\", \"Topic3\", \"Topic3\", \"Topic3\", \"Topic3\", \"Topic3\", \"Topic3\", \"Topic3\", \"Topic3\", \"Topic3\", \"Topic3\", \"Topic3\", \"Topic3\", \"Topic3\", \"Topic3\", \"Topic3\", \"Topic3\", \"Topic3\", \"Topic3\", \"Topic3\", \"Topic3\", \"Topic3\", \"Topic3\", \"Topic3\", \"Topic3\", \"Topic3\", \"Topic3\", \"Topic3\", \"Topic3\", \"Topic3\", \"Topic3\", \"Topic3\", \"Topic3\", \"Topic4\", \"Topic4\", \"Topic4\", \"Topic4\", \"Topic4\", \"Topic4\", \"Topic4\", \"Topic4\", \"Topic4\", \"Topic4\", \"Topic4\", \"Topic4\", \"Topic4\", \"Topic4\", \"Topic4\", \"Topic4\", \"Topic4\", \"Topic4\", \"Topic4\", \"Topic4\", \"Topic4\", \"Topic4\", \"Topic4\", \"Topic4\", \"Topic4\", \"Topic4\", \"Topic4\", \"Topic4\", \"Topic4\", \"Topic4\", \"Topic4\", \"Topic5\", \"Topic5\", \"Topic5\", \"Topic5\", \"Topic5\", \"Topic5\", \"Topic5\", \"Topic5\", \"Topic5\", \"Topic5\", \"Topic5\", \"Topic5\", \"Topic5\", \"Topic5\", \"Topic5\", \"Topic5\", \"Topic5\", \"Topic5\", \"Topic5\", \"Topic5\", \"Topic5\", \"Topic5\", \"Topic5\", \"Topic5\", \"Topic5\", \"Topic5\", \"Topic5\", \"Topic5\", \"Topic5\", \"Topic5\", \"Topic5\", \"Topic5\", \"Topic5\", \"Topic5\", \"Topic5\", \"Topic5\", \"Topic5\", \"Topic6\", \"Topic6\", \"Topic6\", \"Topic6\", \"Topic6\", \"Topic6\", \"Topic6\", \"Topic6\", \"Topic6\", \"Topic6\", \"Topic6\", \"Topic6\", \"Topic6\", \"Topic6\", \"Topic6\", \"Topic6\", \"Topic6\", \"Topic6\", \"Topic6\", \"Topic6\", \"Topic6\", \"Topic6\", \"Topic6\", \"Topic6\", \"Topic6\", \"Topic6\", \"Topic6\", \"Topic6\", \"Topic6\", \"Topic6\", \"Topic6\", \"Topic6\", \"Topic7\", \"Topic7\", \"Topic7\", \"Topic7\", \"Topic7\", \"Topic7\", \"Topic7\", \"Topic7\", \"Topic7\", \"Topic7\", \"Topic7\", \"Topic7\", \"Topic7\", \"Topic7\", \"Topic7\", \"Topic7\", \"Topic7\", \"Topic7\", \"Topic7\", \"Topic7\", \"Topic7\", \"Topic7\", \"Topic7\", \"Topic7\", \"Topic7\", \"Topic7\", \"Topic7\", \"Topic7\", \"Topic7\", \"Topic7\", \"Topic7\", \"Topic7\", \"Topic7\", \"Topic7\", \"Topic8\", \"Topic8\", \"Topic8\", \"Topic8\", \"Topic8\", \"Topic8\", \"Topic8\", \"Topic8\", \"Topic8\", \"Topic8\", \"Topic8\", \"Topic8\", \"Topic8\", \"Topic8\", \"Topic8\", \"Topic8\", \"Topic8\", \"Topic8\", \"Topic8\", \"Topic8\", \"Topic8\", \"Topic8\", \"Topic8\", \"Topic8\", \"Topic8\", \"Topic8\", \"Topic8\", \"Topic8\", \"Topic8\", \"Topic8\", \"Topic8\", \"Topic8\"], \"logprob\": [10.0, 9.0, 8.0, 7.0, 6.0, 5.0, 4.0, 3.0, 2.0, 1.0, -6.151100158691406, -9.190099716186523, -6.2170000076293945, -9.48740005493164, -9.388899803161621, -9.586899757385254, -9.86769962310791, -9.402700424194336, -8.75529956817627, -10.043299674987793, -8.057999610900879, -8.12399959564209, -8.062999725341797, -5.478899955749512, -8.093500137329102, -5.340799808502197, -7.104599952697754, -4.094099998474121, -5.280700206756592, -4.991600036621094, -5.74429988861084, -7.276500225067139, -5.284299850463867, -5.999599933624268, -5.353499889373779, -4.826900005340576, -5.2006001472473145, -5.02869987487793, -5.218100070953369, -5.180300235748291, -5.157100200653076, -5.237299919128418, -8.030699729919434, -6.755099773406982, -7.94379997253418, -7.940000057220459, -6.893099784851074, -9.7878999710083, -8.273300170898438, -9.059100151062012, -10.204700469970703, -9.123200416564941, -9.169300079345703, -8.696599960327148, -6.065700054168701, -6.061699867248535, -8.352399826049805, -6.471499919891357, -5.5507001876831055, -4.115600109100342, -5.4008002281188965, -5.980199813842773, -4.807400226593018, -4.752900123596191, -4.923699855804443, -5.593100070953369, -4.939799785614014, -5.050600051879883, -5.21120023727417, -5.3755998611450195, -5.142099857330322, -5.149899959564209, -5.084700107574463, -5.189300060272217, -8.5826997756958, -8.241999626159668, -8.894000053405762, -9.074299812316895, -7.861299991607666, -8.222200393676758, -9.145000457763672, -9.008399963378906, -6.939499855041504, -9.455100059509277, -7.014699935913086, -7.0040998458862305, -8.116100311279297, -4.066699981689453, -7.5879998207092285, -5.550899982452393, -6.809999942779541, -6.085599899291992, -5.508299827575684, -6.712299823760986, -5.802000045776367, -4.72629976272583, -5.171500205993652, -5.514999866485596, -5.630000114440918, -3.9674999713897705, -4.917600154876709, -5.374599933624268, -4.996799945831299, -4.850200176239014, -4.783999919891357, -5.0071001052856445, -5.132699966430664, -5.087900161743164, -5.122399806976318, -6.038599967956543, -8.752799987792969, -8.755499839782715, -9.177599906921387, -9.217599868774414, -9.346599578857422, -8.47249984741211, -8.260499954223633, -8.335200309753418, -9.208100318908691, -8.037699699401855, -5.797100067138672, -8.395000457763672, -7.495500087738037, -6.143199920654297, -5.729800224304199, -6.8053998947143555, -5.095799922943115, -5.117800235748291, -6.960999965667725, -5.521999835968018, -4.595799922943115, -5.902200222015381, -5.696599960327148, -5.204100131988525, -4.915999889373779, -5.21560001373291, -5.076300144195557, -5.097599983215332, -5.228499889373779, -5.208600044250488, -7.92110013961792, -9.291999816894531, -9.285400390625, -9.405400276184082, -8.182299613952637, -8.981599807739258, -9.22700023651123, -8.455699920654297, -8.93280029296875, -8.969900131225586, -7.802800178527832, -7.253399848937988, -6.854899883270264, -8.078300476074219, -7.117199897766113, -5.812600135803223, -7.356299877166748, -7.377799987792969, -5.439499855041504, -6.054100036621094, -5.519000053405762, -5.822000026702881, -6.026400089263916, -5.282700061798096, -5.380899906158447, -5.759399890899658, -4.618599891662598, -4.486199855804443, -4.73859977722168, -5.518400192260742, -4.74560022354126, -4.806399822235107, -5.159800052642822, -5.150300025939941, -5.117199897766113, -5.172100067138672, -5.1981000900268555, -8.403200149536133, -9.120100021362305, -4.4807000160217285, -9.588800430297852, -9.718700408935547, -8.408100128173828, -9.705100059509277, -9.451000213623047, -9.843600273132324, -8.782400131225586, -8.741700172424316, -9.160400390625, -7.729899883270264, -7.296000003814697, -8.601099967956543, -8.001299858093262, -6.586699962615967, -4.145400047302246, -5.6057000160217285, -6.099899768829346, -4.8694000244140625, -5.156799793243408, -6.630300045013428, -5.804999828338623, -4.878600120544434, -4.749599933624268, -5.261099815368652, -4.59630012512207, -4.918000221252441, -5.019800186157227, -4.898600101470947, -5.029200077056885, -8.33650016784668, -8.397600173950195, -8.962900161743164, -9.048500061035156, -7.6020002365112305, -8.218500137329102, -7.803199768066406, -9.526700019836426, -9.580599784851074, -8.977499961853027, -7.010700225830078, -8.944100379943848, -7.5777997970581055, -8.29800033569336, -7.07390022277832, -7.707499980926514, -6.973599910736084, -7.657299995422363, -4.656000137329102, -7.01639986038208, -5.743000030517578, -5.724699974060059, -4.711699962615967, -5.207900047302246, -5.298600196838379, -4.771399974822998, -5.480000019073486, -5.211999893188477, -5.277699947357178, -4.828000068664551, -5.06220006942749, -5.295899868011475, -5.148399829864502, -5.179900169372559, -6.279099941253662, -8.15820026397705, -8.376099586486816, -9.339599609375, -8.928000450134277, -9.401000022888184, -9.18910026550293, -7.961100101470947, -7.6545000076293945, -8.972000122070312, -4.073400020599365, -6.302499771118164, -5.137800216674805, -6.360099792480469, -5.633600234985352, -6.666500091552734, -6.293300151824951, -6.47130012512207, -6.24370002746582, -4.130099773406982, -5.878499984741211, -5.0019001960754395, -4.727700233459473, -4.867199897766113, -5.541200160980225, -5.172999858856201, -4.902500152587891, -5.3703999519348145, -5.2393999099731445, -5.341100215911865, -5.30620002746582, -5.302299976348877], \"loglift\": [10.0, 9.0, 8.0, 7.0, 6.0, 5.0, 4.0, 3.0, 2.0, 1.0, 1.819100022315979, 1.7973999977111816, 1.7898999452590942, 1.7831000089645386, 1.7798999547958374, 1.7768000364303589, 1.7577999830245972, 1.7553999423980713, 1.7472000122070312, 1.7426999807357788, 1.6822999715805054, 1.6689000129699707, 1.6571999788284302, 1.462499976158142, 1.6523000001907349, 1.2254999876022339, 1.3909000158309937, 0.7511000037193298, 0.9865999817848206, 0.8912000060081482, 0.9562000036239624, 1.4193999767303467, 0.6937000155448914, 0.9447000026702881, 0.6559000015258789, 0.11469999700784683, 0.4429999887943268, 0.0340999998152256, 0.1712999939918518, 0.01510000042617321, -0.22200000286102295, -0.02250000089406967, 1.830199956893921, 1.8289999961853027, 1.8277000188827515, 1.8102999925613403, 1.7865999937057495, 1.783400058746338, 1.7805999517440796, 1.7608000040054321, 1.757099986076355, 1.7544000148773193, 1.7486000061035156, 1.742900013923645, 1.6682000160217285, 1.6628999710083008, 1.7264000177383423, 1.569200038909912, 1.473099946975708, 1.1089999675750732, 1.2450000047683716, 1.360200047492981, 1.0844000577926636, 0.7113999724388123, 0.746999979019165, 1.0846999883651733, 0.4392000138759613, 0.5365999937057495, 0.4880000054836273, 0.6773999929428101, 0.07270000129938126, 0.045499999076128006, -0.2393999993801117, -0.12639999389648438, 1.8756999969482422, 1.8736000061035156, 1.8701000213623047, 1.8639999628067017, 1.8601000308990479, 1.8581000566482544, 1.8431999683380127, 1.8372999429702759, 1.8330999612808228, 1.8285000324249268, 1.8193999528884888, 1.8047000169754028, 1.819000005722046, 1.608199954032898, 1.7734999656677246, 1.6157000064849854, 1.7073999643325806, 1.6404000520706177, 1.5650999546051025, 1.6901999711990356, 1.4953999519348145, 1.278499960899353, 1.3489999771118164, 1.4020999670028687, 1.433899998664856, 0.8776999711990356, 0.8895999789237976, 1.1621999740600586, 0.858299970626831, 0.34529998898506165, 0.15109999477863312, -0.06549999862909317, 0.22769999504089355, -0.02500000037252903, 0.05849999934434891, 2.0290000438690186, 2.009999990463257, 1.996999979019165, 1.992900013923645, 1.9905999898910522, 1.9838000535964966, 1.979599952697754, 1.9651000499725342, 1.9541000127792358, 1.9493000507354736, 1.9350999593734741, 1.6339000463485718, 1.886199951171875, 1.7064000368118286, 1.38100004196167, 1.1943999528884888, 1.4249999523162842, 0.8823000192642212, 0.8539999723434448, 1.4592000246047974, 0.8212000131607056, 0.3458999991416931, 0.873199999332428, 0.7459999918937683, 0.3659999966621399, 0.1467999964952469, 0.3714999854564667, 0.11919999867677689, -0.16249999403953552, 0.13189999759197235, -0.027799999341368675, 2.149399995803833, 2.14739990234375, 2.1421000957489014, 2.1394999027252197, 2.1317999362945557, 2.1256000995635986, 2.1229000091552734, 2.107599973678589, 2.098099946975708, 2.0961999893188477, 2.0727999210357666, 1.9646999835968018, 1.9277000427246094, 2.030600070953369, 1.944200038909912, 1.7653000354766846, 1.919100046157837, 1.9217000007629395, 1.4918999671936035, 1.597599983215332, 1.407099962234497, 1.3844000101089478, 1.4555000066757202, 1.1806000471115112, 1.2086000442504883, 1.3205000162124634, 0.6060000061988831, 0.4490000009536743, 0.559499979019165, 1.1009999513626099, 0.3172000050544739, 0.13519999384880066, 0.23510000109672546, 0.2101999968290329, 0.07829999923706055, 0.21729999780654907, -0.01720000058412552, 2.214600086212158, 2.190000057220459, 2.169100046157837, 2.1596999168395996, 2.156899929046631, 2.1524999141693115, 2.145699977874756, 2.138700008392334, 2.136899948120117, 2.128200054168701, 2.1159000396728516, 2.1157000064849854, 2.0220999717712402, 1.9838999509811401, 2.070199966430664, 1.9639999866485596, 1.6866999864578247, 1.1859999895095825, 1.4658000469207764, 1.5299999713897705, 1.1523000001907349, 1.2115999460220337, 1.55840003490448, 1.232699990272522, 0.7921000123023987, 0.6294000148773193, 0.839900016784668, 0.34529998898506165, 0.38019999861717224, 0.44449999928474426, 0.03660000115633011, 0.03359999880194664, 2.268899917602539, 2.266700029373169, 2.244999885559082, 2.2402000427246094, 2.236799955368042, 2.229099988937378, 2.21589994430542, 2.2070999145507812, 2.202500104904175, 2.1988000869750977, 2.1628000736236572, 2.1946001052856445, 2.142400026321411, 2.171799898147583, 2.0998001098632812, 2.086400032043457, 1.9782999753952026, 2.0739998817443848, 0.9311000108718872, 1.7799999713897705, 1.2330000400543213, 1.1680999994277954, 0.6832000017166138, 0.8931999802589417, 0.8823999762535095, 0.44339999556541443, 0.863099992275238, 0.6431999802589417, 0.6353999972343445, 0.10719999670982361, 0.3271999955177307, 0.49570000171661377, 0.18299999833106995, -0.23829999566078186, 2.3315000534057617, 2.278899908065796, 2.267199993133545, 2.259500026702881, 2.251199960708618, 2.2511000633239746, 2.2492001056671143, 2.245300054550171, 2.214200019836426, 2.2102999687194824, 2.0313000679016113, 2.025099992752075, 1.7891000509262085, 1.9242000579833984, 1.770799994468689, 1.892199993133545, 1.7824000120162964, 1.82260000705719, 1.7508000135421753, 1.0507999658584595, 1.6230000257492065, 0.7272999882698059, 0.4869999885559082, 0.3573000133037567, 1.0577000379562378, 0.4975000023841858, 0.032600000500679016, 0.6744999885559082, 0.12110000103712082, 0.4505000114440918, 0.07280000299215317, -0.004100000020116568]}, \"token.table\": {\"Topic\": [1, 5, 7, 2, 1, 2, 3, 4, 5, 6, 7, 8, 1, 2, 6, 7, 7, 3, 1, 2, 3, 6, 3, 4, 2, 3, 6, 8, 3, 4, 5, 6, 7, 4, 5, 6, 7, 1, 2, 3, 4, 5, 6, 7, 8, 3, 5, 6, 1, 3, 4, 5, 6, 7, 8, 1, 2, 3, 4, 5, 6, 7, 8, 2, 3, 4, 5, 6, 7, 8, 2, 3, 4, 5, 6, 7, 8, 1, 2, 3, 4, 5, 6, 7, 8, 7, 1, 3, 4, 5, 6, 7, 8, 3, 1, 2, 3, 4, 5, 6, 7, 8, 1, 3, 4, 5, 6, 7, 8, 4, 2, 4, 8, 1, 2, 3, 4, 5, 6, 1, 2, 3, 5, 7, 8, 2, 1, 2, 3, 4, 6, 1, 5, 7, 1, 2, 3, 4, 5, 6, 7, 8, 2, 8, 2, 5, 7, 7, 1, 2, 3, 4, 5, 6, 7, 8, 1, 3, 4, 6, 8, 1, 2, 3, 4, 5, 6, 7, 8, 1, 2, 3, 4, 5, 6, 7, 8, 5, 1, 2, 3, 4, 5, 6, 7, 8, 1, 2, 3, 4, 5, 6, 7, 8, 1, 2, 3, 4, 5, 6, 7, 8, 8, 1, 1, 2, 3, 4, 5, 6, 7, 8, 1, 2, 3, 4, 5, 6, 7, 8, 1, 2, 3, 4, 5, 6, 7, 8, 1, 2, 3, 4, 5, 6, 7, 8, 1, 2, 3, 4, 5, 6, 7, 8, 1, 5, 1, 3, 4, 5, 6, 1, 2, 3, 1, 2, 3, 4, 5, 6, 7, 8, 5, 3, 4, 6, 7, 1, 2, 3, 4, 5, 6, 7, 8, 1, 2, 3, 4, 5, 6, 8, 1, 2, 3, 4, 5, 6, 7, 8, 1, 2, 3, 4, 5, 6, 7, 8, 3, 1, 2, 3, 4, 5, 6, 7, 8, 1, 4, 6, 6, 1, 2, 3, 4, 5, 7, 8, 1, 2, 3, 4, 5, 6, 7, 8, 1, 2, 3, 4, 5, 6, 7, 8, 3, 4, 5, 6, 7, 1, 2, 3, 4, 5, 6, 7, 8, 1, 2, 3, 4, 5, 6, 7, 8, 1, 2, 4, 5, 6, 7, 8, 1, 2, 3, 4, 5, 6, 7, 8, 1, 1, 2, 3, 4, 5, 6, 7, 8, 1, 2, 3, 4, 5, 6, 7, 8, 7, 1, 2, 3, 4, 5, 6, 7, 8, 1, 2, 3, 4, 5, 6, 7, 8, 2, 6, 1, 2, 3, 4, 5, 6, 7, 8, 2, 3, 4, 7, 8, 1, 4, 5, 7, 8, 6, 1, 2, 5, 6, 7, 8, 1, 3, 4, 5, 7, 8, 2, 4, 5, 6, 7, 1, 2, 3, 4, 5, 6, 7, 8, 1, 2, 3, 4, 5, 6, 7, 8, 1, 4, 6, 8, 1, 2, 3, 4, 5, 6, 7, 8, 1, 1, 2, 3, 4, 5, 6, 7, 8, 6, 1, 2, 3, 4, 5, 6, 7, 8, 3, 7, 2, 6, 7, 1, 3, 4, 5, 7, 1, 2, 3, 7, 1, 1, 2, 3, 4, 5, 6, 7, 8, 1, 2, 3, 4, 5, 6, 7, 8, 5, 1, 2, 3, 4, 5, 6, 7, 8, 1, 2, 3, 4, 5, 6, 7, 8, 1, 2, 3, 4, 5, 6, 7, 8, 1, 2, 3, 4, 5, 6, 7, 8, 8, 1, 2, 3, 4, 7, 8, 1, 2, 3, 4, 5, 6, 8, 1, 2, 7, 1, 3, 5, 4, 1, 2, 3, 4, 5, 6, 7, 8, 1, 2, 3, 4, 5, 6, 7, 8, 1, 2, 3, 4, 5, 6, 7, 8, 1, 2, 3, 5, 6, 7, 8, 1, 4, 7, 1, 6, 1, 2, 3, 4, 6, 1, 2, 1, 2, 3, 4, 5, 6, 7, 8, 1, 2, 3, 4, 5, 6, 7, 8, 1, 2, 3, 4, 5, 6, 7, 8, 1, 2, 3, 4, 5, 6, 7, 8, 1, 2, 3, 4, 5, 6, 7, 8, 1, 2, 3, 4, 5, 6, 7, 8, 1, 2, 3, 4, 5, 6, 7, 8, 1, 2, 3, 4, 5, 6, 7, 8, 1, 2, 7, 8, 1, 2, 8, 1, 2, 3, 4, 5, 6, 7, 8, 7, 3, 4, 6, 8, 1, 2, 3, 5, 6, 7, 8, 1, 2, 3, 4, 5, 6, 7, 8, 1, 2, 3, 4, 5, 6, 7, 8, 1, 2, 3, 4, 5, 6, 7, 8, 1, 2, 4, 5, 6, 7, 1, 2, 3, 4, 5, 6, 7, 8, 8, 6, 4, 1, 2, 3, 8, 6, 7, 3, 1, 2, 4, 5, 6, 8, 1, 2, 3, 4, 5, 6, 7, 8, 1, 2, 3, 4, 5, 6, 7, 8, 1, 2, 3, 4, 5, 6, 7, 8, 1, 2, 3, 4, 5, 6, 7, 8, 1, 2, 7, 1, 2, 6, 8, 7, 8, 1, 2, 7, 1, 2, 3, 4, 5, 6, 7, 8, 1, 2, 3, 4, 5, 6, 7, 8, 7, 1, 2, 3, 4, 5, 6, 7, 8, 1, 3, 4, 5, 8, 1, 3, 4, 5, 7, 1, 2, 3, 4, 5, 6, 7, 8, 1, 2, 3, 4, 5, 6, 7, 8, 5, 2, 3, 4, 7, 1, 2, 3, 4, 5, 6, 7, 8, 1, 2, 3, 4, 5, 6, 7, 8, 4, 1, 2, 3, 4, 5, 6, 7, 8, 1, 2, 3, 4, 5, 6, 7, 8, 2, 8, 1, 2, 3, 4, 5, 6, 7, 8, 1, 2, 3, 4, 5, 6, 7, 8, 1, 2, 3, 1, 2, 3, 4, 5, 6, 7, 8, 1, 2, 3, 4, 5, 6, 7, 8, 1, 2, 3, 4, 5, 6, 7, 8, 1, 2, 3, 4, 5, 6, 7, 8, 1, 2, 3, 4, 5, 6, 7, 8, 1, 2, 3, 4, 5, 6, 7, 8, 1, 2, 3, 4, 5, 6, 7, 8, 3, 4, 1, 2, 3, 4, 5, 6, 7, 8, 1, 2, 3, 4, 5, 6, 7, 8, 1, 2, 3, 4, 5, 6, 7, 8, 2, 4, 1, 2, 4, 5, 6, 7, 8, 1, 2, 3, 4, 5, 6, 7, 8, 8, 2, 4, 6, 7, 1, 2, 3, 4, 5, 6, 7, 8, 3, 1, 2, 3, 4, 5, 6, 7, 8, 1, 2, 3, 4, 5, 6, 7, 8, 1, 2, 3, 4, 5, 6, 7, 8, 1, 2, 3, 4, 5, 6, 7, 8, 3, 5, 1, 2, 3, 4, 5, 6, 7, 8, 1, 2, 3, 6, 7, 1, 2, 3, 4, 5, 6, 7, 8, 6, 1, 2, 3, 4, 5, 6, 7, 8, 1, 2, 3, 4, 5, 6, 7, 8, 1, 4, 5, 6, 7, 8, 3, 4, 5, 8, 1, 2, 4, 5, 6, 7, 1, 2, 3, 4, 5, 6, 7, 8, 1, 2, 3, 4, 5, 6, 7, 8, 1, 2, 3, 4, 5, 6, 7, 8, 2, 3, 6, 8, 4], \"Freq\": [0.9228835105895996, 0.8657369613647461, 0.05092570185661316, 0.9043054580688477, 0.1512223780155182, 0.07179243862628937, 0.0488799586892128, 0.514767050743103, 0.06262744963169098, 0.09470491856336594, 0.042769964784383774, 0.015274986624717712, 0.048509202897548676, 0.9119729995727539, 0.0048509202897548676, 0.03395644202828407, 0.9649946689605713, 0.917923092842102, 0.03181944414973259, 0.03181944414973259, 0.03181944414973259, 0.8909443616867065, 0.12031032890081406, 0.8662343621253967, 0.028348825871944427, 0.014174412935972214, 0.7795926928520203, 0.15591853857040405, 0.919252872467041, 0.017023200169205666, 0.017023200169205666, 0.03404640033841133, 0.017023200169205666, 0.024866336956620216, 0.9200544357299805, 0.024866336956620216, 0.024866336956620216, 0.02578757330775261, 0.1977047175168991, 0.012893786653876305, 0.02578757330775261, 0.05157514661550522, 0.01719171553850174, 0.03438343107700348, 0.6360934376716614, 0.9623638391494751, 0.013748054392635822, 0.013748054392635822, 0.005519199185073376, 0.9051486849784851, 0.0165575984865427, 0.011038398370146751, 0.0331151969730854, 0.0165575984865427, 0.005519199185073376, 0.07889827340841293, 0.4635848104953766, 0.033091314136981964, 0.02389928326010704, 0.20007988810539246, 0.031099706888198853, 0.03232531249523163, 0.13696126639842987, 0.01960020698606968, 0.003266701241955161, 0.016333507373929024, 0.006533402483910322, 0.29400312900543213, 0.003266701241955161, 0.6566069722175598, 0.004460118245333433, 0.0006371597410179675, 0.019751952961087227, 0.0006371597410179675, 0.9111384749412537, 0.0293093491345644, 0.03376946598291397, 0.305932879447937, 0.11384329944849014, 0.08932837098836899, 0.0631343349814415, 0.10208956897258759, 0.09167911857366562, 0.14037315547466278, 0.0936940461397171, 0.8643069267272949, 0.032993514090776443, 0.8207136392593384, 0.012372567318379879, 0.016496757045388222, 0.028869323432445526, 0.07423540204763412, 0.008248378522694111, 0.9270552396774292, 0.27121126651763916, 0.05770452693104744, 0.03029487654566765, 0.03702707216143608, 0.12646909058094025, 0.34959325194358826, 0.06395585089921951, 0.06347497552633286, 0.009592155925929546, 0.8824783563613892, 0.019184311851859093, 0.019184311851859093, 0.028776468709111214, 0.019184311851859093, 0.019184311851859093, 0.9246171712875366, 0.8736779689788818, 0.04368389770388603, 0.04368389770388603, 0.0320783406496048, 0.0320783406496048, 0.0160391703248024, 0.0320783406496048, 0.8661152124404907, 0.0160391703248024, 0.022328056395053864, 0.022328056395053864, 0.022328056395053864, 0.022328056395053864, 0.022328056395053864, 0.9154503345489502, 0.8741886615753174, 0.0281897634267807, 0.8738826513290405, 0.0281897634267807, 0.0281897634267807, 0.0281897634267807, 0.028420409187674522, 0.028420409187674522, 0.9378734827041626, 0.06747996807098389, 0.023135989904403687, 0.6256357431411743, 0.05687597393989563, 0.12049994617700577, 0.014459993690252304, 0.04530797898769379, 0.04723598062992096, 0.03456103801727295, 0.9331480860710144, 0.019490187987685204, 0.9355289936065674, 0.019490187987685204, 0.9725208282470703, 0.10973969846963882, 0.0369531624019146, 0.5744537115097046, 0.023515649139881134, 0.033033888787031174, 0.09798187017440796, 0.08398446440696716, 0.04031253978610039, 0.035541340708732605, 0.035541340708732605, 0.035541340708732605, 0.8174508213996887, 0.035541340708732605, 0.12448885291814804, 0.45274630188941956, 0.03734665364027023, 0.024897770956158638, 0.08190055936574936, 0.12514404952526093, 0.06552045047283173, 0.08779740333557129, 0.07124752551317215, 0.18702474236488342, 0.029686467722058296, 0.16921286284923553, 0.014843233861029148, 0.49576401710510254, 0.023749174550175667, 0.011874587275087833, 0.9107353687286377, 0.03422682732343674, 0.16868935525417328, 0.009779092855751514, 0.03422682732343674, 0.1002357006072998, 0.03911637142300606, 0.061119332909584045, 0.5525187253952026, 0.0810154601931572, 0.2615390419960022, 0.07771319895982742, 0.18778856098651886, 0.045351047068834305, 0.04601150006055832, 0.25515466928482056, 0.045351047068834305, 0.03530484065413475, 0.22359733283519745, 0.008405914530158043, 0.06472554057836533, 0.04371075704693794, 0.027739517390727997, 0.02269596979022026, 0.5732833743095398, 0.8988022804260254, 0.9352652430534363, 0.15519964694976807, 0.16445398330688477, 0.08890224248170853, 0.10847287625074387, 0.056284524500370026, 0.11393444240093231, 0.1567167490720749, 0.15595820546150208, 0.02504875510931015, 0.011132780462503433, 0.0041747926734387875, 0.6637920141220093, 0.054272305220365524, 0.04035632684826851, 0.030615145340561867, 0.17116649448871613, 0.1248992383480072, 0.21035660803318024, 0.024416392669081688, 0.029111851006746292, 0.04413732513785362, 0.35685494542121887, 0.018781840801239014, 0.19063568115234375, 0.16795314848423004, 0.04558728262782097, 0.0257928054779768, 0.13916118443012238, 0.3652980923652649, 0.03598995879292488, 0.028791967779397964, 0.19074678421020508, 0.1153319850564003, 0.051481522619724274, 0.5352072715759277, 0.0745479166507721, 0.08791974186897278, 0.02640935219824314, 0.06485334783792496, 0.044461313635110855, 0.05274749547243118, 0.8967074155807495, 0.011028994806110859, 0.8087929487228394, 0.007352663204073906, 0.014705326408147812, 0.15440592169761658, 0.04123516008257866, 0.9071735143661499, 0.04123516008257866, 0.16651128232479095, 0.1604563146829605, 0.1223101019859314, 0.148346409201622, 0.050861626863479614, 0.046017661690711975, 0.02966928295791149, 0.27610597014427185, 0.9085617661476135, 0.024258486926555634, 0.9218224883079529, 0.04851697385311127, 0.024258486926555634, 0.2043265402317047, 0.1595218926668167, 0.048700712621212006, 0.18679428100585938, 0.12640540301799774, 0.11428433656692505, 0.10584288090467453, 0.05411190167069435, 0.057728901505470276, 0.001697908854112029, 0.001697908854112029, 0.08829125761985779, 0.36505040526390076, 0.4805082082748413, 0.003395817708224058, 0.13887088000774384, 0.07167529314756393, 0.10900617390871048, 0.03882411867380142, 0.06271588057279587, 0.06570234894752502, 0.028371470049023628, 0.4853014647960663, 0.11772356182336807, 0.068564273416996, 0.08053068071603775, 0.304334819316864, 0.15750378370285034, 0.1497417837381363, 0.08182434737682343, 0.0394567996263504, 0.9750461578369141, 0.02179448865354061, 0.10712545365095139, 0.022902682423591614, 0.027335459366440773, 0.03509281948208809, 0.03989499434828758, 0.015514720231294632, 0.7306694388389587, 0.028547490015625954, 0.9420671463012695, 0.028547490015625954, 0.9432947635650635, 0.09234615415334702, 0.03627884387969971, 0.013192307204008102, 0.17149999737739563, 0.06596153974533081, 0.023086538538336754, 0.5936538577079773, 0.09033610671758652, 0.12318559736013412, 0.157941535115242, 0.1259719431400299, 0.10734745115041733, 0.06569898873567581, 0.055433519184589386, 0.273941308259964, 0.13348013162612915, 0.2492285966873169, 0.1342189610004425, 0.132741317152977, 0.10294224321842194, 0.09136740118265152, 0.10565125197172165, 0.05023975670337677, 0.9170172214508057, 0.005660600028932095, 0.062266603112220764, 0.005660600028932095, 0.005660600028932095, 0.3365350067615509, 0.12035582214593887, 0.35844647884368896, 0.05525045096874237, 0.031976066529750824, 0.013629143126308918, 0.06248437985777855, 0.021177591755986214, 0.0694141834974289, 0.013882837258279324, 0.013882837258279324, 0.013882837258279324, 0.027765674516558647, 0.041648510843515396, 0.8052045106887817, 0.041648510843515396, 0.04093354195356369, 0.05798918381333351, 0.1398562639951706, 0.030700156465172768, 0.0034111286513507366, 0.0034111286513507366, 0.7265703678131104, 0.23397323489189148, 0.09888680279254913, 0.1191939115524292, 0.017658358439803123, 0.056506745517253876, 0.09800388664007187, 0.3452208936214447, 0.03090212680399418, 0.9252815246582031, 0.6556925177574158, 0.01972007565200329, 0.01972007565200329, 0.029580114409327507, 0.03944015130400658, 0.19720076024532318, 0.029580114409327507, 0.004930018913000822, 0.12690019607543945, 0.04642690345644951, 0.021665887907147408, 0.5385521054267883, 0.0247610155493021, 0.12380507588386536, 0.027856141328811646, 0.09285380691289902, 0.9529882669448853, 0.12495731562376022, 0.17081478238105774, 0.03375381976366043, 0.11728599667549133, 0.04108419269323349, 0.3409476578235626, 0.12069547176361084, 0.05028977990150452, 0.16115520894527435, 0.16011357307434082, 0.21055828034877777, 0.14597715437412262, 0.11800192296504974, 0.07291417568922043, 0.07603906840085983, 0.05520644783973694, 0.06507684290409088, 0.845999002456665, 0.07955443859100342, 0.038214974105358124, 0.7441104054450989, 0.03533082455396652, 0.023073190823197365, 0.03557116910815239, 0.021390771493315697, 0.022352153435349464, 0.04790549352765083, 0.931495726108551, 0.005322832614183426, 0.005322832614183426, 0.005322832614183426, 0.9782717823982239, 0.00715808616951108, 0.0023860286455601454, 0.004772057291120291, 0.004772057291120291, 0.9481378793716431, 0.044340867549180984, 0.029560577124357224, 0.07390144467353821, 0.014780288562178612, 0.8129158616065979, 0.014780288562178612, 0.8546186685562134, 0.04203042760491371, 0.05604057013988495, 0.028020285069942474, 0.014010142534971237, 0.014010142534971237, 0.017676087096333504, 0.901480495929718, 0.017676087096333504, 0.017676087096333504, 0.017676087096333504, 0.039299219846725464, 0.2669636905193329, 0.012196309864521027, 0.05149553343653679, 0.020327184349298477, 0.027102911844849586, 0.020327184349298477, 0.5623854398727417, 0.10378773510456085, 0.1256110668182373, 0.24284808337688446, 0.16545134782791138, 0.054812103509902954, 0.07257528603076935, 0.0365414023399353, 0.19818636775016785, 0.04282151907682419, 0.04282151907682419, 0.8564303517341614, 0.04282151907682419, 0.1087159663438797, 0.07424505054950714, 0.015909653156995773, 0.03712252527475357, 0.02386447973549366, 0.08219987899065018, 0.0875030979514122, 0.5700958967208862, 0.97066330909729, 0.11483465880155563, 0.2521209716796875, 0.021715529263019562, 0.04968807473778725, 0.04048657789826393, 0.241079181432724, 0.24549590051174164, 0.03422956168651581, 0.9248716235160828, 0.1355631798505783, 0.19417431950569153, 0.1455310583114624, 0.07814818620681763, 0.10087495297193527, 0.04066895321011543, 0.24321629106998444, 0.06180085986852646, 0.05672377720475197, 0.9075804352760315, 0.8642008304595947, 0.045484255999326706, 0.045484255999326706, 0.8310645818710327, 0.09860088676214218, 0.028171680867671967, 0.014085840433835983, 0.028171680867671967, 0.018513457849621773, 0.018513457849621773, 0.018513457849621773, 0.9256728887557983, 0.8668554425239563, 0.003732872661203146, 0.8063005208969116, 0.02053079940378666, 0.005599309224635363, 0.14371560513973236, 0.001866436330601573, 0.001866436330601573, 0.014931490644812584, 0.0037674419581890106, 0.8100000023841858, 0.013186046853661537, 0.007534883916378021, 0.1393953561782837, 0.0037674419581890106, 0.0018837209790945053, 0.018837209790945053, 0.9343359470367432, 0.6857113838195801, 0.03496786952018738, 0.06908286362886429, 0.020468994975090027, 0.058848362416028976, 0.058848362416028976, 0.03752649202942848, 0.03411499410867691, 0.4259321093559265, 0.05606657266616821, 0.12777963280677795, 0.0721476823091507, 0.10387527942657471, 0.0608474425971508, 0.1216948851943016, 0.03172759711742401, 0.1643412560224533, 0.13475722074508667, 0.14531363546848297, 0.15000538527965546, 0.14987505972385406, 0.10764938592910767, 0.07363426685333252, 0.07428589463233948, 0.2207932472229004, 0.07454617321491241, 0.47629880905151367, 0.04154099524021149, 0.050076816231012344, 0.039264775812625885, 0.04780059680342674, 0.04950776323676109, 0.9477364420890808, 0.8375715017318726, 0.013730679638683796, 0.08238407969474792, 0.027461359277367592, 0.013730679638683796, 0.027461359277367592, 0.9505056142807007, 0.02722802571952343, 0.00247527495957911, 0.007425825111567974, 0.00495054991915822, 0.00247527495957911, 0.00495054991915822, 0.014149706810712814, 0.933880627155304, 0.04244912043213844, 0.02039024606347084, 0.9787318110466003, 0.9365761280059814, 0.9368036985397339, 0.08885648846626282, 0.07712072879076004, 0.12909339368343353, 0.4275170862674713, 0.05951708182692528, 0.10310705751180649, 0.08131206780672073, 0.031854212284088135, 0.4128505289554596, 0.0449041984975338, 0.0985211506485939, 0.1079041138291359, 0.0985211506485939, 0.0938296690583229, 0.10723390430212021, 0.03552123159170151, 0.03606342524290085, 0.009015856310725212, 0.09917442500591278, 0.009015856310725212, 0.7483161091804504, 0.009015856310725212, 0.04507928341627121, 0.05409513786435127, 0.02204172872006893, 0.9522026777267456, 0.004408345557749271, 0.004408345557749271, 0.004408345557749271, 0.008816691115498543, 0.004408345557749271, 0.029056094586849213, 0.029056094586849213, 0.8716828227043152, 0.09030589461326599, 0.8579060435295105, 0.022760650143027306, 0.022760650143027306, 0.022760650143027306, 0.9331867098808289, 0.9425654411315918, 0.03161044046282768, 0.9483131766319275, 0.07683635503053665, 0.03292986750602722, 0.08696862310171127, 0.11483235657215118, 0.4855044484138489, 0.012665333226323128, 0.15113964676856995, 0.039684709161520004, 0.20338411629199982, 0.10587858408689499, 0.15989826619625092, 0.06752460449934006, 0.0993962213397026, 0.04834761843085289, 0.16503013670444489, 0.15044482052326202, 0.12904420495033264, 0.005376841872930527, 0.005376841872930527, 0.05914526432752609, 0.7527579069137573, 0.01613052561879158, 0.026884211227297783, 0.005376841872930527, 0.11370577663183212, 0.2372446060180664, 0.10065464675426483, 0.1280083954334259, 0.049522798508405685, 0.19540946185588837, 0.07240698486566544, 0.10297881811857224, 0.07754620164632797, 0.051697466522455215, 0.04846637696027756, 0.14216803014278412, 0.06139074265956879, 0.562209963798523, 0.029079824686050415, 0.029079824686050415, 0.04190855100750923, 0.10638324916362762, 0.027401745319366455, 0.045132286846637726, 0.6382994651794434, 0.058027226477861404, 0.058027226477861404, 0.02417801134288311, 0.24081525206565857, 0.07302139699459076, 0.09425457566976547, 0.27292394638061523, 0.06991410255432129, 0.09580822288990021, 0.08182539790868759, 0.07094986736774445, 0.38704541325569153, 0.09113913029432297, 0.03402922302484512, 0.14558587968349457, 0.07308884710073471, 0.1645238846540451, 0.062140315771102905, 0.042314596474170685, 0.02384585328400135, 0.0874347984790802, 0.874347984790802, 0.007948617450892925, 0.05924545228481293, 0.05924545228481293, 0.8886817693710327, 0.16438627243041992, 0.09227428585290909, 0.10462596267461777, 0.14640368521213531, 0.13804814219474792, 0.09917669743299484, 0.1990799605846405, 0.055945828557014465, 0.9225761890411377, 0.0477907732129097, 0.0477907732129097, 0.015930257737636566, 0.8761641383171082, 0.027253687381744385, 0.10356401652097702, 0.03815516456961632, 0.010901475325226784, 0.010901475325226784, 0.5941303968429565, 0.20712803304195404, 0.06452859193086624, 0.08400891721248627, 0.664766252040863, 0.025567932054400444, 0.03409057483077049, 0.02678545191884041, 0.015827767550945282, 0.08400891721248627, 0.031775787472724915, 0.5961137413978577, 0.017794441431760788, 0.0800749808549881, 0.01906547136604786, 0.14362655580043793, 0.030504755675792694, 0.08261704444885254, 0.5409704446792603, 0.027546705678105354, 0.14711113274097443, 0.05978221446275711, 0.015824703499674797, 0.05157681182026863, 0.11428952217102051, 0.04278530925512314, 0.058175548911094666, 0.13297268748283386, 0.008310792967677116, 0.7812145352363586, 0.008310792967677116, 0.008310792967677116, 0.08337389677762985, 0.09782537072896957, 0.15118466317653656, 0.06669911742210388, 0.4357675611972809, 0.020009735599160194, 0.10449528694152832, 0.038907818496227264, 0.885968029499054, 0.9214030504226685, 0.9637331962585449, 0.9233670234680176, 0.004526819102466106, 0.004526819102466106, 0.9868465662002563, 0.8904402256011963, 0.08904401957988739, 0.9766685962677002, 0.6374816298484802, 0.07262448966503143, 0.11700612306594849, 0.004034693818539381, 0.11297142505645752, 0.05245101824402809, 0.043591827154159546, 0.45233985781669617, 0.03851606696844101, 0.12032538652420044, 0.08807937800884247, 0.1012166365981102, 0.09703660011291504, 0.058819107711315155, 0.042731162160634995, 0.034184928983449936, 0.7499318718910217, 0.048072557896375656, 0.020297301933169365, 0.027775254100561142, 0.05020911619067192, 0.02670697495341301, 0.22537165880203247, 0.04806777462363243, 0.35172945261001587, 0.06418630480766296, 0.06591328978538513, 0.03367622569203377, 0.19140760600566864, 0.019572505727410316, 0.09892602264881134, 0.06366526335477829, 0.047014348208904266, 0.1449609100818634, 0.40843716263771057, 0.10382335633039474, 0.0734599232673645, 0.05876793712377548, 0.030918527394533157, 0.015459263697266579, 0.9430150985717773, 0.0009260837687179446, 0.6667802929878235, 0.29356855154037476, 0.03704335168004036, 0.883401095867157, 0.05889340490102768, 0.014453908428549767, 0.9539579153060913, 0.014453908428549767, 0.05936986580491066, 0.03503795340657234, 0.7124384045600891, 0.03503795340657234, 0.03309139981865883, 0.05450348183512688, 0.03795778378844261, 0.03211812302470207, 0.0948881059885025, 0.05160581320524216, 0.6059521436691284, 0.06742049753665924, 0.03246172145009041, 0.06076168268918991, 0.028299961239099503, 0.05826462805271149, 0.925584077835083, 0.07635322958230972, 0.3228856027126312, 0.04595554992556572, 0.09957035630941391, 0.06893332302570343, 0.23001709580421448, 0.0818583220243454, 0.07419906556606293, 0.8416452407836914, 0.014765705913305283, 0.07382853329181671, 0.014765705913305283, 0.04429711773991585, 0.005260758101940155, 0.0026303790509700775, 0.9863921403884888, 0.005260758101940155, 0.0026303790509700775, 0.16615894436836243, 0.05562712624669075, 0.026007486507296562, 0.30992254614830017, 0.2138393372297287, 0.08741405606269836, 0.02817477658390999, 0.11342153698205948, 0.11330851167440414, 0.09245754778385162, 0.36269697546958923, 0.11221109330654144, 0.08011158555746078, 0.046914659440517426, 0.1487002670764923, 0.0433480478823185, 0.9194391369819641, 0.01373103354126215, 0.09611723572015762, 0.01373103354126215, 0.8513240814208984, 0.031843118369579315, 0.07005485892295837, 0.025474492460489273, 0.05731761083006859, 0.031843118369579315, 0.031843118369579315, 0.7260230779647827, 0.025474492460489273, 0.06550999730825424, 0.08398717641830444, 0.03443474322557449, 0.1679743528366089, 0.44597190618515015, 0.08146756142377853, 0.07810807228088379, 0.04283345863223076, 0.9728043675422668, 0.15380652248859406, 0.0727275162935257, 0.14336717128753662, 0.10822132974863052, 0.19765181839466095, 0.031318072229623795, 0.10508952289819717, 0.1882563978433609, 0.1600741595029831, 0.07663781940937042, 0.07231149077415466, 0.17861555516719818, 0.3281829059123993, 0.04511742666363716, 0.08714461326599121, 0.05129789561033249, 0.028122201561927795, 0.928032636642456, 0.06420313566923141, 0.06767357885837555, 0.07287923246622086, 0.08502577245235443, 0.5396533608436584, 0.05726225674152374, 0.04164527729153633, 0.07114401459693909, 0.05849311500787735, 0.3225245475769043, 0.046307049691677094, 0.04386983811855316, 0.08936448395252228, 0.03330858051776886, 0.32333695888519287, 0.08205284178256989, 0.9007346034049988, 0.030024485662579536, 0.030024485662579536, 0.09657341986894608, 0.31152716279029846, 0.08450174331665039, 0.1359037309885025, 0.08138646930456161, 0.1623835265636444, 0.057243116199970245, 0.07028831541538239, 0.40888068079948425, 0.05816712975502014, 0.03763755410909653, 0.08896148949861526, 0.2206929326057434, 0.02138497307896614, 0.02566196769475937, 0.13943003118038177, 0.044000882655382156, 0.026400528848171234, 0.044000882655382156, 0.026400528848171234, 0.7480149865150452, 0.017600351944565773, 0.017600351944565773, 0.07040140777826309, 0.1289571225643158, 0.014951550401747227, 0.7681359052658081, 0.04111676290631294, 0.02055838145315647, 0.011213662102818489, 0.011213662102818489, 0.0037378876004368067, 0.0071050021797418594, 0.04973501339554787, 0.028420008718967438, 0.028420008718967438, 0.7602352499961853, 0.028420008718967438, 0.028420008718967438, 0.0710500180721283, 0.0692673996090889, 0.06450857222080231, 0.02643793821334839, 0.20410089194774628, 0.3553259074687958, 0.06979615986347198, 0.07455498725175858, 0.13536225259304047, 0.0947096049785614, 0.17019596695899963, 0.07689294219017029, 0.2944437265396118, 0.03469559922814369, 0.03469559922814369, 0.23818059265613556, 0.05579427257180214, 0.9747917652130127, 0.9737261533737183, 0.07187572866678238, 0.05342114716768265, 0.10004324465990067, 0.15249308943748474, 0.0631340816617012, 0.4506802260875702, 0.08255995810031891, 0.026224927976727486, 0.12078755348920822, 0.11163698136806488, 0.17752110958099365, 0.1564747840166092, 0.11041691154241562, 0.05459841713309288, 0.18972186744213104, 0.07869492471218109, 0.13617251813411713, 0.06296148151159286, 0.10835231840610504, 0.11274498701095581, 0.46855059266090393, 0.06735414266586304, 0.014642206020653248, 0.030748631805181503, 0.9009776711463928, 0.05750921368598938, 0.016353148967027664, 0.20441435277462006, 0.7113619446754456, 0.016353148967027664, 0.016353148967027664, 0.016353148967027664, 0.008176574483513832, 0.20486415922641754, 0.30098193883895874, 0.0841907486319542, 0.08278757333755493, 0.0550747811794281, 0.07471929490566254, 0.08875108510255814, 0.1090971827507019, 0.9183676838874817, 0.02384931594133377, 0.007949772290885448, 0.14309589564800262, 0.8188264966011047, 0.16839110851287842, 0.04864631965756416, 0.007484049070626497, 0.5575616359710693, 0.026194171980023384, 0.0748404935002327, 0.0823245421051979, 0.03367822244763374, 0.9644497632980347, 0.1781316101551056, 0.08589106798171997, 0.13957297801971436, 0.18309573829174042, 0.12491147220134735, 0.14707690477371216, 0.07919526100158691, 0.061993956565856934, 0.09260120987892151, 0.1406964212656021, 0.18855233490467072, 0.13806433975696564, 0.16653861105442047, 0.0581449456512928, 0.057905666530132294, 0.1576852649450302, 0.1272020787000656, 0.09933002293109894, 0.17331139743328094, 0.11011180281639099, 0.17101739346981049, 0.10804720968008041, 0.11194700002670288, 0.09898592531681061, 0.2529490888118744, 0.17203256487846375, 0.0778566375374794, 0.04283814877271652, 0.03535847365856171, 0.3297857642173767, 0.05677754804491997, 0.03263859078288078, 0.9309247136116028, 0.04231476038694382, 0.31764423847198486, 0.08006197214126587, 0.10707474499940872, 0.3130878806114197, 0.05793101713061333, 0.02375822700560093, 0.038729164749383926, 0.061511024832725525, 0.05895793065428734, 0.8647162914276123, 0.01965264417231083, 0.05895793065428734, 0.01965264417231083, 0.034902818500995636, 0.5311574339866638, 0.029826045036315918, 0.05267152562737465, 0.05267152562737465, 0.12438095360994339, 0.12628474831581116, 0.04759475216269493, 0.9392921924591064, 0.11512679606676102, 0.13320310413837433, 0.18708103895187378, 0.14776945114135742, 0.1347825825214386, 0.08967956155538559, 0.08406361937522888, 0.10810686647891998, 0.10653021931648254, 0.12153679877519608, 0.14099588990211487, 0.12087716907262802, 0.19096285104751587, 0.1523744910955429, 0.07140493392944336, 0.09548142552375793, 0.008840998634696007, 0.008840998634696007, 0.008840998634696007, 0.7603259086608887, 0.2033429741859436, 0.008840998634696007, 0.0319024994969368, 0.0319024994969368, 0.8932700157165527, 0.0319024994969368, 0.9752576947212219, 0.020254051312804222, 0.040508102625608444, 0.8304161429405212, 0.040508102625608444, 0.040508102625608444, 0.24740475416183472, 0.16260689496994019, 0.12370237708091736, 0.10110514611005783, 0.10739509761333466, 0.08992300927639008, 0.07571237534284592, 0.09225261956453323, 0.18841572105884552, 0.07948505878448486, 0.17920269072055817, 0.1365697830915451, 0.13566654920578003, 0.06756230443716049, 0.13946016132831573, 0.07370433211326599, 0.09985043108463287, 0.7347967624664307, 0.02048213966190815, 0.01280133705586195, 0.10497096180915833, 0.005120534915477037, 0.0025602674577385187, 0.023042406886816025, 0.05263374745845795, 0.0350891649723053, 0.7368724942207336, 0.1403566598892212, 0.961897075176239], \"Term\": [\"****\", \".contains\", \".contains\", \".inject\", \".net\", \".net\", \".net\", \".net\", \".net\", \".net\", \".net\", \".net\", \".then\", \".then\", \".then\", \".then\", \":member\", \"\\\\python\", \"__getitem__\", \"__getitem__\", \"__getitem__\", \"__getitem__\", \"a==\", \"a==\", \"activitythread.java\", \"activitythread.java\", \"activitythread.java\", \"activitythread.java\", \"africa\", \"africa\", \"africa\", \"africa\", \"africa\", \"agreement\", \"agreement\", \"agreement\", \"agreement\", \"align\", \"align\", \"align\", \"align\", \"align\", \"align\", \"align\", \"align\", \"amd\", \"amd\", \"amd\", \"america\", \"america\", \"america\", \"america\", \"america\", \"america\", \"america\", \"android\", \"android\", \"android\", \"android\", \"android\", \"android\", \"android\", \"android\", \"androidruntime\", \"androidruntime\", \"androidruntime\", \"androidruntime\", \"androidruntime\", \"androidruntime\", \"androidruntime\", \"angular\", \"angular\", \"angular\", \"angular\", \"angular\", \"angular\", \"angular\", \"application\", \"application\", \"application\", \"application\", \"application\", \"application\", \"application\", \"application\", \"appmain\", \"apt\", \"apt\", \"apt\", \"apt\", \"apt\", \"apt\", \"apt\", \"archetype\", \"array\", \"array\", \"array\", \"array\", \"array\", \"array\", \"array\", \"array\", \"asia\", \"asia\", \"asia\", \"asia\", \"asia\", \"asia\", \"asia\", \"attributed\", \"authorizeattribute\", \"authorizeattribute\", \"authorizeattribute\", \"autowired\", \"autowired\", \"autowired\", \"autowired\", \"autowired\", \"autowired\", \"avd\", \"avd\", \"avd\", \"avd\", \"avd\", \"avd\", \"backgroundimage\", \"bbb\", \"bbb\", \"bbb\", \"bbb\", \"bbb\", \"biginteger\", \"biginteger\", \"biginteger\", \"bin\", \"bin\", \"bin\", \"bin\", \"bin\", \"bin\", \"bin\", \"bin\", \"blockquote\", \"blockquote\", \"blur\", \"blur\", \"blur\", \"bomb\", \"branch\", \"branch\", \"branch\", \"branch\", \"branch\", \"branch\", \"branch\", \"branch\", \"broad\", \"broad\", \"broad\", \"broad\", \"broad\", \"button\", \"button\", \"button\", \"button\", \"button\", \"button\", \"button\", \"button\", \"callback\", \"callback\", \"callback\", \"callback\", \"callback\", \"callback\", \"callback\", \"callback\", \"canceled\", \"center\", \"center\", \"center\", \"center\", \"center\", \"center\", \"center\", \"center\", \"class\", \"class\", \"class\", \"class\", \"class\", \"class\", \"class\", \"class\", \"class=\", \"class=\", \"class=\", \"class=\", \"class=\", \"class=\", \"class=\", \"class=\", \"classnotfoundexception\", \"cmds\", \"code\", \"code\", \"code\", \"code\", \"code\", \"code\", \"code\", \"code\", \"col\", \"col\", \"col\", \"col\", \"col\", \"col\", \"col\", \"col\", \"color\", \"color\", \"color\", \"color\", \"color\", \"color\", \"color\", \"color\", \"column\", \"column\", \"column\", \"column\", \"column\", \"column\", \"column\", \"column\", \"command\", \"command\", \"command\", \"command\", \"command\", \"command\", \"command\", \"command\", \"compliance\", \"compliance\", \"compose\", \"compose\", \"compose\", \"compose\", \"compose\", \"computational\", \"computational\", \"computational\", \"content\", \"content\", \"content\", \"content\", \"content\", \"content\", \"content\", \"content\", \"createuser\", \"cryptography\", \"cryptography\", \"cryptography\", \"cryptography\", \"data\", \"data\", \"data\", \"data\", \"data\", \"data\", \"data\", \"data\", \"dataframe\", \"dataframe\", \"dataframe\", \"dataframe\", \"dataframe\", \"dataframe\", \"dataframe\", \"debug\", \"debug\", \"debug\", \"debug\", \"debug\", \"debug\", \"debug\", \"debug\", \"difference\", \"difference\", \"difference\", \"difference\", \"difference\", \"difference\", \"difference\", \"difference\", \"difftool\", \"div\", \"div\", \"div\", \"div\", \"div\", \"div\", \"div\", \"div\", \"elevation\", \"elevation\", \"elevation\", \"elt\", \"emulator\", \"emulator\", \"emulator\", \"emulator\", \"emulator\", \"emulator\", \"emulator\", \"error\", \"error\", \"error\", \"error\", \"error\", \"error\", \"error\", \"error\", \"example\", \"example\", \"example\", \"example\", \"example\", \"example\", \"example\", \"example\", \"executor\", \"executor\", \"executor\", \"executor\", \"executor\", \"file\", \"file\", \"file\", \"file\", \"file\", \"file\", \"file\", \"file\", \"fingerprint\", \"fingerprint\", \"fingerprint\", \"fingerprint\", \"fingerprint\", \"fingerprint\", \"fingerprint\", \"fingerprint\", \"flex\", \"flex\", \"flex\", \"flex\", \"flex\", \"flex\", \"flex\", \"foo\", \"foo\", \"foo\", \"foo\", \"foo\", \"foo\", \"foo\", \"foo\", \"ford\", \"formula\", \"formula\", \"formula\", \"formula\", \"formula\", \"formula\", \"formula\", \"formula\", \"frame\", \"frame\", \"frame\", \"frame\", \"frame\", \"frame\", \"frame\", \"frame\", \"frp\", \"function\", \"function\", \"function\", \"function\", \"function\", \"function\", \"function\", \"function\", \"get\", \"get\", \"get\", \"get\", \"get\", \"get\", \"get\", \"get\", \"getcolor\", \"getcolor\", \"git\", \"git\", \"git\", \"git\", \"git\", \"git\", \"git\", \"git\", \"gpu\", \"gpu\", \"gpu\", \"gpu\", \"gpu\", \"gradle\", \"gradle\", \"gradle\", \"gradle\", \"gradle\", \"group_by\", \"guard\", \"guard\", \"guard\", \"guard\", \"guard\", \"guard\", \"hadoop\", \"hadoop\", \"hadoop\", \"hadoop\", \"hadoop\", \"hadoop\", \"hall\", \"hall\", \"hall\", \"hall\", \"hall\", \"height\", \"height\", \"height\", \"height\", \"height\", \"height\", \"height\", \"height\", \"http\", \"http\", \"http\", \"http\", \"http\", \"http\", \"http\", \"http\", \"hue\", \"hue\", \"hue\", \"hue\", \"icon\", \"icon\", \"icon\", \"icon\", \"icon\", \"icon\", \"icon\", \"icon\", \"innertext\", \"int\", \"int\", \"int\", \"int\", \"int\", \"int\", \"int\", \"int\", \"iteritems\", \"java\", \"java\", \"java\", \"java\", \"java\", \"java\", \"java\", \"java\", \"java.lang.noclassdeffounderror\", \"java.lang.noclassdeffounderror\", \"java.lang.nullpointerexception\", \"java.lang.nullpointerexception\", \"java.lang.nullpointerexception\", \"java_home\", \"java_home\", \"java_home\", \"java_home\", \"java_home\", \"javac\", \"javac\", \"javac\", \"javac\", \"jsessionid\", \"layout_height=\", \"layout_height=\", \"layout_height=\", \"layout_height=\", \"layout_height=\", \"layout_height=\", \"layout_height=\", \"layout_height=\", \"layout_width=\", \"layout_width=\", \"layout_width=\", \"layout_width=\", \"layout_width=\", \"layout_width=\", \"layout_width=\", \"layout_width=\", \"lea\", \"lib\", \"lib\", \"lib\", \"lib\", \"lib\", \"lib\", \"lib\", \"lib\", \"library\", \"library\", \"library\", \"library\", \"library\", \"library\", \"library\", \"library\", \"like\", \"like\", \"like\", \"like\", \"like\", \"like\", \"like\", \"like\", \"local\", \"local\", \"local\", \"local\", \"local\", \"local\", \"local\", \"local\", \"localizeddescription\", \"main.py\", \"main.py\", \"main.py\", \"main.py\", \"main.py\", \"main.py\", \"match_parent\", \"match_parent\", \"match_parent\", \"match_parent\", \"match_parent\", \"match_parent\", \"match_parent\", \"mcontext\", \"mcontext\", \"mcontext\", \"mergetool\", \"mergetool\", \"mno\", \"mocha\", \"model\", \"model\", \"model\", \"model\", \"model\", \"model\", \"model\", \"model\", \"module\", \"module\", \"module\", \"module\", \"module\", \"module\", \"module\", \"module\", \"mov\", \"mov\", \"mov\", \"mov\", \"mov\", \"mov\", \"mov\", \"mov\", \"movie\", \"movie\", \"movie\", \"movie\", \"movie\", \"movie\", \"movie\", \"ms.\", \"ms.\", \"ms.\", \"multiplier\", \"multiplier\", \"mutate\", \"mutate\", \"mutate\", \"mutate\", \"mydataset\", \"myriad\", \"myriad\", \"mysql\", \"mysql\", \"mysql\", \"mysql\", \"mysql\", \"mysql\", \"mysql\", \"mysql\", \"name\", \"name\", \"name\", \"name\", \"name\", \"name\", \"name\", \"name\", \"nan\", \"nan\", \"nan\", \"nan\", \"nan\", \"nan\", \"nan\", \"nan\", \"new\", \"new\", \"new\", \"new\", \"new\", \"new\", \"new\", \"new\", \"nil\", \"nil\", \"nil\", \"nil\", \"nil\", \"nil\", \"nil\", \"nil\", \"node.js\", \"node.js\", \"node.js\", \"node.js\", \"node.js\", \"node.js\", \"node.js\", \"node.js\", \"number\", \"number\", \"number\", \"number\", \"number\", \"number\", \"number\", \"number\", \"object\", \"object\", \"object\", \"object\", \"object\", \"object\", \"object\", \"object\", \"observable\", \"observable\", \"observable\", \"observable\", \"oncomplete\", \"oncomplete\", \"oncomplete\", \"one\", \"one\", \"one\", \"one\", \"one\", \"one\", \"one\", \"one\", \"oom\", \"openjdk\", \"openjdk\", \"openjdk\", \"openjdk\", \"openssl\", \"openssl\", \"openssl\", \"openssl\", \"openssl\", \"openssl\", \"openssl\", \"origin\", \"origin\", \"origin\", \"origin\", \"origin\", \"origin\", \"origin\", \"origin\", \"override\", \"override\", \"override\", \"override\", \"override\", \"override\", \"override\", \"override\", \"package\", \"package\", \"package\", \"package\", \"package\", \"package\", \"package\", \"package\", \"partition\", \"partition\", \"partition\", \"partition\", \"partition\", \"partition\", \"password\", \"password\", \"password\", \"password\", \"password\", \"password\", \"password\", \"password\", \"permgen\", \"phpstorm\", \"phpunit\", \"pivoting\", \"pod\", \"pod\", \"pod\", \"polymer\", \"polymer\", \"projectroot\", \"prop\", \"prop\", \"prop\", \"prop\", \"prop\", \"prop\", \"public\", \"public\", \"public\", \"public\", \"public\", \"public\", \"public\", \"public\", \"push\", \"push\", \"push\", \"push\", \"push\", \"push\", \"push\", \"push\", \"python\", \"python\", \"python\", \"python\", \"python\", \"python\", \"python\", \"python\", \"query\", \"query\", \"query\", \"query\", \"query\", \"query\", \"query\", \"query\", \"rabbitmq\", \"rabbitmq\", \"rabbitmq\", \"react\", \"react\", \"react\", \"react\", \"reactive\", \"reactive\", \"reject\", \"reject\", \"reject\", \"remote\", \"remote\", \"remote\", \"remote\", \"remote\", \"remote\", \"remote\", \"remote\", \"repository\", \"repository\", \"repository\", \"repository\", \"repository\", \"repository\", \"repository\", \"repository\", \"retries\", \"return\", \"return\", \"return\", \"return\", \"return\", \"return\", \"return\", \"return\", \"rjava\", \"rjava\", \"rjava\", \"rjava\", \"rjava\", \"router\", \"router\", \"router\", \"router\", \"router\", \"row\", \"row\", \"row\", \"row\", \"row\", \"row\", \"row\", \"row\", \"run\", \"run\", \"run\", \"run\", \"run\", \"run\", \"run\", \"run\", \"salary\", \"scrapy\", \"scrapy\", \"scrapy\", \"scrapy\", \"sec\", \"sec\", \"sec\", \"sec\", \"sec\", \"sec\", \"sec\", \"sec\", \"select\", \"select\", \"select\", \"select\", \"select\", \"select\", \"select\", \"select\", \"self.tableview\", \"server\", \"server\", \"server\", \"server\", \"server\", \"server\", \"server\", \"server\", \"service\", \"service\", \"service\", \"service\", \"service\", \"service\", \"service\", \"service\", \"sidebar\", \"sidebar\", \"spring\", \"spring\", \"spring\", \"spring\", \"spring\", \"spring\", \"spring\", \"spring\", \"static\", \"static\", \"static\", \"static\", \"static\", \"static\", \"static\", \"static\", \"steroid\", \"steroid\", \"steroid\", \"string\", \"string\", \"string\", \"string\", \"string\", \"string\", \"string\", \"string\", \"studio\", \"studio\", \"studio\", \"studio\", \"studio\", \"studio\", \"studio\", \"studio\", \"sublime\", \"sublime\", \"sublime\", \"sublime\", \"sublime\", \"sublime\", \"sublime\", \"sublime\", \"sudo\", \"sudo\", \"sudo\", \"sudo\", \"sudo\", \"sudo\", \"sudo\", \"sudo\", \"svg\", \"svg\", \"svg\", \"svg\", \"svg\", \"svg\", \"svg\", \"svg\", \"table\", \"table\", \"table\", \"table\", \"table\", \"table\", \"table\", \"table\", \"test\", \"test\", \"test\", \"test\", \"test\", \"test\", \"test\", \"test\", \"textfile\", \"textinput\", \"thread\", \"thread\", \"thread\", \"thread\", \"thread\", \"thread\", \"thread\", \"thread\", \"time\", \"time\", \"time\", \"time\", \"time\", \"time\", \"time\", \"time\", \"token\", \"token\", \"token\", \"token\", \"token\", \"token\", \"token\", \"token\", \"trained\", \"trained\", \"training\", \"training\", \"training\", \"training\", \"training\", \"training\", \"training\", \"type\", \"type\", \"type\", \"type\", \"type\", \"type\", \"type\", \"type\", \"uialertview\", \"uikit\", \"uikit\", \"uikit\", \"uikit\", \"uiview\", \"uiview\", \"uiview\", \"uiview\", \"uiview\", \"uiview\", \"uiview\", \"uiview\", \"uninstalling\", \"use\", \"use\", \"use\", \"use\", \"use\", \"use\", \"use\", \"use\", \"user\", \"user\", \"user\", \"user\", \"user\", \"user\", \"user\", \"user\", \"using\", \"using\", \"using\", \"using\", \"using\", \"using\", \"using\", \"using\", \"var\", \"var\", \"var\", \"var\", \"var\", \"var\", \"var\", \"var\", \"vectorized\", \"vectorized\", \"version\", \"version\", \"version\", \"version\", \"version\", \"version\", \"version\", \"version\", \"view.onclicklistener\", \"view.onclicklistener\", \"view.onclicklistener\", \"view.onclicklistener\", \"view.onclicklistener\", \"void\", \"void\", \"void\", \"void\", \"void\", \"void\", \"void\", \"void\", \"waldo\", \"want\", \"want\", \"want\", \"want\", \"want\", \"want\", \"want\", \"want\", \"way\", \"way\", \"way\", \"way\", \"way\", \"way\", \"way\", \"way\", \"websocket\", \"websocket\", \"websocket\", \"websocket\", \"websocket\", \"websocket\", \"weighted\", \"weighted\", \"weighted\", \"weighted\", \"woman\", \"wordpress\", \"wordpress\", \"wordpress\", \"wordpress\", \"wordpress\", \"work\", \"work\", \"work\", \"work\", \"work\", \"work\", \"work\", \"work\", \"would\", \"would\", \"would\", \"would\", \"would\", \"would\", \"would\", \"would\", \"wrap_content\", \"wrap_content\", \"wrap_content\", \"wrap_content\", \"wrap_content\", \"wrap_content\", \"wrap_content\", \"wrap_content\", \"zygoteinit.java\", \"zygoteinit.java\", \"zygoteinit.java\", \"zygoteinit.java\", \"\\u00ef\\u00bf\\u00bd\\u00c3\\u00bf\\u00c2\\u00af\\u00c5\\u00a1\\u00c2\"]}, \"R\": 10, \"lambda.step\": 0.01, \"plot.opts\": {\"xlab\": \"PC1\", \"ylab\": \"PC2\"}, \"topic.order\": [2, 8, 3, 6, 1, 5, 4, 7]};\n",
       "\n",
       "function LDAvis_load_lib(url, callback){\n",
       "  var s = document.createElement('script');\n",
       "  s.src = url;\n",
       "  s.async = true;\n",
       "  s.onreadystatechange = s.onload = callback;\n",
       "  s.onerror = function(){console.warn(\"failed to load library \" + url);};\n",
       "  document.getElementsByTagName(\"head\")[0].appendChild(s);\n",
       "}\n",
       "\n",
       "if(typeof(LDAvis) !== \"undefined\"){\n",
       "   // already loaded: just create the visualization\n",
       "   !function(LDAvis){\n",
       "       new LDAvis(\"#\" + \"ldavis_el15922251114192456980061900\", ldavis_el15922251114192456980061900_data);\n",
       "   }(LDAvis);\n",
       "}else if(typeof define === \"function\" && define.amd){\n",
       "   // require.js is available: use it to load d3/LDAvis\n",
       "   require.config({paths: {d3: \"https://cdnjs.cloudflare.com/ajax/libs/d3/3.5.5/d3.min\"}});\n",
       "   require([\"d3\"], function(d3){\n",
       "      window.d3 = d3;\n",
       "      LDAvis_load_lib(\"https://cdn.rawgit.com/bmabey/pyLDAvis/files/ldavis.v1.0.0.js\", function(){\n",
       "        new LDAvis(\"#\" + \"ldavis_el15922251114192456980061900\", ldavis_el15922251114192456980061900_data);\n",
       "      });\n",
       "    });\n",
       "}else{\n",
       "    // require.js not available: dynamically load d3 & LDAvis\n",
       "    LDAvis_load_lib(\"https://cdnjs.cloudflare.com/ajax/libs/d3/3.5.5/d3.min.js\", function(){\n",
       "         LDAvis_load_lib(\"https://cdn.rawgit.com/bmabey/pyLDAvis/files/ldavis.v1.0.0.js\", function(){\n",
       "                 new LDAvis(\"#\" + \"ldavis_el15922251114192456980061900\", ldavis_el15922251114192456980061900_data);\n",
       "            })\n",
       "         });\n",
       "}\n",
       "</script>"
      ],
      "text/plain": [
       "<IPython.core.display.HTML object>"
      ]
     },
     "execution_count": 20,
     "metadata": {},
     "output_type": "execute_result"
    }
   ],
   "source": [
    "# Representation graphique des topics :\n",
    "# pyLDAvis nous permet de visualiser les résultats de LDA interractif.\n",
    "\n",
    "lda = LdaMulticore(corpus_copy, id2word=id2word, num_topics=8)\n",
    "vistest = pyLDAvis.gensim.prepare(lda, corpus_copy,\n",
    "                                  dictionary=dictionary, R=n_top_words)\n",
    "pyLDAvis.display(vistest)"
   ]
  },
  {
   "cell_type": "markdown",
   "metadata": {},
   "source": [
    "Sur le côté gauche, la zone de chaque cercle représente l'importance du topic par rapport au corpus. \n",
    "\n",
    "Comme il y a 8 topics, nous avons 8 cercles.\n",
    "La distance entre le centre des cercles indique la similitude entre les sujets. \n",
    "Ici, on peut voir que le topic 1, 4 et 5 se chevauchent, cela indique que les sujets sont plus similaires.\n",
    "\n",
    "Sur le côté droit, l' histogramme de chaque topic montre les 10 mots les plus pertinents . \n",
    "Par exemple, dans le topic 1, les mots les plus pertinents sont file, use, object, like, ..."
   ]
  },
  {
   "cell_type": "markdown",
   "metadata": {},
   "source": [
    "### [M5-1 : Modélisation avec algorithme NMF : ](#sommaire)<a class=\"anchor\" id=\"17\"></a>"
   ]
  },
  {
   "cell_type": "markdown",
   "metadata": {},
   "source": [
    "**NMF**(Non-Negative Matrix Factorization)est une technique non supervisée, il n'y a donc pas d'étiquetage des sujets sur lesquels le modèle sera entraîné"
   ]
  },
  {
   "cell_type": "code",
   "execution_count": 22,
   "metadata": {},
   "outputs": [
    {
     "name": "stdout",
     "output_type": "stream",
     "text": [
      "Extraction des features pour NMF...\n",
      "fait en 1.413s.\n",
      "Fit de modele NMF (Frobenius norm) avec tf-idf features, n_samples=0 and n_features=1000...\n",
      "fait en 1.678s.\n",
      "\n",
      "Les Topics dans NMF model (Frobenius norm):\n",
      "Topic #0: function use class code object like method python would way\n",
      "Topic #1: file directory line command folder script path python using open\n",
      "Topic #2: git branch commit repository master remote change push commits merge\n",
      "Topic #3: string convert array character value javascript java int list public\n",
      "Topic #4: difference whats one use java two vs. explain please used\n",
      "Topic #5: table database sql column mysql row select query server data\n",
      "Topic #6: android application activity app device button view layout_width= layout_height= screen\n",
      "Topic #7: div image jquery html text page javascript element height width\n",
      "\n"
     ]
    }
   ],
   "source": [
    "# Use tf-idf features for NMF.\n",
    "print(\"Extraction des features pour NMF...\")\n",
    "tfidf_vectorizer = TfidfVectorizer(max_df=0.95, min_df=2,\n",
    "                                   max_features=n_features,\n",
    "                                   tokenizer=dummy,\n",
    "                                   preprocessor=dummy)\n",
    "t0 = time()\n",
    "tfidf = tfidf_vectorizer.fit_transform(data_samples)\n",
    "tfidf_test = tfidf_vectorizer.transform(test_samples)\n",
    "print(\"fait en %0.3fs.\" % (time() - t0))\n",
    "\n",
    "# Fit the NMF model\n",
    "print(\"Fit de modele NMF (Frobenius norm) avec tf-idf features, \"\n",
    "      \"n_samples=%d and n_features=%d...\"\n",
    "      % (n_samples, n_features))\n",
    "t0 = time()\n",
    "nmf = NMF(n_components=n_components, random_state=1,\n",
    "          alpha=.1, l1_ratio=.5).fit(tfidf)\n",
    "print(\"fait en %0.3fs.\" % (time() - t0))\n",
    "\n",
    "print(\"\\nLes Topics dans NMF model (Frobenius norm):\")\n",
    "tfidf_feature_names = tfidf_vectorizer.get_feature_names()\n",
    "print_top_words(nmf, tfidf_feature_names, n_top_words)\n",
    "\n",
    "# Fit the NMF model\n",
    "# print(\"Fitting the NMF model (generalized Kullback-Leibler divergence) with \"\n",
    "#       \"tf-idf features, n_samples=%d and n_features=%d...\"\n",
    "#       % (n_samples, n_features))\n",
    "# t0 = time()\n",
    "# nmf = NMF(n_components=n_components, random_state=1,\n",
    "#           beta_loss='kullback-leibler', solver='mu', max_iter=1000, alpha=.1,\n",
    "#           l1_ratio=.5).fit(tfidf)\n",
    "# print(\"done in %0.3fs.\" % (time() - t0))\n",
    "\n",
    "# print(\"\\nTopics in NMF model (generalized Kullback-Leibler divergence):\")\n",
    "# tfidf_feature_names = tfidf_vectorizer.get_feature_names()\n",
    "# print_top_words(nmf, tfidf_feature_names, n_top_words)"
   ]
  },
  {
   "cell_type": "markdown",
   "metadata": {},
   "source": [
    "Sur les differents topics résultants de NMF ici, on peut facilement deduire visuellement par exemple que :\n",
    " - le topic 2 parle de gestion de versionning de projet\n",
    " - le topic 6 parle de developpement mobile\n",
    " - le topic 7 parle de IHM et javascript"
   ]
  },
  {
   "cell_type": "markdown",
   "metadata": {},
   "source": [
    "## [MISSION 5: APPROCHE SUPERVISEE](#sommaire)<a class=\"anchor\" id=\"20\"></a>"
   ]
  },
  {
   "cell_type": "markdown",
   "metadata": {},
   "source": [
    "Certains modèles ne peuvent pas faire de la prediction pour une sortie comprenant plusieurs output. \n",
    "Il faut donc utiliser le MulitOutputClassifier\n",
    "\n",
    "MulitOutputClassifier\n",
    "\n",
    "Tester plusieurs modèles : LogistiRegression, SGDClassifier, MultinomialDB, LearSVC, Perceptron, PassiveAggressiveClassifier, RandomForest, KNN\n",
    "    \n",
    "Comparer : utiliser le Jaccard score et l'accuracy    "
   ]
  },
  {
   "cell_type": "code",
   "execution_count": 23,
   "metadata": {},
   "outputs": [],
   "source": [
    "# to ignore ConvergenceWarning\n",
    "warnings.filterwarnings(\"ignore\")"
   ]
  },
  {
   "cell_type": "markdown",
   "metadata": {},
   "source": [
    "#### Knn model :"
   ]
  },
  {
   "cell_type": "code",
   "execution_count": 24,
   "metadata": {},
   "outputs": [
    {
     "name": "stdout",
     "output_type": "stream",
     "text": [
      "Training a KNN Model...\n",
      "fait en 831.556s.\n"
     ]
    }
   ],
   "source": [
    "print(\"Training a KNN Model...\")\n",
    "t0 = time()\n",
    "knn_clf = KNeighborsClassifier()\n",
    "knn_clf_fit = MultiOutputClassifier(knn_clf).fit(X_train, y_train)\n",
    "print(\"fait en %0.3fs.\" % (time() - t0))"
   ]
  },
  {
   "cell_type": "code",
   "execution_count": 25,
   "metadata": {},
   "outputs": [
    {
     "name": "stdout",
     "output_type": "stream",
     "text": [
      "0.1840506329113924 0.14901265822784807\n"
     ]
    }
   ],
   "source": [
    "y_pred_knn = knn_clf_fit.predict(X_test)\n",
    "accuracy_score_knn = accuracy_score(y_test, y_pred_knn)\n",
    "jaccard_score_knn = jaccard_score(y_test, y_pred_knn, average='samples')\n",
    "print(accuracy_score_knn, jaccard_score_knn)"
   ]
  },
  {
   "cell_type": "markdown",
   "metadata": {},
   "source": [
    "#### SGDClassifier"
   ]
  },
  {
   "cell_type": "code",
   "execution_count": 26,
   "metadata": {},
   "outputs": [
    {
     "name": "stdout",
     "output_type": "stream",
     "text": [
      "Training a SGDClassifier Model...\n",
      "fait en 28.374s.\n"
     ]
    }
   ],
   "source": [
    "print(\"Training a SGDClassifier Model...\")\n",
    "t0 = time()\n",
    "sgd_linear_clf = SGDClassifier(random_state=1, max_iter=5, tol=1e-3)\n",
    "sgd_linear_clf_fit = MultiOutputClassifier(sgd_linear_clf).fit(X_train,\n",
    "                                                               y_train)\n",
    "print(\"fait en %0.3fs.\" % (time() - t0))"
   ]
  },
  {
   "cell_type": "code",
   "execution_count": 27,
   "metadata": {},
   "outputs": [
    {
     "name": "stdout",
     "output_type": "stream",
     "text": [
      "0.3139240506329114 0.43517962628089213\n"
     ]
    }
   ],
   "source": [
    "y_pred_sgd = sgd_linear_clf_fit.predict(X_test)\n",
    "accuracy_score_sgd = accuracy_score(y_test, y_pred_sgd)\n",
    "jaccard_score_sgd = jaccard_score(y_test, y_pred_sgd, average='samples')\n",
    "print(accuracy_score_sgd, jaccard_score_sgd)"
   ]
  },
  {
   "cell_type": "markdown",
   "metadata": {},
   "source": [
    "#### RandomForest "
   ]
  },
  {
   "cell_type": "code",
   "execution_count": 28,
   "metadata": {},
   "outputs": [
    {
     "name": "stdout",
     "output_type": "stream",
     "text": [
      "Training a Random Forest Model...\n",
      "fait en 66.091s.\n"
     ]
    }
   ],
   "source": [
    "print(\"Training a Random Forest Model...\")\n",
    "t0 = time()\n",
    "rand_for_clf = RandomForestClassifier(n_estimators=10, random_state=1)\n",
    "rand_for_clf_fit = MultiOutputClassifier(rand_for_clf).fit(X_train,\n",
    "                                                           y_train)\n",
    "print(\"fait en %0.3fs.\" % (time() - t0))"
   ]
  },
  {
   "cell_type": "code",
   "execution_count": 29,
   "metadata": {},
   "outputs": [
    {
     "name": "stdout",
     "output_type": "stream",
     "text": [
      "0.28556962025316457 0.29728270042194094\n"
     ]
    }
   ],
   "source": [
    "y_pred_rand = rand_for_clf_fit.predict(X_test)\n",
    "accuracy_score_rand = accuracy_score(y_test, y_pred_rand)\n",
    "jaccard_score_rand = jaccard_score(y_test, y_pred_rand, average='samples')\n",
    "print(accuracy_score_rand, jaccard_score_rand)"
   ]
  },
  {
   "cell_type": "markdown",
   "metadata": {},
   "source": [
    "#### Logistic Regression "
   ]
  },
  {
   "cell_type": "code",
   "execution_count": 30,
   "metadata": {},
   "outputs": [
    {
     "name": "stdout",
     "output_type": "stream",
     "text": [
      "Training a Logistic Regression Model...\n",
      "fait en 135.136s.\n"
     ]
    }
   ],
   "source": [
    "print(\"Training a Logistic Regression Model...\")\n",
    "t0 = time()\n",
    "log_reg_clf = LogisticRegression(random_state=1)\n",
    "log_reg_clf_fit = MultiOutputClassifier(log_reg_clf).fit(X_train, y_train)\n",
    "print(\"fait en %0.3fs.\" % (time() - t0))"
   ]
  },
  {
   "cell_type": "code",
   "execution_count": 31,
   "metadata": {},
   "outputs": [
    {
     "name": "stdout",
     "output_type": "stream",
     "text": [
      "0.34632911392405064 0.4403037974683544\n"
     ]
    }
   ],
   "source": [
    "y_pred_logr = log_reg_clf_fit.predict(X_test)\n",
    "accuracy_score_logr = accuracy_score(y_test, y_pred_logr)\n",
    "jaccard_score_logr = jaccard_score(y_test, y_pred_logr, average='samples')\n",
    "print(accuracy_score_logr, jaccard_score_logr)"
   ]
  },
  {
   "cell_type": "markdown",
   "metadata": {},
   "source": [
    "#### MultinomialNB"
   ]
  },
  {
   "cell_type": "code",
   "execution_count": 32,
   "metadata": {},
   "outputs": [
    {
     "name": "stdout",
     "output_type": "stream",
     "text": [
      "Training a Naive Bayes classifier for multinomial Model...\n",
      "fait en 10.262s.\n"
     ]
    }
   ],
   "source": [
    "print(\"Training a Naive Bayes classifier for multinomial Model...\")\n",
    "t0 = time()\n",
    "mnb_clf = MultinomialNB()\n",
    "mnb_clf_fit = MultiOutputClassifier(mnb_clf).fit(X_train, y_train)\n",
    "print(\"fait en %0.3fs.\" % (time() - t0))"
   ]
  },
  {
   "cell_type": "code",
   "execution_count": 33,
   "metadata": {},
   "outputs": [
    {
     "name": "stdout",
     "output_type": "stream",
     "text": [
      "0.1508860759493671 0.33878973811695134\n"
     ]
    }
   ],
   "source": [
    "y_pred_mnb = mnb_clf_fit.predict(X_test)\n",
    "accuracy_score_mnb = accuracy_score(y_test, y_pred_mnb)\n",
    "jaccard_score_mnb = jaccard_score(y_test, y_pred_mnb, average='samples')\n",
    "print(accuracy_score_mnb, jaccard_score_mnb)"
   ]
  },
  {
   "cell_type": "markdown",
   "metadata": {},
   "source": [
    "#### Perceptron"
   ]
  },
  {
   "cell_type": "code",
   "execution_count": 34,
   "metadata": {},
   "outputs": [
    {
     "name": "stdout",
     "output_type": "stream",
     "text": [
      "Training a Perceptron Model...\n",
      "fait en 68.228s.\n"
     ]
    }
   ],
   "source": [
    "print(\"Training a Perceptron Model...\")\n",
    "t0 = time()\n",
    "prpt_clf = Perceptron(tol=1e-3, random_state=1)\n",
    "prpt_clf_fit = MultiOutputClassifier(prpt_clf).fit(X_train, y_train)\n",
    "print(\"fait en %0.3fs.\" % (time() - t0))"
   ]
  },
  {
   "cell_type": "code",
   "execution_count": 35,
   "metadata": {},
   "outputs": [
    {
     "name": "stdout",
     "output_type": "stream",
     "text": [
      "0.23518987341772152 0.4035461121157323\n"
     ]
    }
   ],
   "source": [
    "y_pred_prpt = prpt_clf_fit.predict(X_test)\n",
    "accuracy_score_prpt = accuracy_score(y_test, y_pred_prpt)\n",
    "jaccard_score_prpt = jaccard_score(y_test, y_pred_prpt, average='samples')\n",
    "print(accuracy_score_prpt, jaccard_score_prpt)"
   ]
  },
  {
   "cell_type": "markdown",
   "metadata": {},
   "source": [
    "#### LinearSVC"
   ]
  },
  {
   "cell_type": "code",
   "execution_count": 36,
   "metadata": {},
   "outputs": [
    {
     "name": "stdout",
     "output_type": "stream",
     "text": [
      "Training a Linear svc classifier for multinomial Model...\n",
      "fait en 590.120s.\n"
     ]
    }
   ],
   "source": [
    "print(\"Training a Linear svc classifier for multinomial Model...\")\n",
    "t0 = time()\n",
    "lsvc_clf = make_pipeline(StandardScaler(), LinearSVC(random_state=0,\n",
    "                                                     tol=1e-5))\n",
    "lsvc_clf_fit = MultiOutputClassifier(lsvc_clf).fit(X_train, y_train)\n",
    "print(\"fait en %0.3fs.\" % (time() - t0))"
   ]
  },
  {
   "cell_type": "code",
   "execution_count": 37,
   "metadata": {},
   "outputs": [
    {
     "name": "stdout",
     "output_type": "stream",
     "text": [
      "0.15443037974683543 0.34387089071266286\n"
     ]
    }
   ],
   "source": [
    "y_pred_lsvc = lsvc_clf_fit.predict(X_test)\n",
    "accuracy_score_lsvc = accuracy_score(y_test, y_pred_lsvc)\n",
    "jaccard_score_lsvc = jaccard_score(y_test, y_pred_lsvc, average='samples')\n",
    "print(accuracy_score_lsvc, jaccard_score_lsvc)"
   ]
  },
  {
   "cell_type": "markdown",
   "metadata": {},
   "source": [
    "#### PassiveAggressiveClassifier"
   ]
  },
  {
   "cell_type": "code",
   "execution_count": 38,
   "metadata": {},
   "outputs": [
    {
     "name": "stdout",
     "output_type": "stream",
     "text": [
      "Training a PassiveAggressiveClassifier Model...\n",
      "fait en 86.848s.\n"
     ]
    }
   ],
   "source": [
    "print(\"Training a PassiveAggressiveClassifier Model...\")\n",
    "t0 = time()\n",
    "pac_clf = PassiveAggressiveClassifier(max_iter=1000, random_state=1,\n",
    "                                      tol=1e-3)\n",
    "pac_clf_fit = MultiOutputClassifier(pac_clf).fit(X_train, y_train)\n",
    "print(\"fait en %0.3fs.\" % (time() - t0))"
   ]
  },
  {
   "cell_type": "code",
   "execution_count": 39,
   "metadata": {},
   "outputs": [
    {
     "name": "stdout",
     "output_type": "stream",
     "text": [
      "0.23139240506329115 0.40785714285714286\n"
     ]
    }
   ],
   "source": [
    "y_pred_pac = pac_clf_fit.predict(X_test)\n",
    "accuracy_score_pac = accuracy_score(y_test, y_pred_pac)\n",
    "jaccard_score_pac = jaccard_score(y_test, y_pred_pac, average='samples')\n",
    "print(accuracy_score_pac, jaccard_score_pac)"
   ]
  },
  {
   "cell_type": "markdown",
   "metadata": {},
   "source": [
    "#### Representation graphique :"
   ]
  },
  {
   "cell_type": "code",
   "execution_count": 40,
   "metadata": {},
   "outputs": [
    {
     "data": {
      "image/png": "[encoded data removed]",
      "text/plain": [
       "<Figure size 432x288 with 1 Axes>"
      ]
     },
     "metadata": {
      "needs_background": "light"
     },
     "output_type": "display_data"
    },
    {
     "data": {
      "text/plain": [
       "<Figure size 2160x1080 with 0 Axes>"
      ]
     },
     "metadata": {},
     "output_type": "display_data"
    }
   ],
   "source": [
    "score_AccuracyJaccard_df = pd.DataFrame({\n",
    "    'Models': ['LogisticRegression', 'SGDClassifier',\n",
    "               'RandomForest', 'KNN', 'MultinomialNB', 'LinearSVC',\n",
    "               'Perceptron', 'PassiveAggressiveClassifier'],\n",
    "    'Accuracy_score': [accuracy_score_logr,\n",
    "                       accuracy_score_sgd,\n",
    "                       accuracy_score_rand,\n",
    "                       accuracy_score_knn,\n",
    "                       accuracy_score_mnb,\n",
    "                       accuracy_score_lsvc,\n",
    "                       accuracy_score_prpt,\n",
    "                       accuracy_score_pac],\n",
    "    'Jaccard_score': [jaccard_score_logr,\n",
    "                      jaccard_score_sgd,\n",
    "                      jaccard_score_rand,\n",
    "                      jaccard_score_knn,\n",
    "                      jaccard_score_mnb,\n",
    "                      jaccard_score_lsvc,\n",
    "                      jaccard_score_prpt,\n",
    "                      jaccard_score_pac]})\n",
    "ax = plt.gca()\n",
    "score_AccuracyJaccard_df.plot(kind='bar', x='Models',\n",
    "                              y=['Accuracy_score', 'Jaccard_score'], ax=ax)\n",
    "plt.figure(figsize=(30, 15))\n",
    "plt.show()"
   ]
  },
  {
   "cell_type": "markdown",
   "metadata": {},
   "source": [
    "###  Test sur formulaire :"
   ]
  },
  {
   "cell_type": "markdown",
   "metadata": {},
   "source": [
    "On constate que le modèle de LogisticRegression a le meilleur score, donc nous allons tester notre prédiction à partir de ce modèle"
   ]
  },
  {
   "cell_type": "markdown",
   "metadata": {},
   "source": [
    "#### Prediction avec Logistic regression :"
   ]
  },
  {
   "cell_type": "code",
   "execution_count": 41,
   "metadata": {},
   "outputs": [],
   "source": [
    "# model = sgd_linear_clf_fit\n",
    "# model = log_reg_clf_fit\n",
    "model = lsvc_clf_fit\n",
    "# model = knn_clf_fit\n",
    "# textInput = \" javascript java python the definitive guide to form based\"\n",
    "textInput = data_preprocess[(data_preprocess['Id'] == 9)]['BodyTitle']\n",
    "most_freq_words = top1000words_exp\n",
    "most_freq_tags = top100tags_exp"
   ]
  },
  {
   "cell_type": "code",
   "execution_count": 42,
   "metadata": {},
   "outputs": [
    {
     "name": "stdout",
     "output_type": "stream",
     "text": [
      "0    in c#, how do i calculate someones age based o...\n",
      "Name: BodyTitle, dtype: object\n"
     ]
    }
   ],
   "source": [
    "print(textInput)"
   ]
  },
  {
   "cell_type": "code",
   "execution_count": 43,
   "metadata": {},
   "outputs": [
    {
     "name": "stdout",
     "output_type": "stream",
     "text": [
      "les tags proposées sont :  ['c', '.net', 'datetime']\n"
     ]
    }
   ],
   "source": [
    "tagslist = predictTag(model, textInput, top1000words_exp, top100tags_exp)\n",
    "print('les tags proposées sont : ', tagslist)"
   ]
  },
  {
   "cell_type": "code",
   "execution_count": null,
   "metadata": {},
   "outputs": [],
   "source": []
  }
 ],
 "metadata": {
  "kernelspec": {
   "display_name": "Python 3",
   "language": "python",
   "name": "python3"
  },
  "language_info": {
   "codemirror_mode": {
    "name": "ipython",
    "version": 3
   },
   "file_extension": ".py",
   "mimetype": "text/x-python",
   "name": "python",
   "nbconvert_exporter": "python",
   "pygments_lexer": "ipython3",
   "version": "3.7.6"
  }
 },
 "nbformat": 4,
 "nbformat_minor": 2
}
